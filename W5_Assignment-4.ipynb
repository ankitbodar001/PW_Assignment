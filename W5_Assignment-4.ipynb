{
 "cells": [
  {
   "cell_type": "code",
   "execution_count": null,
   "id": "4c4e62dd-0ae5-418b-9cb6-734f1c815714",
   "metadata": {},
   "outputs": [],
   "source": [
    "Q1. What is multiprocessing in python? Why is it useful?"
   ]
  },
  {
   "cell_type": "code",
   "execution_count": null,
   "id": "3bcadcd9-6388-4194-88c3-0a45295b581e",
   "metadata": {},
   "outputs": [],
   "source": [
    "Multiprocessing in Python refers to the ability of the Python programming language to create \n",
    "and manage multiple processes to achieve parallel execution. It allows you to utilize multiple \n",
    "CPU cores or processors to perform tasks concurrently, thereby improving the overall performance \n",
    "and efficiency of your program."
   ]
  },
  {
   "cell_type": "code",
   "execution_count": null,
   "id": "9abcff20-c02a-4fa0-b4cc-79db4ebaf6ef",
   "metadata": {},
   "outputs": [],
   "source": [
    "The usefulness of multiprocessing in Python lies in its ability to leverage the full potential \n",
    "of modern hardware with multiple cores or processors. By distributing tasks across multiple processes, \n",
    "you can achieve significant performance improvements, reduce execution time, and enhance the overall \n",
    "responsiveness of your program."
   ]
  },
  {
   "cell_type": "code",
   "execution_count": null,
   "id": "42e8f79b-37e7-476b-bdfb-9c7666e06244",
   "metadata": {},
   "outputs": [],
   "source": [
    "Q2. What are the differences between multiprocessing and multithreading?"
   ]
  },
  {
   "cell_type": "code",
   "execution_count": null,
   "id": "5f9820e7-7c28-48b5-a6d1-18a932764a94",
   "metadata": {},
   "outputs": [],
   "source": [
    "1. Multiprocessing uses two or more CPUs to increase computing power, whereas multithreading uses a single \n",
    "process with multiple code segments to increase computing power.\n",
    "\n",
    "2. Multithreading focuses on generating computing threads from a single process, whereas multiprocessing \n",
    "increases computing power by adding CPUs.\n",
    "\n",
    "3. Multiprocessing is used to create a more reliable system, whereas multithreading is used to create threads \n",
    "that run parallel to each other.\n",
    "\n",
    "4. Multithreading is quick to create and requires few resources, whereas multiprocessing requires a significant \n",
    "amount of time and specific resources to create.\n",
    "\n",
    "5. Multiprocessing executes many processes simultaneously, whereas multithreading executes many threads simultaneously.\n",
    "\n",
    "6. Multithreading uses a common address space for all the threads, whereas multiprocessing creates a separate \n",
    "address space for each process."
   ]
  },
  {
   "cell_type": "code",
   "execution_count": null,
   "id": "1fade56c-3387-4e7e-b299-e646deeaa789",
   "metadata": {},
   "outputs": [],
   "source": [
    "Q3. Write a python code to create a process using the multiprocessing module."
   ]
  },
  {
   "cell_type": "code",
   "execution_count": 6,
   "id": "0fa7afaa-5185-4e3d-9c53-1edb46e7dfe1",
   "metadata": {},
   "outputs": [
    {
     "name": "stdout",
     "output_type": "stream",
     "text": [
      "test2\n",
      "test1\n"
     ]
    }
   ],
   "source": [
    "import multiprocessing\n",
    "def test():\n",
    "    print(\"test1\")\n",
    "if __name__=='__main__':\n",
    "    m=multiprocessing.Process(target=test)\n",
    "    print(\"test2\")\n",
    "    m.start()\n",
    "    m.join()"
   ]
  },
  {
   "cell_type": "code",
   "execution_count": null,
   "id": "1351cbc9-1934-41b0-866e-1f618895c809",
   "metadata": {},
   "outputs": [],
   "source": [
    "Q4. What is a multiprocessing pool in python? Why is it used?"
   ]
  },
  {
   "cell_type": "code",
   "execution_count": null,
   "id": "dcc6c5df-70ac-4d0f-9942-c654edcd8ec2",
   "metadata": {},
   "outputs": [],
   "source": [
    "-->Python multiprocessing Pool can be used for parallel execution of a function across multiple \n",
    "input values, distributing the input data across processes (data parallelism)"
   ]
  },
  {
   "cell_type": "code",
   "execution_count": null,
   "id": "e9b02028-2462-415b-bff3-151033a12451",
   "metadata": {},
   "outputs": [],
   "source": [
    "-->The multiprocessing pool is commonly used in scenarios where you have a set of independent tasks \n",
    "that can be executed in parallel. It offers a convenient way to achieve parallelism without having to \n",
    "manage individual processes manually."
   ]
  },
  {
   "cell_type": "code",
   "execution_count": null,
   "id": "306d687f-571d-42f8-b5b0-c5eaecf11540",
   "metadata": {},
   "outputs": [],
   "source": [
    "Q5. How can we create a pool of worker processes in python using the multiprocessing module?"
   ]
  },
  {
   "cell_type": "code",
   "execution_count": 8,
   "id": "d51e4f51-5906-4318-a87f-cd1ce7fddb9a",
   "metadata": {},
   "outputs": [
    {
     "name": "stdout",
     "output_type": "stream",
     "text": [
      "[1, 4, 9, 16, 25]\n"
     ]
    }
   ],
   "source": [
    "import multiprocessing\n",
    "\n",
    "def square(x):\n",
    "    return x ** 2\n",
    "\n",
    "if __name__ == '__main__':\n",
    "    num_processes = multiprocessing.cpu_count()\n",
    "    pool = multiprocessing.Pool(processes=num_processes)\n",
    "\n",
    "    numbers = [1, 2, 3, 4, 5]\n",
    "    results = pool.map(square, numbers)\n",
    "\n",
    "    print(results)\n",
    "\n",
    "    pool.close()\n",
    "    pool.join()"
   ]
  },
  {
   "cell_type": "code",
   "execution_count": null,
   "id": "0d48abe6-dab9-4ca9-afff-7350f1c70003",
   "metadata": {},
   "outputs": [],
   "source": [
    "Q6. Write a python program to create 4 processes, each process should print a different number \n",
    "using themultiprocessing module in python."
   ]
  },
  {
   "cell_type": "code",
   "execution_count": 9,
   "id": "2e0ecdda-f03e-49c8-94f8-82e96f3b5839",
   "metadata": {},
   "outputs": [
    {
     "name": "stdout",
     "output_type": "stream",
     "text": [
      "1\n",
      "2\n",
      "3\n",
      "4\n"
     ]
    }
   ],
   "source": [
    "import multiprocessing\n",
    "\n",
    "def print_number(number):\n",
    "    print(number)\n",
    "\n",
    "if __name__ == '__main__':\n",
    "    numbers = [1, 2, 3, 4]\n",
    "    processes = []\n",
    "\n",
    "    for number in numbers:\n",
    "        process = multiprocessing.Process(target=print_number, args=(number,))\n",
    "        processes.append(process)\n",
    "        process.start()\n",
    "\n",
    "    for process in processes:\n",
    "        process.join()"
   ]
  },
  {
   "cell_type": "code",
   "execution_count": null,
   "id": "f1b561d7-1c2d-436b-aefe-5d43a9305826",
   "metadata": {},
   "outputs": [],
   "source": []
  }
 ],
 "metadata": {
  "kernelspec": {
   "display_name": "Python 3 (ipykernel)",
   "language": "python",
   "name": "python3"
  },
  "language_info": {
   "codemirror_mode": {
    "name": "ipython",
    "version": 3
   },
   "file_extension": ".py",
   "mimetype": "text/x-python",
   "name": "python",
   "nbconvert_exporter": "python",
   "pygments_lexer": "ipython3",
   "version": "3.10.8"
  }
 },
 "nbformat": 4,
 "nbformat_minor": 5
}
