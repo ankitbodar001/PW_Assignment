{
 "cells": [
  {
   "cell_type": "code",
   "execution_count": null,
   "id": "fbee9b01-1fe1-4dc0-87c2-74026110a007",
   "metadata": {},
   "outputs": [],
   "source": [
    "<aside>\n",
    "💡 **Question 1**\n",
    "\n",
    "Given two strings s1 and s2, return *the lowest **ASCII** sum of deleted characters to make two strings equal*.\n",
    "\n",
    "**Example 1:**\n",
    "\n",
    "**Input:** s1 = \"sea\", s2 = \"eat\"\n",
    "\n",
    "**Output:** 231\n",
    "\n",
    "**Explanation:** Deleting \"s\" from \"sea\" adds the ASCII value of \"s\" (115) to the sum.\n",
    "\n",
    "Deleting \"t\" from \"eat\" adds 116 to the sum.\n",
    "\n",
    "At the end, both strings are equal, and 115 + 116 = 231 is the minimum sum possible to achieve this.\n",
    "\n",
    "</aside>"
   ]
  },
  {
   "cell_type": "code",
   "execution_count": 6,
   "id": "e8b22013-69cc-409c-a6e6-8593927d04c3",
   "metadata": {},
   "outputs": [],
   "source": [
    "def minimumDeleteSumRecursive(s1, s2, i, j, memo):\n",
    "    # Base cases\n",
    "    if i == 0 and j == 0:\n",
    "        return 0\n",
    "    elif i == 0:\n",
    "        return sum(ord(ch) for ch in s2[:j])\n",
    "    elif j == 0:\n",
    "        return sum(ord(ch) for ch in s1[:i])\n",
    "\n",
    "    # Check if the result is already memoized\n",
    "    if (i, j) in memo:\n",
    "        return memo[(i, j)]\n",
    "\n",
    "    if s1[i-1] == s2[j-1]:\n",
    "        # Characters are equal, no deletion required\n",
    "        result = minimumDeleteSumRecursive(s1, s2, i-1, j-1, memo)\n",
    "    else:\n",
    "        # Find the minimum deletion\n",
    "        delete_s1 = ord(s1[i-1]) + minimumDeleteSumRecursive(s1, s2, i-1, j, memo)\n",
    "        delete_s2 = ord(s2[j-1]) + minimumDeleteSumRecursive(s1, s2, i, j-1, memo)\n",
    "        result = min(delete_s1, delete_s2)\n",
    "\n",
    "    # Memoize the result\n",
    "    memo[(i, j)] = result\n",
    "    return result\n",
    "\n",
    "\n",
    "def minimumDeleteSum(s1, s2):\n",
    "    memo = {}\n",
    "    return minimumDeleteSumRecursive(s1, s2, len(s1), len(s2), memo)\n",
    "    \n",
    "        "
   ]
  },
  {
   "cell_type": "code",
   "execution_count": 7,
   "id": "65cd4b40-633c-486a-a2d7-6526e8922bc1",
   "metadata": {},
   "outputs": [
    {
     "name": "stdout",
     "output_type": "stream",
     "text": [
      "231\n"
     ]
    }
   ],
   "source": [
    "print(minimumDeleteSum(\"sea\",\"eat\"))"
   ]
  },
  {
   "cell_type": "code",
   "execution_count": null,
   "id": "659b5345-7c1e-47f7-bdee-790ce1704555",
   "metadata": {},
   "outputs": [],
   "source": [
    "<aside>\n",
    "💡 **Question 2**\n",
    "\n",
    "Given a string s containing only three types of characters: '(', ')' and '*', return true *if* s *is **valid***.\n",
    "\n",
    "The following rules define a **valid** string:\n",
    "\n",
    "- Any left parenthesis '(' must have a corresponding right parenthesis ')'.\n",
    "- Any right parenthesis ')' must have a corresponding left parenthesis '('.\n",
    "- Left parenthesis '(' must go before the corresponding right parenthesis ')'.\n",
    "- '*' could be treated as a single right parenthesis ')' or a single left parenthesis '(' or an empty string \"\".\n",
    "\n",
    "**Example 1:**\n",
    "\n",
    "**Input:** s = \"()\"\n",
    "\n",
    "**Output:**\n",
    "\n",
    "true\n",
    "\n",
    "</aside>"
   ]
  },
  {
   "cell_type": "code",
   "execution_count": 10,
   "id": "71a6d32b-cc06-4ee0-b355-77cb54b45d3a",
   "metadata": {},
   "outputs": [],
   "source": [
    "def checkValidString(s):\n",
    "    # Count of open parentheses and asterisks as potential open parentheses\n",
    "    open_count = 0\n",
    "    asterisk_count = 0\n",
    "\n",
    "    for char in s:\n",
    "        if char == '(':\n",
    "            open_count += 1\n",
    "        elif char == '*':\n",
    "            asterisk_count += 1\n",
    "        else:  # char == ')'\n",
    "            if open_count > 0:\n",
    "                open_count -= 1\n",
    "            elif asterisk_count > 0:\n",
    "                asterisk_count -= 1\n",
    "            else:\n",
    "                return False\n",
    "\n",
    "    # Match remaining open parentheses with asterisks\n",
    "    while open_count > 0 and asterisk_count > 0:\n",
    "        open_count -= 1\n",
    "        asterisk_count -= 1\n",
    "\n",
    "    return open_count == 0\n",
    "\n",
    "    "
   ]
  },
  {
   "cell_type": "code",
   "execution_count": 13,
   "id": "b676ba88-224e-4676-8ecb-08ef1868934b",
   "metadata": {},
   "outputs": [
    {
     "name": "stdout",
     "output_type": "stream",
     "text": [
      "True\n"
     ]
    }
   ],
   "source": [
    "print(checkValidString(\"()\"))"
   ]
  },
  {
   "cell_type": "code",
   "execution_count": null,
   "id": "b6a68f73-7ea0-4e1d-b073-1bfa36901ea2",
   "metadata": {},
   "outputs": [],
   "source": [
    "<aside>\n",
    "💡 **Question 3**\n",
    "\n",
    "Given two strings word1 and word2, return *the minimum number of **steps** required to make* word1 *and* word2 *the same*.\n",
    "\n",
    "In one **step**, you can delete exactly one character in either string.\n",
    "\n",
    "**Example 1:**\n",
    "\n",
    "**Input:** word1 = \"sea\", word2 = \"eat\"\n",
    "\n",
    "**Output:** 2\n",
    "\n",
    "**Explanation:** You need one step to make \"sea\" to \"ea\" and another step to make \"eat\" to \"ea\".\n",
    "\n",
    "</aside>"
   ]
  },
  {
   "cell_type": "code",
   "execution_count": 1,
   "id": "5a1e81f3-1939-4c8e-9e3b-b0f214bfd56f",
   "metadata": {},
   "outputs": [],
   "source": [
    "def minDistanceRecursive(word1, word2, i, j, memo):\n",
    "    # Base cases\n",
    "    if i == 0:\n",
    "        return j\n",
    "    elif j == 0:\n",
    "        return i\n",
    "\n",
    "    # Check if the result is already memoized\n",
    "    if (i, j) in memo:\n",
    "        return memo[(i, j)]\n",
    "\n",
    "    if word1[i-1] == word2[j-1]:\n",
    "        # Characters are equal, no deletion required\n",
    "        result = minDistanceRecursive(word1, word2, i-1, j-1, memo)\n",
    "    else:\n",
    "        # Find the minimum steps\n",
    "        delete_word1 = 1 + minDistanceRecursive(word1, word2, i-1, j, memo)\n",
    "        delete_word2 = 1 + minDistanceRecursive(word1, word2, i, j-1, memo)\n",
    "        result = min(delete_word1, delete_word2)\n",
    "\n",
    "    # Memoize the result\n",
    "    memo[(i, j)] = result\n",
    "    return result\n",
    "\n",
    "\n",
    "def minDistance(word1, word2):\n",
    "    memo = {}\n",
    "    return minDistanceRecursive(word1, word2, len(word1), len(word2), memo)\n"
   ]
  },
  {
   "cell_type": "code",
   "execution_count": 2,
   "id": "4f8ec203-1324-4acb-8684-c61819e3801e",
   "metadata": {},
   "outputs": [
    {
     "name": "stdout",
     "output_type": "stream",
     "text": [
      "2\n"
     ]
    }
   ],
   "source": [
    "print(minDistance(\"sea\",\"eat\"))"
   ]
  },
  {
   "cell_type": "code",
   "execution_count": null,
   "id": "e4341132-a120-4010-bfeb-4356866d8325",
   "metadata": {},
   "outputs": [],
   "source": [
    "Question 4\n",
    "\n",
    "You need to construct a binary tree from a string consisting of parenthesis and integers.\n",
    "\n",
    "The whole input represents a binary tree. It contains an integer followed by zero, one or two pairs of parenthesis. \n",
    "The integer represents the root's value and a pair of parenthesis contains a child binary tree with the same structure.\n",
    "You always start to construct the **left** child node of the parent first if it exists."
   ]
  },
  {
   "cell_type": "code",
   "execution_count": 22,
   "id": "79d592af-229e-440c-9bc6-deedbe08f456",
   "metadata": {},
   "outputs": [],
   "source": [
    "class TreeNode:\n",
    "    def __init__(self, val=0, left=None, right=None):\n",
    "        self.val = val\n",
    "        self.left = left\n",
    "        self.right = right\n",
    "\n",
    "def str2tree(s):\n",
    "    if not s:\n",
    "        return []\n",
    "\n",
    "    # Find the value of the root node\n",
    "    val_str = ''\n",
    "    i = 0\n",
    "    while i < len(s) and (s[i].isdigit() or s[i] == '-'):\n",
    "        val_str += s[i]\n",
    "        i += 1\n",
    "\n",
    "    # Create the root node\n",
    "    root = TreeNode(int(val_str))\n",
    "\n",
    "    # If there are more characters after the root value\n",
    "    if i < len(s):\n",
    "        count = 0\n",
    "        j = i\n",
    "\n",
    "        # Find the substring inside the first pair of parentheses\n",
    "        while j < len(s):\n",
    "            if s[j] == '(':\n",
    "                count += 1\n",
    "            elif s[j] == ')':\n",
    "                count -= 1\n",
    "\n",
    "            if count == 0:\n",
    "                break\n",
    "\n",
    "            j += 1\n",
    "\n",
    "        # Recursively construct the left subtree\n",
    "        root.left = str2tree(s[i+1:j])\n",
    "\n",
    "        # If there are more characters after the first pair of parentheses\n",
    "        if j+1 < len(s):\n",
    "            # Recursively construct the right subtree\n",
    "            root.right = str2tree(s[j+2:-1])\n",
    "\n",
    "    # Return the values of the binary tree in list form\n",
    "    left_vals = root.left if root.left else []\n",
    "    right_vals = root.right if root.right else []\n",
    "    return [root.val] + left_vals + right_vals\n"
   ]
  },
  {
   "cell_type": "code",
   "execution_count": 23,
   "id": "e9b69ea0-6d8a-4d27-8032-4d42b1eb5b64",
   "metadata": {},
   "outputs": [
    {
     "name": "stdout",
     "output_type": "stream",
     "text": [
      "[4, 2, 3, 1, 6, 5]\n"
     ]
    }
   ],
   "source": [
    "print(str2tree(\"4(2(3)(1))(6(5))\"))"
   ]
  },
  {
   "cell_type": "code",
   "execution_count": null,
   "id": "cddfe053-b86d-462b-a4e9-ba903d58428b",
   "metadata": {},
   "outputs": [],
   "source": [
    "<aside>\n",
    "💡 **Question 5**\n",
    "\n",
    "Given an array of characters chars, compress it using the following algorithm:\n",
    "\n",
    "Begin with an empty string s. For each group of **consecutive repeating characters** in chars:\n",
    "\n",
    "- If the group's length is 1, append the character to s.\n",
    "- Otherwise, append the character followed by the group's length.\n",
    "\n",
    "The compressed string s **should not be returned separately**, but instead, be stored **in the input character array chars**. \n",
    "Note that group lengths that are 10 or longer will be split into multiple characters in chars.\n",
    "\n",
    "After you are done **modifying the input array,** return *the new length of the array*.\n",
    "\n",
    "You must write an algorithm that uses only constant extra space.\n",
    "\n",
    "**Example 1:**\n",
    "\n",
    "**Input:** chars = [\"a\",\"a\",\"b\",\"b\",\"c\",\"c\",\"c\"]\n",
    "\n",
    "**Output:** Return 6, and the first 6 characters of the input array should be: [\"a\",\"2\",\"b\",\"2\",\"c\",\"3\"]\n",
    "\n",
    "**Explanation:**\n",
    "\n",
    "The groups are \"aa\", \"bb\", and \"ccc\". This compresses to \"a2b2c3\".\n",
    "\n",
    "</aside>"
   ]
  },
  {
   "cell_type": "code",
   "execution_count": 7,
   "id": "739b187e-222d-438a-809b-1e57fc4eac76",
   "metadata": {},
   "outputs": [],
   "source": [
    "def compress(chars):\n",
    "    n = len(chars)\n",
    "    if n <= 1:\n",
    "        return n\n",
    "\n",
    "    write_idx = 0\n",
    "    count = 1\n",
    "\n",
    "    for i in range(1, n):\n",
    "        if chars[i] == chars[i-1]:\n",
    "            count += 1\n",
    "        else:\n",
    "            chars[write_idx] = chars[i-1]\n",
    "            write_idx += 1\n",
    "\n",
    "            if count > 1:\n",
    "                count_str = str(count)\n",
    "                for j in range(len(count_str)):\n",
    "                    chars[write_idx] = count_str[j]\n",
    "                    write_idx += 1\n",
    "\n",
    "            count = 1\n",
    "\n",
    "    chars[write_idx] = chars[n-1]\n",
    "    write_idx += 1\n",
    "\n",
    "    if count > 1:\n",
    "        count_str = str(count)\n",
    "        for j in range(len(count_str)):\n",
    "            chars[write_idx] = count_str[j]\n",
    "            write_idx += 1\n",
    "\n",
    "    return write_idx\n"
   ]
  },
  {
   "cell_type": "code",
   "execution_count": 8,
   "id": "1b41d01a-b047-46b4-89ca-e43ef489e87b",
   "metadata": {},
   "outputs": [
    {
     "name": "stdout",
     "output_type": "stream",
     "text": [
      "6\n"
     ]
    }
   ],
   "source": [
    "print(compress([\"a\",\"a\",\"b\",\"b\",\"c\",\"c\",\"c\"]))"
   ]
  },
  {
   "cell_type": "code",
   "execution_count": null,
   "id": "77844a81-c197-4ee5-a089-864ca66ed9dd",
   "metadata": {},
   "outputs": [],
   "source": [
    "<aside>\n",
    "💡 **Question 6**\n",
    "\n",
    "Given two strings s and p, return *an array of all the start indices of* p*'s anagrams in* s. You may return the answer in **any order**.\n",
    "\n",
    "An **Anagram** is a word or phrase formed by rearranging the letters of a different word or phrase, typically using all the original \n",
    "letters exactly once.\n",
    "\n",
    "**Example 1:**\n",
    "\n",
    "**Input:** s = \"cbaebabacd\", p = \"abc\"\n",
    "\n",
    "**Output:** [0,6]\n",
    "\n",
    "**Explanation:**\n",
    "\n",
    "The substring with start index = 0 is \"cba\", which is an anagram of \"abc\".\n",
    "\n",
    "The substring with start index = 6 is \"bac\", which is an anagram of \"abc\".\n",
    "\n",
    "</aside>"
   ]
  },
  {
   "cell_type": "code",
   "execution_count": 5,
   "id": "1553e4d8-52d2-4a76-8db1-fe1231b7b4bb",
   "metadata": {},
   "outputs": [],
   "source": [
    "from collections import Counter\n",
    "\n",
    "def findAnagrams(s, p):\n",
    "    n = len(s)\n",
    "    m = len(p)\n",
    "    result = []\n",
    "\n",
    "    p_counter = Counter(p)\n",
    "\n",
    "    def isAnagram(substring):\n",
    "        return Counter(substring) == p_counter\n",
    "\n",
    "    def backtrack(start):\n",
    "        if start + m > n:\n",
    "            return\n",
    "\n",
    "        substring = s[start:start+m]\n",
    "        if isAnagram(substring):\n",
    "            result.append(start)\n",
    "\n",
    "        backtrack(start + 1)\n",
    "\n",
    "    backtrack(0)\n",
    "\n",
    "    return result\n"
   ]
  },
  {
   "cell_type": "code",
   "execution_count": 6,
   "id": "44b37401-1891-48c7-a349-1b6d191e16a9",
   "metadata": {},
   "outputs": [
    {
     "name": "stdout",
     "output_type": "stream",
     "text": [
      "[0, 6]\n"
     ]
    }
   ],
   "source": [
    "print(findAnagrams(\"cbaebabacd\",\"abc\"))"
   ]
  },
  {
   "cell_type": "code",
   "execution_count": null,
   "id": "f14fbce3-bbfb-437e-9745-c505a1da8f84",
   "metadata": {},
   "outputs": [],
   "source": [
    "<aside>\n",
    "💡 **Question 7**\n",
    "\n",
    "Given an encoded string, return its decoded string.\n",
    "\n",
    "The encoding rule is: k[encoded_string], where the encoded_string inside the square brackets is being repeated exactly k times. \n",
    "Note that k is guaranteed to be a positive integer.\n",
    "\n",
    "You may assume that the input string is always valid; there are no extra white spaces, square brackets are well-formed, etc. \n",
    "Furthermore, you may assume that the original data does not contain any digits and that digits are only for those repeat numbers, k. \n",
    "For example, there will not be input like 3a or 2[4].\n",
    "\n",
    "The test cases are generated so that the length of the output will never exceed 105.\n",
    "\n",
    "**Example 1:**\n",
    "\n",
    "**Input:** s = \"3[a]2[bc]\"\n",
    "\n",
    "**Output:** \"aaabcbc\"\n",
    "\n",
    "</aside>"
   ]
  },
  {
   "cell_type": "code",
   "execution_count": 3,
   "id": "65e678ef-e83c-42e9-82d6-8c9599cec21c",
   "metadata": {},
   "outputs": [
    {
     "name": "stdout",
     "output_type": "stream",
     "text": [
      "aaabcbc\n"
     ]
    }
   ],
   "source": [
    "## Recussive Solution\n",
    "def decodeStringRecursive(s, i):\n",
    "    count = 0\n",
    "    current_str = ''\n",
    "\n",
    "    while i < len(s):\n",
    "        char = s[i]\n",
    "\n",
    "        if char.isdigit():\n",
    "            count = count * 10 + int(char)\n",
    "        elif char == '[':\n",
    "            decoded_str, next_index = decodeStringRecursive(s, i + 1)\n",
    "            current_str += count * decoded_str\n",
    "            count = 0\n",
    "            i = next_index\n",
    "        elif char == ']':\n",
    "            return current_str, i\n",
    "        else:\n",
    "            current_str += char\n",
    "\n",
    "        i += 1\n",
    "\n",
    "    return current_str\n",
    "\n",
    "def decodeString(s):\n",
    "    return decodeStringRecursive(s, 0)\n",
    "\n",
    "print(decodeString(\"3[a]2[bc]\"))"
   ]
  },
  {
   "cell_type": "code",
   "execution_count": 4,
   "id": "af2c3169-4295-4dcd-9fa3-9b85615edca4",
   "metadata": {},
   "outputs": [],
   "source": [
    "#iterative solution\n",
    "def decodeString(s):\n",
    "    stack = []\n",
    "    count = 0\n",
    "    current_str = ''\n",
    "\n",
    "    for char in s:\n",
    "        if char.isdigit():\n",
    "            count = count * 10 + int(char)\n",
    "        elif char == '[':\n",
    "            stack.append(count)\n",
    "            stack.append(current_str)\n",
    "            count = 0\n",
    "            current_str = ''\n",
    "        elif char == ']':\n",
    "            prev_str = stack.pop()\n",
    "            prev_count = stack.pop()\n",
    "            current_str = prev_str + prev_count * current_str\n",
    "        else:\n",
    "            current_str += char\n",
    "\n",
    "    return current_str\n"
   ]
  },
  {
   "cell_type": "code",
   "execution_count": 5,
   "id": "30c9123e-5387-41aa-b304-c75fd8f6d16d",
   "metadata": {},
   "outputs": [
    {
     "name": "stdout",
     "output_type": "stream",
     "text": [
      "aaabcbc\n"
     ]
    }
   ],
   "source": [
    "print(decodeString(\"3[a]2[bc]\"))"
   ]
  },
  {
   "cell_type": "code",
   "execution_count": null,
   "id": "74a9de18-ad1f-4121-9796-dddda7593222",
   "metadata": {},
   "outputs": [],
   "source": [
    "<aside>\n",
    "💡 **Question 8**\n",
    "\n",
    "Given two strings s and goal, return true *if you can swap two letters in* s *so the result is equal to* goal*, otherwise, return* false*.*\n",
    "\n",
    "Swapping letters is defined as taking two indices i and j (0-indexed) such that i != j and swapping the characters at s[i] and s[j].\n",
    "\n",
    "- For example, swapping at indices 0 and 2 in \"abcd\" results in \"cbad\".\n",
    "\n",
    "**Example 1:**\n",
    "\n",
    "**Input:** s = \"ab\", goal = \"ba\"\n",
    "\n",
    "**Output:** true\n",
    "\n",
    "**Explanation:** You can swap s[0] = 'a' and s[1] = 'b' to get \"ba\", which is equal to goal.\n",
    "\n",
    "</aside>"
   ]
  },
  {
   "cell_type": "code",
   "execution_count": 3,
   "id": "28340641-3805-4d30-9bac-b5a578076e1d",
   "metadata": {},
   "outputs": [],
   "source": [
    "def isGoalAchievable(s, goal):\n",
    "    if s == goal:\n",
    "        return True\n",
    "\n",
    "    if len(s) != len(goal):\n",
    "        return False\n",
    "\n",
    "    if sorted(s) != sorted(goal):\n",
    "        return False\n",
    "\n",
    "    if s == goal[::-1]:\n",
    "        return True\n",
    "\n",
    "    for i in range(len(s)):\n",
    "        for j in range(i + 1, len(s)):\n",
    "            if s[i] != goal[i] and s[j] != goal[j] and s[i] == goal[j] and s[j] == goal[i]:\n",
    "                new_s = list(s)\n",
    "                new_s[i], new_s[j] = new_s[j], new_s[i]\n",
    "                if isGoalAchievable(\"\".join(new_s), goal):\n",
    "                    return True\n",
    "\n",
    "    return False\n"
   ]
  },
  {
   "cell_type": "code",
   "execution_count": 4,
   "id": "ecfb9d12-afcb-4725-bec6-44741985dd6c",
   "metadata": {},
   "outputs": [
    {
     "name": "stdout",
     "output_type": "stream",
     "text": [
      "True\n"
     ]
    }
   ],
   "source": [
    "print(isGoalAchievable(\"ab\",\"ba\"))"
   ]
  },
  {
   "cell_type": "code",
   "execution_count": null,
   "id": "ce665543-b961-42dc-87ae-a043dcbc599e",
   "metadata": {},
   "outputs": [],
   "source": []
  }
 ],
 "metadata": {
  "kernelspec": {
   "display_name": "Python 3 (ipykernel)",
   "language": "python",
   "name": "python3"
  },
  "language_info": {
   "codemirror_mode": {
    "name": "ipython",
    "version": 3
   },
   "file_extension": ".py",
   "mimetype": "text/x-python",
   "name": "python",
   "nbconvert_exporter": "python",
   "pygments_lexer": "ipython3",
   "version": "3.10.8"
  }
 },
 "nbformat": 4,
 "nbformat_minor": 5
}
