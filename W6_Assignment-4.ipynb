{
 "cells": [
  {
   "cell_type": "code",
   "execution_count": null,
   "id": "d18799a9-ee4d-4ace-8d41-90e78f075893",
   "metadata": {},
   "outputs": [],
   "source": [
    "Q1. What is Flask Framework? What are the advantages of Flask Framework?"
   ]
  },
  {
   "cell_type": "code",
   "execution_count": null,
   "id": "d342d4bf-7f75-49f5-9f12-48146509e1ee",
   "metadata": {},
   "outputs": [],
   "source": [
    "Flask is a lightweight web framework written in Python. It is designed to be simple, flexible, and \n",
    "easy to use, making it a popular choice for developing web applications and APIs. Here are some key \n",
    "aspects and advantages of the Flask framework:\n",
    "\n",
    "Minimalistic and Lightweight: \n",
    "    Flask follows a \"micro\" framework approach, providing only the essential tools and features needed for \n",
    "    web development. It keeps the core functionality lean and allows developers to add additional extensions \n",
    "    and libraries as per their requirements.\n",
    "\n",
    "Easy to Learn and Use: \n",
    "    Flask has a simple and intuitive API that makes it easy for developers, especially beginners, to get started \n",
    "    quickly. It has a small learning curve, clean syntax, and clear documentation, enabling rapid development and prototyping.\n",
    "\n",
    "Flexible and Modular: \n",
    "    Flask allows developers to build applications in a modular manner. It provides a simple way to define routes, \n",
    "    handle HTTP requests and responses, and work with templates and forms. Flask's flexibility allows developers to \n",
    "    choose and integrate various extensions, libraries, and databases based on their specific project needs.\n",
    "\n",
    "Extensibility: \n",
    "    Flask provides a vast ecosystem of extensions that add extra functionality to the framework. \n",
    "    These extensions cover a wide range of features, including authentication, database integration, caching, \n",
    "    form validation, and more. The modular nature of Flask allows developers to pick and choose the extensions \n",
    "    they need, enhancing the capabilities of their applications.\n",
    "\n",
    "Python Integration: \n",
    "    Flask is built using Python, which is known for its readability, simplicity, and vast ecosystem of libraries. \n",
    "    Developers can leverage the power of Python and its extensive libraries while working with Flask, enabling them \n",
    "    to solve complex problems efficiently.\n",
    "\n",
    "Well-suited for Small to Medium-scale Projects: \n",
    "    Flask's lightweight nature and simplicity make it an excellent choice for small to medium-scale applications \n",
    "    and APIs. It allows for quick development iterations, easy deployment, and efficient resource utilization.\n",
    "\n",
    "Active Community and Documentation: \n",
    "    Flask has a vibrant community of developers who actively contribute to its development and provide support. \n",
    "    The community maintains extensive documentation, tutorials, and resources, making it easier for developers to \n",
    "    find solutions, learn, and share knowledge.\n",
    "\n",
    "    \n",
    "Overall, the advantages of Flask lie in its simplicity, flexibility, extensibility, and integration with the Python ecosystem. \n",
    "It empowers developers to create web applications efficiently, tailor them to specific project requirements, and quickly \n",
    "iterate on their ideas."
   ]
  },
  {
   "cell_type": "code",
   "execution_count": null,
   "id": "b54e9a9c-5d92-4a23-9918-70c0a9e78018",
   "metadata": {},
   "outputs": [],
   "source": [
    "Q2. Create a simple Flask application to display ‘Hello World!!’. Attach the screenshot of the output in\n",
    "Jupyter Notebook."
   ]
  },
  {
   "cell_type": "code",
   "execution_count": 3,
   "id": "7a68b9a2-7768-4638-9e93-61d85245d44c",
   "metadata": {},
   "outputs": [
    {
     "name": "stdout",
     "output_type": "stream",
     "text": [
      "Collecting flask\n",
      "  Downloading Flask-2.3.2-py3-none-any.whl (96 kB)\n",
      "\u001b[2K     \u001b[90m━━━━━━━━━━━━━━━━━━━━━━━━━━━━━━━━━━━━━━━━\u001b[0m \u001b[32m96.9/96.9 kB\u001b[0m \u001b[31m9.8 MB/s\u001b[0m eta \u001b[36m0:00:00\u001b[0m\n",
      "\u001b[?25hRequirement already satisfied: Jinja2>=3.1.2 in /opt/conda/lib/python3.10/site-packages (from flask) (3.1.2)\n",
      "Collecting itsdangerous>=2.1.2\n",
      "  Downloading itsdangerous-2.1.2-py3-none-any.whl (15 kB)\n",
      "Collecting Werkzeug>=2.3.3\n",
      "  Downloading Werkzeug-2.3.6-py3-none-any.whl (242 kB)\n",
      "\u001b[2K     \u001b[90m━━━━━━━━━━━━━━━━━━━━━━━━━━━━━━━━━━━━━━\u001b[0m \u001b[32m242.5/242.5 kB\u001b[0m \u001b[31m30.9 MB/s\u001b[0m eta \u001b[36m0:00:00\u001b[0m\n",
      "\u001b[?25hRequirement already satisfied: click>=8.1.3 in /opt/conda/lib/python3.10/site-packages (from flask) (8.1.3)\n",
      "Collecting blinker>=1.6.2\n",
      "  Downloading blinker-1.6.2-py3-none-any.whl (13 kB)\n",
      "Requirement already satisfied: MarkupSafe>=2.0 in /opt/conda/lib/python3.10/site-packages (from Jinja2>=3.1.2->flask) (2.1.1)\n",
      "Installing collected packages: Werkzeug, itsdangerous, blinker, flask\n",
      "  Attempting uninstall: blinker\n",
      "    Found existing installation: blinker 1.5\n",
      "    Uninstalling blinker-1.5:\n",
      "      Successfully uninstalled blinker-1.5\n",
      "Successfully installed Werkzeug-2.3.6 blinker-1.6.2 flask-2.3.2 itsdangerous-2.1.2\n",
      "Note: you may need to restart the kernel to use updated packages.\n"
     ]
    }
   ],
   "source": [
    "pip install flask"
   ]
  },
  {
   "cell_type": "code",
   "execution_count": 4,
   "id": "3e019617-5f9d-449e-882a-2e2eade1a7b5",
   "metadata": {},
   "outputs": [],
   "source": [
    "from flask import Flask"
   ]
  },
  {
   "cell_type": "code",
   "execution_count": 5,
   "id": "7dce2e31-d252-47c2-b157-cb1ae653d419",
   "metadata": {},
   "outputs": [
    {
     "name": "stdout",
     "output_type": "stream",
     "text": [
      " * Serving Flask app '__main__'\n",
      " * Debug mode: off\n"
     ]
    },
    {
     "name": "stderr",
     "output_type": "stream",
     "text": [
      "WARNING: This is a development server. Do not use it in a production deployment. Use a production WSGI server instead.\n",
      " * Running on all addresses (0.0.0.0)\n",
      " * Running on http://127.0.0.1:5000\n",
      " * Running on http://172.18.0.31:5000\n",
      "Press CTRL+C to quit\n"
     ]
    }
   ],
   "source": [
    "app = Flask(__name__)\n",
    "\n",
    "@app.route(\"/\")\n",
    "def hello_world():\n",
    "    return \"<h1>Hello, World!</h1>\"\n",
    "\n",
    "if __name__==\"__main__\":\n",
    "    app.run(host=\"0.0.0.0\")"
   ]
  },
  {
   "attachments": {
    "e7952140-a859-4444-88c3-896dd848b9fe.PNG": {
     "image/png": "[encoded data removed]"
    }
   },
   "cell_type": "markdown",
   "id": "50678179-9620-4707-96e8-ae591038c2f7",
   "metadata": {},
   "source": [
    "![Capture.PNG](attachment:e7952140-a859-4444-88c3-896dd848b9fe.PNG)"
   ]
  },
  {
   "cell_type": "code",
   "execution_count": null,
   "id": "f3b85386-0781-46bc-8f54-53f6a9b1d80a",
   "metadata": {},
   "outputs": [],
   "source": [
    "Q3. What is App routing in Flask? Why do we use app routes?"
   ]
  },
  {
   "cell_type": "code",
   "execution_count": null,
   "id": "82e3af39-30d3-4e92-9fa8-288785670fde",
   "metadata": {},
   "outputs": [],
   "source": [
    "In Flask, app routing refers to the process of mapping URL paths to specific functions or view \n",
    "handlers within a Flask application. It allows you to define the behavior of your application based on the requested URL.\n",
    "\n",
    "The primary purpose of app routes in Flask is to handle incoming HTTP requests and determine what action or response \n",
    "should be returned. Here is why we use app routes:\n",
    "\n",
    "URL Mapping: \n",
    "    App routes provide a convenient way to map specific URLs or URL patterns to corresponding functions or \n",
    "    view handlers within the Flask application. This allows you to define the structure and behavior of your \n",
    "    application's endpoints.\n",
    "\n",
    "Request Handling: \n",
    "    With app routes, you can define how your application handles different types of HTTP requests \n",
    "    (GET, POST, PUT, DELETE, etc.) for specific URLs. Each app route is associated with a specific HTTP method \n",
    "    and URL pattern, determining which function is executed when that URL is accessed with the corresponding HTTP method.\n",
    "\n",
    "View Functions: \n",
    "    App routes enable you to define view functions that are responsible for generating the HTTP response to be returned \n",
    "    to the client. These view functions can perform various actions such as querying a database, rendering templates, \n",
    "    processing form data, or returning JSON data.\n",
    "\n",
    "Dynamic Routing: \n",
    "    App routes can handle dynamic parts in the URL, also known as route parameters. By specifying route parameters \n",
    "    in the URL pattern, you can capture variable values from the URL and pass them as arguments to the corresponding \n",
    "    view function. This allows for dynamic and flexible routing based on user input or data.\n",
    "\n",
    "Code Organization: \n",
    "    By using app routes, you can structure your Flask application into modular components, with each component \n",
    "    responsible for handling specific routes and related functionality. This helps in organizing and maintaining code, \n",
    "    making it easier to understand and update your application's behavior.\n",
    "\n",
    "RESTful APIs: \n",
    "    App routes are particularly useful when building RESTful APIs, as they allow you to define different routes \n",
    "    for each API endpoint and map them to appropriate functions. This helps in designing a clean and logical API structure.\n",
    "\n",
    "    \n",
    "Overall, app routes in Flask provide a powerful mechanism for URL routing and request handling, allowing you to \n",
    "define the behavior of your application based on the requested URLs and HTTP methods. They help in structuring and \n",
    "organizing code, handling different types of requests, and building RESTful APIs."
   ]
  },
  {
   "cell_type": "code",
   "execution_count": null,
   "id": "382bdc75-c320-4acb-8570-5f4677df5bce",
   "metadata": {},
   "outputs": [],
   "source": [
    "Q4. Create a “/welcome” route to display the welcome message “Welcome to ABC Corporation” and a “/”\n",
    "route to show the following details:\n",
    "Company Name: ABC Corporation\n",
    "Location: India\n",
    "Contact Detail: 999-999-9999"
   ]
  },
  {
   "cell_type": "code",
   "execution_count": 6,
   "id": "ba3e4d1b-57f7-4a4b-ab1b-6d439c693c72",
   "metadata": {},
   "outputs": [
    {
     "name": "stdout",
     "output_type": "stream",
     "text": [
      " * Serving Flask app '__main__'\n",
      " * Debug mode: off\n"
     ]
    },
    {
     "name": "stderr",
     "output_type": "stream",
     "text": [
      "WARNING: This is a development server. Do not use it in a production deployment. Use a production WSGI server instead.\n",
      " * Running on all addresses (0.0.0.0)\n",
      " * Running on http://127.0.0.1:5000\n",
      " * Running on http://172.18.0.31:5000\n",
      "Press CTRL+C to quit\n",
      "172.18.0.2 - - [19/Jun/2023 05:38:35] \"GET /welcome HTTP/1.1\" 200 -\n",
      "172.18.0.2 - - [19/Jun/2023 05:38:36] \"GET /favicon.ico HTTP/1.1\" 404 -\n",
      "172.18.0.2 - - [19/Jun/2023 05:38:57] \"GET / HTTP/1.1\" 200 -\n",
      "172.18.0.2 - - [19/Jun/2023 05:43:36] \"GET / HTTP/1.1\" 200 -\n"
     ]
    }
   ],
   "source": [
    "app = Flask(__name__)\n",
    "\n",
    "@app.route(\"/\")\n",
    "def hello_world():\n",
    "    return \"<p>Company Name: ABC Corporation</p><p>Location: India</p><p>Contact Detail: 999-999-9999</p>\"\n",
    "\n",
    "@app.route(\"/welcome\")\n",
    "def welcome():\n",
    "    return \"<h1>Welcome to ABC Corporation</h1>\"\n",
    "\n",
    "if __name__==\"__main__\":\n",
    "    app.run(host=\"0.0.0.0\")"
   ]
  },
  {
   "attachments": {
    "6c67891a-792e-4f5a-8173-63eb0e168dc5.PNG": {
     "image/png": "[encoded data removed]"
    }
   },
   "cell_type": "markdown",
   "id": "589ca0c8-f4d8-4e37-815c-ba8e057a9c76",
   "metadata": {},
   "source": [
    "![Capture1.PNG](attachment:6c67891a-792e-4f5a-8173-63eb0e168dc5.PNG)"
   ]
  },
  {
   "attachments": {
    "ee263f05-c904-4257-879e-c24de7adac60.PNG": {
     "image/png": "[encoded data removed]"
    }
   },
   "cell_type": "markdown",
   "id": "ba788f37-6022-4468-b3fb-938045766915",
   "metadata": {},
   "source": [
    "![Capture3.PNG](attachment:ee263f05-c904-4257-879e-c24de7adac60.PNG)"
   ]
  },
  {
   "cell_type": "code",
   "execution_count": null,
   "id": "3a702044-123d-42b6-a245-448ae89f1bad",
   "metadata": {},
   "outputs": [],
   "source": [
    "Q5. What function is used in Flask for URL Building? Write a Python code to demonstrate the working of the\n",
    "url_for() function."
   ]
  },
  {
   "cell_type": "code",
   "execution_count": null,
   "id": "a6a6ae96-32b1-4894-a7d8-bc6c5e16523d",
   "metadata": {},
   "outputs": [],
   "source": [
    "In Flask, the url_for() function is used for URL building. It generates a URL for a given endpoint by \n",
    "taking into account the view function name and any route parameters. It provides a convenient way \n",
    "to create URLs dynamically without hardcoding them in the templates or application code.\n",
    "\n",
    "Here is a Python code example that demonstrates the usage of the url_for() function in Flask:"
   ]
  },
  {
   "cell_type": "code",
   "execution_count": 8,
   "id": "2daeabbb-d3a7-48fb-b0ed-d788048d7a54",
   "metadata": {},
   "outputs": [
    {
     "name": "stdout",
     "output_type": "stream",
     "text": [
      "Home URL: /\n",
      "Profile URL: /user/John\n",
      "Post URL: /posts/123\n",
      "Login URL: /login\n"
     ]
    }
   ],
   "source": [
    "from flask import Flask, url_for\n",
    "\n",
    "app = Flask(__name__)\n",
    "\n",
    "@app.route('/')\n",
    "def home():\n",
    "    return 'Welcome to the home page!'\n",
    "\n",
    "@app.route('/user/<username>')\n",
    "def user_profile(username):\n",
    "    return f'Profile page of {username}'\n",
    "\n",
    "@app.route('/posts/<int:post_id>')\n",
    "def view_post(post_id):\n",
    "    return f'Viewing post #{post_id}'\n",
    "\n",
    "@app.route('/login')\n",
    "def login():\n",
    "    return 'Please login'\n",
    "\n",
    "if __name__ == '__main__':\n",
    "    with app.test_request_context():\n",
    "        # Generating URLs using url_for()\n",
    "        home_url = url_for('home')\n",
    "        profile_url = url_for('user_profile', username='John')\n",
    "        post_url = url_for('view_post', post_id=123)\n",
    "        login_url = url_for('login')\n",
    "\n",
    "        # Printing the generated URLs\n",
    "        print(f'Home URL: {home_url}')\n",
    "        print(f'Profile URL: {profile_url}')\n",
    "        print(f'Post URL: {post_url}')\n",
    "        print(f'Login URL: {login_url}')"
   ]
  },
  {
   "cell_type": "code",
   "execution_count": null,
   "id": "440d3968-9cfb-4c6e-a29a-ae76f64798a5",
   "metadata": {},
   "outputs": [],
   "source": [
    "In this example, we define several routes using the @app.route() decorator. \n",
    "The url_for() function is then used to generate URLs for these routes:\n",
    "\n",
    "home_url is generated by providing the name of the view function home.\n",
    "profile_url is generated for the user_profile route, and the username parameter is provided as a keyword argument.\n",
    "post_url is generated for the view_post route, and the post_id parameter is provided as a keyword argument.\n",
    "login_url is generated for the login route.\n",
    "When we run the code, the generated URLs will be printed to the console.\n",
    "\n",
    "Note: It is important to have the app.test_request_context() block when using url_for() outside of a request context, \n",
    "as shown in the code above. It provides the necessary context for the url_for() function to work correctly."
   ]
  },
  {
   "cell_type": "code",
   "execution_count": null,
   "id": "f38b5490-9e03-4d52-81ed-1f252162452e",
   "metadata": {},
   "outputs": [],
   "source": []
  }
 ],
 "metadata": {
  "kernelspec": {
   "display_name": "Python 3 (ipykernel)",
   "language": "python",
   "name": "python3"
  },
  "language_info": {
   "codemirror_mode": {
    "name": "ipython",
    "version": 3
   },
   "file_extension": ".py",
   "mimetype": "text/x-python",
   "name": "python",
   "nbconvert_exporter": "python",
   "pygments_lexer": "ipython3",
   "version": "3.10.8"
  }
 },
 "nbformat": 4,
 "nbformat_minor": 5
}
