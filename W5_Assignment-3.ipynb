{
 "cells": [
  {
   "cell_type": "code",
   "execution_count": null,
   "id": "11d083f1-fd57-4c93-a9b1-65c5bc3d7ec5",
   "metadata": {},
   "outputs": [],
   "source": [
    "Q1. What is multithreading in python? Why is it used? Name the module used to handle threads in python."
   ]
  },
  {
   "cell_type": "code",
   "execution_count": null,
   "id": "a701e46d-a85d-4250-b456-f3690b5bb2b8",
   "metadata": {},
   "outputs": [],
   "source": [
    "What is multithreading in python:\n",
    "A thread is a unit of execution within a process. Multithreading refers to concurrently \n",
    "executing multiple threads by rapidly switching the control of the CPU between threads \n",
    "(called context switching)."
   ]
  },
  {
   "cell_type": "code",
   "execution_count": null,
   "id": "5620cb31-43c7-4d1b-9c45-b06931c5f269",
   "metadata": {},
   "outputs": [],
   "source": [
    "Why is it used:\n",
    "Multithreading allows you to break down an application into multiple sub-tasks and run these \n",
    "tasks simultaneously. If you use multithreading properly, your application speed, performance, \n",
    "and rendering can all be improved."
   ]
  },
  {
   "cell_type": "code",
   "execution_count": null,
   "id": "974c6c88-053b-4e76-9ee1-3a6788f9cf4c",
   "metadata": {},
   "outputs": [],
   "source": [
    "Name the module used to handle threads in python:\n",
    "The module used to handle threads in Python is called the \"threading\" module. It provides a high-level \n",
    "interface for working with threads and includes various classes, methods, and synchronization primitives \n",
    "to facilitate concurrent execution in Python programs. The threading module is part of the Python Standard \n",
    "Library and does not require any additional installation."
   ]
  },
  {
   "cell_type": "code",
   "execution_count": null,
   "id": "f35583ed-3338-43a4-b52d-5dc54a0c9cf0",
   "metadata": {},
   "outputs": [],
   "source": [
    "Q2. Why threading module used? Write the use of the following functions:\n",
    "activeCount()\n",
    "currentThread()\n",
    "enumerate()"
   ]
  },
  {
   "cell_type": "code",
   "execution_count": null,
   "id": "5b731341-bda3-4459-afad-a035711232e2",
   "metadata": {},
   "outputs": [],
   "source": [
    "Here are some reasons why the threading module is used in Python:\n",
    "\n",
    "Concurrency: \n",
    "    Threading enables concurrent execution of multiple tasks. \n",
    "    It allows different parts of a program to execute independently and concurrently, making efficient \n",
    "    use of available system resources.\n",
    "\n",
    "Responsiveness: \n",
    "    By using threads, long-running or blocking operations can be executed in the background without \n",
    "    blocking the main program's execution. This ensures that the program remains responsive and can \n",
    "    continue to perform other tasks while waiting for certain operations to complete.\n",
    "\n",
    "Parallelism: \n",
    "    Although Python's threading module does not provide true parallelism due to the Global Interpreter \n",
    "    Lock (GIL), it can still be useful in certain scenarios. For tasks that are I/O-bound, such as network \n",
    "    operations or file handling, threading can help achieve parallelism by allowing multiple I/O operations \n",
    "    to proceed simultaneously.\n",
    "\n",
    "Resource sharing: \n",
    "    Threads within a process can share resources such as memory, file handles, and network connections. \n",
    "    This can be advantageous when multiple tasks need access to shared data or when coordination between \n",
    "    tasks is required.\n",
    "\n",
    "Synchronization: \n",
    "    The threading module provides synchronization primitives like locks, events, conditions, and \n",
    "    semaphores. These tools help manage access to shared resources and coordinate execution between threads \n",
    "    to prevent data corruption or race conditions.\n",
    "\n",
    "Overall, the threading module in Python offers a convenient way to introduce concurrency into your programs, \n",
    "allowing you to perform multiple tasks simultaneously, improve responsiveness, and manage shared resources effectively."
   ]
  },
  {
   "cell_type": "code",
   "execution_count": null,
   "id": "6cbe96f5-3b0f-4e54-b545-4e43745da310",
   "metadata": {},
   "outputs": [],
   "source": [
    "activeCount()-Returns the number of thread objects that are active\n",
    "currentThread()-Returns the number of thread objects in the caller's thread control.\n",
    "enumerate()-Returns a list of all thread objects that are currently active."
   ]
  },
  {
   "cell_type": "code",
   "execution_count": null,
   "id": "c7ea75b7-2c1c-41cb-9a9e-7aceb0ef7c04",
   "metadata": {},
   "outputs": [],
   "source": [
    "3. Explain the following functions:\n",
    "run()\n",
    "start()\n",
    "join()\n",
    "isAlive()"
   ]
  },
  {
   "cell_type": "code",
   "execution_count": null,
   "id": "41310944-db60-4828-b0f1-251ddfa080e9",
   "metadata": {},
   "outputs": [],
   "source": [
    "run()  :\n",
    "    When working with threads in Python, you typically create a subclass of the Thread class and \n",
    "    override its run() method. This method contains the code that will be executed when the thread is started.\n",
    "    By defining your own run() method, you can specify the specific tasks and logic that should be executed \n",
    "    concurrently within the thread.\n",
    "start()  :\n",
    "    In Python's threading module, the start() function is not a standalone function but a method provided by the\n",
    "    Thread class. The start() method is used to start the execution of a thread by calling its run() method in \n",
    "    a separate thread of execution.\n",
    "\n",
    "join()  :\n",
    "    The join() method is used to wait for a thread to complete its execution before continuing with the rest of the program.\n",
    "isAlive() :\n",
    "    The is_alive() method is used to check whether a thread is currently running or has completed its execution."
   ]
  },
  {
   "cell_type": "code",
   "execution_count": null,
   "id": "f06914f2-0ed2-4650-a73f-586474a33279",
   "metadata": {},
   "outputs": [],
   "source": [
    "Q4. Write a python program to create two threads. Thread one must print the list of squares and thread\n",
    "two must print the list of cubes"
   ]
  },
  {
   "cell_type": "code",
   "execution_count": 11,
   "id": "7512d30c-ddae-4b37-9bc8-589b92609ad2",
   "metadata": {},
   "outputs": [
    {
     "name": "stdout",
     "output_type": "stream",
     "text": [
      "0\n",
      "1\n",
      "4\n",
      "9\n",
      "16\n",
      "25\n",
      "36\n",
      "49\n",
      "64\n",
      "81\n",
      "0\n",
      "1\n",
      "8\n",
      "27\n",
      "64\n",
      "125\n",
      "216\n",
      "343\n",
      "512\n",
      "729\n"
     ]
    }
   ],
   "source": [
    "import threading\n",
    "\n",
    "def print_squares(n):\n",
    "    print(n*n)\n",
    "\n",
    "def print_cubes(m):\n",
    "    print(m*m*m)\n",
    "\n",
    "# Create the first thread for printing squares\n",
    "thread1 = [threading.Thread(target=print_squares,args=(i,) )for i in range (10)]\n",
    "\n",
    "# Create the second thread for printing cubes\n",
    "thread2 = [threading.Thread(target=print_cubes,args=(i,) )for i in range (10)]\n",
    "\n",
    "# Start both threads\n",
    "for t in thread1:\n",
    "    t.start()\n",
    "for k in thread2:\n",
    "    k.start()"
   ]
  },
  {
   "cell_type": "code",
   "execution_count": null,
   "id": "4df8fe04-63aa-4d1c-8673-ed8954c95696",
   "metadata": {},
   "outputs": [],
   "source": [
    "Q5. State advantages and disadvantages of multithreading"
   ]
  },
  {
   "cell_type": "code",
   "execution_count": null,
   "id": "9c0a95c4-52ab-462c-82d5-bcd5af97c0db",
   "metadata": {},
   "outputs": [],
   "source": [
    "\n",
    "Multithreading offers several advantages and disadvantages. Let's discuss them:\n",
    "\n",
    "Advantages of Multithreading:\n",
    "\n",
    "Concurrency: \n",
    "    Multithreading allows concurrent execution of multiple tasks. It can improve the performance and \n",
    "    responsiveness of an application by utilizing the available system resources efficiently.\n",
    "\n",
    "Responsiveness: \n",
    "    Multithreading enables background processing, allowing tasks to execute in the background while \n",
    "    the main program remains responsive. This is particularly useful for tasks involving I/O operations, \n",
    "    as it prevents blocking and keeps the application interactive.\n",
    "\n",
    "Resource Sharing: \n",
    "    Threads within a process can share resources such as memory, file handles, and network connections. \n",
    "    This facilitates efficient resource utilization and eliminates the need for duplication, resulting in \n",
    "    memory and time savings.\n",
    "\n",
    "Simpler Communication: \n",
    "    Threads within the same process can communicate and share data more easily than separate processes. \n",
    "    In multithreaded applications, communication between threads can be achieved through shared variables\n",
    "    or synchronization primitives like locks, conditions, and queues.\n",
    "\n",
    "Efficient Task Management: \n",
    "    Multithreading simplifies task management by allowing different parts of an application to be split \n",
    "    into separate threads. Each thread can be responsible for a specific task, resulting in a modular and \n",
    "    organized code structure.\n",
    "\n",
    "Disadvantages of Multithreading:\n",
    "\n",
    "Complexity: \n",
    "    Multithreading introduces complexity due to potential issues such as race conditions, deadlocks, \n",
    "    and synchronization problems. Writing correct and thread-safe code requires careful consideration and \n",
    "    proper synchronization mechanisms.\n",
    "\n",
    "Debugging Challenges: \n",
    "    Debugging multithreaded applications can be challenging. Identifying and fixing issues \n",
    "    related to thread synchronization, resource sharing, and race conditions can be time-consuming and require expertise.\n",
    "\n",
    "Increased Memory Usage: \n",
    "    Each thread requires its own stack and thread-specific data, which can increase memory usage compared \n",
    "    to single-threaded applications. The overhead of thread management can also impact memory consumption.\n",
    "\n",
    "Limited CPU Parallelism: \n",
    "    In some languages like Python, the Global Interpreter Lock (GIL) prevents true parallelism and limits \n",
    "    the benefits of multithreading for CPU-bound tasks. While threads can still improve performance for \n",
    "    I/O-bound tasks, they may not fully utilize multiple CPU cores.\n"
   ]
  },
  {
   "cell_type": "code",
   "execution_count": null,
   "id": "8aaf9be3-9525-4fc5-a974-8d39d8c7445c",
   "metadata": {},
   "outputs": [],
   "source": [
    "Q6. Explain deadlocks and race conditions."
   ]
  },
  {
   "cell_type": "code",
   "execution_count": null,
   "id": "5f21148b-aed7-4998-9229-7c863c20bc2c",
   "metadata": {},
   "outputs": [],
   "source": [
    "Deadlocks and race conditions are two common concurrency-related issues that can occur in \n",
    "multithreaded or multitasking environments. \n",
    "Deadlocks:\n",
    "    A deadlock is a situation where two or more threads or processes are unable to proceed because \n",
    "    each is waiting for a resource held by another, resulting in a stalemate. \n",
    "Race Conditions:\n",
    "    A race condition occurs when multiple threads access a shared resource or variable concurrently, \n",
    "    and the final outcome of the program depends on the timing or order of their execution. It arises when \n",
    "    the correctness of the program logic depends on the relative timing of operations between threads.\n",
    "    \n",
    "Overall, deadlocks and race conditions are critical issues in concurrent programming that can lead to \n",
    "incorrect behavior, system instability, and unpredictable results."
   ]
  }
 ],
 "metadata": {
  "kernelspec": {
   "display_name": "Python 3 (ipykernel)",
   "language": "python",
   "name": "python3"
  },
  "language_info": {
   "codemirror_mode": {
    "name": "ipython",
    "version": 3
   },
   "file_extension": ".py",
   "mimetype": "text/x-python",
   "name": "python",
   "nbconvert_exporter": "python",
   "pygments_lexer": "ipython3",
   "version": "3.10.8"
  }
 },
 "nbformat": 4,
 "nbformat_minor": 5
}
