{
 "cells": [
  {
   "cell_type": "code",
   "execution_count": null,
   "id": "bb3d2d74-d12b-43e0-adfa-cd1f5f15a8d9",
   "metadata": {},
   "outputs": [],
   "source": [
    "Q1. Create a vehicle class with an init method having instance variables as name_of_vehicle, max_speed\n",
    "and average_of_vehicle."
   ]
  },
  {
   "cell_type": "code",
   "execution_count": 38,
   "id": "a2ba7d4f-901b-472b-97f9-6caf7a0a1603",
   "metadata": {},
   "outputs": [],
   "source": [
    "class vehicle:\n",
    "    \n",
    "    def __init__(self,name_of_vehicle, max_speed,average_of_vehicle):\n",
    "        self.name_of_vehicle=name_of_vehicle\n",
    "        self.max_speed=max_speed\n",
    "        self.average_of_vehicle=average_of_vehicle"
   ]
  },
  {
   "cell_type": "code",
   "execution_count": null,
   "id": "23f1f504-3e25-449c-8101-75966340102f",
   "metadata": {},
   "outputs": [],
   "source": [
    "Q2. Create a child class car from the vehicle class created in Que 1, which will inherit the vehicle class.\n",
    "Create a method named seating_capacity which takes capacity as an argument and returns the name of\n",
    "the vehicle and its seating capacity."
   ]
  },
  {
   "cell_type": "code",
   "execution_count": 39,
   "id": "665e4856-9cd9-4ac0-a7de-0b7d06d53e5d",
   "metadata": {},
   "outputs": [],
   "source": [
    "class car(vehicle):\n",
    "    capacity=0\n",
    "    def __init__(self,name_of_vehicle, max_speed,average_of_vehicle):\n",
    "        super().__init__(name_of_vehicle, max_speed,average_of_vehicle)\n",
    "    def seating_capacity(self,capacity):\n",
    "        self.capacity=capacity\n",
    "        return self.name_of_vehicle,self.capacity"
   ]
  },
  {
   "cell_type": "code",
   "execution_count": 40,
   "id": "7e05a739-321f-4cab-ace8-708279f05a33",
   "metadata": {},
   "outputs": [],
   "source": [
    "obj_car=car(\"Bus\",120,80)"
   ]
  },
  {
   "cell_type": "code",
   "execution_count": 41,
   "id": "41865ae8-52be-47a9-a11b-981f27962426",
   "metadata": {},
   "outputs": [
    {
     "data": {
      "text/plain": [
       "('Bus', 60)"
      ]
     },
     "execution_count": 41,
     "metadata": {},
     "output_type": "execute_result"
    }
   ],
   "source": [
    "obj_car.seating_capacity(60)"
   ]
  },
  {
   "cell_type": "code",
   "execution_count": null,
   "id": "d3277afd-dde1-46ca-aa59-925bd097c4f2",
   "metadata": {},
   "outputs": [],
   "source": [
    "Q3. What is multiple inheritance? Write a python code to demonstrate multiple inheritance."
   ]
  },
  {
   "cell_type": "code",
   "execution_count": null,
   "id": "daaa40f1-0f4f-43db-be21-67d6a8886d55",
   "metadata": {},
   "outputs": [],
   "source": [
    "-->When a class is derived from more than one base class it is called multiple Inheritance.\n",
    "The derived class inherits all the features of the base case."
   ]
  },
  {
   "cell_type": "code",
   "execution_count": 43,
   "id": "4a6dcc48-dc8a-4d39-b6dd-140d16477bfc",
   "metadata": {},
   "outputs": [],
   "source": [
    "class Dad():\n",
    "    def singing(self):\n",
    "        print(\"Dad sings well\")\n",
    "\n",
    "class Mom():\n",
    "    def coding(self):\n",
    "        print(\"Mom codes well\")"
   ]
  },
  {
   "cell_type": "code",
   "execution_count": 44,
   "id": "84bb4c93-edd8-4f15-b240-9b0292fa72d6",
   "metadata": {},
   "outputs": [],
   "source": [
    "# creating derived class\n",
    "class Child(Dad, Mom):\n",
    "    def play(self):\n",
    "        print(\"Kid loves to play\")"
   ]
  },
  {
   "cell_type": "code",
   "execution_count": 46,
   "id": "93143be0-4baf-4c96-908a-d930d1a5ff3d",
   "metadata": {},
   "outputs": [],
   "source": [
    "child=Child()"
   ]
  },
  {
   "cell_type": "code",
   "execution_count": 47,
   "id": "fc5cbf80-1cf6-4d32-a04e-f9309b9e10b9",
   "metadata": {},
   "outputs": [
    {
     "name": "stdout",
     "output_type": "stream",
     "text": [
      "Mom codes well\n",
      "Dad sings well\n",
      "Kid loves to play\n"
     ]
    }
   ],
   "source": [
    "child.coding()\n",
    "child.singing()\n",
    "child.play()"
   ]
  },
  {
   "cell_type": "code",
   "execution_count": null,
   "id": "a59df8c7-a12f-4e1a-9a98-8fa2d1522a2f",
   "metadata": {},
   "outputs": [],
   "source": [
    "Q4. What are getter and setter in python? Create a class and create a getter and a setter method in this\n",
    "class."
   ]
  },
  {
   "cell_type": "code",
   "execution_count": null,
   "id": "48a32d0d-f439-4c24-a026-155e59fbc782",
   "metadata": {},
   "outputs": [],
   "source": [
    "-->n Python, the main purpose of using getters(to return value of the object) and \n",
    "setters(to set value of the object) in object-oriented programs is to ensure data encapsulation. \n",
    "Getters and Setters in python are often used when:\n",
    "1. We use getters & setters to add validation logic around getting and setting a value.\n",
    "2. To avoid direct access of a class field i.e. private variables cannot be accessed directly \n",
    "or modified by external user."
   ]
  },
  {
   "cell_type": "code",
   "execution_count": 48,
   "id": "befbe2f1-c930-4cad-89df-6ea860bfd281",
   "metadata": {},
   "outputs": [],
   "source": [
    "#example\n",
    "class Person:\n",
    "    def __init__(self, age = 0):\n",
    "         self._age = age\n",
    "      \n",
    "    # getter method\n",
    "    def get_age(self):\n",
    "        return self._age\n",
    "      \n",
    "    # setter method\n",
    "    def set_age(self, x):\n",
    "        self._age = 0 if x<0 else x"
   ]
  },
  {
   "cell_type": "code",
   "execution_count": 49,
   "id": "c650dc97-ea2b-44c6-afa7-a40811b6dfeb",
   "metadata": {},
   "outputs": [],
   "source": [
    "per=Person(40)"
   ]
  },
  {
   "cell_type": "code",
   "execution_count": 50,
   "id": "57547196-9a5a-45a7-b074-a4de6fec2494",
   "metadata": {},
   "outputs": [
    {
     "data": {
      "text/plain": [
       "40"
      ]
     },
     "execution_count": 50,
     "metadata": {},
     "output_type": "execute_result"
    }
   ],
   "source": [
    "per.get_age()"
   ]
  },
  {
   "cell_type": "code",
   "execution_count": 51,
   "id": "4fd1af7d-818e-4f69-8d3e-6c54243d24ff",
   "metadata": {},
   "outputs": [],
   "source": [
    "per.set_age(-9)"
   ]
  },
  {
   "cell_type": "code",
   "execution_count": 52,
   "id": "4e275b46-4a07-4293-94a0-c1cb6d3f81bf",
   "metadata": {},
   "outputs": [
    {
     "data": {
      "text/plain": [
       "0"
      ]
     },
     "execution_count": 52,
     "metadata": {},
     "output_type": "execute_result"
    }
   ],
   "source": [
    "per.get_age()"
   ]
  },
  {
   "cell_type": "code",
   "execution_count": 53,
   "id": "af1cae81-7db3-4c1c-b285-ff7a21db74ce",
   "metadata": {},
   "outputs": [
    {
     "data": {
      "text/plain": [
       "50"
      ]
     },
     "execution_count": 53,
     "metadata": {},
     "output_type": "execute_result"
    }
   ],
   "source": [
    "per.set_age(50)\n",
    "per.get_age()"
   ]
  },
  {
   "cell_type": "code",
   "execution_count": null,
   "id": "5f8b782f-7229-43dc-9dfb-5802f6ab92be",
   "metadata": {},
   "outputs": [],
   "source": [
    "Q5.What is method overriding in python? Write a python code to demonstrate method overriding."
   ]
  },
  {
   "cell_type": "code",
   "execution_count": null,
   "id": "0ebe3ea3-2c01-4229-8fb0-7da47e8a338c",
   "metadata": {},
   "outputs": [],
   "source": [
    "-->Method overriding is an ability of a child class to provide a specific implementation \n",
    "of a method that is already provided by parent classes. \n",
    "When a method in a child has the same name, same parameters or signature and same return type(or sub-type) \n",
    "as a method in its parent-class, then the method in the child class is said to override the method in the parent-class."
   ]
  },
  {
   "cell_type": "code",
   "execution_count": 55,
   "id": "ef885a41-25d2-418f-8396-39b6c544e1ea",
   "metadata": {},
   "outputs": [
    {
     "name": "stdout",
     "output_type": "stream",
     "text": [
      "Inside Parent_class\n"
     ]
    }
   ],
   "source": [
    "class Parent():\n",
    "\n",
    "    def __init__(self):\n",
    "        self.value = \"Inside Parent_class\"\n",
    "    def show(self):\n",
    "        print(self.value)\n",
    "\n",
    "parent=Parent()\n",
    "parent.show()"
   ]
  },
  {
   "cell_type": "code",
   "execution_count": 56,
   "id": "fd7f2767-b549-4938-896c-30c01f6ab3b7",
   "metadata": {},
   "outputs": [],
   "source": [
    "class Child(Parent):\n",
    "\n",
    "    def __init__(self):\n",
    "        self.value = \"Inside Child_class\"\n",
    "    def show(self):\n",
    "        print(self.value)"
   ]
  },
  {
   "cell_type": "code",
   "execution_count": 58,
   "id": "d21bcd19-a21f-49c9-827f-521d40cc565d",
   "metadata": {},
   "outputs": [
    {
     "name": "stdout",
     "output_type": "stream",
     "text": [
      "Inside Child_class\n"
     ]
    }
   ],
   "source": [
    "child=Child()\n",
    "child.show()"
   ]
  },
  {
   "cell_type": "code",
   "execution_count": null,
   "id": "fd3b1e0c-5d2a-4851-9d68-71411699a762",
   "metadata": {},
   "outputs": [],
   "source": []
  }
 ],
 "metadata": {
  "kernelspec": {
   "display_name": "Python 3 (ipykernel)",
   "language": "python",
   "name": "python3"
  },
  "language_info": {
   "codemirror_mode": {
    "name": "ipython",
    "version": 3
   },
   "file_extension": ".py",
   "mimetype": "text/x-python",
   "name": "python",
   "nbconvert_exporter": "python",
   "pygments_lexer": "ipython3",
   "version": "3.10.8"
  }
 },
 "nbformat": 4,
 "nbformat_minor": 5
}
