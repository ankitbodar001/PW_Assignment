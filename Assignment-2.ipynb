{
 "cells": [
  {
   "cell_type": "code",
   "execution_count": null,
   "id": "be5a16a8-aad6-4ff8-9a83-4674b2be0ff3",
   "metadata": {},
   "outputs": [],
   "source": [
    "Q1. How do you comment code in Python? What are the different types of comments?"
   ]
  },
  {
   "cell_type": "code",
   "execution_count": null,
   "id": "ff226b40-ceef-4e45-975b-ad0bd5c8d0c1",
   "metadata": {},
   "outputs": [],
   "source": [
    "-->Comments in Python are identified with a hash symbol, '#', and extend to the end of the line\n",
    "#This is a comment line"
   ]
  },
  {
   "cell_type": "code",
   "execution_count": null,
   "id": "23dd168e-00d2-4124-871e-c83b6b94b33f",
   "metadata": {},
   "outputs": [],
   "source": [
    "-->There are two types of comments single line and multiline\n",
    "1)Single line: As mentioned above by simply puting '#' infront of line make that line as comment\n",
    "#This is a single line comment"
   ]
  },
  {
   "cell_type": "code",
   "execution_count": null,
   "id": "f2906328-a2a5-4079-bc5c-6a45b7f196ae",
   "metadata": {},
   "outputs": [],
   "source": [
    "2)Multiline: There are two way to make multiline comments \n",
    "1.By simply puting '#' infront of eachline make those line as comment\n",
    "#This is \n",
    "#Multiline comment\n",
    "2.By using tripple sigle quotes or triple double quotes\n",
    "'''\n",
    "This is an \n",
    "example of\n",
    "multiline comments'''\n",
    "\"\"\"\n",
    "This onther \n",
    "example of multiline comments\"\"\""
   ]
  },
  {
   "cell_type": "code",
   "execution_count": null,
   "id": "62a57387-cc90-438a-8809-fb0f50d3aa4c",
   "metadata": {},
   "outputs": [],
   "source": [
    "Q2. What are variables in Python? How do you declare and assign values to variables?\n",
    "-->A variable is a string of characters and numbers associated with a piece of data or information. We can use assignment\n",
    "operator (“=”) to assign values to variables in Python. Here are some example for variable:"
   ]
  },
  {
   "cell_type": "code",
   "execution_count": 7,
   "id": "a470733f-a7ce-49ee-853f-90a752159f51",
   "metadata": {},
   "outputs": [
    {
     "name": "stdout",
     "output_type": "stream",
     "text": [
      "<class 'int'>\n",
      "2\n"
     ]
    }
   ],
   "source": [
    "x=2\n",
    "print(type(x))\n",
    "print(x)"
   ]
  },
  {
   "cell_type": "code",
   "execution_count": 8,
   "id": "7e07f022-c1ec-458f-a2f9-18ca46c9f3b1",
   "metadata": {},
   "outputs": [
    {
     "name": "stdout",
     "output_type": "stream",
     "text": [
      "<class 'str'>\n",
      "hi 123.\n"
     ]
    }
   ],
   "source": [
    "str1='hi 123.'\n",
    "print(type(str1))\n",
    "print(str1)"
   ]
  },
  {
   "cell_type": "code",
   "execution_count": 10,
   "id": "71f9bcfc-e63c-41a9-8d7d-9989288c5480",
   "metadata": {},
   "outputs": [
    {
     "name": "stdout",
     "output_type": "stream",
     "text": [
      "<class 'float'>\n",
      "220.2\n"
     ]
    }
   ],
   "source": [
    "fl_t=220.2\n",
    "print(type(fl_t))\n",
    "print(fl_t)"
   ]
  },
  {
   "cell_type": "code",
   "execution_count": null,
   "id": "3117afde-c5b0-49a9-b79b-b844079d544f",
   "metadata": {},
   "outputs": [],
   "source": [
    "Q3. How do you convert one data type to another in Python?\n",
    "-->There are two types of Type Conversion in Python:"
   ]
  },
  {
   "cell_type": "code",
   "execution_count": 12,
   "id": "20c02475-3822-4c90-93ff-7588b60e62ec",
   "metadata": {},
   "outputs": [
    {
     "name": "stdout",
     "output_type": "stream",
     "text": [
      "<class 'int'>\n",
      "<class 'str'>\n",
      "<class 'float'>\n"
     ]
    }
   ],
   "source": [
    "#1. Implicit Type Conversion: Python convert data types at the time of assignment without user ivolvement.\n",
    "x=123\n",
    "y='Hi'\n",
    "z=23.89\n",
    "print(type(x))\n",
    "print(type(y))\n",
    "print(type(z))"
   ]
  },
  {
   "cell_type": "code",
   "execution_count": 17,
   "id": "c2d46bd5-0fdd-43e6-8cb6-19348193f8ae",
   "metadata": {},
   "outputs": [
    {
     "name": "stdout",
     "output_type": "stream",
     "text": [
      "<class 'int'>\n",
      "908\n",
      "<class 'str'>\n",
      "908\n"
     ]
    }
   ],
   "source": [
    "#2.Explicit Type Conversion: The data type is manually changed by the user as per their requirement.\n",
    "# Use function of datatype(str(),tuple(),list(), etc.) to convert provide data type in to required data type\n",
    "a=908\n",
    "b=str(a)\n",
    "print(type(a))\n",
    "print(a)\n",
    "print(type(b))\n",
    "print(b)"
   ]
  },
  {
   "cell_type": "code",
   "execution_count": 18,
   "id": "99c914c0-e85d-451d-8df4-cfbc34b43b6e",
   "metadata": {},
   "outputs": [
    {
     "name": "stdout",
     "output_type": "stream",
     "text": [
      "<class 'str'>\n",
      "Hi All, Have you completed your assignment?\n",
      "<class 'list'>\n",
      "['H', 'i', ' ', 'A', 'l', 'l', ',', ' ', 'H', 'a', 'v', 'e', ' ', 'y', 'o', 'u', ' ', 'c', 'o', 'm', 'p', 'l', 'e', 't', 'e', 'd', ' ', 'y', 'o', 'u', 'r', ' ', 'a', 's', 's', 'i', 'g', 'n', 'm', 'e', 'n', 't', '?']\n",
      "<class 'tuple'>\n",
      "('H', 'i', ' ', 'A', 'l', 'l', ',', ' ', 'H', 'a', 'v', 'e', ' ', 'y', 'o', 'u', ' ', 'c', 'o', 'm', 'p', 'l', 'e', 't', 'e', 'd', ' ', 'y', 'o', 'u', 'r', ' ', 'a', 's', 's', 'i', 'g', 'n', 'm', 'e', 'n', 't', '?')\n",
      "<class 'set'>\n",
      "{'v', '?', 'l', 'c', ' ', 'p', 'd', 'y', 's', 'i', 'A', ',', 'r', 'e', 'a', 'o', 't', 'g', 'n', 'u', 'H', 'm'}\n"
     ]
    }
   ],
   "source": [
    "str3='Hi All, Have you completed your assignment?'\n",
    "str4=list(str3)\n",
    "str5=tuple(str3)\n",
    "str6=set(str3)\n",
    "print(type(str3))\n",
    "print(str3)\n",
    "print(type(str4))\n",
    "print(str4)\n",
    "print(type(str5))\n",
    "print(str5)\n",
    "print(type(str6))\n",
    "print(str6)"
   ]
  },
  {
   "cell_type": "code",
   "execution_count": null,
   "id": "a45f8111-4ff2-4b1c-81a7-5ede7c49e99e",
   "metadata": {},
   "outputs": [],
   "source": [
    "Q4. How do you write and execute a Python script from the command line?\n",
    "-->The most basic and easy way to run a Python script is by using the python command. You need to open a command \n",
    "line and type the word python followed by the path to your script file like this:\n",
    "-->python first_script.py\n",
    "Output:Hello World!"
   ]
  },
  {
   "cell_type": "code",
   "execution_count": null,
   "id": "cb88cab9-5425-4afa-86cb-4d3759ddb55c",
   "metadata": {},
   "outputs": [],
   "source": [
    "Q5. Given a list my_list = [1, 2, 3, 4, 5], write the code to slice the list and obtain the sub-list [2, 3]."
   ]
  },
  {
   "cell_type": "code",
   "execution_count": 20,
   "id": "866f7361-ed43-446b-b912-a7522d708cc8",
   "metadata": {},
   "outputs": [
    {
     "name": "stdout",
     "output_type": "stream",
     "text": [
      "[2, 3]\n"
     ]
    }
   ],
   "source": [
    "my_list = [1, 2, 3, 4, 5]\n",
    "sub_list=my_list[1:3]\n",
    "print(sub_list)"
   ]
  },
  {
   "cell_type": "code",
   "execution_count": null,
   "id": "9fa871f5-1a31-4316-b6c3-703d1cb411ea",
   "metadata": {},
   "outputs": [],
   "source": [
    "Q6. What is a complex number in mathematics, and how is it represented in Python?"
   ]
  },
  {
   "cell_type": "code",
   "execution_count": null,
   "id": "701558a8-0143-40a1-8758-19243ce11aed",
   "metadata": {},
   "outputs": [],
   "source": [
    "Complex numbers are the combination of real and imaginary numbers. The real part can be \n",
    "expressed by an integer or decimal, while the imaginary part has a square that is negative."
   ]
  },
  {
   "cell_type": "code",
   "execution_count": null,
   "id": "cde03797-1df7-4867-aff7-a8a70b03d26c",
   "metadata": {},
   "outputs": [],
   "source": [
    "In Python Complex numbers are the numbers that are expressed in the form of a+bj where, a,b \n",
    "are real numbers and  ‘j’ is an imaginary number called “iota”. The value of j = (√-1). \n",
    "For example, 2+3j is a complex number, where 2 is a real number (Re) and 3j is an imaginary number (Im)"
   ]
  },
  {
   "cell_type": "code",
   "execution_count": 26,
   "id": "95fffca5-4a37-4b46-843b-037cc17ab60a",
   "metadata": {},
   "outputs": [
    {
     "name": "stdout",
     "output_type": "stream",
     "text": [
      "(2+5j)\n",
      "<class 'complex'>\n",
      "2.0\n",
      "5.0\n"
     ]
    }
   ],
   "source": [
    "com=2+5j\n",
    "print(com)\n",
    "print(type(com))\n",
    "print(com.real)\n",
    "print(com.imag)"
   ]
  },
  {
   "cell_type": "code",
   "execution_count": null,
   "id": "d013d5a3-deff-4cd1-b0b1-b42954b1100d",
   "metadata": {},
   "outputs": [],
   "source": [
    "Q7. What is the correct way to declare a variable named age and assign the value 25 to it?"
   ]
  },
  {
   "cell_type": "code",
   "execution_count": 27,
   "id": "0b35c80e-44e1-487c-a31a-bb548c9f7427",
   "metadata": {},
   "outputs": [
    {
     "name": "stdout",
     "output_type": "stream",
     "text": [
      "25\n",
      "<class 'int'>\n"
     ]
    }
   ],
   "source": [
    "age=25\n",
    "print(age)\n",
    "print(type(age))"
   ]
  },
  {
   "cell_type": "code",
   "execution_count": null,
   "id": "b3656d9b-0f54-4894-b016-bac5c9de84c3",
   "metadata": {},
   "outputs": [],
   "source": [
    "Q8. Declare a variable named price and assign the value 9.99 to it. What data type does this variable\n",
    "belong to?"
   ]
  },
  {
   "cell_type": "code",
   "execution_count": 28,
   "id": "90f71991-ffb3-4a9e-9f5c-2fec1904df75",
   "metadata": {},
   "outputs": [
    {
     "name": "stdout",
     "output_type": "stream",
     "text": [
      "9.99\n",
      "<class 'float'>\n"
     ]
    }
   ],
   "source": [
    "price=9.99\n",
    "print(price)\n",
    "print(type(price))"
   ]
  },
  {
   "cell_type": "code",
   "execution_count": null,
   "id": "1d5760aa-6132-41d0-867e-5ea6807f8051",
   "metadata": {},
   "outputs": [],
   "source": [
    "Q9. Create a variable named name and assign your full name to it as a string. How would you print the\n",
    "value of this variable?"
   ]
  },
  {
   "cell_type": "code",
   "execution_count": 29,
   "id": "e37c18e9-f8f7-4ee5-b723-86253df22fee",
   "metadata": {},
   "outputs": [
    {
     "name": "stdout",
     "output_type": "stream",
     "text": [
      "Ankit Bodar\n"
     ]
    }
   ],
   "source": [
    "name='Ankit Bodar'\n",
    "print(name)"
   ]
  },
  {
   "cell_type": "code",
   "execution_count": null,
   "id": "ea5d549a-fce3-4882-8e02-1b0e8285ca11",
   "metadata": {},
   "outputs": [],
   "source": [
    "Q10. Given the string \"Hello, World!\", extract the substring \"World\"."
   ]
  },
  {
   "cell_type": "code",
   "execution_count": 33,
   "id": "0830e375-a95a-47d2-a444-07f4f3b3a433",
   "metadata": {},
   "outputs": [
    {
     "name": "stdout",
     "output_type": "stream",
     "text": [
      "World\n"
     ]
    }
   ],
   "source": [
    "str7=\"Hello, World!\"\n",
    "sub=str7[7:12]\n",
    "print(sub)"
   ]
  },
  {
   "cell_type": "code",
   "execution_count": null,
   "id": "f6f10273-8515-4638-b2a9-76bf339f4efb",
   "metadata": {},
   "outputs": [],
   "source": [
    "Q11. Create a variable named \"is_student\" and assign it a boolean value indicating whether you are\n",
    "currently a student or not."
   ]
  },
  {
   "cell_type": "code",
   "execution_count": 34,
   "id": "11bc590d-7ba6-404d-ba37-835f5dab174c",
   "metadata": {},
   "outputs": [
    {
     "name": "stdout",
     "output_type": "stream",
     "text": [
      "False\n",
      "<class 'bool'>\n"
     ]
    }
   ],
   "source": [
    "is_student=False\n",
    "print(is_student)\n",
    "print(type(is_student))"
   ]
  }
 ],
 "metadata": {
  "kernelspec": {
   "display_name": "Python 3 (ipykernel)",
   "language": "python",
   "name": "python3"
  },
  "language_info": {
   "codemirror_mode": {
    "name": "ipython",
    "version": 3
   },
   "file_extension": ".py",
   "mimetype": "text/x-python",
   "name": "python",
   "nbconvert_exporter": "python",
   "pygments_lexer": "ipython3",
   "version": "3.10.8"
  }
 },
 "nbformat": 4,
 "nbformat_minor": 5
}
