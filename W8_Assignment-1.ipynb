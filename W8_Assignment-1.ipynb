{
 "cells": [
  {
   "cell_type": "code",
   "execution_count": null,
   "id": "b8987152-b251-40e5-8062-ff385253fb7c",
   "metadata": {},
   "outputs": [],
   "source": [
    "Q1. Create a Pandas Series that contains the following data: 4, 8, 15, 16, 23, and 42. Then, print the series."
   ]
  },
  {
   "cell_type": "code",
   "execution_count": 2,
   "id": "efd25cda-5292-446a-a0dc-b0ab66833dc3",
   "metadata": {},
   "outputs": [
    {
     "name": "stdout",
     "output_type": "stream",
     "text": [
      "Requirement already satisfied: pandas in /opt/conda/lib/python3.10/site-packages (1.5.2)\n",
      "Requirement already satisfied: python-dateutil>=2.8.1 in /opt/conda/lib/python3.10/site-packages (from pandas) (2.8.2)\n",
      "Requirement already satisfied: pytz>=2020.1 in /opt/conda/lib/python3.10/site-packages (from pandas) (2022.6)\n",
      "Requirement already satisfied: numpy>=1.21.0 in /opt/conda/lib/python3.10/site-packages (from pandas) (1.23.5)\n",
      "Requirement already satisfied: six>=1.5 in /opt/conda/lib/python3.10/site-packages (from python-dateutil>=2.8.1->pandas) (1.16.0)\n",
      "Note: you may need to restart the kernel to use updated packages.\n"
     ]
    }
   ],
   "source": [
    "pip install pandas"
   ]
  },
  {
   "cell_type": "code",
   "execution_count": 3,
   "id": "b2b08e9d-14b7-41e3-bc1a-987d5e3efda3",
   "metadata": {},
   "outputs": [
    {
     "name": "stdout",
     "output_type": "stream",
     "text": [
      "0     4\n",
      "1     8\n",
      "2    15\n",
      "3    16\n",
      "4    23\n",
      "5    42\n",
      "dtype: int64\n"
     ]
    }
   ],
   "source": [
    "import pandas as pd\n",
    "\n",
    "data=[4,8,15,16,23,42]\n",
    "Series =pd.Series(data)\n",
    "print(Series)"
   ]
  },
  {
   "cell_type": "code",
   "execution_count": null,
   "id": "73e027c2-321d-4550-b682-8c9f0f066e2b",
   "metadata": {},
   "outputs": [],
   "source": [
    "Q2. Create a variable of list type containing 10 elements in it, and apply pandas.Series function on the\n",
    "variable print it."
   ]
  },
  {
   "cell_type": "code",
   "execution_count": 5,
   "id": "48db08ee-2821-4660-968c-db553da15da1",
   "metadata": {},
   "outputs": [
    {
     "name": "stdout",
     "output_type": "stream",
     "text": [
      "0     1\n",
      "1     2\n",
      "2     3\n",
      "3     4\n",
      "4     5\n",
      "5     6\n",
      "6     7\n",
      "7     8\n",
      "8     9\n",
      "9    10\n",
      "dtype: int64\n"
     ]
    }
   ],
   "source": [
    "lst=list(range(1,11))\n",
    "ser=pd.Series(lst)\n",
    "print(ser)"
   ]
  },
  {
   "cell_type": "code",
   "execution_count": null,
   "id": "ffecfbc9-b521-4c69-b449-37ce9e865258",
   "metadata": {},
   "outputs": [],
   "source": [
    "Q3. Create a Pandas DataFrame that contains the following data:"
   ]
  },
  {
   "cell_type": "code",
   "execution_count": 6,
   "id": "b274a441-215d-4333-889e-a11a0fde94d4",
   "metadata": {},
   "outputs": [
    {
     "name": "stdout",
     "output_type": "stream",
     "text": [
      "     Name  Age  Gender\n",
      "0   Alice   25  Female\n",
      "1     Bob   30    Male\n",
      "2  Claire   27  Female\n"
     ]
    }
   ],
   "source": [
    "data={\n",
    "    'Name':['Alice','Bob','Claire'],\n",
    "     'Age': [25, 30, 27],\n",
    "    'Gender': ['Female', 'Male', 'Female']}\n",
    "df=pd.DataFrame(data)\n",
    "print(df)"
   ]
  },
  {
   "cell_type": "code",
   "execution_count": 7,
   "id": "d937fd83-37a1-4e68-975e-f24ffd6fe573",
   "metadata": {},
   "outputs": [
    {
     "data": {
      "text/plain": [
       "pandas.core.frame.DataFrame"
      ]
     },
     "execution_count": 7,
     "metadata": {},
     "output_type": "execute_result"
    }
   ],
   "source": [
    "type(df)"
   ]
  },
  {
   "cell_type": "code",
   "execution_count": null,
   "id": "6b0bc565-a461-4c75-980b-dbcbbd3a76e3",
   "metadata": {},
   "outputs": [],
   "source": [
    "Q4. What is ‘DataFrame’ in pandas and how is it different from pandas.series? Explain with an example."
   ]
  },
  {
   "cell_type": "code",
   "execution_count": null,
   "id": "bf4336c9-c55a-460c-9787-509a24744422",
   "metadata": {},
   "outputs": [],
   "source": [
    "-->In pandas, a DataFrame is a two-dimensional labeled data structure that can store data of different types \n",
    "    (e.g., numerical, categorical, string) in columns. It is similar to a table or a spreadsheet in which each column \n",
    "    represents a variable, and each row represents an observation or data point.\n",
    "\n",
    "-->On the other hand, a Series is a one-dimensional labeled array that can store data of a single data type. \n",
    "    It can be thought of as a single column of a DataFrame.\n",
    "\n",
    "Here is an example to illustrate the difference between a DataFrame and a Series:"
   ]
  },
  {
   "cell_type": "code",
   "execution_count": 8,
   "id": "e04562a8-f679-4756-97d0-95b3be7bf18b",
   "metadata": {},
   "outputs": [
    {
     "name": "stdout",
     "output_type": "stream",
     "text": [
      "DataFrame:\n",
      "     Name  Age  Gender\n",
      "0   Alice   25  Female\n",
      "1     Bob   30    Male\n",
      "2  Claire   27  Female\n",
      "\n",
      "Series:\n",
      "0    25\n",
      "1    30\n",
      "2    27\n",
      "Name: Age, dtype: int64\n"
     ]
    }
   ],
   "source": [
    "# Creating a DataFrame\n",
    "data = {\n",
    "    'Name': ['Alice', 'Bob', 'Claire'],\n",
    "    'Age': [25, 30, 27],\n",
    "    'Gender': ['Female', 'Male', 'Female']\n",
    "}\n",
    "df = pd.DataFrame(data)\n",
    "\n",
    "# Creating a Series\n",
    "ages = pd.Series([25, 30, 27], name='Age')\n",
    "\n",
    "print(\"DataFrame:\")\n",
    "print(df)\n",
    "print(\"\\nSeries:\")\n",
    "print(ages)\n"
   ]
  },
  {
   "cell_type": "code",
   "execution_count": null,
   "id": "4b3f2df7-83c0-4481-ba33-69bab2a2cf8c",
   "metadata": {},
   "outputs": [],
   "source": [
    "In the code above, we first create a DataFrame using the pd.DataFrame() function by passing a dictionary containing \n",
    "the data. The resulting DataFrame has three columns: 'Name', 'Age', and 'Gender', and each column is a Series.\n",
    "\n",
    "Next, we create a Series called 'ages' using the pd.Series() function. It contains only the 'Age' column from the DataFrame.\n",
    "\n",
    "The main difference is that the DataFrame provides a tabular structure with multiple columns, whereas a Series \n",
    "represents a single column of data. DataFrame allows you to work with and manipulate structured data more conveniently, \n",
    "while Series is suitable for analyzing and manipulating one-dimensional data."
   ]
  },
  {
   "cell_type": "code",
   "execution_count": null,
   "id": "2d2e1961-c1a1-4223-a020-ec62e5e4367c",
   "metadata": {},
   "outputs": [],
   "source": [
    "Q5. What are some common functions you can use to manipulate data in a Pandas DataFrame? Can\n",
    "you give an example of when you might use one of these functions?"
   ]
  },
  {
   "cell_type": "code",
   "execution_count": null,
   "id": "cc8d2f54-0cef-454a-895c-ee6cb103e5a8",
   "metadata": {},
   "outputs": [],
   "source": [
    "Pandas provides a wide range of functions to manipulate data in a DataFrame. Here are some common functions:\n",
    "\n",
    "head() and tail(): \n",
    "    These functions allow you to view the first or last few rows of the DataFrame, respectively. They are useful for \n",
    "    quickly inspecting the data.\n",
    "\n",
    "info(): \n",
    "    This function provides a summary of the DataFrame, including the data types, column names, and the count of non-null values \n",
    "    in each column. It helps to understand the structure of the DataFrame.\n",
    "\n",
    "describe(): \n",
    "    This function generates descriptive statistics of the numerical columns in the DataFrame, such as count, mean, standard \n",
    "    deviation, minimum, maximum, and quartile values.\n",
    "\n",
    "shape: \n",
    "    This attribute returns a tuple representing the dimensions of the DataFrame (number of rows, number of columns). It is useful \n",
    "    to check the size of the DataFrame.\n",
    "\n",
    "loc[] and iloc[]: \n",
    "    These are used for indexing and slicing the DataFrame. loc[] is label-based indexing, allowing you to access rows or columns using \n",
    "    their labels, while iloc[] is integer-based indexing, allowing you to access rows or columns using their integer positions.\n",
    "\n",
    "drop(): \n",
    "    This function is used to drop specified rows or columns from the DataFrame. It helps in removing unnecessary data or handling \n",
    "    missing values.\n",
    "\n",
    "groupby(): \n",
    "    This function is used for grouping the DataFrame based on one or more columns. It enables you to perform aggregations, \n",
    "    transformations, or analysis on groups of data.\n",
    "\n",
    "sort_values(): \n",
    "    This function is used to sort the DataFrame based on one or more columns. It helps in arranging the data in a desired order."
   ]
  },
  {
   "cell_type": "code",
   "execution_count": 9,
   "id": "06d0e9f2-232f-4fbd-85cf-d7fb16a3b64f",
   "metadata": {},
   "outputs": [
    {
     "name": "stdout",
     "output_type": "stream",
     "text": [
      "First few rows:\n",
      "     Name  Age  Gender\n",
      "0   Alice   25  Female\n",
      "1     Bob   30    Male\n",
      "2  Claire   27  Female\n",
      "\n",
      "Summary statistics:\n",
      "             Age\n",
      "count   3.000000\n",
      "mean   27.333333\n",
      "std     2.516611\n",
      "min    25.000000\n",
      "25%    26.000000\n",
      "50%    27.000000\n",
      "75%    28.500000\n",
      "max    30.000000\n",
      "\n",
      "Shape of DataFrame:\n",
      "(3, 3)\n",
      "\n",
      "Drop 'Gender' column:\n",
      "     Name  Age\n",
      "0   Alice   25\n",
      "1     Bob   30\n",
      "2  Claire   27\n",
      "\n",
      "Group by 'Gender' and calculate average age:\n",
      "Gender\n",
      "Female    26.0\n",
      "Male      30.0\n",
      "Name: Age, dtype: float64\n",
      "\n",
      "Sort DataFrame by 'Age' in descending order:\n",
      "     Name  Age  Gender\n",
      "1     Bob   30    Male\n",
      "2  Claire   27  Female\n",
      "0   Alice   25  Female\n"
     ]
    }
   ],
   "source": [
    "import pandas as pd\n",
    "\n",
    "# Create a DataFrame\n",
    "data = {\n",
    "    'Name': ['Alice', 'Bob', 'Claire'],\n",
    "    'Age': [25, 30, 27],\n",
    "    'Gender': ['Female', 'Male', 'Female']\n",
    "}\n",
    "df = pd.DataFrame(data)\n",
    "\n",
    "# Example usage of functions\n",
    "print(\"First few rows:\")\n",
    "print(df.head())\n",
    "\n",
    "print(\"\\nSummary statistics:\")\n",
    "print(df.describe())\n",
    "\n",
    "print(\"\\nShape of DataFrame:\")\n",
    "print(df.shape)\n",
    "\n",
    "print(\"\\nDrop 'Gender' column:\")\n",
    "df_dropped = df.drop('Gender', axis=1)\n",
    "print(df_dropped)\n",
    "\n",
    "print(\"\\nGroup by 'Gender' and calculate average age:\")\n",
    "avg_age_by_gender = df.groupby('Gender')['Age'].mean()\n",
    "print(avg_age_by_gender)\n",
    "\n",
    "print(\"\\nSort DataFrame by 'Age' in descending order:\")\n",
    "df_sorted = df.sort_values('Age', ascending=False)\n",
    "print(df_sorted)\n"
   ]
  },
  {
   "cell_type": "code",
   "execution_count": null,
   "id": "e1f89a6e-abbe-40fc-9afc-026d5b4178ba",
   "metadata": {},
   "outputs": [],
   "source": [
    "In the example above, we create a DataFrame called df and demonstrate the usage of various functions. We use head() to \n",
    "display the first few rows, describe() to generate summary statistics, shape to get the dimensions of the DataFrame, \n",
    "drop() to remove the 'Gender' column, groupby() to group the data by 'Gender' and calculate the average age, and sort_values() \n",
    "to sort the DataFrame based on the 'Age' column."
   ]
  },
  {
   "cell_type": "code",
   "execution_count": null,
   "id": "cbde7362-adb5-4918-afcf-f288fc289293",
   "metadata": {},
   "outputs": [],
   "source": [
    "Q6. Which of the following is mutable in nature Series, DataFrame, Panel?"
   ]
  },
  {
   "cell_type": "code",
   "execution_count": null,
   "id": "6506495d-7ff7-4592-b51f-12e1ed92d46d",
   "metadata": {},
   "outputs": [],
   "source": [
    "Among the options given (Series, DataFrame, Panel), both Series and DataFrame are mutable in nature, while Panel is not.\n",
    "\n",
    "A mutable object is one that can be modified after its creation. In the context of Pandas, a mutable object allows you to modify\n",
    "its values, add or remove elements, or change its structure.\n",
    "\n",
    "In particular:\n",
    "\n",
    "Series: \n",
    "    A Pandas Series is mutable, meaning you can modify its values, change the index labels, or add/remove elements using various \n",
    "    methods provided by Pandas. For example, you can update values in a Series using assignment (series['key'] = new_value), add \n",
    "    elements using series.append(), or remove elements using series.drop().\n",
    "    \n",
    "DataFrame: \n",
    "    Similarly, a Pandas DataFrame is mutable. You can modify its values, change column labels or row index labels, add or remove \n",
    "    columns/rows using various DataFrame methods. For example, you can update values in a DataFrame by assigning new values to specific \n",
    "    cells (df.loc[row_index, column_name] = new_value), add columns using df['new_column'] = values, or remove columns using \n",
    "    df.drop(columns=['column_name']).\n",
    "    \n",
    "Panel:\n",
    "    Panel is not mutable. Panel was a three-dimensional data structure in earlier versions of Pandas, but it has been \n",
    "    deprecated since Pandas version 0.20.0. As of the current versions of Pandas (up to version 1.3.0), \n",
    "    Panel is not recommended for general use. Instead, multi-dimensional data can be efficiently represented and manipulated using \n",
    "    hierarchical indexing and multi-indexing in Series or DataFrame objects.\n",
    "\n",
    "To summarize, Series and DataFrame are mutable, allowing you to modify their values, while Panel is not recommended for use in \n",
    "current versions of Pandas."
   ]
  },
  {
   "cell_type": "code",
   "execution_count": null,
   "id": "95a9862b-3fe4-4b46-9b56-2c5e3fd77ef4",
   "metadata": {},
   "outputs": [],
   "source": [
    "Q7. Create a DataFrame using multiple Series. Explain with an example."
   ]
  },
  {
   "cell_type": "code",
   "execution_count": 10,
   "id": "db638207-14c2-4058-a92e-d6568bd999c6",
   "metadata": {},
   "outputs": [
    {
     "name": "stdout",
     "output_type": "stream",
     "text": [
      "     Name  Age  Gender\n",
      "0   Alice   25  Female\n",
      "1     Bob   30    Male\n",
      "2  Claire   27  Female\n"
     ]
    }
   ],
   "source": [
    "name_series = pd.Series(['Alice', 'Bob', 'Claire'])\n",
    "age_series = pd.Series([25, 30, 27])\n",
    "gender_series = pd.Series(['Female', 'Male', 'Female'])\n",
    "\n",
    "\n",
    "data = {\n",
    "    'Name': name_series,\n",
    "    'Age': age_series,\n",
    "    'Gender': gender_series\n",
    "}\n",
    "df = pd.DataFrame(data)\n",
    "\n",
    "\n",
    "print(df)\n"
   ]
  },
  {
   "cell_type": "code",
   "execution_count": null,
   "id": "c36a4826-6e07-42d7-b428-9779f1347906",
   "metadata": {},
   "outputs": [],
   "source": [
    "In the example above, we first create three individual Series: name_series, age_series, and gender_series. Each Series represents \n",
    "a column in the DataFrame.\n",
    "\n",
    "Next, we create a dictionary data, where the keys represent the column names ('Name', 'Age', 'Gender'), and the values \n",
    "are the corresponding Series.\n",
    "\n",
    "Finally, we pass the data dictionary to the pd.DataFrame() function, which creates the DataFrame df with three columns: \n",
    "'Name', 'Age', and 'Gender'. We then print the resulting DataFrame.\n",
    "\n",
    "By using multiple Series, we can combine different columns of data to create a structured DataFrame, allowing for easy analysis \n",
    "and manipulation.\n"
   ]
  }
 ],
 "metadata": {
  "kernelspec": {
   "display_name": "Python 3 (ipykernel)",
   "language": "python",
   "name": "python3"
  },
  "language_info": {
   "codemirror_mode": {
    "name": "ipython",
    "version": 3
   },
   "file_extension": ".py",
   "mimetype": "text/x-python",
   "name": "python",
   "nbconvert_exporter": "python",
   "pygments_lexer": "ipython3",
   "version": "3.10.8"
  }
 },
 "nbformat": 4,
 "nbformat_minor": 5
}
