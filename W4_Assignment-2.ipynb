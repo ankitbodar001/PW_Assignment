{
 "cells": [
  {
   "cell_type": "code",
   "execution_count": null,
   "id": "009bac3c-1aa5-4d36-96d1-8e283404c220",
   "metadata": {},
   "outputs": [],
   "source": [
    "Q1. Explain Class and Object with respect to Object-Oriented Programming. Give a suitable example."
   ]
  },
  {
   "cell_type": "code",
   "execution_count": null,
   "id": "57fe6b03-d0f3-4787-ae30-567972b2810c",
   "metadata": {},
   "outputs": [],
   "source": [
    "--> Class:\n",
    "    Class is a detailed description, the definition, and the template of what an object will be. \n",
    "    But it is not the object itself. Also, what we call, a class is the building block that leads \n",
    "    to Object-Oriented Programming.\n",
    "--> Object:\n",
    "    Object is an instance of a class. All data members and member functions of the class can be accessed \n",
    "    with the help of objects. When a class is defined, no memory is allocated, but memory is allocated \n",
    "    when it is instantiated (i.e. an object is created)."
   ]
  },
  {
   "cell_type": "code",
   "execution_count": 3,
   "id": "91e2bea7-760f-4f13-8881-c12d87f8e377",
   "metadata": {},
   "outputs": [
    {
     "name": "stdout",
     "output_type": "stream",
     "text": [
      "Name: Mountain Bike, Gears: 11 \n"
     ]
    }
   ],
   "source": [
    "# define a class\n",
    "class Bike:\n",
    "    name = \"\"\n",
    "    gear = 0\n",
    "\n",
    "# create object of class\n",
    "bike1 = Bike()\n",
    "\n",
    "# access attributes and assign new values\n",
    "bike1.gear = 11\n",
    "bike1.name = \"Mountain Bike\"\n",
    "\n",
    "print(f\"Name: {bike1.name}, Gears: {bike1.gear} \")"
   ]
  },
  {
   "cell_type": "code",
   "execution_count": 2,
   "id": "9f057088-49d2-4353-9c7b-6195d1b25363",
   "metadata": {},
   "outputs": [
    {
     "name": "stdout",
     "output_type": "stream",
     "text": [
      "Hello, my name is Ankit\n"
     ]
    }
   ],
   "source": []
  },
  {
   "cell_type": "code",
   "execution_count": null,
   "id": "4d2cbc5e-14f3-4318-84e6-c4f05f2a6738",
   "metadata": {},
   "outputs": [],
   "source": [
    "Q2. Name the four pillars of OOPs."
   ]
  },
  {
   "cell_type": "code",
   "execution_count": null,
   "id": "1149ee20-9ed4-4b6e-b925-7fa113caad4e",
   "metadata": {},
   "outputs": [],
   "source": [
    "1. Abstraction\n",
    "2. Encapsulation\n",
    "3. Inheritance\n",
    "4. Polymorphism"
   ]
  },
  {
   "cell_type": "code",
   "execution_count": null,
   "id": "c576796e-059e-4d66-85a9-a62e83075eee",
   "metadata": {},
   "outputs": [],
   "source": [
    "Q3. Explain why the __init__() function is used. Give a suitable example."
   ]
  },
  {
   "cell_type": "code",
   "execution_count": null,
   "id": "e06d611f-6842-467c-8ec4-55c11612776a",
   "metadata": {},
   "outputs": [],
   "source": [
    "-->The __init__ method is the Python equivalent of the C++ constructor in an object-oriented approach. \n",
    "The __init__  function is called every time an object is created from a class. The __init__ method lets \n",
    "the class initialize the object’s attributes and serves no other purpose. It is only used within classes. "
   ]
  },
  {
   "cell_type": "code",
   "execution_count": 5,
   "id": "940cb439-69a5-4925-9750-ed06b0471ca2",
   "metadata": {},
   "outputs": [
    {
     "name": "stdout",
     "output_type": "stream",
     "text": [
      "Hello, my name is Ankit\n"
     ]
    }
   ],
   "source": [
    "'''In this example, we are creating a Person class and we have created a name instance variable \n",
    "   in the constructor. We have created a method named as say_hi() which returns the string \n",
    "   “Hello, my name is {name}”.We have created a person class object and we pass the name Ankit \n",
    "   to the instance variable. Finally, we are calling the say_hi() of the class.'''\n",
    "class Person:\n",
    " \n",
    "    # init method or constructor\n",
    "    #it will help us initializing obect \n",
    "    def __init__(self, name):\n",
    "        self.name = name\n",
    " \n",
    "    # Method that will print person's name\n",
    "    def say_hi(self):\n",
    "        print('Hello, my name is', self.name)\n",
    "\n",
    "#Object creation for above class\n",
    "person=Person(\"Ankit\")\n",
    "person.say_hi()"
   ]
  },
  {
   "cell_type": "code",
   "execution_count": null,
   "id": "8c4ebbae-b893-454a-b65e-cb2c10c54e93",
   "metadata": {},
   "outputs": [],
   "source": [
    "'''In the above example, a person name Nikhil is created. While creating a person, \n",
    "   “Ankit” is passed as an argument, this argument will be passed to the __init__ method \n",
    "   to initialize the object.'''"
   ]
  },
  {
   "cell_type": "code",
   "execution_count": null,
   "id": "891d8914-3fc0-469a-a9f0-2e7d1e4ae829",
   "metadata": {},
   "outputs": [],
   "source": [
    "Q4. Why self is used in OOPs?"
   ]
  },
  {
   "cell_type": "code",
   "execution_count": null,
   "id": "88338c7e-2e78-430e-be6b-45cf698837ca",
   "metadata": {},
   "outputs": [],
   "source": [
    "-->self represents the instance of the class. By using the “self”  we can access the \n",
    "   attributes and methods of the class in python. It binds the attributes with the given arguments. \n",
    "-->The reason you need to use self. is because Python does not use the @ syntax to refer to instance \n",
    "   attributes. Python decided to do methods in a way that makes the instance to which the method belongs \n",
    "   be passed automatically, but not received automatically: the first parameter of methods is the \n",
    "   instance the method is called on."
   ]
  },
  {
   "cell_type": "code",
   "execution_count": null,
   "id": "6c066f4a-a0a1-4ddb-b196-8718e13970c4",
   "metadata": {},
   "outputs": [],
   "source": [
    "Q5. What is inheritance? Give an example for each type of inheritance."
   ]
  },
  {
   "cell_type": "code",
   "execution_count": null,
   "id": "c404bd35-152c-40cb-8af2-70f95a32a6bb",
   "metadata": {},
   "outputs": [],
   "source": [
    "-->Inheritance is a mechanism in which one class acquires the property of another class. \n",
    "-->For example, a child inherits the traits of his/her parents. With inheritance, we can reuse the \n",
    "   fields and methods of the existing class. Hence, inheritance facilitates Reusability and is an \n",
    "   important concept of OOPs."
   ]
  },
  {
   "cell_type": "code",
   "execution_count": 8,
   "id": "ff570319-514e-4d93-aa61-ec4e23a4c77c",
   "metadata": {},
   "outputs": [
    {
     "name": "stdout",
     "output_type": "stream",
     "text": [
      "This function is in parent class.\n",
      "This function is in child class.\n"
     ]
    }
   ],
   "source": [
    "#1. Single Inheritance: \n",
    "#-->Single inheritance enables a derived class to inherit properties from a single parent class, \n",
    "#   thus enabling code reusability and the addition of new features to existing code.\n",
    "#example\n",
    "class Parent:\n",
    "    def exap1(self):\n",
    "        print(\"This function is in parent class.\")\n",
    "\n",
    "class Child(Parent):\n",
    "    def exap2(self):\n",
    "        print(\"This function is in child class.\")\n",
    "\n",
    "object = Child()\n",
    "object.exap1()\n",
    "object.exap2()"
   ]
  },
  {
   "cell_type": "code",
   "execution_count": 10,
   "id": "cfa6756f-62eb-4637-ab0a-ff610c5ed4d0",
   "metadata": {},
   "outputs": [
    {
     "name": "stdout",
     "output_type": "stream",
     "text": [
      "Hey there, you are in the child class\n",
      "first number is :  10\n",
      "second number is :  5\n"
     ]
    }
   ],
   "source": [
    "#2. Multiple Inheritance: \n",
    "#-->When a class can be derived from more than one base class this type of inheritance is called \n",
    "#   multiple inheritances. In multiple inheritances, all the features of the base classes are inherited \n",
    "#   into the derived class. \n",
    "#example\n",
    "#parent class 1\n",
    "class A:\n",
    "    demo1=0\n",
    "    def fun1(self):\n",
    "        print(self.demo1)\n",
    "\n",
    "#parent class 2\n",
    "class B:\n",
    "    demo2=0\n",
    "    def fun2(self):\n",
    "        print(self.demo2)\n",
    "\n",
    "#child class\n",
    "class C(A, B):\n",
    "    def fun3(self):\n",
    "        print(\"Hey there, you are in the child class\")\n",
    "\n",
    "# Main code\n",
    "c = C()\n",
    "c.demo1 = 10\n",
    "c.demo2 = 5\n",
    "c.fun3()\n",
    "print(\"first number is : \",c.demo1)\n",
    "print(\"second number is : \",c.demo2)"
   ]
  },
  {
   "cell_type": "code",
   "execution_count": 13,
   "id": "82f9445f-c540-4153-bdb1-6292d51f339f",
   "metadata": {},
   "outputs": [
    {
     "name": "stdout",
     "output_type": "stream",
     "text": [
      "electric car runs on electricity\n",
      "a car has 4 wheels\n",
      "vehicles are used for transportation\n"
     ]
    }
   ],
   "source": [
    "#3. Multilevel Inheritance :\n",
    "#-->In multilevel inheritance, features of the base class and the derived class are further \n",
    "#   inherited into the new derived class. This is similar to a relationship representing a child and a grandfather. \n",
    "#parent class 1\n",
    "class vehicle:\n",
    "    def functioning(self):\n",
    "        print(\"vehicles are used for transportation\")\n",
    "\n",
    "#child class 1\n",
    "class car(vehicle):\n",
    "    def wheels(self):\n",
    "        print(\"a car has 4 wheels\")\n",
    "        \n",
    "#child class 2\n",
    "class electric_car(car):\n",
    "    def speciality(self):\n",
    "        print(\"electric car runs on electricity\")\n",
    "\n",
    "electric=electric_car()\n",
    "electric.speciality()\n",
    "electric.wheels()\n",
    "electric.functioning()"
   ]
  },
  {
   "cell_type": "code",
   "execution_count": 15,
   "id": "5b976c03-da2b-4659-a73c-2507e1f793bf",
   "metadata": {},
   "outputs": [
    {
     "name": "stdout",
     "output_type": "stream",
     "text": [
      "Hey there, you are in the parent class\n",
      "Hey there, you are in the child class 3\n",
      "Hey there, you are in the parent class\n",
      "Hey there, you are in the child class 2\n",
      "Hey there, you are in the parent class\n",
      "Hey there, you are in the child class 1\n"
     ]
    }
   ],
   "source": [
    "#4. Hierarchical Inheritance: \n",
    "#-->When more than one derived class are created from a single base this type of inheritance is \n",
    "#   called hierarchical inheritance. In this program, we have a parent (base) class and three child (derived) classes.\n",
    "#parent class\n",
    "class Parent:\n",
    "    def fun1(self):\n",
    "        print(\"Hey there, you are in the parent class\")\n",
    "\n",
    "#child class 1\n",
    "class child1(Parent):\n",
    "    def fun2(self):\n",
    "        print(\"Hey there, you are in the child class 1\")\n",
    "\n",
    "#child class 2 \n",
    "class child2(Parent):\n",
    "    def fun3(self):\n",
    "        print(\"Hey there, you are in the child class 2\")\n",
    "        \n",
    "#child class 3\n",
    "class child3(Parent):\n",
    "    def fun4(self):\n",
    "        print(\"Hey there, you are in the child class 3\")\n",
    "\n",
    "# main program\n",
    "child_obj1 = child3()\n",
    "child_obj2 = child2()\n",
    "child_obj3 = child1()\n",
    "child_obj1.fun1()\n",
    "child_obj1.fun4()\n",
    "child_obj2.fun1()\n",
    "child_obj2.fun3()\n",
    "child_obj3.fun1()\n",
    "child_obj3.fun2()"
   ]
  },
  {
   "cell_type": "code",
   "execution_count": 17,
   "id": "f02dd6a8-906b-493f-96e2-592ff24ebe20",
   "metadata": {},
   "outputs": [
    {
     "name": "stdout",
     "output_type": "stream",
     "text": [
      "Hey there, you are in the class D\n",
      "Hey there, you are in class C\n",
      "Hey there, you are in class A\n"
     ]
    }
   ],
   "source": [
    "#4. Hybrid Inheritance\n",
    "#-->An inheritance is said hybrid inheritance if more than one type of inheritance is implemented \n",
    "#   in the same code. This feature enables the user to utilize the feature of inheritance at its best. \n",
    "#   This satisfies the requirement of implementing a code that needs multiple inheritances in implementation.\n",
    "class A:\n",
    "    def fun1(self):\n",
    "        print(\"Hey there, you are in class A\")\n",
    "class B(A):\n",
    "    def fun2(self):\n",
    "        print(\"Hey there, you are in class B\")\n",
    "class C(A):\n",
    "    def fun3(self):\n",
    "        print(\"Hey there, you are in class C\")\n",
    "class D(C,A): \n",
    "    def fun4(self):\n",
    "        print(\"Hey there, you are in the class D\")\n",
    "\n",
    "#main program\n",
    "ref = D()\n",
    "ref.fun4()\n",
    "ref.fun3()\n",
    "ref.fun1()"
   ]
  },
  {
   "cell_type": "code",
   "execution_count": null,
   "id": "692c4882-ac03-4fce-841e-4865d2a5e2b1",
   "metadata": {},
   "outputs": [],
   "source": []
  }
 ],
 "metadata": {
  "kernelspec": {
   "display_name": "Python 3 (ipykernel)",
   "language": "python",
   "name": "python3"
  },
  "language_info": {
   "codemirror_mode": {
    "name": "ipython",
    "version": 3
   },
   "file_extension": ".py",
   "mimetype": "text/x-python",
   "name": "python",
   "nbconvert_exporter": "python",
   "pygments_lexer": "ipython3",
   "version": "3.10.8"
  }
 },
 "nbformat": 4,
 "nbformat_minor": 5
}
