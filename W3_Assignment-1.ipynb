{
 "cells": [
  {
   "cell_type": "code",
   "execution_count": null,
   "id": "52ef0996-a134-412a-bc21-c89a3a532c4d",
   "metadata": {},
   "outputs": [],
   "source": [
    "Q1. Which keyword is used to create a function? Create a function to return a list of \n",
    "odd numbers in the range of 1 to 25."
   ]
  },
  {
   "cell_type": "code",
   "execution_count": 2,
   "id": "b12b2fad-5e03-478f-aa96-61cb3c01f5ce",
   "metadata": {},
   "outputs": [],
   "source": [
    "# def keyword is used to create a function\n",
    "def odd_list(l):\n",
    "    res=[]\n",
    "    for i in l:\n",
    "        if i%2!=0:\n",
    "            res.append(i)\n",
    "    return res"
   ]
  },
  {
   "cell_type": "code",
   "execution_count": 4,
   "id": "a71d0877-4499-4db2-8b86-0d4a671baaee",
   "metadata": {},
   "outputs": [
    {
     "data": {
      "text/plain": [
       "[1, 3, 5, 7, 9, 11, 13, 15, 17, 19, 21, 23]"
      ]
     },
     "execution_count": 4,
     "metadata": {},
     "output_type": "execute_result"
    }
   ],
   "source": [
    "lst=range(1,25)\n",
    "odd_list(lst)"
   ]
  },
  {
   "cell_type": "code",
   "execution_count": null,
   "id": "2f1b54b2-a459-4cd8-93e1-01f5e3247d2b",
   "metadata": {},
   "outputs": [],
   "source": [
    "Q2. Why *args and **kwargs is used in some functions? Create a function each for *args and **kwargs\n",
    "to demonstrate their use."
   ]
  },
  {
   "cell_type": "code",
   "execution_count": 5,
   "id": "7167b8a9-1e13-4ad2-87b4-d50aa04ea959",
   "metadata": {},
   "outputs": [],
   "source": [
    "# *args used in function to take known number of arguments as an input and we return args it will \n",
    "# convert those arguments in tuples\n",
    "def arg(*args):\n",
    "    return args"
   ]
  },
  {
   "cell_type": "code",
   "execution_count": 6,
   "id": "259b5fff-57e8-4b0e-b556-6480eba162cc",
   "metadata": {},
   "outputs": [
    {
     "data": {
      "text/plain": [
       "(1, 3, 'skills', 33.98, [1, 5, 6, 'lab'])"
      ]
     },
     "execution_count": 6,
     "metadata": {},
     "output_type": "execute_result"
    }
   ],
   "source": [
    "arg(1,3,'skills',33.98,[1,5,6,'lab'])"
   ]
  },
  {
   "cell_type": "code",
   "execution_count": 11,
   "id": "53ee2e11-c13f-445c-9377-7d3fdfd9f07b",
   "metadata": {},
   "outputs": [
    {
     "data": {
      "text/plain": [
       "tuple"
      ]
     },
     "execution_count": 11,
     "metadata": {},
     "output_type": "execute_result"
    }
   ],
   "source": [
    "type(arg())"
   ]
  },
  {
   "cell_type": "code",
   "execution_count": 9,
   "id": "11789588-b3c8-4566-b282-5eedd51d773d",
   "metadata": {},
   "outputs": [],
   "source": [
    "# **kwargs will take know number of arguments in form of keys and values and return them as dict\n",
    "def kw(**kwargs):\n",
    "    return kwargs"
   ]
  },
  {
   "cell_type": "code",
   "execution_count": 13,
   "id": "a7f45001-4367-4d70-9841-ec8f241bcb53",
   "metadata": {},
   "outputs": [
    {
     "data": {
      "text/plain": [
       "{'a': 'PW', 'b': 'Skills', 'c': 'labs'}"
      ]
     },
     "execution_count": 13,
     "metadata": {},
     "output_type": "execute_result"
    }
   ],
   "source": [
    "kw(a='PW',b='Skills',c='labs')"
   ]
  },
  {
   "cell_type": "code",
   "execution_count": 14,
   "id": "b658d1ad-dd65-49dc-b1ea-77a32daee223",
   "metadata": {},
   "outputs": [
    {
     "data": {
      "text/plain": [
       "dict"
      ]
     },
     "execution_count": 14,
     "metadata": {},
     "output_type": "execute_result"
    }
   ],
   "source": [
    "type(kw())"
   ]
  },
  {
   "cell_type": "code",
   "execution_count": null,
   "id": "aba749b8-3e39-4f90-8e48-e5c3a5eca3df",
   "metadata": {},
   "outputs": [],
   "source": [
    "Q3. What is an iterator in python? Name the method used to initialise the iterator object and the method\n",
    "used for iteration. Use these methods to print the first five elements of the given list [2, 4, 6, 8, 10, 12, 14,\n",
    "16, 18, 20]."
   ]
  },
  {
   "cell_type": "code",
   "execution_count": null,
   "id": "ace66d6d-45c2-4f46-b7e7-a20113416a8c",
   "metadata": {},
   "outputs": [],
   "source": [
    "-->An iterator in Python is an object that is used to iterate over iterable objects like \n",
    "lists, tuples, dicts, and sets"
   ]
  },
  {
   "cell_type": "code",
   "execution_count": null,
   "id": "bc57af56-fab9-480b-a7e2-37ec6f6d13e6",
   "metadata": {},
   "outputs": [],
   "source": [
    "-->The Python iterators object is initialized using the iter() method. It uses the next() method for iteration"
   ]
  },
  {
   "cell_type": "code",
   "execution_count": 15,
   "id": "ca877a5c-b727-4408-8535-793c15e4c737",
   "metadata": {},
   "outputs": [
    {
     "name": "stdout",
     "output_type": "stream",
     "text": [
      "2\n",
      "4\n",
      "6\n",
      "8\n",
      "10\n"
     ]
    }
   ],
   "source": [
    "mylist = [2, 4, 6, 8, 10, 12, 14,16, 18, 20]\n",
    "ite = iter(mylist)\n",
    "print(next(ite))\n",
    "print(next(ite))\n",
    "print(next(ite))\n",
    "print(next(ite))\n",
    "print(next(ite))"
   ]
  },
  {
   "cell_type": "code",
   "execution_count": null,
   "id": "3f509d92-add1-4e48-917a-c5305e56a6f8",
   "metadata": {},
   "outputs": [],
   "source": [
    "Q4. What is a generator function in python? Why yield keyword is used? Give an example of a generator\n",
    "function."
   ]
  },
  {
   "cell_type": "code",
   "execution_count": null,
   "id": "817a5be0-3a99-4d8b-b532-dafaf606c217",
   "metadata": {},
   "outputs": [],
   "source": [
    "-->In Python, generator functions are those functions that, instead of returning a single value, \n",
    "return an iterable generator object. You can access or read the values returned from the generator \n",
    "function stored inside a generator object one-by-one using a simple loop or using next() or list() methods.\n",
    "-->The yield keyword in Python is similar to a return statement used for returning values in Python which \n",
    "returns a generator object to the one who calls the function which contains yield, instead of simply \n",
    "returning a value."
   ]
  },
  {
   "cell_type": "code",
   "execution_count": 2,
   "id": "e165ccdc-88e4-4b5b-a979-abcdfdaf1220",
   "metadata": {},
   "outputs": [
    {
     "name": "stdout",
     "output_type": "stream",
     "text": [
      "1\n",
      "3\n",
      "5\n",
      "7\n",
      "9\n",
      "11\n",
      "13\n",
      "15\n",
      "17\n",
      "19\n"
     ]
    }
   ],
   "source": [
    "#example of generator function-->to get odd number from 1 to 20\n",
    "def filter_odd(numbers):\n",
    "   for number in range(numbers):\n",
    "       if(number%2!=0):\n",
    "           yield number\n",
    "odd_numbers = filter_odd(20)\n",
    "for num in odd_numbers:\n",
    "   print(num)"
   ]
  },
  {
   "cell_type": "code",
   "execution_count": null,
   "id": "67193b8f-a28e-44dd-a3e7-87cbfcc1e68f",
   "metadata": {},
   "outputs": [],
   "source": [
    "Q5. Create a generator function for prime numbers less than 1000. Use the next() method to print the\n",
    "first 20 prime numbers."
   ]
  },
  {
   "cell_type": "code",
   "execution_count": 6,
   "id": "57960a64-0afd-420f-8ce6-1c5a2471f606",
   "metadata": {},
   "outputs": [],
   "source": [
    "import math\n",
    "def pri(n):\n",
    "    if(n<=1):\n",
    "        return False\n",
    "    if(n==2):\n",
    "        return True\n",
    "    if(n%2==0):\n",
    "        return False\n",
    "    m=3\n",
    "    while m<=math.sqrt(n):\n",
    "        if n%m==0:\n",
    "            return False\n",
    "        m=m+2\n",
    "    return True\n",
    "def prime_num():\n",
    "    i=1\n",
    "    while i<1000:\n",
    "        i+=1\n",
    "        if pri(i):\n",
    "            yield i\n",
    "        "
   ]
  },
  {
   "cell_type": "code",
   "execution_count": 7,
   "id": "8419be65-7119-4167-87e2-8a1308ea27ad",
   "metadata": {},
   "outputs": [
    {
     "name": "stdout",
     "output_type": "stream",
     "text": [
      "2\n",
      "3\n",
      "5\n",
      "7\n",
      "11\n",
      "13\n",
      "17\n",
      "19\n",
      "23\n",
      "29\n",
      "31\n",
      "37\n",
      "41\n",
      "43\n",
      "47\n",
      "53\n",
      "59\n",
      "61\n",
      "67\n",
      "71\n"
     ]
    }
   ],
   "source": [
    "generator=prime_num()\n",
    "for i in range(20):\n",
    "    print(next(generator))"
   ]
  },
  {
   "cell_type": "code",
   "execution_count": null,
   "id": "dae44d06-4304-43be-a03d-6320c302411e",
   "metadata": {},
   "outputs": [],
   "source": [
    "Q6. Write a python program to print the first 10 Fibonacci numbers using a while loop."
   ]
  },
  {
   "cell_type": "code",
   "execution_count": 8,
   "id": "706b0075-d3e3-4a5f-bd3b-358ab08f374b",
   "metadata": {},
   "outputs": [],
   "source": [
    "def fib():\n",
    "    n=0\n",
    "    m=1\n",
    "    while True:\n",
    "        yield n\n",
    "        n,m=m,m+n"
   ]
  },
  {
   "cell_type": "code",
   "execution_count": 10,
   "id": "3c551b52-cccd-4d1b-8234-2bfac4e1c7a6",
   "metadata": {},
   "outputs": [
    {
     "name": "stdout",
     "output_type": "stream",
     "text": [
      "0\n",
      "1\n",
      "1\n",
      "2\n",
      "3\n",
      "5\n",
      "8\n",
      "13\n",
      "21\n",
      "34\n"
     ]
    }
   ],
   "source": [
    "num=fib()\n",
    "for i in range(10):\n",
    "    print(next(num))"
   ]
  },
  {
   "cell_type": "code",
   "execution_count": null,
   "id": "0f11319e-1cae-482b-9a7a-6dadabe77e7f",
   "metadata": {},
   "outputs": [],
   "source": [
    "Q7. Write a List Comprehension to iterate through the given string: ‘pwskills’.\n",
    "Expected output: ['p', 'w', 's', 'k', 'i', 'l', 'l', 's']"
   ]
  },
  {
   "cell_type": "code",
   "execution_count": 15,
   "id": "c9c00ea0-fa1e-4979-ab50-7349ff4d4f34",
   "metadata": {},
   "outputs": [
    {
     "data": {
      "text/plain": [
       "['p', 'w', 's', 'k', 'i', 'l', 'l', 's']"
      ]
     },
     "execution_count": 15,
     "metadata": {},
     "output_type": "execute_result"
    }
   ],
   "source": [
    "str='pwskills'\n",
    "list(map(lambda s:s,str))"
   ]
  },
  {
   "cell_type": "code",
   "execution_count": null,
   "id": "6ffb82d7-700e-4d00-ba2c-b66fd9b84e23",
   "metadata": {},
   "outputs": [],
   "source": [
    "Q8. Write a python program to check whether a given number is Palindrome or not using a while loop."
   ]
  },
  {
   "cell_type": "code",
   "execution_count": 21,
   "id": "55c222ca-e661-4495-946c-b4bf38a5ce21",
   "metadata": {},
   "outputs": [
    {
     "name": "stdin",
     "output_type": "stream",
     "text": [
      "Enter Number:  1221\n"
     ]
    },
    {
     "name": "stdout",
     "output_type": "stream",
     "text": [
      "Provided number(1221) is Palindrome\n"
     ]
    }
   ],
   "source": [
    "num=int(input(\"Enter Number: \"))\n",
    "temp=num\n",
    "rev=0\n",
    "while(temp>0):\n",
    "    dig=temp%10\n",
    "    rev=rev*10+dig\n",
    "    temp=temp//10\n",
    "if(num==rev):\n",
    "    print(f\"Provided number({num}) is Palindrome\")\n",
    "else:\n",
    "    print(f\"Provided number({num}) is not Palindrome\")"
   ]
  },
  {
   "cell_type": "code",
   "execution_count": null,
   "id": "988b69ba-5955-4215-896b-bf78838d84aa",
   "metadata": {},
   "outputs": [],
   "source": [
    "Q9. Write a code to print odd numbers from 1 to 100 using list comprehension."
   ]
  },
  {
   "cell_type": "code",
   "execution_count": 24,
   "id": "e4822c5e-06d5-4471-be63-d17f68dc1b21",
   "metadata": {},
   "outputs": [],
   "source": [
    "lst=list(range(1,100))"
   ]
  },
  {
   "cell_type": "code",
   "execution_count": 29,
   "id": "9972b892-b5be-4e1a-9600-225e1ffb8aff",
   "metadata": {},
   "outputs": [
    {
     "data": {
      "text/plain": [
       "[1,\n",
       " 3,\n",
       " 5,\n",
       " 7,\n",
       " 9,\n",
       " 11,\n",
       " 13,\n",
       " 15,\n",
       " 17,\n",
       " 19,\n",
       " 21,\n",
       " 23,\n",
       " 25,\n",
       " 27,\n",
       " 29,\n",
       " 31,\n",
       " 33,\n",
       " 35,\n",
       " 37,\n",
       " 39,\n",
       " 41,\n",
       " 43,\n",
       " 45,\n",
       " 47,\n",
       " 49,\n",
       " 51,\n",
       " 53,\n",
       " 55,\n",
       " 57,\n",
       " 59,\n",
       " 61,\n",
       " 63,\n",
       " 65,\n",
       " 67,\n",
       " 69,\n",
       " 71,\n",
       " 73,\n",
       " 75,\n",
       " 77,\n",
       " 79,\n",
       " 81,\n",
       " 83,\n",
       " 85,\n",
       " 87,\n",
       " 89,\n",
       " 91,\n",
       " 93,\n",
       " 95,\n",
       " 97,\n",
       " 99]"
      ]
     },
     "execution_count": 29,
     "metadata": {},
     "output_type": "execute_result"
    }
   ],
   "source": [
    "odd_list=list(filter(lambda s:s%2!=0,lst))\n",
    "odd_list"
   ]
  },
  {
   "cell_type": "code",
   "execution_count": null,
   "id": "f39de5a2-fd4f-4dae-83e5-c5551d5aaac0",
   "metadata": {},
   "outputs": [],
   "source": []
  }
 ],
 "metadata": {
  "kernelspec": {
   "display_name": "Python 3 (ipykernel)",
   "language": "python",
   "name": "python3"
  },
  "language_info": {
   "codemirror_mode": {
    "name": "ipython",
    "version": 3
   },
   "file_extension": ".py",
   "mimetype": "text/x-python",
   "name": "python",
   "nbconvert_exporter": "python",
   "pygments_lexer": "ipython3",
   "version": "3.10.8"
  }
 },
 "nbformat": 4,
 "nbformat_minor": 5
}
