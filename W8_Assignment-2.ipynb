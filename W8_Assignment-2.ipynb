{
 "cells": [
  {
   "cell_type": "code",
   "execution_count": null,
   "id": "9f8adbf6-774b-45cf-952f-025d10cf4267",
   "metadata": {},
   "outputs": [],
   "source": [
    "Q1. List any five functions of the pandas library with execution."
   ]
  },
  {
   "cell_type": "code",
   "execution_count": null,
   "id": "3f107c4e-daa6-4cc9-99e5-36dd3621a94d",
   "metadata": {},
   "outputs": [],
   "source": [
    "read_csv(): \n",
    "    This function is used to read data from a CSV file and create a pandas DataFrame.\n",
    "    \n",
    "head(): \n",
    "    This function displays the first few rows of a DataFrame. By default, it shows the first 5 rows.\n",
    "    \n",
    "info(): \n",
    "    This function provides a summary of the DataFrame, including the column names, data types, and number of non-null values.\n",
    "    \n",
    "groupby(): \n",
    "    This function is used to group data in a DataFrame based on one or more columns, allowing for further analysis or aggregation.\n",
    "\n",
    "to_csv(): This function is used to write the contents of a DataFrame to a CSV file.\n"
   ]
  },
  {
   "cell_type": "code",
   "execution_count": 2,
   "id": "24fe698b-403b-4c5c-ada2-ccc917c686cb",
   "metadata": {},
   "outputs": [
    {
     "name": "stdout",
     "output_type": "stream",
     "text": [
      "     PassengerId  Survived  Pclass  \\\n",
      "0              1         0       3   \n",
      "1              2         1       1   \n",
      "2              3         1       3   \n",
      "3              4         1       1   \n",
      "4              5         0       3   \n",
      "..           ...       ...     ...   \n",
      "886          887         0       2   \n",
      "887          888         1       1   \n",
      "888          889         0       3   \n",
      "889          890         1       1   \n",
      "890          891         0       3   \n",
      "\n",
      "                                                  Name     Sex   Age  SibSp  \\\n",
      "0                              Braund, Mr. Owen Harris    male  22.0      1   \n",
      "1    Cumings, Mrs. John Bradley (Florence Briggs Th...  female  38.0      1   \n",
      "2                               Heikkinen, Miss. Laina  female  26.0      0   \n",
      "3         Futrelle, Mrs. Jacques Heath (Lily May Peel)  female  35.0      1   \n",
      "4                             Allen, Mr. William Henry    male  35.0      0   \n",
      "..                                                 ...     ...   ...    ...   \n",
      "886                              Montvila, Rev. Juozas    male  27.0      0   \n",
      "887                       Graham, Miss. Margaret Edith  female  19.0      0   \n",
      "888           Johnston, Miss. Catherine Helen \"Carrie\"  female   NaN      1   \n",
      "889                              Behr, Mr. Karl Howell    male  26.0      0   \n",
      "890                                Dooley, Mr. Patrick    male  32.0      0   \n",
      "\n",
      "     Parch            Ticket     Fare Cabin Embarked  \n",
      "0        0         A/5 21171   7.2500   NaN        S  \n",
      "1        0          PC 17599  71.2833   C85        C  \n",
      "2        0  STON/O2. 3101282   7.9250   NaN        S  \n",
      "3        0            113803  53.1000  C123        S  \n",
      "4        0            373450   8.0500   NaN        S  \n",
      "..     ...               ...      ...   ...      ...  \n",
      "886      0            211536  13.0000   NaN        S  \n",
      "887      0            112053  30.0000   B42        S  \n",
      "888      2        W./C. 6607  23.4500   NaN        S  \n",
      "889      0            111369  30.0000  C148        C  \n",
      "890      0            370376   7.7500   NaN        Q  \n",
      "\n",
      "[891 rows x 12 columns]\n"
     ]
    }
   ],
   "source": [
    "import pandas as pd\n",
    "\n",
    "# Read CSV file\n",
    "data = pd.read_csv('titanic.csv')\n",
    "print(data)\n",
    "\n"
   ]
  },
  {
   "cell_type": "code",
   "execution_count": 3,
   "id": "fb821213-0865-45e7-88ad-2fed9d47d8ce",
   "metadata": {},
   "outputs": [
    {
     "name": "stdout",
     "output_type": "stream",
     "text": [
      "   A  B\n",
      "0  1  a\n",
      "1  2  b\n",
      "2  3  c\n"
     ]
    }
   ],
   "source": [
    "# Create a DataFrame\n",
    "data = pd.DataFrame({'A': [1, 2, 3, 4, 5],\n",
    "                     'B': ['a', 'b', 'c', 'd', 'e']})\n",
    "\n",
    "# Display the first 3 rows\n",
    "print(data.head(3))\n",
    "\n"
   ]
  },
  {
   "cell_type": "code",
   "execution_count": 4,
   "id": "e75677ad-d5d3-48d0-a4fb-e5f2845f3d02",
   "metadata": {},
   "outputs": [
    {
     "name": "stdout",
     "output_type": "stream",
     "text": [
      "<class 'pandas.core.frame.DataFrame'>\n",
      "RangeIndex: 5 entries, 0 to 4\n",
      "Data columns (total 2 columns):\n",
      " #   Column  Non-Null Count  Dtype \n",
      "---  ------  --------------  ----- \n",
      " 0   A       5 non-null      int64 \n",
      " 1   B       5 non-null      object\n",
      "dtypes: int64(1), object(1)\n",
      "memory usage: 208.0+ bytes\n"
     ]
    }
   ],
   "source": [
    "# Create a DataFrame\n",
    "data = pd.DataFrame({'A': [1, 2, 3, 4, 5],\n",
    "                     'B': ['a', 'b', 'c', 'd', 'e']})\n",
    "\n",
    "# Get DataFrame information\n",
    "data.info()\n",
    "\n"
   ]
  },
  {
   "cell_type": "code",
   "execution_count": 5,
   "id": "792f0823-8386-4a1a-a98f-e785a103320a",
   "metadata": {},
   "outputs": [
    {
     "name": "stdout",
     "output_type": "stream",
     "text": [
      "A\n",
      "apple     9\n",
      "banana    6\n",
      "Name: C, dtype: int64\n"
     ]
    }
   ],
   "source": [
    "# Create a DataFrame\n",
    "data = pd.DataFrame({'A': ['apple', 'banana', 'apple', 'banana', 'apple'],\n",
    "                     'B': ['red', 'yellow', 'green', 'yellow', 'green'],\n",
    "                     'C': [1, 2, 3, 4, 5]})\n",
    "\n",
    "# Group data by column 'A' and calculate the sum of column 'C'\n",
    "grouped_data = data.groupby('A')['C'].sum()\n",
    "print(grouped_data)\n",
    "\n"
   ]
  },
  {
   "cell_type": "code",
   "execution_count": 6,
   "id": "ffe63bcb-5c25-42dd-97ab-8c18517062f8",
   "metadata": {},
   "outputs": [],
   "source": [
    "\n",
    "# Create a DataFrame\n",
    "data = pd.DataFrame({'A': [1, 2, 3, 4, 5],\n",
    "                     'B': ['a', 'b', 'c', 'd', 'e']})\n",
    "\n",
    "# Write DataFrame to a CSV file\n",
    "data.to_csv('output.csv', index=False)"
   ]
  },
  {
   "cell_type": "code",
   "execution_count": null,
   "id": "a9ac4f52-4548-4021-9bb1-7c3b9a8cb0ea",
   "metadata": {},
   "outputs": [],
   "source": [
    "Q2. Given a Pandas DataFrame df with columns 'A', 'B', and 'C', write a Python function to re-index the\n",
    "DataFrame with a new index that starts from 1 and increments by 2 for each row."
   ]
  },
  {
   "cell_type": "code",
   "execution_count": 7,
   "id": "0227e118-94ca-4581-a14f-97debc4550a1",
   "metadata": {},
   "outputs": [
    {
     "name": "stdout",
     "output_type": "stream",
     "text": [
      "Original DataFrame:\n",
      "        A       B  C\n",
      "0   apple     red  1\n",
      "1  banana  yellow  2\n",
      "2   apple   green  3\n",
      "3  banana  yellow  4\n",
      "4   apple   green  5\n",
      "\n",
      "Reindexed DataFrame:\n",
      "        A       B  C\n",
      "1   apple     red  1\n",
      "3  banana  yellow  2\n",
      "5   apple   green  3\n",
      "7  banana  yellow  4\n",
      "9   apple   green  5\n"
     ]
    }
   ],
   "source": [
    "def reindex_with_increment(df):\n",
    "    # Reset the index with a new index starting from 1 and incrementing by 2\n",
    "    new_index = pd.RangeIndex(start=1, stop=len(df) * 2, step=2)\n",
    "    df = df.reset_index(drop=True)\n",
    "    df.index = new_index\n",
    "    return df\n",
    "\n",
    "# Example usage\n",
    "df= pd.DataFrame({'A': ['apple', 'banana', 'apple', 'banana', 'apple'],\n",
    "                     'B': ['red', 'yellow', 'green', 'yellow', 'green'],\n",
    "                     'C': [1, 2, 3, 4, 5]})\n",
    "\n",
    "# Display the original DataFrame\n",
    "print(\"Original DataFrame:\")\n",
    "print(df)\n",
    "\n",
    "# Reindex the DataFrame\n",
    "df_reindexed = reindex_with_increment(df)\n",
    "\n",
    "# Display the reindexed DataFrame\n",
    "print(\"\\nReindexed DataFrame:\")\n",
    "print(df_reindexed)\n"
   ]
  },
  {
   "cell_type": "code",
   "execution_count": null,
   "id": "8e260af5-ee59-48c7-9737-a87b244ab473",
   "metadata": {},
   "outputs": [],
   "source": [
    "Q3. You have a Pandas DataFrame df with a column named 'Values'. Write a Python function that\n",
    "iterates over the DataFrame and calculates the sum of the first three values in the 'Values' column. The\n",
    "function should print the sum to the console."
   ]
  },
  {
   "cell_type": "code",
   "execution_count": 18,
   "id": "27f34d1a-f234-48c9-a892-6978108d6b1c",
   "metadata": {},
   "outputs": [
    {
     "name": "stdout",
     "output_type": "stream",
     "text": [
      "Sum of the first three values: 60\n"
     ]
    }
   ],
   "source": [
    "def sumOfVal(df):\n",
    "    first_three_values = df['Values'].head(3)\n",
    "    sum_of_values = first_three_values.sum()\n",
    "    print(\"Sum of the first three values:\", sum_of_values)\n",
    "\n",
    "df=pd.DataFrame({'Values':[10, 20, 30, 40, 50]})\n",
    "sumOfVal(df)"
   ]
  },
  {
   "cell_type": "code",
   "execution_count": null,
   "id": "cf905e3d-9758-4856-8a80-c313321372c3",
   "metadata": {},
   "outputs": [],
   "source": [
    "Q4. Given a Pandas DataFrame df with a column 'Text', write a Python function to create a new column\n",
    "'Word_Count' that contains the number of words in each row of the 'Text' column."
   ]
  },
  {
   "cell_type": "code",
   "execution_count": 4,
   "id": "4df62ce8-1168-4d40-97c5-d8bd112b5d0c",
   "metadata": {},
   "outputs": [
    {
     "name": "stdout",
     "output_type": "stream",
     "text": [
      "Original DataFrame:\n",
      "                             Text\n",
      "0                       Hello All\n",
      "1   Welcome to Python Programming\n",
      "2                    with Pandas.\n",
      "3                            This\n",
      "4                              is\n",
      "5  Example of word count function\n",
      "\n",
      "DataFrame with Word_Count:\n",
      "                             Text  Word_Count\n",
      "0                       Hello All           2\n",
      "1   Welcome to Python Programming           4\n",
      "2                    with Pandas.           2\n",
      "3                            This           1\n",
      "4                              is           1\n",
      "5  Example of word count function           5\n"
     ]
    }
   ],
   "source": [
    "import pandas as pd\n",
    "\n",
    "def count_words(df):\n",
    "    # Function to count words in a given text\n",
    "    def word_count(text):\n",
    "        return len(text.split())\n",
    "\n",
    "    # Apply the word_count function to each row in the 'Text' column\n",
    "    df['Word_Count'] = df['Text'].apply(word_count)\n",
    "\n",
    "    return df\n",
    "\n",
    "# Example usage\n",
    "df=pd.DataFrame({'Text':['Hello All','Welcome to Python Programming', 'with Pandas.','This', 'is', 'Example of word count function']})\n",
    "\n",
    "# Display the original DataFrame\n",
    "print(\"Original DataFrame:\")\n",
    "print(df)\n",
    "\n",
    "# Count words and create the 'Word_Count' column\n",
    "df_with_word_count = count_words(df)\n",
    "\n",
    "# Display the DataFrame with the new 'Word_Count' column\n",
    "print(\"\\nDataFrame with Word_Count:\")\n",
    "print(df_with_word_count)\n"
   ]
  },
  {
   "cell_type": "code",
   "execution_count": null,
   "id": "95940656-f917-48e4-adfa-f643f8deed62",
   "metadata": {},
   "outputs": [],
   "source": [
    "Q5. How are DataFrame.size() and DataFrame.shape() different?"
   ]
  },
  {
   "cell_type": "code",
   "execution_count": null,
   "id": "085eeecd-b82e-426c-bb92-943c0f4b580c",
   "metadata": {},
   "outputs": [],
   "source": [
    "The DataFrame.size and DataFrame.shape are two different attributes in pandas that provide information about the size and shape of a DataFrame. \n",
    "Here is how they differ:\n",
    "\n",
    "DataFrame.size:\n",
    "    DataFrame.size returns the total number of elements in a DataFrame, which is the product of the number of rows and columns.\n",
    "    It represents the total size of the DataFrame, including all the individual elements.\n",
    "    The returned value is an integer.\n",
    "    It can be obtained by calling the size attribute on a DataFrame object.\n",
    "    \n",
    "DataFrame.shape:\n",
    "    DataFrame.shape returns a tuple containing the dimensions of a DataFrame, i.e., the number of rows and columns.\n",
    "    It represents the structure or shape of the DataFrame.\n",
    "    The returned value is a tuple in the format (number_of_rows, number_of_columns).\n",
    "    It can be obtained by calling the shape attribute on a DataFrame object.\n",
    "    \n",
    "In summary, DataFrame.size provides the total number of elements in a DataFrame, while DataFrame.shape provides the dimensions \n",
    "(number of rows and columns) of the DataFrame."
   ]
  },
  {
   "cell_type": "code",
   "execution_count": 12,
   "id": "3662bc37-77f3-4bc7-ba9f-35b776a68dbc",
   "metadata": {},
   "outputs": [
    {
     "name": "stdout",
     "output_type": "stream",
     "text": [
      "15\n",
      "(5, 3)\n"
     ]
    }
   ],
   "source": [
    "import pandas as pd\n",
    "df= pd.DataFrame({'A': ['apple', 'banana', 'apple', 'banana', 'apple'],\n",
    "                     'B': ['red', 'yellow', 'green', 'yellow', 'green'],\n",
    "                     'C': [1, 2, 3, 4, 5]})\n",
    "\n",
    "print(df.size)\n",
    "print(df.shape)"
   ]
  },
  {
   "cell_type": "code",
   "execution_count": null,
   "id": "42ad6fc6-0cbe-460f-99b2-872974939858",
   "metadata": {},
   "outputs": [],
   "source": [
    "Q6. Which function of pandas do we use to read an excel file?"
   ]
  },
  {
   "cell_type": "code",
   "execution_count": null,
   "id": "6934f0a3-3f05-4086-bc21-11fdbc9773f4",
   "metadata": {},
   "outputs": [],
   "source": [
    "In pandas, you can use the 'read_excel()' function to read data from an Excel file. This function allows you to read data from \n",
    "a specific sheet or multiple sheets within an Excel file. Here is an example of how to use the read_excel() function:"
   ]
  },
  {
   "cell_type": "code",
   "execution_count": 13,
   "id": "3add8cec-cdc7-446c-b267-6b3f2e82949e",
   "metadata": {},
   "outputs": [
    {
     "name": "stdout",
     "output_type": "stream",
     "text": [
      "    EmpID    EmpName LanguageOfCommunication  Age  Gender  \\\n",
      "0   11041       John                 English   35    Male   \n",
      "1   15079    William                 English   26    Male   \n",
      "2   18638      James                 English   36  Female   \n",
      "3    3941    Charles                 English   29  Female   \n",
      "4    5936     George                 English   25    Male   \n",
      "5    9670      Frank                  Native   35    Male   \n",
      "6   16554     Joseph                   Hindi   31    Male   \n",
      "7    3301     Thomas                 English   32    Male   \n",
      "8   12236      Henry                 English   28  Female   \n",
      "9   10157     Robert                  Native   31  Female   \n",
      "10  24117     Edward                   Hindi   29    Male   \n",
      "11  21889      Harry                 English   28    Male   \n",
      "12  12056     Walter                 English   30    Male   \n",
      "13  23265     Arthur                   Hindi   27    Male   \n",
      "14   2176       Fred                  Native   35    Male   \n",
      "15  23332     Albert                 English   30    Male   \n",
      "16   2642     Samuel                  Native   28  Female   \n",
      "17   7826      David                 English   34    Male   \n",
      "18  10875      Louis                   Hindi   32  Female   \n",
      "19   6491        Joe                 English   30  Female   \n",
      "20   9960    Charlie                 English   25    Male   \n",
      "21   3082   Clarence                   Hindi   26    Male   \n",
      "22  20039    Richard                  Native   34    Male   \n",
      "23   5558     Andrew                  Native   36    Male   \n",
      "24   7191     Daniel                 English   30  Female   \n",
      "25  18467     Ernest                 English   35  Female   \n",
      "26  13540       Will                 English   32  Female   \n",
      "27  16784      Jesse                   Hindi   28    Male   \n",
      "28  14685      Oscar                 English   29  Female   \n",
      "29   5014      Lewis                 English   27    Male   \n",
      "30  19915      Peter                   Hindi   34    Male   \n",
      "31   3097   Benjamin                   Hindi   36  Female   \n",
      "32   9974  Frederick                   Hindi   27    Male   \n",
      "33   8216     Willie                 English   32    Male   \n",
      "34   2454     Alfred                 English   33    Male   \n",
      "35  22952        Sam                 English   29    Male   \n",
      "36   4468        Roy                 English   30    Male   \n",
      "37  18131    Herbert                   Hindi   34    Male   \n",
      "38  20203      Jacob                 English   27    Male   \n",
      "39  19363        Tom                 English   32    Male   \n",
      "40   9324      Elmer                 English   35    Male   \n",
      "41   4226       Carl                 English   35    Male   \n",
      "42   9236        Lee                 English   28    Male   \n",
      "43   3200     Howard                 English   29    Male   \n",
      "44  18516     Martin                   Hindi   30    Male   \n",
      "45   5825    Michael                 English   29    Male   \n",
      "46   6772       Bert                   Hindi   28  Female   \n",
      "47   5758     Herman                 English   35    Male   \n",
      "48   2013        Jim                   Hindi   24    Male   \n",
      "49  20754    Francis                 English   35   Other   \n",
      "\n",
      "   JobProfileIDApplyingFor HighestDegree                DegreeBranch  \\\n",
      "0                  JR85289        B.Tech                  Electrical   \n",
      "1                  JR87525        B.Tech     Artificial Intelligence   \n",
      "2                  JR87525           PhD            Computer Science   \n",
      "3                  JR87525           BCA      Information Technology   \n",
      "4                  JR70175   Dual M.Tech            Computer Science   \n",
      "5                  JR88879           BCA            Computer Science   \n",
      "6                  JR85289           PhD            Computer Science   \n",
      "7                  JR85289        B.Tech      Information Technology   \n",
      "8                  JR87525        M.Tech                  Electrical   \n",
      "9                  JR88873        B.Tech     Artificial Intelligence   \n",
      "10                 JR85289        B.Tech     Artificial Intelligence   \n",
      "11                 JR87525        B.Tech                  Electrical   \n",
      "12                 JR85289        M.Tech            Computer Science   \n",
      "13                 JR85289        B.Tech            Computer Science   \n",
      "14                 JR85289        B.Tech                 Electronics   \n",
      "15                 JR85289        B.Tech      Information Technology   \n",
      "16                 JR89890        B.Tech  Electrical and Electronics   \n",
      "17                 JR81165        M.Tech                  Electrical   \n",
      "18                 JR85289        B.Tech                  Electrical   \n",
      "19                 JR87525           BCA            Computer Science   \n",
      "20                 JR88873        B.Tech            Computer Science   \n",
      "21                 JR87525        B.Tech      Information Technology   \n",
      "22                 JR87525        B.Tech                 Electronics   \n",
      "23                 JR88873        M.Tech     Artificial Intelligence   \n",
      "24                 JR87525   Dual M.Tech            Computer Science   \n",
      "25                 JR87525            MS            Computer Science   \n",
      "26                 JR70175        B.Tech                 Electronics   \n",
      "27                 JR88873        B.Tech            Computer Science   \n",
      "28                 JR85289           BCA            Computer Science   \n",
      "29                 JR85289           BCA            Computer Science   \n",
      "30                 JR85289   Dual M.Tech      Information Technology   \n",
      "31                 JR85289        M.Tech                  Electrical   \n",
      "32                 JR85289        B.Tech  Electrical and Electronics   \n",
      "33                 JR88873      Dual MBA      Information Technology   \n",
      "34                 JR89890            MS                 Electronics   \n",
      "35                 JR85289   Dual M.Tech            Computer Science   \n",
      "36                 JR88879           BCA                 Electronics   \n",
      "37                 JR85289           BCA     Artificial Intelligence   \n",
      "38                 JR88873        B.Tech                  Electrical   \n",
      "39                 JR85289        B.Tech                  Electrical   \n",
      "40                 JR87525        B.Tech            Computer Science   \n",
      "41                 JR88873        B.Tech                  Electrical   \n",
      "42                 JR89890           BCA      Information Technology   \n",
      "43                 JR85289            MS            Computer Science   \n",
      "44                 JR85289   Dual M.Tech                 Electronics   \n",
      "45                 JR89890        M.Tech      Information Technology   \n",
      "46                 JR88879           BCA     Artificial Intelligence   \n",
      "47                 JR88879   Dual M.Tech                 Electronics   \n",
      "48                 JR85289           BCA      Information Technology   \n",
      "49                 JR85289      Dual MBA            Computer Science   \n",
      "\n",
      "   GraduatingInstitute  LatestDegreeCGPA  ...  CurrentCTC  ExpectedCTC  \\\n",
      "0               Tier 1                 7  ...          21           26   \n",
      "1               Tier 3                 7  ...          15           19   \n",
      "2               Tier 1                 6  ...          15           24   \n",
      "3               Tier 2                 5  ...          16           24   \n",
      "4               Tier 3                 8  ...          24           32   \n",
      "5               Tier 2                 9  ...          25           29   \n",
      "6               Tier 1                 7  ...          12           21   \n",
      "7               Tier 2                 8  ...           7           17   \n",
      "8               Tier 1                 6  ...          21           28   \n",
      "9               Tier 2                 8  ...          21           31   \n",
      "10              Tier 1                 7  ...           9           16   \n",
      "11              Tier 3                 6  ...          25           31   \n",
      "12              Tier 2                 7  ...          12           16   \n",
      "13              Tier 1                 5  ...          17           26   \n",
      "14              Tier 1                 8  ...          23           33   \n",
      "15              Tier 1                 5  ...          22           27   \n",
      "16              Tier 2                 5  ...          18           26   \n",
      "17              Tier 2                 7  ...          12           18   \n",
      "18              Tier 2                 7  ...           8           18   \n",
      "19              Tier 1                 8  ...          20           24   \n",
      "20              Tier 1                 6  ...          15           19   \n",
      "21              Tier 1                 7  ...          23           29   \n",
      "22              Tier 1                 7  ...           9           15   \n",
      "23              Tier 1                 6  ...          15           24   \n",
      "24              Tier 2                 6  ...           7           15   \n",
      "25              Tier 1                 8  ...          17           22   \n",
      "26              Tier 2                 8  ...          19           24   \n",
      "27              Tier 2                 9  ...          28           37   \n",
      "28              Tier 1                 8  ...          11           17   \n",
      "29              Tier 1                 7  ...          26           31   \n",
      "30              Tier 1                 8  ...          17           23   \n",
      "31              Tier 2                 4  ...          27           35   \n",
      "32              Tier 1                 7  ...          15           25   \n",
      "33              Tier 3                 8  ...          17           24   \n",
      "34              Tier 2                 5  ...           6           13   \n",
      "35              Tier 3                10  ...          20           29   \n",
      "36              Tier 1                 7  ...          11           21   \n",
      "37              Tier 2                 8  ...          16           24   \n",
      "38              Tier 3                 6  ...           9           15   \n",
      "39              Tier 2                 7  ...          14           20   \n",
      "40              Tier 2                 7  ...          28           33   \n",
      "41              Tier 1                 8  ...          18           24   \n",
      "42              Tier 1                 6  ...          10           14   \n",
      "43              Tier 3                 8  ...          19           23   \n",
      "44              Tier 1                 7  ...          28           33   \n",
      "45              Tier 1                 8  ...          25           32   \n",
      "46              Tier 2                 9  ...          28           36   \n",
      "47              Tier 2                 7  ...          17           23   \n",
      "48              Tier 2                 9  ...           9           14   \n",
      "49              Tier 3                 7  ...          25           35   \n",
      "\n",
      "    MartialStatus  EmpScore CurrentDesignation  CurrentCompanyType  \\\n",
      "0         Married         5                SSE          Enterprise   \n",
      "1         Married         5                 BA            MidSized   \n",
      "2          Single         5                SDE            MidSized   \n",
      "3         Married         5                SDE             Startup   \n",
      "4         Married         5                SDE          Enterprise   \n",
      "5         Married         4                 DS            MidSized   \n",
      "6          Single         3                SDE          Enterprise   \n",
      "7         Married         3                SSE            MidSized   \n",
      "8         Married         4                SDE             Startup   \n",
      "9         Married         3                SDE             Startup   \n",
      "10        Married         3                 EM          Enterprise   \n",
      "11        Married         3                SSE             Startup   \n",
      "12         Single         4                SSE          Enterprise   \n",
      "13        Married         2                 EM          Enterprise   \n",
      "14        Married         4                SDE            MidSized   \n",
      "15        Married         4                SSE            MidSized   \n",
      "16        Married         4                 EM             Startup   \n",
      "17        Married         5                SSE          Enterprise   \n",
      "18         Single         3                 EM             Startup   \n",
      "19         Single         4                SSE             Startup   \n",
      "20        Married         4                 DS             Startup   \n",
      "21        Married         4                SDE             Startup   \n",
      "22        Married         3                SSE          Enterprise   \n",
      "23        Married         2                SDE             Startup   \n",
      "24        Married         4                SDE            MidSized   \n",
      "25        Married         4                SDE             Startup   \n",
      "26         Single         5                 BA             Startup   \n",
      "27        Married         4                SSE            MidSized   \n",
      "28        Married         2                 DA          Enterprise   \n",
      "29         Single         4                SDE          Enterprise   \n",
      "30        Married         4                SSE            MidSized   \n",
      "31        Married         3                 DS          Enterprise   \n",
      "32         Single         3                SDE          Enterprise   \n",
      "33         Single         4                 BA             Startup   \n",
      "34        Married         1                SDE             Startup   \n",
      "35         Single         4                SDE             Startup   \n",
      "36         Single         3                SDE             Startup   \n",
      "37        Married         3                 BA          Enterprise   \n",
      "38        Married         4                SDE             Startup   \n",
      "39         Single         3                 DS            MidSized   \n",
      "40        Married         3                SSE             Startup   \n",
      "41         Single         4                SDE             Startup   \n",
      "42        Married         3                 EM            MidSized   \n",
      "43         Single         3                SSE             Startup   \n",
      "44         Single         4                SDE          Enterprise   \n",
      "45        Married         4                SDE             Startup   \n",
      "46         Single         2                 BA             Startup   \n",
      "47        Married         2                 BA             Startup   \n",
      "48        Married         4                 DS            MidSized   \n",
      "49        Married         4                 EM             Startup   \n",
      "\n",
      "   DepartmentInCompany TotalLeavesTaken BiasInfluentialFactor  FitmentPercent  \n",
      "0               Design               20      YearsOfExperince           95.40  \n",
      "1          Engineering                6                   NaN           67.09  \n",
      "2          Engineering               19                Gender           91.26  \n",
      "3              Product               16                Gender           72.29  \n",
      "4          Engineering               10          DegreeBranch           86.34  \n",
      "5          Engineering               10      YearsOfExperince           93.23  \n",
      "6     Customer Success                8    CurrentCompanyType           62.29  \n",
      "7          Engineering               18          DegreeBranch           93.71  \n",
      "8          Engineering                7                Gender           91.66  \n",
      "9     Customer Success               10                Gender           73.31  \n",
      "10             Finance                6                   NaN           56.85  \n",
      "11         Engineering                7         MartialStatus           75.07  \n",
      "12              Design                5    CurrentCompanyType           60.85  \n",
      "13         Engineering               20                   NaN           41.99  \n",
      "14         Engineering                7      YearsOfExperince           92.11  \n",
      "15         Engineering               12          DegreeBranch           87.37  \n",
      "16         Engineering               19                Gender           80.63  \n",
      "17              Design               16                   NaN           38.68  \n",
      "18         Engineering                5                Gender           79.68  \n",
      "19         Engineering                9                Gender           84.60  \n",
      "20              Design                8          DegreeBranch           90.59  \n",
      "21             Product               14          DegreeBranch           85.70  \n",
      "22             Finance               18                   NaN           34.14  \n",
      "23         Engineering               11      YearsOfExperince           86.29  \n",
      "24         Engineering                9                Gender           93.42  \n",
      "25         Engineering               20                Gender           84.80  \n",
      "26         Engineering               15                Gender           84.32  \n",
      "27              Design               14          DegreeBranch           88.88  \n",
      "28             Finance                9    CurrentCompanyType           69.90  \n",
      "29              Design                6          DegreeBranch           92.52  \n",
      "30             Finance               19      YearsOfExperince           93.68  \n",
      "31         Engineering               12                Gender           84.99  \n",
      "32         Engineering               13    CurrentCompanyType           67.37  \n",
      "33              Design               19          DegreeBranch           84.83  \n",
      "34    Customer Success                6         HighestDegree           77.18  \n",
      "35             Product               11          DegreeBranch           89.22  \n",
      "36         Engineering               20                   NaN           94.18  \n",
      "37         Engineering                7                   NaN           49.54  \n",
      "38              Design               20              EmpScore           73.20  \n",
      "39         Engineering                4                   NaN           69.48  \n",
      "40         Engineering                5          DegreeBranch           91.12  \n",
      "41         Engineering                6                   NaN           68.88  \n",
      "42    Customer Success               13          DegreeBranch           73.83  \n",
      "43    Customer Success               20         HighestDegree           70.85  \n",
      "44    Customer Success                4    CurrentCompanyType           88.65  \n",
      "45              Design               19          DegreeBranch           86.77  \n",
      "46         Engineering               15                   NaN           74.15  \n",
      "47         Engineering               10      YearsOfExperince           94.04  \n",
      "48    Customer Success               13          DegreeBranch           85.30  \n",
      "49              Design                6                   NaN           50.14  \n",
      "\n",
      "[50 rows x 22 columns]\n"
     ]
    }
   ],
   "source": [
    "# Read data from an Excel file\n",
    "data = pd.read_excel('Train.xlsx', sheet_name='Sheet1')\n",
    "\n",
    "# Display the DataFrame\n",
    "print(data)"
   ]
  },
  {
   "cell_type": "code",
   "execution_count": null,
   "id": "fc87cc01-8797-4785-a7fb-8ad9eefe976b",
   "metadata": {},
   "outputs": [],
   "source": [
    "Q7. You have a Pandas DataFrame df that contains a column named 'Email' that contains email\n",
    "addresses in the format 'username@domain.com'. Write a Python function that creates a new column\n",
    "'Username' in df that contains only the username part of each email address."
   ]
  },
  {
   "cell_type": "code",
   "execution_count": 16,
   "id": "a3bbbf07-1e75-423d-90a7-b5fabe1ffbb5",
   "metadata": {},
   "outputs": [
    {
     "data": {
      "text/html": [
       "<div>\n",
       "<style scoped>\n",
       "    .dataframe tbody tr th:only-of-type {\n",
       "        vertical-align: middle;\n",
       "    }\n",
       "\n",
       "    .dataframe tbody tr th {\n",
       "        vertical-align: top;\n",
       "    }\n",
       "\n",
       "    .dataframe thead th {\n",
       "        text-align: right;\n",
       "    }\n",
       "</style>\n",
       "<table border=\"1\" class=\"dataframe\">\n",
       "  <thead>\n",
       "    <tr style=\"text-align: right;\">\n",
       "      <th></th>\n",
       "      <th>Emp_ID</th>\n",
       "      <th>Email</th>\n",
       "      <th>Username</th>\n",
       "    </tr>\n",
       "  </thead>\n",
       "  <tbody>\n",
       "    <tr>\n",
       "      <th>0</th>\n",
       "      <td>11041</td>\n",
       "      <td>John.William123@gmail.com</td>\n",
       "      <td>John.William123</td>\n",
       "    </tr>\n",
       "    <tr>\n",
       "      <th>1</th>\n",
       "      <td>15079</td>\n",
       "      <td>James.Charles2345@yahoo.com</td>\n",
       "      <td>James.Charles2345</td>\n",
       "    </tr>\n",
       "    <tr>\n",
       "      <th>2</th>\n",
       "      <td>18638</td>\n",
       "      <td>GeorgeFrank789@outlook.com</td>\n",
       "      <td>GeorgeFrank789</td>\n",
       "    </tr>\n",
       "  </tbody>\n",
       "</table>\n",
       "</div>"
      ],
      "text/plain": [
       "   Emp_ID                        Email           Username\n",
       "0   11041    John.William123@gmail.com    John.William123\n",
       "1   15079  James.Charles2345@yahoo.com  James.Charles2345\n",
       "2   18638   GeorgeFrank789@outlook.com     GeorgeFrank789"
      ]
     },
     "execution_count": 16,
     "metadata": {},
     "output_type": "execute_result"
    }
   ],
   "source": [
    "def extract_username(df):\n",
    "    df['Username'] = df['Email'].str.split('@').str[0]\n",
    "    return df\n",
    "\n",
    "df=pd.DataFrame({\n",
    "    'Emp_ID':[11041,15079,18638],\n",
    "    'Email':['John.William123@gmail.com','James.Charles2345@yahoo.com','GeorgeFrank789@outlook.com']\n",
    "})\n",
    "\n",
    "df_username=extract_username(df)\n",
    "df_username"
   ]
  },
  {
   "cell_type": "code",
   "execution_count": null,
   "id": "9c5ee96a-2537-4e21-8c0e-1f30bf787bd0",
   "metadata": {},
   "outputs": [],
   "source": [
    "Q8. You have a Pandas DataFrame df with columns 'A', 'B', and 'C'. Write a Python function that selects\n",
    "all rows where the value in column 'A' is greater than 5 and the value in column 'B' is less than 10. The\n",
    "function should return a new DataFrame that contains only the selected rows."
   ]
  },
  {
   "cell_type": "code",
   "execution_count": 18,
   "id": "51c5a05f-12dc-42bb-875f-6afd11628895",
   "metadata": {},
   "outputs": [
    {
     "data": {
      "text/html": [
       "<div>\n",
       "<style scoped>\n",
       "    .dataframe tbody tr th:only-of-type {\n",
       "        vertical-align: middle;\n",
       "    }\n",
       "\n",
       "    .dataframe tbody tr th {\n",
       "        vertical-align: top;\n",
       "    }\n",
       "\n",
       "    .dataframe thead th {\n",
       "        text-align: right;\n",
       "    }\n",
       "</style>\n",
       "<table border=\"1\" class=\"dataframe\">\n",
       "  <thead>\n",
       "    <tr style=\"text-align: right;\">\n",
       "      <th></th>\n",
       "      <th>A</th>\n",
       "      <th>B</th>\n",
       "      <th>C</th>\n",
       "    </tr>\n",
       "  </thead>\n",
       "  <tbody>\n",
       "    <tr>\n",
       "      <th>1</th>\n",
       "      <td>8</td>\n",
       "      <td>2</td>\n",
       "      <td>7</td>\n",
       "    </tr>\n",
       "    <tr>\n",
       "      <th>2</th>\n",
       "      <td>6</td>\n",
       "      <td>9</td>\n",
       "      <td>4</td>\n",
       "    </tr>\n",
       "    <tr>\n",
       "      <th>4</th>\n",
       "      <td>9</td>\n",
       "      <td>1</td>\n",
       "      <td>2</td>\n",
       "    </tr>\n",
       "  </tbody>\n",
       "</table>\n",
       "</div>"
      ],
      "text/plain": [
       "   A  B  C\n",
       "1  8  2  7\n",
       "2  6  9  4\n",
       "4  9  1  2"
      ]
     },
     "execution_count": 18,
     "metadata": {},
     "output_type": "execute_result"
    }
   ],
   "source": [
    "def abc(df):\n",
    "    ans=df[(df['A']>5) & (df['B']<10)]\n",
    "    return ans\n",
    "\n",
    "df=pd.DataFrame({'A':[3,8,6,2,9],\n",
    "                'B':[5,2,9,3,1],\n",
    "                'C':[1,7,4,5,2]})\n",
    "\n",
    "res=abc(df)\n",
    "res"
   ]
  },
  {
   "cell_type": "code",
   "execution_count": null,
   "id": "c9e88919-5307-4239-9ae8-99b060c79cd8",
   "metadata": {},
   "outputs": [],
   "source": [
    "Q9. Given a Pandas DataFrame df with a column 'Values', write a Python function to calculate the mean,\n",
    "median, and standard deviation of the values in the 'Values' column."
   ]
  },
  {
   "cell_type": "code",
   "execution_count": 21,
   "id": "22a1790a-81bd-4904-a0a1-c460432f87c6",
   "metadata": {},
   "outputs": [
    {
     "name": "stdout",
     "output_type": "stream",
     "text": [
      "Maen:  4.444444444444445\n",
      "Median:  5.0\n",
      "Standard Deviation:  9.619136020338718\n"
     ]
    }
   ],
   "source": [
    "def mms(df):\n",
    "    mean=df['Values'].mean()\n",
    "    median=df['Values'].median()\n",
    "    std=df['Values'].std()\n",
    "    \n",
    "    print('Maen: ',mean)\n",
    "    print('Median: ',median)\n",
    "    print('Standard Deviation: ',std)\n",
    "    \n",
    "df=pd.DataFrame({'Values':[1,3,5,7,-4,23,-12,9,8]})\n",
    "mms(df)"
   ]
  },
  {
   "cell_type": "code",
   "execution_count": null,
   "id": "a07c2cfa-d0e0-45ea-b2e5-d09464def8dd",
   "metadata": {},
   "outputs": [],
   "source": [
    "Q10. Given a Pandas DataFrame df with a column 'Sales' and a column 'Date', write a Python function to\n",
    "create a new column 'MovingAverage' that contains the moving average of the sales for the past 7 days\n",
    "for each row in the DataFrame. The moving average should be calculated using a window of size 7 and\n",
    "should include the current day."
   ]
  },
  {
   "cell_type": "code",
   "execution_count": 1,
   "id": "3925f988-8e0a-4e3d-b881-6a82027c44e8",
   "metadata": {},
   "outputs": [
    {
     "name": "stdout",
     "output_type": "stream",
     "text": [
      "Original DataFrame:\n",
      "        Date  Sales\n",
      "0 2023-06-01     10\n",
      "1 2023-06-02     15\n",
      "2 2023-06-03     12\n",
      "3 2023-06-04     18\n",
      "4 2023-06-05     20\n",
      "5 2023-06-06     22\n",
      "6 2023-06-07     19\n",
      "7 2023-06-08     25\n",
      "8 2023-06-09     27\n",
      "9 2023-06-10     30\n",
      "\n",
      "DataFrame with MovingAverage:\n",
      "        Date  Sales  MovingAverage\n",
      "0 2023-06-01     10      10.000000\n",
      "1 2023-06-02     15      12.500000\n",
      "2 2023-06-03     12      12.333333\n",
      "3 2023-06-04     18      13.750000\n",
      "4 2023-06-05     20      15.000000\n",
      "5 2023-06-06     22      16.166667\n",
      "6 2023-06-07     19      16.571429\n",
      "7 2023-06-08     25      18.714286\n",
      "8 2023-06-09     27      20.428571\n",
      "9 2023-06-10     30      23.000000\n"
     ]
    }
   ],
   "source": [
    "import pandas as pd\n",
    "\n",
    "df = pd.DataFrame({\n",
    "    'Date': pd.date_range(start='2023-06-01', periods=10),\n",
    "    'Sales': [10, 15, 12, 18, 20, 22, 19, 25, 27, 30]\n",
    "})\n",
    "\n",
    "def calculate_moving_average(df):\n",
    "    df['Date'] = pd.to_datetime(df['Date'])\n",
    "    df = df.sort_values('Date')\n",
    "    df['MovingAverage'] = df['Sales'].rolling(window=7, min_periods=1).mean()\n",
    "    \n",
    "    return df\n",
    "\n",
    "print(\"Original DataFrame:\")\n",
    "print(df)\n",
    "\n",
    "# Calculate and create the 'MovingAverage' column\n",
    "df_with_moving_average = calculate_moving_average(df)\n",
    "\n",
    "print(\"\\nDataFrame with MovingAverage:\")\n",
    "print(df_with_moving_average)\n"
   ]
  },
  {
   "cell_type": "code",
   "execution_count": null,
   "id": "44778bfb-22eb-426c-9841-7ee175f7011d",
   "metadata": {},
   "outputs": [],
   "source": [
    "Q11. You have a Pandas DataFrame df with a column 'Date'. Write a Python function that creates a new\n",
    "column 'Weekday' in the DataFrame. The 'Weekday' column should contain the weekday name (e.g.\n",
    "Monday, Tuesday) corresponding to each date in the 'Date' column."
   ]
  },
  {
   "cell_type": "code",
   "execution_count": 2,
   "id": "2890bc88-134f-4242-b481-d13189c4b634",
   "metadata": {},
   "outputs": [
    {
     "name": "stdout",
     "output_type": "stream",
     "text": [
      "         Date\n",
      "0  2023-01-01\n",
      "1  2023-01-02\n",
      "2  2023-01-03\n",
      "3  2023-01-04\n",
      "4  2023-01-05\n",
      "        Date    Weekday\n",
      "0 2023-01-01     Sunday\n",
      "1 2023-01-02     Monday\n",
      "2 2023-01-03    Tuesday\n",
      "3 2023-01-04  Wednesday\n",
      "4 2023-01-05   Thursday\n"
     ]
    }
   ],
   "source": [
    "def add_weekday_column(df):\n",
    "    \n",
    "    df['Date'] = pd.to_datetime(df['Date'])\n",
    "\n",
    "    df['Weekday'] = df['Date'].dt.strftime('%A')\n",
    "    \n",
    "    return df\n",
    "\n",
    "df=pd.DataFrame({\n",
    "    'Date':['2023-01-01','2023-01-02','2023-01-03','2023-01-04','2023-01-05']\n",
    "})\n",
    "\n",
    "print(df)\n",
    "\n",
    "df_with_weekday = add_weekday_column(df)\n",
    "\n",
    "print(df_with_weekday)\n"
   ]
  },
  {
   "cell_type": "code",
   "execution_count": null,
   "id": "4237de79-f352-4f01-803a-30a861917414",
   "metadata": {},
   "outputs": [],
   "source": [
    "Q12. Given a Pandas DataFrame df with a column 'Date' that contains timestamps, write a Python\n",
    "function to select all rows where the date is between '2023-01-01' and '2023-01-31'."
   ]
  },
  {
   "cell_type": "code",
   "execution_count": 2,
   "id": "2c3173e0-55cc-4e8d-a572-7a87668adf61",
   "metadata": {},
   "outputs": [
    {
     "data": {
      "text/html": [
       "<div>\n",
       "<style scoped>\n",
       "    .dataframe tbody tr th:only-of-type {\n",
       "        vertical-align: middle;\n",
       "    }\n",
       "\n",
       "    .dataframe tbody tr th {\n",
       "        vertical-align: top;\n",
       "    }\n",
       "\n",
       "    .dataframe thead th {\n",
       "        text-align: right;\n",
       "    }\n",
       "</style>\n",
       "<table border=\"1\" class=\"dataframe\">\n",
       "  <thead>\n",
       "    <tr style=\"text-align: right;\">\n",
       "      <th></th>\n",
       "      <th>Date</th>\n",
       "    </tr>\n",
       "  </thead>\n",
       "  <tbody>\n",
       "    <tr>\n",
       "      <th>0</th>\n",
       "      <td>2023-01-01</td>\n",
       "    </tr>\n",
       "    <tr>\n",
       "      <th>1</th>\n",
       "      <td>2023-01-15</td>\n",
       "    </tr>\n",
       "    <tr>\n",
       "      <th>3</th>\n",
       "      <td>2023-01-25</td>\n",
       "    </tr>\n",
       "    <tr>\n",
       "      <th>4</th>\n",
       "      <td>2023-01-10</td>\n",
       "    </tr>\n",
       "  </tbody>\n",
       "</table>\n",
       "</div>"
      ],
      "text/plain": [
       "        Date\n",
       "0 2023-01-01\n",
       "1 2023-01-15\n",
       "3 2023-01-25\n",
       "4 2023-01-10"
      ]
     },
     "execution_count": 2,
     "metadata": {},
     "output_type": "execute_result"
    }
   ],
   "source": [
    "import pandas as pd\n",
    "def select_rows_between_dates(df):\n",
    "    df['Date'] = pd.to_datetime(df['Date'])\n",
    "\n",
    "    selected_rows = df[(df['Date'] >= '2023-01-01') & (df['Date'] <= '2023-01-31')]\n",
    "    \n",
    "    return selected_rows\n",
    "\n",
    "data = {'Date': ['2023-01-01', '2023-01-15', '2023-02-01', '2023-01-25', '2023-01-10']}\n",
    "df = pd.DataFrame(data)\n",
    "\n",
    "ans=select_rows_between_dates(df)\n",
    "ans\n"
   ]
  },
  {
   "cell_type": "code",
   "execution_count": null,
   "id": "0b9c2427-e1d3-499f-b5dd-1872766da34f",
   "metadata": {},
   "outputs": [],
   "source": [
    "Q13. To use the basic functions of pandas, what is the first and foremost necessary library that needs to\n",
    "be imported?"
   ]
  },
  {
   "cell_type": "code",
   "execution_count": null,
   "id": "28854ee3-7674-4020-8ed2-9932039ff153",
   "metadata": {},
   "outputs": [],
   "source": [
    "The first and foremost library that needs to be imported to use the basic functions of pandas is the pandas library itself. \n",
    "It provides the necessary data structures and functions for data manipulation and analysis.\n",
    "\n",
    "To import the pandas library in Python, you can use the following import statement:\n",
    "\n",
    "import pandas as pd\n",
    "\n",
    "\n",
    "By convention, pd is used as an alias for the pandas library. This allows you to access the functions and classes provided by pandas using the \n",
    "pd prefix. For example, you can use pd.DataFrame() to create a DataFrame or pd.read_csv() to read data from a CSV file into a DataFrame.\n",
    "\n",
    "Once you have imported the pandas library, you can start using its functions and data structures to work with tabular data efficiently."
   ]
  }
 ],
 "metadata": {
  "kernelspec": {
   "display_name": "Python 3 (ipykernel)",
   "language": "python",
   "name": "python3"
  },
  "language_info": {
   "codemirror_mode": {
    "name": "ipython",
    "version": 3
   },
   "file_extension": ".py",
   "mimetype": "text/x-python",
   "name": "python",
   "nbconvert_exporter": "python",
   "pygments_lexer": "ipython3",
   "version": "3.10.8"
  }
 },
 "nbformat": 4,
 "nbformat_minor": 5
}
