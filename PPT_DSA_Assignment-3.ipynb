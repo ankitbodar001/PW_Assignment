{
 "cells": [
  {
   "cell_type": "code",
   "execution_count": null,
   "id": "05834d92-6e32-49ea-866e-022f28a9d367",
   "metadata": {},
   "outputs": [],
   "source": [
    "<aside>\n",
    "💡 **Question 1**\n",
    "Given an integer array nums of length n and an integer target, find three integers\n",
    "in nums such that the sum is closest to the target.\n",
    "Return the sum of the three integers.\n",
    "\n",
    "You may assume that each input would have exactly one solution.\n",
    "\n",
    "**Example 1:**\n",
    "Input: nums = [-1,2,1,-4], target = 1\n",
    "Output: 2\n",
    "\n",
    "**Explanation:** The sum that is closest to the target is 2. (-1 + 2 + 1 = 2).\n",
    "\n",
    "</aside>\n"
   ]
  },
  {
   "cell_type": "code",
   "execution_count": 30,
   "id": "6179d3f3-a322-466c-9c37-ec698e742a2a",
   "metadata": {},
   "outputs": [
    {
     "name": "stdout",
     "output_type": "stream",
     "text": [
      "2\n"
     ]
    }
   ],
   "source": [
    "def threeSumClosest(nums, target):\n",
    "    nums.sort() \n",
    "    n = len(nums)\n",
    "    closest_sum = float('inf')\n",
    "\n",
    "    for i in range(n - 2):\n",
    "        left = i + 1\n",
    "        right = n - 1\n",
    "\n",
    "        while left < right:\n",
    "            curr_sum = nums[i] + nums[left] + nums[right]\n",
    "            if curr_sum == target:\n",
    "                return curr_sum\n",
    "\n",
    "            if abs(curr_sum - target) < abs(closest_sum - target):\n",
    "                closest_sum = curr_sum\n",
    "\n",
    "            if curr_sum < target:\n",
    "                left += 1\n",
    "            else:\n",
    "                right -= 1\n",
    "\n",
    "    return closest_sum\n",
    "\n",
    "print(threeSumClosest([-1,2,1,4],1))"
   ]
  },
  {
   "cell_type": "code",
   "execution_count": null,
   "id": "ff4b05d5-a561-480a-aa7a-984954e46fb1",
   "metadata": {},
   "outputs": [],
   "source": [
    "<aside>\n",
    "💡 **Question 2**\n",
    "Given an array nums of n integers, return an array of all the unique quadruplets\n",
    "[nums[a], nums[b], nums[c], nums[d]] such that:\n",
    "           ● 0 <= a, b, c, d < n\n",
    "           ● a, b, c, and d are distinct.\n",
    "           ● nums[a] + nums[b] + nums[c] + nums[d] == target\n",
    "\n",
    "You may return the answer in any order.\n",
    "\n",
    "**Example 1:**\n",
    "Input: nums = [1,0,-1,0,-2,2], target = 0\n",
    "Output: [[-2,-1,1,2],[-2,0,0,2],[-1,0,0,1]]\n",
    "\n",
    "</aside>"
   ]
  },
  {
   "cell_type": "code",
   "execution_count": 29,
   "id": "27da0c3c-538f-49a3-9ded-d8e5024cd794",
   "metadata": {},
   "outputs": [
    {
     "name": "stdout",
     "output_type": "stream",
     "text": [
      "[[-2, -1, 1, 2], [-2, 0, 0, 2], [-1, 0, 0, 1]]\n"
     ]
    }
   ],
   "source": [
    "def fourSum(nums, target):\n",
    "    n = len(nums)\n",
    "    nums.sort() \n",
    "\n",
    "    quadruplets = []\n",
    "    for a in range(n - 3):\n",
    "        # Skip duplicates for a\n",
    "        if a > 0 and nums[a] == nums[a - 1]:\n",
    "            continue\n",
    "\n",
    "        for b in range(a + 1, n - 2):\n",
    "            # Skip duplicates for b\n",
    "            if b > a + 1 and nums[b] == nums[b - 1]:\n",
    "                continue\n",
    "\n",
    "            left = b + 1\n",
    "            right = n - 1\n",
    "            while left < right:\n",
    "                curr_sum = nums[a] + nums[b] + nums[left] + nums[right]\n",
    "                if curr_sum == target:\n",
    "                    quadruplets.append([nums[a], nums[b], nums[left], nums[right]])\n",
    "\n",
    "                    # Skip duplicates for left and right\n",
    "                    while left < right and nums[left] == nums[left + 1]:\n",
    "                        left += 1\n",
    "                    while left < right and nums[right] == nums[right - 1]:\n",
    "                        right -= 1\n",
    "\n",
    "                    left += 1\n",
    "                    right -= 1\n",
    "                elif curr_sum < target:\n",
    "                    left += 1\n",
    "                else:\n",
    "                    right -= 1\n",
    "\n",
    "    return quadruplets\n",
    "\n",
    "print(fourSum([1,0,-1,0,-2,2], target = 0))"
   ]
  },
  {
   "cell_type": "code",
   "execution_count": null,
   "id": "7f400e34-a9e1-4801-adb7-dd1edd444682",
   "metadata": {},
   "outputs": [],
   "source": [
    "<aside>\n",
    "💡 **Question 3**\n",
    "A permutation of an array of integers is an arrangement of its members into a\n",
    "sequence or linear order.\n",
    "\n",
    "For example, for arr = [1,2,3], the following are all the permutations of arr:\n",
    "[1,2,3], [1,3,2], [2, 1, 3], [2, 3, 1], [3,1,2], [3,2,1].\n",
    "\n",
    "The next permutation of an array of integers is the next lexicographically greater\n",
    "permutation of its integer. More formally, if all the permutations of the array are\n",
    "sorted in one container according to their lexicographical order, then the next\n",
    "permutation of that array is the permutation that follows it in the sorted container.\n",
    "\n",
    "If such an arrangement is not possible, the array must be rearranged as the\n",
    "lowest possible order (i.e., sorted in ascending order).\n",
    "\n",
    "● For example, the next permutation of arr = [1,2,3] is [1,3,2].\n",
    "● Similarly, the next permutation of arr = [2,3,1] is [3,1,2].\n",
    "● While the next permutation of arr = [3,2,1] is [1,2,3] because [3,2,1] does not\n",
    "have a lexicographical larger rearrangement.\n",
    "\n",
    "Given an array of integers nums, find the next permutation of nums.\n",
    "The replacement must be in place and use only constant extra memory.\n",
    "\n",
    "**Example 1:**\n",
    "Input: nums = [1,2,3]\n",
    "Output: [1,3,2]\n",
    "\n",
    "</aside>"
   ]
  },
  {
   "cell_type": "code",
   "execution_count": 27,
   "id": "137b0e49-966a-4c22-93f7-ad70315cbcb5",
   "metadata": {},
   "outputs": [
    {
     "name": "stdout",
     "output_type": "stream",
     "text": [
      "[1, 3, 2]\n"
     ]
    }
   ],
   "source": [
    "def nextpre(nums):\n",
    "    i=len(nums)-1\n",
    "    while i>0 and nums[i-1]>=nums[i]:\n",
    "        i=i-1\n",
    "    if i<1:\n",
    "        nums[:]=nums[::-1]\n",
    "    else:\n",
    "        j=len(nums)-1\n",
    "        while nums[j]<=nums[i-1]:\n",
    "            j=j-1\n",
    "        nums[i-1], nums[j]= nums[j], nums[i-1]\n",
    "        nums[i:]=reversed(nums[i:])\n",
    "    return nums\n",
    "            \n",
    "print(nextpre([1,2,3]))"
   ]
  },
  {
   "cell_type": "code",
   "execution_count": null,
   "id": "b4e47add-16ec-4ffc-83a8-019ee5386959",
   "metadata": {},
   "outputs": [],
   "source": [
    "<aside>\n",
    "💡 **Question 4**\n",
    "Given a sorted array of distinct integers and a target value, return the index if the\n",
    "target is found. If not, return the index where it would be if it were inserted in\n",
    "order.\n",
    "\n",
    "You must write an algorithm with O(log n) runtime complexity.\n",
    "\n",
    "**Example 1:**\n",
    "Input: nums = [1,3,5,6], target = 5\n",
    "Output: 2\n",
    "\n",
    "</aside>\n"
   ]
  },
  {
   "cell_type": "code",
   "execution_count": 5,
   "id": "598bdcf9-8701-410b-b4b4-1d144dbdbf19",
   "metadata": {},
   "outputs": [
    {
     "name": "stdout",
     "output_type": "stream",
     "text": [
      "2\n"
     ]
    }
   ],
   "source": [
    "def findele(ls,m):\n",
    "    l=0\n",
    "    k=len(ls)-1\n",
    "    if(m>ls[k]):\n",
    "        return len(ls)\n",
    "    if(m<ls[0]):\n",
    "        return 0\n",
    "    while(l<=k):\n",
    "        g=(l+k)//2\n",
    "        if(ls[g]==m):\n",
    "           return g\n",
    "        if(ls[g]<m):\n",
    "            l=g+1\n",
    "        if(ls[g]>m):\n",
    "            k=g-1\n",
    "    return l\n",
    "\n",
    "r=findele([1,3,5,6],5)\n",
    "print(r)"
   ]
  },
  {
   "cell_type": "code",
   "execution_count": null,
   "id": "e70266c5-0e34-4269-83a7-03b16ec96aea",
   "metadata": {},
   "outputs": [],
   "source": [
    "<aside>\n",
    "💡 **Question 5**\n",
    "You are given a large integer represented as an integer array digits, where each\n",
    "digits[i] is the ith digit of the integer. The digits are ordered from most significant\n",
    "to least significant in left-to-right order. The large integer does not contain any\n",
    "leading 0's.\n",
    "\n",
    "Increment the large integer by one and return the resulting array of digits.\n",
    "\n",
    "**Example 1:**\n",
    "Input: digits = [1,2,3]\n",
    "Output: [1,2,4]\n",
    "\n",
    "**Explanation:** The array represents the integer 123.\n",
    "Incrementing by one gives 123 + 1 = 124.\n",
    "Thus, the result should be [1,2,4].\n",
    "\n",
    "</aside>"
   ]
  },
  {
   "cell_type": "code",
   "execution_count": 8,
   "id": "22d6208f-2710-47a2-a737-df4e1e719ba9",
   "metadata": {},
   "outputs": [
    {
     "name": "stdout",
     "output_type": "stream",
     "text": [
      "[1, 2, 4]\n"
     ]
    }
   ],
   "source": [
    "def nextnum(dig):\n",
    "    num = int(\"\".join([str(digit) for digit in dig]))+1\n",
    "    return [int(digit) for digit in str(num)]\n",
    "print(nextnum([1,2,3]))"
   ]
  },
  {
   "cell_type": "code",
   "execution_count": null,
   "id": "3755b0c2-0e54-4279-9d5c-ba2818dbf103",
   "metadata": {},
   "outputs": [],
   "source": [
    "<aside>\n",
    "💡 **Question 6**\n",
    "Given a non-empty array of integers nums, every element appears twice except\n",
    "for one. Find that single one.\n",
    "\n",
    "You must implement a solution with a linear runtime complexity and use only\n",
    "constant extra space.\n",
    "\n",
    "**Example 1:**\n",
    "Input: nums = [2,2,1]\n",
    "Output: 1\n",
    "\n",
    "</aside>"
   ]
  },
  {
   "cell_type": "code",
   "execution_count": 13,
   "id": "d1c9d5d3-ec8e-460d-bc6d-702e881d1e96",
   "metadata": {},
   "outputs": [
    {
     "name": "stdout",
     "output_type": "stream",
     "text": [
      "1\n"
     ]
    }
   ],
   "source": [
    "def single(lst):\n",
    "    ans=0\n",
    "    for i in lst:\n",
    "        ans^=i\n",
    "    return ans\n",
    "\n",
    "print(single([2,2,1]))"
   ]
  },
  {
   "cell_type": "code",
   "execution_count": null,
   "id": "5204a68d-18cb-4791-82e6-47096dc6fcae",
   "metadata": {},
   "outputs": [],
   "source": [
    "<aside>\n",
    "💡 **Question 7**\n",
    "You are given an inclusive range [lower, upper] and a sorted unique integer array\n",
    "nums, where all elements are within the inclusive range.\n",
    "\n",
    "A number x is considered missing if x is in the range [lower, upper] and x is not in\n",
    "nums.\n",
    "\n",
    "Return the shortest sorted list of ranges that exactly covers all the missing\n",
    "numbers. That is, no element of nums is included in any of the ranges, and each\n",
    "missing number is covered by one of the ranges.\n",
    "\n",
    "**Example 1:**\n",
    "Input: nums = [0,1,3,50,75], lower = 0, upper = 99\n",
    "Output: [[2,2],[4,49],[51,74],[76,99]]\n",
    "\n",
    "**Explanation:** The ranges are:\n",
    "[2,2]\n",
    "[4,49]\n",
    "[51,74]\n",
    "[76,99]\n",
    "\n",
    "</aside>"
   ]
  },
  {
   "cell_type": "code",
   "execution_count": 9,
   "id": "d0b0be57-6700-4f3d-8db6-93b81d57212a",
   "metadata": {},
   "outputs": [
    {
     "name": "stdout",
     "output_type": "stream",
     "text": [
      "[[2, 2], [4, 49], [51, 74], [76, 99]]\n"
     ]
    }
   ],
   "source": [
    "def ranarry(nums,low,high):\n",
    "    ans=[]\n",
    "    n=len(nums)\n",
    "    for i in range(n):\n",
    "        r=[]\n",
    "        if i==0:\n",
    "            if low-nums[i]<0:\n",
    "                r.append(low)\n",
    "                r.append(nums[i]-1)\n",
    "                ans.append(r)\n",
    "        else:\n",
    "            if nums[i]-nums[i-1]>1:\n",
    "                r.append(nums[i-1]+1)\n",
    "                r.append(nums[i]-1)\n",
    "                ans.append(r)\n",
    "    r=[]\n",
    "    if(high-nums[n-1]>0):\n",
    "        r.append(nums[n-1]+1)\n",
    "        r.append(high)\n",
    "        ans.append(r)\n",
    "                \n",
    "    return ans\n",
    "    \n",
    "print(ranarry([0,1,3,50,75],0,99))\n",
    "            "
   ]
  },
  {
   "cell_type": "code",
   "execution_count": null,
   "id": "61f94bd2-b749-406d-b60b-9b52d8742a76",
   "metadata": {},
   "outputs": [],
   "source": [
    "<aside>\n",
    "💡 **Question 8**\n",
    "Given an array of meeting time intervals where intervals[i] = [starti, endi],\n",
    "determine if a person could attend all meetings.\n",
    "\n",
    "**Example 1:**\n",
    "Input: intervals = [[0,30],[5,10],[15,20]]\n",
    "Output: false\n",
    "\n",
    "</aside>"
   ]
  },
  {
   "cell_type": "code",
   "execution_count": 22,
   "id": "34b65507-f007-4ae9-bed6-41cae9071c22",
   "metadata": {},
   "outputs": [
    {
     "name": "stdout",
     "output_type": "stream",
     "text": [
      "False\n"
     ]
    }
   ],
   "source": [
    "def attendAllmeeting(lst):\n",
    "    lst.sort(key = lambda x:x[1])\n",
    "    for i in range(1,len(lst)):\n",
    "        if lst[i][0]<lst[i-1][1]:\n",
    "            return False\n",
    "    return True\n",
    "\n",
    "print(attendAllmeeting([[0,30],[5,10],[15,20]]))"
   ]
  }
 ],
 "metadata": {
  "kernelspec": {
   "display_name": "Python 3 (ipykernel)",
   "language": "python",
   "name": "python3"
  },
  "language_info": {
   "codemirror_mode": {
    "name": "ipython",
    "version": 3
   },
   "file_extension": ".py",
   "mimetype": "text/x-python",
   "name": "python",
   "nbconvert_exporter": "python",
   "pygments_lexer": "ipython3",
   "version": "3.10.8"
  }
 },
 "nbformat": 4,
 "nbformat_minor": 5
}
