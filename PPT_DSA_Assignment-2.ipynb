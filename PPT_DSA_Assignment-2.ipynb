{
 "cells": [
  {
   "cell_type": "code",
   "execution_count": null,
   "id": "dadeb73a-db71-4783-8494-9b6189d82f95",
   "metadata": {},
   "outputs": [],
   "source": [
    "<aside>\n",
    "💡 **Question 1**\n",
    "Given an integer array nums of 2n integers, group these integers into n pairs (a1, b1), (a2, b2),..., (an, bn) such that \n",
    "the sum of min(ai, bi) for all i is maximized. Return the maximized sum.\n",
    "\n",
    "**Example 1:**\n",
    "Input: nums = [1,4,3,2]\n",
    "Output: 4\n",
    "\n",
    "**Explanation:** All possible pairings (ignoring the ordering of elements) are:\n",
    "\n",
    "1. (1, 4), (2, 3) -> min(1, 4) + min(2, 3) = 1 + 2 = 3\n",
    "2. (1, 3), (2, 4) -> min(1, 3) + min(2, 4) = 1 + 2 = 3\n",
    "3. (1, 2), (3, 4) -> min(1, 2) + min(3, 4) = 1 + 3 = 4\n",
    "So the maximum possible sum is 4\n",
    "</aside>\n"
   ]
  },
  {
   "cell_type": "code",
   "execution_count": 1,
   "id": "dd9856eb-5c22-4eb8-983f-513afe750325",
   "metadata": {},
   "outputs": [
    {
     "name": "stdout",
     "output_type": "stream",
     "text": [
      "4\n"
     ]
    }
   ],
   "source": [
    "def maxsum(lst):\n",
    "    lst.sort()\n",
    "    sum = 0\n",
    "    for i in lst[::2]:\n",
    "        sum += i\n",
    "    return sum\n",
    "\n",
    "print(maxsum([1,4,3,2]))"
   ]
  },
  {
   "cell_type": "code",
   "execution_count": null,
   "id": "239acb2a-7573-4ace-aa90-f6e98729d1c7",
   "metadata": {},
   "outputs": [],
   "source": [
    "<aside>\n",
    "💡 **Question 2**\n",
    "Alice has n candies, where the ith candy is of type candyType[i]. Alice noticed that she started to gain weight, so she visited a doctor. \n",
    "\n",
    "The doctor advised Alice to only eat n / 2 of the candies she has (n is always even). Alice likes her candies very much, and she wants \n",
    "to eat the maximum number of different types of candies while still following the doctor's advice. \n",
    "\n",
    "Given the integer array candyType of length n, return the maximum number of different types of candies she can eat if she only eats n / 2 \n",
    "of them.\n",
    "\n",
    "**Example 1:**\n",
    "Input: candyType = [1,1,2,2,3,3]\n",
    "Output: 3\n",
    "\n",
    "**Explanation**: Alice can only eat 6 / 2 = 3 candies. Since there are only 3 types, she can eat one of each type.\n",
    "\n",
    "</aside>"
   ]
  },
  {
   "cell_type": "code",
   "execution_count": 13,
   "id": "c3baa7e9-b1e8-466c-b336-964e16cb52fb",
   "metadata": {},
   "outputs": [
    {
     "name": "stdout",
     "output_type": "stream",
     "text": [
      "3\n"
     ]
    }
   ],
   "source": [
    "def candy(candytype):\n",
    "    uniq=len(set(candytype))\n",
    "    return min (uniq,len(candytype)//2)\n",
    "\n",
    "print(candy([1,1,2,2,3,3]))"
   ]
  },
  {
   "cell_type": "code",
   "execution_count": null,
   "id": "b10215da-3174-4457-ab87-704a183f5713",
   "metadata": {},
   "outputs": [],
   "source": [
    "aside>\n",
    "💡 **Question 3**\n",
    "We define a harmonious array as an array where the difference between its maximum value\n",
    "and its minimum value is exactly 1.\n",
    "\n",
    "Given an integer array nums, return the length of its longest harmonious subsequence\n",
    "among all its possible subsequences.\n",
    "\n",
    "A subsequence of an array is a sequence that can be derived from the array by deleting some or no elements without changing the \n",
    "order of the remaining elements.\n",
    "\n",
    "**Example 1:**\n",
    "Input: nums = [1,3,2,2,5,2,3,7]\n",
    "Output: 5\n",
    "\n",
    "**Explanation:** The longest harmonious subsequence is [3,2,2,2,3].\n",
    "\n",
    "</aside>"
   ]
  },
  {
   "cell_type": "code",
   "execution_count": 16,
   "id": "49bdbbb0-87d3-4c52-b2b5-5e61a57df483",
   "metadata": {},
   "outputs": [
    {
     "name": "stdout",
     "output_type": "stream",
     "text": [
      "5\n"
     ]
    }
   ],
   "source": [
    "from collections import Counter\n",
    "def hsum(nums):\n",
    "        ans = 0\n",
    "        counter = Counter(nums)\n",
    "        for num, freq in counter.items():\n",
    "            if num + 1 in counter:\n",
    "                ans = max(ans, freq + counter[num + 1])\n",
    "        \n",
    "        return ans\n",
    "    \n",
    "print(hsum([1,3,2,2,5,2,3,7]))"
   ]
  },
  {
   "cell_type": "code",
   "execution_count": null,
   "id": "50ec5e05-c7dd-47a6-8551-921aea1ad903",
   "metadata": {},
   "outputs": [],
   "source": [
    "<aside>\n",
    "💡 **Question 4**\n",
    "You have a long flowerbed in which some of the plots are planted, and some are not.\n",
    "However, flowers cannot be planted in adjacent plots.\n",
    "Given an integer array flowerbed containing 0's and 1's, where 0 means empty and 1 means not empty, and an integer n, return true if n new \n",
    "flowers can be planted in the flowerbed without violating the no-adjacent-flowers rule and false otherwise.\n",
    "\n",
    "**Example 1:**\n",
    "Input: flowerbed = [1,0,0,0,1], n = 1\n",
    "Output: true\n",
    "\n",
    "</aside>"
   ]
  },
  {
   "cell_type": "code",
   "execution_count": 11,
   "id": "55e790ee-29a6-441e-add5-44cf2e8e48fc",
   "metadata": {},
   "outputs": [
    {
     "name": "stdout",
     "output_type": "stream",
     "text": [
      "True\n"
     ]
    }
   ],
   "source": [
    "def flowerbed(flw,n):\n",
    "    if n == 0:\n",
    "        return True\n",
    "    for i in range(len(flw)):\n",
    "        if flw[i] == 0 and (i == 0 or flw[i-1] == 0) and (i == len(flw)-1 or flw[i+1] == 0):\n",
    "            flw[i] = 1\n",
    "            n -= 1\n",
    "            if n == 0:\n",
    "                return True\n",
    "    return False\n",
    "    \n",
    "print(flowerbed([1,0,0,0,1],1))"
   ]
  },
  {
   "cell_type": "code",
   "execution_count": null,
   "id": "594de23d-5e46-4cb7-8901-70b72a3a0e7f",
   "metadata": {},
   "outputs": [],
   "source": [
    "Question 5\n",
    "Given an integer array nums, find three numbers whose product is maximum and return the maximum product.\n",
    "\n",
    "Example 1:\n",
    "Input: nums = [1,2,3]\n",
    "Output: 6"
   ]
  },
  {
   "cell_type": "code",
   "execution_count": 5,
   "id": "c1ad5055-9bb0-4dba-8da1-bd6c055125a9",
   "metadata": {},
   "outputs": [
    {
     "name": "stdout",
     "output_type": "stream",
     "text": [
      "6\n"
     ]
    }
   ],
   "source": [
    "def maxprod(nums):\n",
    "    if len(nums) == 3:\n",
    "            return nums[0] * nums[1] * nums[2]\n",
    "    max1 = max2 = max3 = -1000000\n",
    "    min1 = min2 = 1000000\n",
    "    for i in nums:\n",
    "        if i > max1:\n",
    "            max3 = max2\n",
    "            max2 = max1\n",
    "            max1 = i\n",
    "        elif i > max2:\n",
    "            max3 = max2\n",
    "            max2 = i\n",
    "        elif i > max3:\n",
    "            max3 = i\n",
    "        if i < min1:\n",
    "            min2 = min1\n",
    "            min1 = i\n",
    "        elif i < min2:\n",
    "            min2 = i\n",
    "    return max(max1 * max2 * max3, min1 * min2 * max1)\n",
    "\n",
    "print(maxprod([1,2,3]))\n",
    "    "
   ]
  },
  {
   "cell_type": "code",
   "execution_count": null,
   "id": "35c73179-cac1-42d6-a8ea-975bb3722837",
   "metadata": {},
   "outputs": [],
   "source": [
    "Question 6\n",
    "Given an array of integers nums which is sorted in ascending order, and an integer target,\n",
    "write a function to search target in nums. If target exists, then return its index. Otherwise,\n",
    "return -1.\n",
    "\n",
    "You must write an algorithm with O(log n) runtime complexity.\n",
    "\n",
    "Input: nums = [-1,0,3,5,9,12], target = 9\n",
    "Output: 4\n",
    "\n",
    "Explanation: 9 exists in nums and its index is 4"
   ]
  },
  {
   "cell_type": "code",
   "execution_count": 3,
   "id": "400f1739-91ae-489b-b4b8-6c5d64e7efc7",
   "metadata": {},
   "outputs": [
    {
     "name": "stdout",
     "output_type": "stream",
     "text": [
      "4\n"
     ]
    }
   ],
   "source": [
    "def trg(nums,n):\n",
    "    l=0\n",
    "    h=len(nums)-1\n",
    "    while (l<=h):\n",
    "        m=(l+h)//2\n",
    "        if(nums[m]==n):\n",
    "            return m\n",
    "        if(nums[m]>n):\n",
    "            h=m-1\n",
    "        if(nums[m]<n):\n",
    "            l=m+1\n",
    "    return -1\n",
    "\n",
    "print(trg([-1,0,3,5,9,12],9))"
   ]
  },
  {
   "cell_type": "code",
   "execution_count": null,
   "id": "3190f97a-20b1-4018-93a3-cf2e2eb4b396",
   "metadata": {},
   "outputs": [],
   "source": [
    "Question 7\n",
    "An array is monotonic if it is either monotone increasing or monotone decreasing.\n",
    "\n",
    "An array nums is monotone increasing if for all i <= j, nums[i] <= nums[j]. An array nums is\n",
    "monotone decreasing if for all i <= j, nums[i] >= nums[j].\n",
    "\n",
    "Given an integer array nums, return true if the given array is monotonic, or false otherwise.\n",
    "\n",
    "Example 1:\n",
    "Input: nums = [1,2,2,3]\n",
    "Output: true"
   ]
  },
  {
   "cell_type": "code",
   "execution_count": 24,
   "id": "e842d4f3-70e4-49b4-b93e-9e98eb3bedb8",
   "metadata": {},
   "outputs": [
    {
     "name": "stdout",
     "output_type": "stream",
     "text": [
      "True\n"
     ]
    }
   ],
   "source": [
    "def incdec(nums):\n",
    "    if(len(nums)==1):\n",
    "        return True\n",
    "    flg=False\n",
    "    for i in range(len(nums)-1):\n",
    "        if nums[i]<=nums[i+1]:\n",
    "            flg=True\n",
    "        else:\n",
    "            flg=False\n",
    "            break\n",
    "    if(flg==False):\n",
    "        for j in range(len(nums)-1):\n",
    "            if nums[j]>=nums[j+1]:\n",
    "                flg=True\n",
    "            else:\n",
    "                flg=False\n",
    "                break\n",
    "    if flg==True:\n",
    "        return True\n",
    "    else: \n",
    "        return False\n",
    "    \n",
    "print(incdec([1,2,2,3]))"
   ]
  },
  {
   "cell_type": "code",
   "execution_count": null,
   "id": "efc4bb46-af39-49a6-9bbd-cae1df60b606",
   "metadata": {},
   "outputs": [],
   "source": [
    "Question 8\n",
    "You are given an integer array nums and an integer k.\n",
    "\n",
    "In one operation, you can choose any index i where 0 <= i < nums.length and change nums[i] to nums[i] + x where x is an integer from \n",
    "the range [-k, k]. You can apply this operation at most once for each index i.\n",
    "\n",
    "The score of nums is the difference between the maximum and minimum elements in nums.\n",
    "\n",
    "Return the minimum score of nums after applying the mentioned operation at most once for each index in it.\n",
    "\n",
    "Example 1:\n",
    "Input: nums = [1], k = 0\n",
    "Output: 0\n",
    "\n",
    "Explanation: The score is max(nums) - min(nums) = 1 - 1 = 0."
   ]
  },
  {
   "cell_type": "code",
   "execution_count": 6,
   "id": "1ed2fbfa-b557-463c-8f20-30af84534650",
   "metadata": {},
   "outputs": [
    {
     "name": "stdout",
     "output_type": "stream",
     "text": [
      "0\n"
     ]
    }
   ],
   "source": [
    "def score(nums,k):\n",
    "    answer = max(nums) - min(nums)\n",
    "    if answer <= 2*k:\n",
    "        return 0\n",
    "    return answer - 2*k\n",
    "\n",
    "print(score([1],0))"
   ]
  },
  {
   "cell_type": "code",
   "execution_count": null,
   "id": "3d2973fb-f89b-4d09-9e02-b57160d2fcb5",
   "metadata": {},
   "outputs": [],
   "source": []
  }
 ],
 "metadata": {
  "kernelspec": {
   "display_name": "Python 3 (ipykernel)",
   "language": "python",
   "name": "python3"
  },
  "language_info": {
   "codemirror_mode": {
    "name": "ipython",
    "version": 3
   },
   "file_extension": ".py",
   "mimetype": "text/x-python",
   "name": "python",
   "nbconvert_exporter": "python",
   "pygments_lexer": "ipython3",
   "version": "3.10.8"
  }
 },
 "nbformat": 4,
 "nbformat_minor": 5
}
