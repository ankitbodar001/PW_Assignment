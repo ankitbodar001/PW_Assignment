{
 "cells": [
  {
   "cell_type": "code",
   "execution_count": null,
   "id": "2bb5e3df-2a80-4940-bfe7-0ec9f9bc4451",
   "metadata": {},
   "outputs": [],
   "source": [
    "Q1. What is an Exeption in python? Write the differene between Exeptions and syntax errors."
   ]
  },
  {
   "cell_type": "code",
   "execution_count": null,
   "id": "761a0b8a-fbcb-490c-8b4a-0d259750eee4",
   "metadata": {},
   "outputs": [],
   "source": [
    "-->An exception is an event, which occurs during the execution of a program that disrupts \n",
    "the normal flow of the program's instructions. In general, when a Python script encounters a \n",
    "situation that it cannot cope with, it raises an exception. An exception is a Python object \n",
    "that represents an error."
   ]
  },
  {
   "cell_type": "code",
   "execution_count": null,
   "id": "aef2a066-afa5-4daf-b370-b22aa13689ff",
   "metadata": {},
   "outputs": [],
   "source": [
    "Syntax Error: \n",
    "    As the name suggests this error is caused by the wrong syntax in the code. \n",
    "    It leads to the termination of the program.\n",
    "Exceptions: \n",
    "    Exceptions are raised when the program is syntactically correct, but the code results in \n",
    "    an error. This error does not stop the execution of the program, however, it changes the normal flow of the program."
   ]
  },
  {
   "cell_type": "code",
   "execution_count": null,
   "id": "fedffe02-f53f-4e94-a758-5d493899c8b3",
   "metadata": {},
   "outputs": [],
   "source": [
    "In Conclusion:\n",
    "    As mentioned above syntax error is raised when syntax used in code it wrong(misspelled keyword, \n",
    "    a missing colon, or an unbalanced parenthesis) but an Exception is raised when code is syntacticaly\n",
    "    correct but still results in error."
   ]
  },
  {
   "cell_type": "code",
   "execution_count": null,
   "id": "63118b6b-d868-4c90-afa5-faddbfb2e89b",
   "metadata": {},
   "outputs": [],
   "source": [
    "Q2. What happens when an exception is not handled? Explain with an example."
   ]
  },
  {
   "cell_type": "code",
   "execution_count": 1,
   "id": "6cc66ed6-010e-413d-8029-dc0cf58e76a4",
   "metadata": {},
   "outputs": [],
   "source": [
    "# When execption is not handle in the code then code will through an error and gets terminated\n",
    "# without processing remaining line present in the code\n",
    "# Here is the example\n",
    "def div(n):\n",
    "    a=n//0\n",
    "    print(\"code run successfully\")\n"
   ]
  },
  {
   "cell_type": "code",
   "execution_count": 2,
   "id": "1f7c20fc-484d-43e9-a2dc-737a3ba0aa78",
   "metadata": {},
   "outputs": [
    {
     "ename": "ZeroDivisionError",
     "evalue": "integer division or modulo by zero",
     "output_type": "error",
     "traceback": [
      "\u001b[0;31m---------------------------------------------------------------------------\u001b[0m",
      "\u001b[0;31mZeroDivisionError\u001b[0m                         Traceback (most recent call last)",
      "Cell \u001b[0;32mIn[2], line 1\u001b[0m\n\u001b[0;32m----> 1\u001b[0m \u001b[43mdiv\u001b[49m\u001b[43m(\u001b[49m\u001b[38;5;241;43m10\u001b[39;49m\u001b[43m)\u001b[49m\n",
      "Cell \u001b[0;32mIn[1], line 5\u001b[0m, in \u001b[0;36mdiv\u001b[0;34m(n)\u001b[0m\n\u001b[1;32m      4\u001b[0m \u001b[38;5;28;01mdef\u001b[39;00m \u001b[38;5;21mdiv\u001b[39m(n):\n\u001b[0;32m----> 5\u001b[0m     a\u001b[38;5;241m=\u001b[39m\u001b[43mn\u001b[49m\u001b[38;5;241;43m/\u001b[39;49m\u001b[38;5;241;43m/\u001b[39;49m\u001b[38;5;241;43m0\u001b[39;49m\n\u001b[1;32m      6\u001b[0m     \u001b[38;5;28mprint\u001b[39m(\u001b[38;5;124m\"\u001b[39m\u001b[38;5;124mcode run successfully\u001b[39m\u001b[38;5;124m\"\u001b[39m)\n",
      "\u001b[0;31mZeroDivisionError\u001b[0m: integer division or modulo by zero"
     ]
    }
   ],
   "source": [
    "div(10)"
   ]
  },
  {
   "cell_type": "code",
   "execution_count": null,
   "id": "37d56632-f462-45d1-b706-b989456236bf",
   "metadata": {},
   "outputs": [],
   "source": [
    "--> As mentioned above code throughs eeor at line 5 for (integer division or modulo by zero error)\n",
    "    and it gets terminated without proccessing line 6.\n",
    "    "
   ]
  },
  {
   "cell_type": "code",
   "execution_count": null,
   "id": "200f1447-1d0f-4d06-ab77-7011fb16dc8b",
   "metadata": {},
   "outputs": [],
   "source": [
    "Q3. Which Python statements are used to catch and handle exeptions? Explain with an exmple."
   ]
  },
  {
   "cell_type": "code",
   "execution_count": null,
   "id": "84284d2e-b15a-4ecd-acc1-daccc49e1566",
   "metadata": {},
   "outputs": [],
   "source": [
    "-->The try and except block in Python is used to catch and handle exceptions. \n",
    "Python executes code following the try statement as a “normal” part of the program. \n",
    "The code that follows the except statement is the program’s response to any exceptions in the preceding try clause."
   ]
  },
  {
   "cell_type": "code",
   "execution_count": 3,
   "id": "53a36d8d-d0b5-41cb-9b24-e2af447ef8c7",
   "metadata": {},
   "outputs": [
    {
     "name": "stdout",
     "output_type": "stream",
     "text": [
      "Second element = 2\n",
      "list index out of range\n"
     ]
    }
   ],
   "source": [
    "a = [1, 2, 3]\n",
    "try:\n",
    "    print (\"Second element = %d\" %(a[1]))\n",
    "    print (\"Fourth element = %d\" %(a[3])) # Throws error since there are only 3 elements in array\n",
    "    \n",
    "except Exception as e:\n",
    "    print (e)"
   ]
  },
  {
   "cell_type": "code",
   "execution_count": null,
   "id": "f2c2d71e-f06b-491f-819c-21a93993a8dc",
   "metadata": {},
   "outputs": [],
   "source": [
    "'''In the above example, the statements that can cause the error are placed inside the try statement \n",
    "(second print statement in our case). The second print statement tries to access the fourth element \n",
    "of the list which is not there and this throws an exception. This exception is then caught by the except statement.'''"
   ]
  },
  {
   "cell_type": "code",
   "execution_count": null,
   "id": "08e62328-f2dd-4772-a6ca-53a021ff24a7",
   "metadata": {},
   "outputs": [],
   "source": [
    "Q4.Explain with an exmple."
   ]
  },
  {
   "cell_type": "code",
   "execution_count": null,
   "id": "a7b47324-9c2f-4f8f-b682-7f2bfe89b161",
   "metadata": {},
   "outputs": [],
   "source": [
    "A) Try and else:\n",
    "    In Python, you can also use the else clause on the try-except block which must be present \n",
    "    after all the except clauses. The code enters the else block only if the try clause does \n",
    "    not raise an exception."
   ]
  },
  {
   "cell_type": "code",
   "execution_count": 8,
   "id": "e60f6d79-32c3-4659-9089-23c5046d384a",
   "metadata": {},
   "outputs": [
    {
     "name": "stdout",
     "output_type": "stream",
     "text": [
      "-5.0\n",
      "float division by zero\n"
     ]
    }
   ],
   "source": [
    "#example\n",
    "def test(a , b):\n",
    "    try:\n",
    "        c = ((a+b) / (a-b))\n",
    "    except Exception as e:\n",
    "        print (e)\n",
    "    else:\n",
    "        print (c)\n",
    "            \n",
    "# Driver program to test above function\n",
    "test(2.0, 3.0)\n",
    "test(3.0, 3.0)"
   ]
  },
  {
   "cell_type": "code",
   "execution_count": null,
   "id": "064487d4-4456-412f-9f82-7eac23890b06",
   "metadata": {},
   "outputs": [],
   "source": [
    "B) Finally:\n",
    "    Python provides a keyword finally, which is always executed after the try and except blocks. \n",
    "    The final block always executes after the normal termination of the try block or after the try \n",
    "    block terminates due to some exception."
   ]
  },
  {
   "cell_type": "code",
   "execution_count": 9,
   "id": "100b9e94-5ccd-436d-b8d9-3b5b49a5bb3c",
   "metadata": {},
   "outputs": [
    {
     "name": "stdout",
     "output_type": "stream",
     "text": [
      "Can't divide by zero\n",
      "This is always executed\n"
     ]
    }
   ],
   "source": [
    "try:\n",
    "    k = 5//0  # raises divide by zero exception.\n",
    "    print(k)\n",
    "\n",
    "except ZeroDivisionError:\n",
    "    print(\"Can't divide by zero\")\n",
    "\n",
    "finally:\n",
    "    print('This is always executed')"
   ]
  },
  {
   "cell_type": "code",
   "execution_count": null,
   "id": "2d95a844-ac7d-4b02-b257-cd11d20342fa",
   "metadata": {},
   "outputs": [],
   "source": [
    "C) Raise:\n",
    "    The raise statement allows the programmer to force a specific exception to occur. The sole \n",
    "    argument in raise indicates the exception to be raised."
   ]
  },
  {
   "cell_type": "code",
   "execution_count": 10,
   "id": "e91506ce-d71f-42ea-9fb2-1426d2c6572c",
   "metadata": {},
   "outputs": [
    {
     "name": "stdout",
     "output_type": "stream",
     "text": [
      "An exception\n"
     ]
    },
    {
     "ename": "NameError",
     "evalue": "Hi there",
     "output_type": "error",
     "traceback": [
      "\u001b[0;31m---------------------------------------------------------------------------\u001b[0m",
      "\u001b[0;31mNameError\u001b[0m                                 Traceback (most recent call last)",
      "Cell \u001b[0;32mIn[10], line 2\u001b[0m\n\u001b[1;32m      1\u001b[0m \u001b[38;5;28;01mtry\u001b[39;00m:\n\u001b[0;32m----> 2\u001b[0m     \u001b[38;5;28;01mraise\u001b[39;00m \u001b[38;5;167;01mNameError\u001b[39;00m(\u001b[38;5;124m\"\u001b[39m\u001b[38;5;124mHi there\u001b[39m\u001b[38;5;124m\"\u001b[39m)  \u001b[38;5;66;03m# Raise Error\u001b[39;00m\n\u001b[1;32m      3\u001b[0m \u001b[38;5;28;01mexcept\u001b[39;00m \u001b[38;5;167;01mNameError\u001b[39;00m:\n\u001b[1;32m      4\u001b[0m     \u001b[38;5;28mprint\u001b[39m (\u001b[38;5;124m\"\u001b[39m\u001b[38;5;124mAn exception\u001b[39m\u001b[38;5;124m\"\u001b[39m)\n",
      "\u001b[0;31mNameError\u001b[0m: Hi there"
     ]
    }
   ],
   "source": [
    "try:\n",
    "    raise NameError(\"Hi there\")  # Raise Error\n",
    "except NameError:\n",
    "    print (\"An exception\")\n",
    "    raise  # To determine whether the exception was raised or not"
   ]
  },
  {
   "cell_type": "code",
   "execution_count": null,
   "id": "042b45f4-64d5-4a09-9e1a-570fd37b2922",
   "metadata": {},
   "outputs": [],
   "source": [
    "#The output of the above code will simply line printed as “An exception” but a Runtime \n",
    "#error will also occur in the last due to the raise statement in the last line."
   ]
  },
  {
   "cell_type": "code",
   "execution_count": null,
   "id": "3693db43-1936-43db-bfdd-63c412d9dfca",
   "metadata": {},
   "outputs": [],
   "source": [
    "Q5. What are Custom Exceptions in python? Why do we need Custom Exceptions? Explain with an example."
   ]
  },
  {
   "cell_type": "code",
   "execution_count": null,
   "id": "036b1b53-c2ed-44a8-b854-4372cb09f79e",
   "metadata": {},
   "outputs": [],
   "source": [
    "-->What are Custom Exceptions in python? Why do we need Custom Exceptions?\n",
    "'''Sometimes based on project requirement, a programmer needs to create his own exceptions \n",
    "and raise explicitly for corresponding scenarios. Such types of exceptions are called customized \n",
    "Exceptions or Programmatic Exceptions. We can raise a custom exception by using the keyword ‘raise’.'''"
   ]
  },
  {
   "cell_type": "code",
   "execution_count": 15,
   "id": "de2d8e48-ca6e-4450-a536-d0241bdd41d8",
   "metadata": {},
   "outputs": [
    {
     "name": "stdin",
     "output_type": "stream",
     "text": [
      "Enter age:  -8\n"
     ]
    },
    {
     "name": "stdout",
     "output_type": "stream",
     "text": [
      "You provided -8. Age can not be negative\n"
     ]
    }
   ],
   "source": [
    "#Example\n",
    "class NegativeError(Exception):\n",
    "   def __init__(self, data):\n",
    "       self.data = data\n",
    "try:\n",
    "   x = int(input(\"Enter age: \"))\n",
    "   if x < 0:\n",
    "       raise NegativeError(x)\n",
    "except NegativeError as e:\n",
    "   print(\"You provided {}. Age can not be negative\".format(e))"
   ]
  },
  {
   "cell_type": "code",
   "execution_count": null,
   "id": "02e1d6ca-6c43-490b-856a-79ac9c3e0d9b",
   "metadata": {},
   "outputs": [],
   "source": [
    "#Here we can see that we have provided input as per input type(int) but still we an error was raised\n",
    "# thorugh excetion that as per program/prject's requirment negative age is not possible "
   ]
  },
  {
   "cell_type": "code",
   "execution_count": null,
   "id": "eccf6de7-cfc6-4fc4-9720-6f4ced799a58",
   "metadata": {},
   "outputs": [],
   "source": [
    "Q6. Create custom exception class. Use this class to handle an exception."
   ]
  },
  {
   "cell_type": "code",
   "execution_count": 18,
   "id": "c1789b86-836c-4ae1-8298-f8e8481d4436",
   "metadata": {},
   "outputs": [
    {
     "name": "stdin",
     "output_type": "stream",
     "text": [
      "Enter a number:  0\n"
     ]
    },
    {
     "name": "stdout",
     "output_type": "stream",
     "text": [
      "Input value is zero, try again!\n",
      "\n"
     ]
    }
   ],
   "source": [
    "# define Python user-defined exceptions\n",
    "class Error(Exception):\n",
    "    \"\"\"Base class for other exceptions\"\"\"\n",
    "    pass\n",
    " \n",
    "class zerodivision(Error):\n",
    "    \"\"\"Raised when the input value is zero\"\"\"\n",
    "    pass\n",
    " \n",
    "try:\n",
    "    i_num = int(input(\"Enter a number: \"))\n",
    "    if i_num == 0:\n",
    "        raise zerodivision\n",
    "except zerodivision:\n",
    "    print(\"Input value is zero, try again!\")\n",
    "    print()"
   ]
  },
  {
   "cell_type": "code",
   "execution_count": null,
   "id": "0be2d305-b1f5-41c5-9d6e-334c72459f99",
   "metadata": {},
   "outputs": [],
   "source": [
    "#In above example We have created a class named “Error” derived from the class Exception. \n",
    "#This base class is inherited by various user-defined classes to handle different types of \n",
    "#python raise an exception with message"
   ]
  }
 ],
 "metadata": {
  "kernelspec": {
   "display_name": "Python 3 (ipykernel)",
   "language": "python",
   "name": "python3"
  },
  "language_info": {
   "codemirror_mode": {
    "name": "ipython",
    "version": 3
   },
   "file_extension": ".py",
   "mimetype": "text/x-python",
   "name": "python",
   "nbconvert_exporter": "python",
   "pygments_lexer": "ipython3",
   "version": "3.10.8"
  }
 },
 "nbformat": 4,
 "nbformat_minor": 5
}
