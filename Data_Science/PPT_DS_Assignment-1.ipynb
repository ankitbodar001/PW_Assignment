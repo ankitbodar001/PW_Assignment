{
 "cells": [
  {
   "cell_type": "code",
   "execution_count": 1,
   "id": "6d6706a9-fe42-435b-abb6-66fc9c39be6c",
   "metadata": {},
   "outputs": [
    {
     "data": {
      "text/plain": [
       "[4, 3, 2, 1]"
      ]
     },
     "execution_count": 1,
     "metadata": {},
     "output_type": "execute_result"
    }
   ],
   "source": [
    "'''1. Write a Python program to reverse a string without using any built-in string reversal functions.'''\n",
    "\n",
    "mylist=[1,2,3,4]\n",
    "myrevlist=mylist[::-1]\n",
    "myrevlist"
   ]
  },
  {
   "cell_type": "code",
   "execution_count": 5,
   "id": "1e01d74e-0e70-4f10-aa03-d3ac944887fb",
   "metadata": {},
   "outputs": [
    {
     "data": {
      "text/plain": [
       "'True'"
      ]
     },
     "execution_count": 5,
     "metadata": {},
     "output_type": "execute_result"
    }
   ],
   "source": [
    "'''2. Implement a function to check if a given string is a palindrome.'''\n",
    "def checkPalindrome(s):\n",
    "    return \"True\" if s==s[::-1] else \"False\"\n",
    "\n",
    "checkPalindrome('121')"
   ]
  },
  {
   "cell_type": "code",
   "execution_count": 1,
   "id": "9b8aa410-99e4-44c3-b17a-87ddafaead0d",
   "metadata": {},
   "outputs": [
    {
     "data": {
      "text/plain": [
       "4"
      ]
     },
     "execution_count": 1,
     "metadata": {},
     "output_type": "execute_result"
    }
   ],
   "source": [
    "'''3. Write a program to find the largest element in a given list.'''\n",
    "mylist1=[1,2,3,4]\n",
    "maxele=max(mylist1)\n",
    "maxele\n"
   ]
  },
  {
   "cell_type": "code",
   "execution_count": 2,
   "id": "f664691e-aec9-4135-8111-92b60420c923",
   "metadata": {},
   "outputs": [
    {
     "name": "stdout",
     "output_type": "stream",
     "text": [
      "Counter({2: 3, 1: 2, 3: 2, 4: 1, 5: 1})\n"
     ]
    }
   ],
   "source": [
    "'''4. Implement a function to count the occurrence of each element in a list.'''\n",
    "from collections import Counter\n",
    "\n",
    "my_list = [1, 2, 3, 4, 2, 2, 3, 1, 5]\n",
    "counts = Counter(my_list)\n",
    "\n",
    "print(counts)\n"
   ]
  },
  {
   "cell_type": "code",
   "execution_count": 4,
   "id": "ef153f6b-1faf-4ce5-8271-aba13bb9bcf5",
   "metadata": {},
   "outputs": [
    {
     "data": {
      "text/plain": [
       "67"
      ]
     },
     "execution_count": 4,
     "metadata": {},
     "output_type": "execute_result"
    }
   ],
   "source": [
    "'''5. Write a Python program to find the second largest number in a list.'''\n",
    "lst=[12,3,4,55,67,7,68]\n",
    "lst.sort()\n",
    "second_largest=lst[-2]\n",
    "\n",
    "second_largest"
   ]
  },
  {
   "cell_type": "code",
   "execution_count": 8,
   "id": "ec80fab5-fa85-4bc6-a0e3-7200096e18bb",
   "metadata": {},
   "outputs": [
    {
     "name": "stdout",
     "output_type": "stream",
     "text": [
      "[1, 2, 3, 4, 5, 6, 7]\n"
     ]
    }
   ],
   "source": [
    "'''6. Implement a function to remove duplicate elements from a list.'''\n",
    "def removedul(l):\n",
    "    l=list(set(l))\n",
    "    return l\n",
    "\n",
    "print(removedul([1,2,2,3,4,5,5,5,6,7]))\n",
    "\n"
   ]
  },
  {
   "cell_type": "code",
   "execution_count": 12,
   "id": "d1e344b6-f6e9-403f-b625-bcc99b5972ef",
   "metadata": {},
   "outputs": [
    {
     "name": "stdout",
     "output_type": "stream",
     "text": [
      "120\n"
     ]
    }
   ],
   "source": [
    "'''7. Write a program to calculate the factorial of a given number.'''\n",
    "def fac(n):\n",
    "    if n<=1:\n",
    "        return 1\n",
    "    else:\n",
    "        return n*fac(n-1)\n",
    "\n",
    "print(fac(5))\n"
   ]
  },
  {
   "cell_type": "code",
   "execution_count": 32,
   "id": "e2436c7b-1d25-472b-9305-ebc91cc4ea59",
   "metadata": {},
   "outputs": [
    {
     "name": "stdout",
     "output_type": "stream",
     "text": [
      "Prime\n"
     ]
    }
   ],
   "source": [
    "'''8. Implement a function to check if a given number is prime.'''\n",
    "import math\n",
    "def checkPrime(m):\n",
    "    if m==2 or m==3:\n",
    "        return 'Prime'\n",
    "    for i in range(2,int(math.sqrt(m))+1):\n",
    "        if m%i==0:\n",
    "            return 'Not Prime'\n",
    "        else:\n",
    "            return 'Prime'\n",
    "\n",
    "print(checkPrime(5))"
   ]
  },
  {
   "cell_type": "code",
   "execution_count": 33,
   "id": "21c9ad2c-5007-45e5-a0c1-10421f0c539d",
   "metadata": {},
   "outputs": [
    {
     "data": {
      "text/plain": [
       "[3, 4, 7, 12, 55, 67, 68]"
      ]
     },
     "execution_count": 33,
     "metadata": {},
     "output_type": "execute_result"
    }
   ],
   "source": [
    "'''9. Write a Python program to sort a list of integers in ascending order.'''\n",
    "lst=[12,3,4,55,67,7,68]\n",
    "lst.sort()\n",
    "lst\n"
   ]
  },
  {
   "cell_type": "code",
   "execution_count": 36,
   "id": "44479e44-1573-4465-9a2a-b34c4aa19883",
   "metadata": {},
   "outputs": [
    {
     "name": "stdout",
     "output_type": "stream",
     "text": [
      "216\n"
     ]
    }
   ],
   "source": [
    "'''10. Implement a function to find the sum of all numbers in a list.'''\n",
    "def sumarr(arr):\n",
    "    sum=0\n",
    "    for i in arr:\n",
    "        sum+=i\n",
    "    return sum\n",
    "\n",
    "print(sumarr([12,3,4,55,67,7,68]))\n",
    "\n",
    "#my_list = [1, 2, 3, 4, 5]\n",
    "#total_sum = sum(my_list)"
   ]
  },
  {
   "cell_type": "code",
   "execution_count": 37,
   "id": "94d1e00b-b431-4034-95eb-303291cd39aa",
   "metadata": {},
   "outputs": [
    {
     "name": "stdout",
     "output_type": "stream",
     "text": [
      "[4, 5]\n"
     ]
    }
   ],
   "source": [
    "'''11. Write a program to find the common elements between two lists.'''\n",
    "def find_common_elements(list1, list2):\n",
    "    set1 = set(list1)\n",
    "    set2 = set(list2)\n",
    "    common_elements = set1.intersection(set2)\n",
    "    return list(common_elements)\n",
    "\n",
    "# Example usage\n",
    "list1 = [1, 2, 3, 4, 5]\n",
    "list2 = [4, 5, 6, 7, 8]\n",
    "common_elements = find_common_elements(list1, list2)\n",
    "print(common_elements)"
   ]
  },
  {
   "cell_type": "code",
   "execution_count": 39,
   "id": "e60c3d48-6f19-4c6f-acf0-670771b13118",
   "metadata": {},
   "outputs": [
    {
     "name": "stdout",
     "output_type": "stream",
     "text": [
      "Strings are anagrams.\n"
     ]
    }
   ],
   "source": [
    "'''12. Implement a function to check if a given string is an anagram of another string.'''\n",
    "def is_anagram(str1, str2):\n",
    "    \n",
    "    if sorted(str1.lower()) == sorted(str2.lower()):\n",
    "        return \"Strings are anagrams.\"\n",
    "    else:\n",
    "        return \"Strings are not anagrams.\"\n",
    "\n",
    "# Example usage\n",
    "string1 = \"listen\"\n",
    "string2 = \"silent\"\n",
    "\n",
    "print(is_anagram(string1, string2))\n",
    "\n"
   ]
  },
  {
   "cell_type": "code",
   "execution_count": 40,
   "id": "b16b9505-7302-44c1-84de-bb817ea62409",
   "metadata": {},
   "outputs": [
    {
     "name": "stdout",
     "output_type": "stream",
     "text": [
      "Permutations: ['abc', 'acb', 'bac', 'bca', 'cab', 'cba']\n"
     ]
    }
   ],
   "source": [
    "'''13. Write a Python program to generate all permutations of a given string.'''\n",
    "from itertools import permutations\n",
    "\n",
    "def generate_permutations(string):\n",
    "\n",
    "    perms = permutations(string)\n",
    "    \n",
    "    perm_list = [''.join(perm) for perm in perms]\n",
    "    \n",
    "    return perm_list\n",
    "\n",
    "# Example usage\n",
    "input_string = \"abc\"\n",
    "permutations_list = generate_permutations(input_string)\n",
    "print(\"Permutations:\", permutations_list)\n",
    "\n"
   ]
  },
  {
   "cell_type": "code",
   "execution_count": 43,
   "id": "24755814-f081-408a-a7f2-e527fa32b3e7",
   "metadata": {},
   "outputs": [
    {
     "name": "stdout",
     "output_type": "stream",
     "text": [
      "[0, 1, 1, 2, 3, 5, 8, 13, 21, 34]\n"
     ]
    }
   ],
   "source": [
    "'''14. Implement a function to calculate the Fibonacci sequence up to a given number of terms.'''\n",
    "def fibonacci_seq(n):\n",
    "    if n <= 0:\n",
    "        return []\n",
    "    \n",
    "    res = [0, 1]\n",
    "\n",
    "    while len(res) < n:\n",
    "        next_term = res[-1] + res[-2]\n",
    "        res.append(next_term)\n",
    "    \n",
    "    return res\n",
    "\n",
    "\n",
    "print(fibonacci_seq(10))\n"
   ]
  },
  {
   "cell_type": "code",
   "execution_count": 46,
   "id": "e5a99e81-2def-4441-a2d6-487e896b5416",
   "metadata": {},
   "outputs": [
    {
     "name": "stdout",
     "output_type": "stream",
     "text": [
      "5\n"
     ]
    }
   ],
   "source": [
    "'''15. Write a program to find the median of a list of numbers.'''\n",
    "import statistics\n",
    "\n",
    "def findMedian(num):\n",
    "    median = statistics.median(num)\n",
    "    return median\n",
    "\n",
    "\n",
    "number_list = [5, 2, 9, 1, 7]\n",
    "median = findMedian(number_list)\n",
    "print(median)"
   ]
  },
  {
   "cell_type": "code",
   "execution_count": 56,
   "id": "a5245cac-c518-42e4-958b-83d62571a566",
   "metadata": {},
   "outputs": [
    {
     "name": "stdout",
     "output_type": "stream",
     "text": [
      "True\n"
     ]
    }
   ],
   "source": [
    "'''16. Implement a function to check if a given list is sorted in non-decreasing order.'''\n",
    "def nonDec(arr3):\n",
    "    if arr3==sorted(arr3):\n",
    "        return True\n",
    "    else:\n",
    "        return False\n",
    "\n",
    "print(nonDec([1,2,3,4,7,9]))"
   ]
  },
  {
   "cell_type": "code",
   "execution_count": 57,
   "id": "834414c0-ea4e-4260-9dec-0eb16c7451c1",
   "metadata": {},
   "outputs": [
    {
     "name": "stdout",
     "output_type": "stream",
     "text": [
      "Intersection: [4, 5]\n"
     ]
    }
   ],
   "source": [
    "'''17. Write a Python program to find the intersection of two lists.'''\n",
    "def find_intersection(list1, list2):\n",
    "    set1 = set(list1)\n",
    "    set2 = set(list2)\n",
    "    intersection = set1.intersection(set2)\n",
    "    return list(intersection)\n",
    "\n",
    "# Example usage\n",
    "list1 = [1, 2, 3, 4, 5]\n",
    "list2 = [4, 5, 6, 7, 8]\n",
    "intersection = find_intersection(list1, list2)\n",
    "print(\"Intersection:\", intersection)\n"
   ]
  },
  {
   "cell_type": "code",
   "execution_count": 60,
   "id": "3d558939-1a1e-473b-b434-426dc40c8d41",
   "metadata": {},
   "outputs": [
    {
     "name": "stdout",
     "output_type": "stream",
     "text": [
      "13\n"
     ]
    }
   ],
   "source": [
    "'''18. Implement a function to find the maximum subarray sum in a given list.'''\n",
    "def maxsub(arr4):\n",
    "    n=len(arr4)\n",
    "    total=0\n",
    "    ans=arr4[0]\n",
    "    for i in range(len(arr4)):\n",
    "        total+=arr4[i]\n",
    "        ans=max(ans,total)\n",
    "        if total<0:\n",
    "            total=0\n",
    "    return ans\n",
    "\n",
    "print(maxsub([-2,2,4,-7,4,5,-3,0,7]))"
   ]
  },
  {
   "cell_type": "code",
   "execution_count": 62,
   "id": "8bae07a3-9bbd-40d5-be79-c562e6afc0d6",
   "metadata": {},
   "outputs": [
    {
     "name": "stdout",
     "output_type": "stream",
     "text": [
      "Hll, Wrld!\n"
     ]
    }
   ],
   "source": [
    "'''19. Write a program to remove all vowels from a given string.'''\n",
    "def remove_vowels(string):\n",
    "    vowels = 'aeiouAEIOU' \n",
    "    new_string = '' \n",
    "    \n",
    "    for char in string:\n",
    "        if char not in vowels:\n",
    "            new_string += char\n",
    "    \n",
    "    return new_string\n",
    "\n",
    "input_string = \"Hello, World!\"\n",
    "result = remove_vowels(input_string)\n",
    "print(result)\n"
   ]
  },
  {
   "cell_type": "code",
   "execution_count": 64,
   "id": "b7340856-b6b1-4c25-bd68-09b5de4571a7",
   "metadata": {},
   "outputs": [
    {
     "name": "stdout",
     "output_type": "stream",
     "text": [
      ",olleH !dlroW\n"
     ]
    }
   ],
   "source": [
    "'''20. Implement a function to reverse the order of words in a given sentence.'''\n",
    "def reversword(string):\n",
    "    string=string.split()\n",
    "    for i in range(len(string)):\n",
    "        string[i]=string[i][::-1]\n",
    "    return ' '.join(string)\n",
    "\n",
    "print(reversword(\"Hello, World!\"))"
   ]
  },
  {
   "cell_type": "code",
   "execution_count": 65,
   "id": "610b98f5-0463-415c-92d6-4e7b74788cf3",
   "metadata": {},
   "outputs": [
    {
     "name": "stdout",
     "output_type": "stream",
     "text": [
      "True\n"
     ]
    }
   ],
   "source": [
    "'''21. Write a Python program to check if two strings are anagrams of each other.'''\n",
    "def are_anagrams(str1, str2):\n",
    "    return sorted(str1) == sorted(str2)\n",
    "\n",
    "string1 = \"listen\"\n",
    "string2 = \"silent\"\n",
    "print(are_anagrams(string1, string2))"
   ]
  },
  {
   "cell_type": "code",
   "execution_count": 66,
   "id": "db93784c-df77-43ba-9fc6-5f7049e9bda9",
   "metadata": {},
   "outputs": [
    {
     "name": "stdout",
     "output_type": "stream",
     "text": [
      "h\n"
     ]
    }
   ],
   "source": [
    "'''22. Implement a function to find the first non-repeating character in a string.'''\n",
    "def nonRepeat(string):\n",
    "    char_count = {}\n",
    "    for char in string:\n",
    "        char_count[char] = char_count.get(char, 0) + 1\n",
    "\n",
    "    for char in string:\n",
    "        if char_count[char] == 1:\n",
    "            return char\n",
    "    \n",
    "    return None\n",
    "\n",
    "input_string = \"hello\"\n",
    "print(nonRepeat(input_string))\n"
   ]
  },
  {
   "cell_type": "code",
   "execution_count": 71,
   "id": "c546dbf3-bd93-4961-a966-e720dbc7454d",
   "metadata": {},
   "outputs": [
    {
     "name": "stdout",
     "output_type": "stream",
     "text": [
      "[2, 2, 3, 3]\n"
     ]
    }
   ],
   "source": [
    "'''23. Write a program to find the prime factors of a given number.'''\n",
    "import math\n",
    "\n",
    "def primeFactors(number):\n",
    "    factors = []\n",
    "    while number % 2 == 0:\n",
    "        factors.append(2)\n",
    "        number //= 2\n",
    "\n",
    "    for i in range(3, int(math.sqrt(number)) + 1, 2):\n",
    "        while number % i == 0:\n",
    "            factors.append(i)\n",
    "            number //= i\n",
    "\n",
    "    if number > 2:\n",
    "        factors.append(number)\n",
    "\n",
    "    return factors\n",
    "\n",
    "input_number = 36\n",
    "print(primeFactors(input_number))\n",
    "\n",
    "\n"
   ]
  },
  {
   "cell_type": "code",
   "execution_count": 78,
   "id": "43982fcf-ebb8-4b41-a658-5330bfa650e0",
   "metadata": {},
   "outputs": [
    {
     "name": "stdout",
     "output_type": "stream",
     "text": [
      "True\n"
     ]
    }
   ],
   "source": [
    "'''24. Implement a function to check if a given number is a power of two.'''\n",
    "def powerOfTwo(num):\n",
    "    return num > 0 and (num & (num - 1)) == 0\n",
    "\n",
    "number = 4\n",
    "print(powerOfTwo(number))\n",
    "\n"
   ]
  },
  {
   "cell_type": "code",
   "execution_count": 79,
   "id": "ebc3e13e-1add-4ff1-99ba-7c1831f6dc5a",
   "metadata": {},
   "outputs": [
    {
     "name": "stdout",
     "output_type": "stream",
     "text": [
      "[1, 2, 3, 4, 5, 6]\n"
     ]
    }
   ],
   "source": [
    "'''25. Write a Python program to merge two sorted lists into a single sorted list.'''\n",
    "def mergeSorted(list1, list2):\n",
    "    return sorted(list1 + list2)\n",
    "\n",
    "list1 = [1, 3, 5]\n",
    "list2 = [2, 4, 6]\n",
    "print(mergeSorted(list1, list2))\n",
    "\n",
    "\n"
   ]
  },
  {
   "cell_type": "code",
   "execution_count": 80,
   "id": "c5af59f3-2530-4b90-8d67-05d4129a7c85",
   "metadata": {},
   "outputs": [
    {
     "name": "stdout",
     "output_type": "stream",
     "text": [
      "2\n"
     ]
    }
   ],
   "source": [
    "'''26. Implement a function to find the mode of a list of numbers.'''\n",
    "import statistics\n",
    "\n",
    "def findMode(numbers):\n",
    "    return statistics.mode(numbers)\n",
    "\n",
    "number_list = [1, 2, 3, 2, 4, 3, 2]\n",
    "print(findMode(number_list))\n",
    "\n"
   ]
  },
  {
   "cell_type": "code",
   "execution_count": 81,
   "id": "84d918a4-e9f9-4287-a616-f947538f1b50",
   "metadata": {},
   "outputs": [
    {
     "name": "stdout",
     "output_type": "stream",
     "text": [
      "12\n"
     ]
    }
   ],
   "source": [
    "'''27. Write a program to find the greatest common divisor (GCD) of two numbers.'''\n",
    "import math\n",
    "\n",
    "def findGcd(num1, num2):\n",
    "    return math.gcd(num1, num2)\n",
    "\n",
    "print(findGcd(36, 48))\n"
   ]
  },
  {
   "cell_type": "code",
   "execution_count": 85,
   "id": "03745128-02af-42c7-8daf-981000394a4c",
   "metadata": {},
   "outputs": [
    {
     "name": "stdout",
     "output_type": "stream",
     "text": [
      "10.0\n"
     ]
    }
   ],
   "source": [
    "'''28. Implement a function to calculate the square root of a given number.'''\n",
    "import math\n",
    "\n",
    "def calsrt(number):\n",
    "    return math.sqrt(number)\n",
    "\n",
    "\n",
    "print(calsrt(100))\n"
   ]
  },
  {
   "cell_type": "code",
   "execution_count": 86,
   "id": "50b6a3fc-9ca9-4e74-a690-ea0d7a54af9e",
   "metadata": {},
   "outputs": [
    {
     "name": "stdout",
     "output_type": "stream",
     "text": [
      "True\n"
     ]
    }
   ],
   "source": [
    "'''29. Write a Python program to check if a given string is a valid palindrome ignoring non-alphanumeric characters.'''\n",
    "import re\n",
    "\n",
    "def validPalindrome(string):\n",
    "    alphanumeric_string = re.sub('[^a-zA-Z0-9]', '', string)\n",
    "    return alphanumeric_string.lower() == alphanumeric_string.lower()[::-1]\n",
    "\n",
    "\n",
    "print(validPalindrome(\"A man, a plan, a canal: Panama\"))\n"
   ]
  },
  {
   "cell_type": "code",
   "execution_count": 88,
   "id": "38556761-08a9-4425-9f58-52766e0671a2",
   "metadata": {},
   "outputs": [
    {
     "name": "stdout",
     "output_type": "stream",
     "text": [
      "0\n"
     ]
    }
   ],
   "source": [
    "'''30. Implement a function to find the minimum element in a rotated sorted list.'''\n",
    "def minRotated(nums):\n",
    "    return min(nums)\n",
    "\n",
    "\n",
    "number_list = [4, 5, 6, 7, 0, 1, 2]\n",
    "print(minRotated(number_list))\n"
   ]
  },
  {
   "cell_type": "code",
   "execution_count": 90,
   "id": "d972c98f-3c9e-4299-bceb-0fa036f70a7c",
   "metadata": {},
   "outputs": [
    {
     "name": "stdout",
     "output_type": "stream",
     "text": [
      "30\n"
     ]
    }
   ],
   "source": [
    "'''31. Write a program to find the sum of all even numbers in a list.'''\n",
    "def sumEven(number):\n",
    "    even_sum = 0\n",
    "    for num in number:\n",
    "        if num % 2 == 0:\n",
    "            even_sum += num\n",
    "    return even_sum\n",
    "\n",
    "# Example usage\n",
    "number_list = [1, 2, 3, 4, 5, 6, 7, 8, 9, 10]\n",
    "print(sumEven(number_list))\n"
   ]
  },
  {
   "cell_type": "code",
   "execution_count": 91,
   "id": "5af11d7f-9faa-4fb1-9433-294a1b86eea8",
   "metadata": {},
   "outputs": [
    {
     "name": "stdout",
     "output_type": "stream",
     "text": [
      "8\n"
     ]
    }
   ],
   "source": [
    "'''32. Implement a function to calculate the power of a number using recursion.'''\n",
    "def power(base, exponent):\n",
    "    if exponent == 0:\n",
    "        return 1\n",
    "    else:\n",
    "        return base * power(base, exponent - 1)\n",
    "\n",
    "base_number = 2\n",
    "exponent = 3\n",
    "print(power(base_number, exponent))\n"
   ]
  },
  {
   "cell_type": "code",
   "execution_count": 92,
   "id": "a966ed15-7090-4fd8-ab89-3b148be1c653",
   "metadata": {},
   "outputs": [
    {
     "name": "stdout",
     "output_type": "stream",
     "text": [
      "[1, 2, 3, 4, 5, 6]\n"
     ]
    }
   ],
   "source": [
    "'''33. Write a Python program to remove duplicates from a list while preserving the order.'''\n",
    "def removeDuplicates(input_list):\n",
    "    return list(dict.fromkeys(input_list))\n",
    "\n",
    "\n",
    "input_list = [1, 2, 2, 3, 4, 1, 5, 6, 6]\n",
    "print(removeDuplicates(input_list))\n"
   ]
  },
  {
   "cell_type": "code",
   "execution_count": 93,
   "id": "713eae83-6a93-4282-8d40-c2f38dd456d8",
   "metadata": {},
   "outputs": [
    {
     "name": "stdout",
     "output_type": "stream",
     "text": [
      "fl\n"
     ]
    }
   ],
   "source": [
    "'''34. Implement a function to find the longest common prefix among a list of strings.'''\n",
    "def commonPrefix(strings):\n",
    "    if not strings:\n",
    "        return \"\"\n",
    "\n",
    "    shortest_string = min(strings, key=len)\n",
    "    for i, char in enumerate(shortest_string):\n",
    "        if any(s[i] != char for s in strings):\n",
    "            return shortest_string[:i]\n",
    "    return shortest_string\n",
    "\n",
    "\n",
    "string_list = [\"flower\", \"flow\", \"flight\"]\n",
    "print(commonPrefix(string_list))\n"
   ]
  },
  {
   "cell_type": "code",
   "execution_count": 94,
   "id": "baf7e72a-fdaf-4f30-aaa1-5789722bd257",
   "metadata": {},
   "outputs": [
    {
     "name": "stdout",
     "output_type": "stream",
     "text": [
      "True\n"
     ]
    }
   ],
   "source": [
    "'''35. Write a program to check if a given number is a perfect square.'''\n",
    "import math\n",
    "\n",
    "def perfectSquare(number):\n",
    "    square_root = math.sqrt(number)\n",
    "    return square_root.is_integer()\n",
    "\n",
    "input_number = 16\n",
    "print(perfectSquare(input_number))\n"
   ]
  },
  {
   "cell_type": "code",
   "execution_count": 95,
   "id": "648c02da-8eb6-4598-bfa2-53a61b8e9285",
   "metadata": {},
   "outputs": [
    {
     "name": "stdout",
     "output_type": "stream",
     "text": [
      "Product: 120\n"
     ]
    }
   ],
   "source": [
    "'''36. Implement a function to calculate the product of all elements in a list.'''\n",
    "def calculate_product(numbers):\n",
    "    product = 1\n",
    "    for num in numbers:\n",
    "        product *= num\n",
    "    return product\n",
    "\n",
    "# Example usage\n",
    "number_list = [1, 2, 3, 4, 5]\n",
    "result = calculate_product(number_list)\n",
    "print(\"Product:\", result)\n"
   ]
  },
  {
   "cell_type": "code",
   "execution_count": 96,
   "id": "b8926eed-8fe0-4def-a166-6d210ca7e434",
   "metadata": {},
   "outputs": [
    {
     "name": "stdout",
     "output_type": "stream",
     "text": [
      "Reversed sentence: you? are how world, Hello\n"
     ]
    }
   ],
   "source": [
    "'''37. Write a Python program to reverse the order of words in a sentence while preserving the word order.'''\n",
    "def reverse_sentence(sentence):\n",
    "    words = sentence.split()\n",
    "    reversed_words = words[::-1]\n",
    "    reversed_sentence = ' '.join(reversed_words)\n",
    "    return reversed_sentence\n",
    "\n",
    "# Example usage\n",
    "input_sentence = \"Hello world, how are you?\"\n",
    "result = reverse_sentence(input_sentence)\n",
    "print(\"Reversed sentence:\", result)\n"
   ]
  },
  {
   "cell_type": "code",
   "execution_count": 97,
   "id": "3a35d8d7-a487-4d33-8b60-90948ca9b542",
   "metadata": {},
   "outputs": [
    {
     "name": "stdout",
     "output_type": "stream",
     "text": [
      "Missing number: 4\n"
     ]
    }
   ],
   "source": [
    "'''38. Implement a function to find the missing number in a given list of consecutive numbers.'''\n",
    "def find_missing_number(numbers):\n",
    "    n = len(numbers) + 1\n",
    "    expected_sum = n * (n + 1) // 2\n",
    "    actual_sum = sum(numbers)\n",
    "    return expected_sum - actual_sum\n",
    "\n",
    "# Example usage\n",
    "number_list = [1, 2, 3, 5, 6]\n",
    "result = find_missing_number(number_list)\n",
    "print(\"Missing number:\", result)\n"
   ]
  },
  {
   "cell_type": "code",
   "execution_count": 98,
   "id": "637e8bf9-6dbd-42ec-aa59-8a498cb2a7b0",
   "metadata": {},
   "outputs": [
    {
     "name": "stdout",
     "output_type": "stream",
     "text": [
      "Sum of digits: 15\n"
     ]
    }
   ],
   "source": [
    "'''39. Write a program to find the sum of digits of a given number.'''\n",
    "def sum_of_digits(number):\n",
    "    digit_sum = 0\n",
    "    for digit in str(number):\n",
    "        digit_sum += int(digit)\n",
    "    return digit_sum\n",
    "\n",
    "# Example usage\n",
    "input_number = 12345\n",
    "result = sum_of_digits(input_number)\n",
    "print(\"Sum of digits:\", result)\n"
   ]
  },
  {
   "cell_type": "code",
   "execution_count": 99,
   "id": "eb99bbc3-14b8-4038-a3f1-598c6832cd74",
   "metadata": {},
   "outputs": [
    {
     "name": "stdout",
     "output_type": "stream",
     "text": [
      "Is valid palindrome: False\n"
     ]
    }
   ],
   "source": [
    "'''40. Implement a function to check if a given string is a valid palindrome considering case sensitivity.'''\n",
    "def is_valid_palindrome(string):\n",
    "    reversed_string = string[::-1]\n",
    "    return string == reversed_string\n",
    "\n",
    "# Example usage\n",
    "input_string = \"Racecar\"\n",
    "result = is_valid_palindrome(input_string)\n",
    "print(\"Is valid palindrome:\", result)\n"
   ]
  },
  {
   "cell_type": "code",
   "execution_count": 101,
   "id": "735e74e7-760e-4589-ba20-23b24469dbed",
   "metadata": {},
   "outputs": [
    {
     "name": "stdout",
     "output_type": "stream",
     "text": [
      "Smallest missing positive integer: 1\n"
     ]
    }
   ],
   "source": [
    "'''41. Write a Python program to find the smallest missing positive integer in a list.'''\n",
    "def missing_positive(numbers):\n",
    "    positive_numbers = set(numbers)\n",
    "    smallest_missing = 1\n",
    "    while smallest_missing in positive_numbers:\n",
    "        smallest_missing += 1\n",
    "    return smallest_missing\n",
    "\n",
    "# Example usage\n",
    "number_list = [-1, 0, 2, 3, 5]\n",
    "result = missing_positive(number_list)\n",
    "print(\"Smallest missing positive integer:\", result)\n"
   ]
  },
  {
   "cell_type": "code",
   "execution_count": 102,
   "id": "64c0d15c-e271-4c7b-be5d-b5cf5299ddda",
   "metadata": {},
   "outputs": [
    {
     "name": "stdout",
     "output_type": "stream",
     "text": [
      "Longest palindrome substring: bab\n"
     ]
    }
   ],
   "source": [
    "'''42. Implement a function to find the longest palindrome substring in a given string.'''\n",
    "def find_longest_palindrome_substring(string):\n",
    "    longest_palindrome = \"\"\n",
    "    for i in range(len(string)):\n",
    "        for j in range(i+1, len(string)+1):\n",
    "            substring = string[i:j]\n",
    "            if substring == substring[::-1] and len(substring) > len(longest_palindrome):\n",
    "                longest_palindrome = substring\n",
    "    return longest_palindrome\n",
    "\n",
    "# Example usage\n",
    "input_string = \"babad\"\n",
    "result = find_longest_palindrome_substring(input_string)\n",
    "print(\"Longest palindrome substring:\", result)\n"
   ]
  },
  {
   "cell_type": "code",
   "execution_count": 103,
   "id": "21e5758d-709c-4258-abe9-096f89135d38",
   "metadata": {},
   "outputs": [
    {
     "name": "stdout",
     "output_type": "stream",
     "text": [
      "Number of occurrences: 4\n"
     ]
    }
   ],
   "source": [
    "'''43. Write a program to find the number of occurrences of a given element in a list.'''\n",
    "def count_occurrences(numbers, target):\n",
    "    return numbers.count(target)\n",
    "\n",
    "# Example usage\n",
    "number_list = [1, 2, 2, 3, 4, 2, 5, 6, 2]\n",
    "target_number = 2\n",
    "result = count_occurrences(number_list, target_number)\n",
    "print(\"Number of occurrences:\", result)\n"
   ]
  },
  {
   "cell_type": "code",
   "execution_count": 105,
   "id": "c7b75db1-7378-4dc2-83ad-17da502b1f49",
   "metadata": {},
   "outputs": [
    {
     "name": "stdout",
     "output_type": "stream",
     "text": [
      "Is 28 is a perfect number: True\n"
     ]
    }
   ],
   "source": [
    "'''44. Implement a function to check if a given number is a perfect number.'''\n",
    "def is_perfect_number(number):\n",
    "    divisors = [i for i in range(1, number) if number % i == 0]\n",
    "    return sum(divisors) == number\n",
    "\n",
    "# Example usage\n",
    "input_number = 28\n",
    "result = is_perfect_number(input_number)\n",
    "print(f\"Is {input_number} is a perfect number:\", result)\n"
   ]
  },
  {
   "cell_type": "code",
   "execution_count": 106,
   "id": "19d15e26-60f7-421f-93d7-8ab2335f25ff",
   "metadata": {},
   "outputs": [
    {
     "name": "stdout",
     "output_type": "stream",
     "text": [
      "String without duplicates: leoH\n"
     ]
    }
   ],
   "source": [
    "'''45. Write a Python program to remove all duplicates from a string.'''\n",
    "def remove_duplicates(string):\n",
    "    unique_characters = set(string)\n",
    "    return ''.join(unique_characters)\n",
    "\n",
    "# Example usage\n",
    "input_string = \"Hello\"\n",
    "result = remove_duplicates(input_string)\n",
    "print(\"String without duplicates:\", result)\n"
   ]
  },
  {
   "cell_type": "code",
   "execution_count": null,
   "id": "0c675ca8-516d-4028-98e5-419e2d918040",
   "metadata": {},
   "outputs": [],
   "source": []
  }
 ],
 "metadata": {
  "kernelspec": {
   "display_name": "Python 3 (ipykernel)",
   "language": "python",
   "name": "python3"
  },
  "language_info": {
   "codemirror_mode": {
    "name": "ipython",
    "version": 3
   },
   "file_extension": ".py",
   "mimetype": "text/x-python",
   "name": "python",
   "nbconvert_exporter": "python",
   "pygments_lexer": "ipython3",
   "version": "3.10.8"
  }
 },
 "nbformat": 4,
 "nbformat_minor": 5
}
