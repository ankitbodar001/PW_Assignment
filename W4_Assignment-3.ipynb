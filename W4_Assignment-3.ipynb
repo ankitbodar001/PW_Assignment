{
 "cells": [
  {
   "cell_type": "code",
   "execution_count": null,
   "id": "04656810-d457-4275-b874-7d5783cdad4a",
   "metadata": {},
   "outputs": [],
   "source": [
    "Q1. What is Abstraction in OOps? Explain with an example."
   ]
  },
  {
   "cell_type": "code",
   "execution_count": null,
   "id": "0e37c6dd-3743-410e-adaa-4cd5fc75ca55",
   "metadata": {},
   "outputs": [],
   "source": [
    "-->#Abstraction is the concept of object-oriented programming that “shows” only essential \n",
    "   #attributes and “hides” unnecessary information. The main purpose of abstraction is hiding \n",
    "   #the unnecessary details from the users. Abstraction is selecting data from a larger pool to \n",
    "   #show only relevant details of the object to the user. It helps in reducing programming complexity and efforts."
   ]
  },
  {
   "cell_type": "code",
   "execution_count": null,
   "id": "723e3ed6-91b4-409d-b704-c4386c374e92",
   "metadata": {},
   "outputs": [],
   "source": [
    "#Abstraction can be found in practically all real-world machines.\n",
    "\n",
    "1. Your automobile is an excellent illustration of abstraction. Turning the key or pressing \n",
    "   the start button is how you start a car. You don't need to know how your car's engine starts or \n",
    "   what components it contains. The user is completely unaware of the car's internal implementation and complicated logic.\n",
    "2. We can heat our food in Microwave. We press some buttons to set the timer and type of food. Finally,\n",
    "   we get a hot and delicious meal. The microwave internal details are hidden from us. We have been given\n",
    "   access to the functionality in a very simple manner."
   ]
  },
  {
   "cell_type": "code",
   "execution_count": null,
   "id": "20bbfd2c-bacb-4807-afb3-db3f11d6eaca",
   "metadata": {},
   "outputs": [],
   "source": [
    "Q2. Differentiate between Abstraction and Encapsulation. Explain with an example."
   ]
  },
  {
   "cell_type": "code",
   "execution_count": null,
   "id": "933c9488-ce0d-4eab-a440-81f91dd75a38",
   "metadata": {},
   "outputs": [],
   "source": [
    "'''Encapsulation is defined as the wrapping up of data under a single unit. It is the mechanism that \n",
    "binds together code and the data it manipulates. Another way to think about encapsulation is, that it \n",
    "is a protective shield that prevents the data from being accessed by the code outside this shield so it is \n",
    "also known as data-hiding.'''\n",
    "\n",
    "'''Abstraction is a method of removing the unnecessary details in the code and focusing on the relevant \n",
    "parts. For example, instead of writing a function that multiplies two numbers, we can write a function \n",
    "“multiply” and use it to multiply any number with any number. Abstraction is a way of representing some \n",
    "specific data.'''\n",
    "\n",
    "In Conclusion:\n",
    "1. Abstraction is the method of hiding the unwanted information. Whereas encapsulation is a method to hide the data in a single entity to protect information from outside.\n",
    "2. Abstraction provides access to specific part of data. Encapsulation hides data and the user can not access same directly (data hiding).\n",
    "3. Abstraction focus is on “what” should be done.\tEncapsulation focus is on “How” it should be done.\n"
   ]
  },
  {
   "cell_type": "code",
   "execution_count": 1,
   "id": "556b02f4-5b55-48c6-b26b-4425135fa590",
   "metadata": {},
   "outputs": [],
   "source": [
    "#Encapsulation can be achieved by Declaring all the variables in the class as private and writing \n",
    "#public methods in the class to set and get the values of variables. \n",
    "class car:\n",
    "    \n",
    "    def __init__(self,make,model,speed):\n",
    "        #making variable private so that usercan not access them directly\n",
    "        self.__make=make\n",
    "        self.__model=model\n",
    "        self.__speed=speed\n",
    "    \n",
    "    #Creating a public method to set and get the speed of a car\n",
    "    def set_speed(self,speed):\n",
    "        self.__speed=0 if speed<0 else speed\n",
    "    def get_speed(self):\n",
    "        return self.__speed"
   ]
  },
  {
   "cell_type": "code",
   "execution_count": 2,
   "id": "b30e8e70-59c3-40a2-8155-9b56179571ae",
   "metadata": {},
   "outputs": [
    {
     "ename": "AttributeError",
     "evalue": "'car' object has no attribute 'make'",
     "output_type": "error",
     "traceback": [
      "\u001b[0;31m---------------------------------------------------------------------------\u001b[0m",
      "\u001b[0;31mAttributeError\u001b[0m                            Traceback (most recent call last)",
      "Cell \u001b[0;32mIn[2], line 3\u001b[0m\n\u001b[1;32m      1\u001b[0m \u001b[38;5;66;03m# creating an object of a class and trying to access variables\u001b[39;00m\n\u001b[1;32m      2\u001b[0m c\u001b[38;5;241m=\u001b[39mcar(\u001b[38;5;124m\"\u001b[39m\u001b[38;5;124mTATA\u001b[39m\u001b[38;5;124m\"\u001b[39m,\u001b[38;5;124m\"\u001b[39m\u001b[38;5;124mALTROZ\u001b[39m\u001b[38;5;124m\"\u001b[39m,\u001b[38;5;124m\"\u001b[39m\u001b[38;5;124m120\u001b[39m\u001b[38;5;124m\"\u001b[39m)\n\u001b[0;32m----> 3\u001b[0m \u001b[43mc\u001b[49m\u001b[38;5;241;43m.\u001b[39;49m\u001b[43mmake\u001b[49m\n",
      "\u001b[0;31mAttributeError\u001b[0m: 'car' object has no attribute 'make'"
     ]
    }
   ],
   "source": [
    "# creating an object of a class and trying to access variables\n",
    "c=car(\"TATA\",\"ALTROZ\",\"120\")\n",
    "c.make"
   ]
  },
  {
   "cell_type": "code",
   "execution_count": 3,
   "id": "911d1b57-3bb9-4189-bc50-a1995fb1a1b2",
   "metadata": {},
   "outputs": [
    {
     "data": {
      "text/plain": [
       "'120'"
      ]
     },
     "execution_count": 3,
     "metadata": {},
     "output_type": "execute_result"
    }
   ],
   "source": [
    "#as shown in above example yo can not directly access private variables \n",
    "#User can use public method that was define in class to access those variable\n",
    "c.get_speed()"
   ]
  },
  {
   "cell_type": "code",
   "execution_count": 4,
   "id": "0e4d20c0-8d31-4a32-82ab-c89716424ee6",
   "metadata": {},
   "outputs": [
    {
     "data": {
      "text/plain": [
       "160"
      ]
     },
     "execution_count": 4,
     "metadata": {},
     "output_type": "execute_result"
    }
   ],
   "source": [
    "c.set_speed(160)\n",
    "c.get_speed()"
   ]
  },
  {
   "cell_type": "code",
   "execution_count": 19,
   "id": "34e00886-3749-4913-a46e-8f5c09b1d4a1",
   "metadata": {},
   "outputs": [],
   "source": [
    "#Here is the simple example of abstraction where we have define blueprint of method in Parent class\n",
    "#User can use that method according to their requirment\n",
    "class muldiv:\n",
    "    def ans(self):\n",
    "        pass"
   ]
  },
  {
   "cell_type": "code",
   "execution_count": 20,
   "id": "bc68b0e5-d12f-42b8-a803-803922f22d7c",
   "metadata": {},
   "outputs": [],
   "source": [
    "class multi(muldiv):\n",
    "     def ans(self):\n",
    "            return \"Do multiplication.\""
   ]
  },
  {
   "cell_type": "code",
   "execution_count": 21,
   "id": "0f68c153-18bf-4085-918f-d7fe95cd2a0c",
   "metadata": {},
   "outputs": [],
   "source": [
    "class div(muldiv):\n",
    "    def ans(self):\n",
    "        return \"Do Division.\""
   ]
  },
  {
   "cell_type": "code",
   "execution_count": 22,
   "id": "016c4698-66ff-4395-bdfc-e83b0cc7b675",
   "metadata": {},
   "outputs": [
    {
     "name": "stdout",
     "output_type": "stream",
     "text": [
      "Do multiplication.\n",
      "Do Division.\n"
     ]
    }
   ],
   "source": [
    "m=multi()\n",
    "d=div()\n",
    "print(m.ans())\n",
    "print(d.ans())"
   ]
  },
  {
   "cell_type": "code",
   "execution_count": null,
   "id": "05eebe5d-c35c-482a-b9c1-c748c1a2c6b3",
   "metadata": {},
   "outputs": [],
   "source": [
    "Q3. What is abc module in python? Why is it used?"
   ]
  },
  {
   "cell_type": "code",
   "execution_count": null,
   "id": "8728e1d1-13bd-454b-901a-eb98649433b3",
   "metadata": {},
   "outputs": [],
   "source": [
    "What is abc?\n",
    "    An abstract base class('ABC') is a class that is used as a blueprint for other classes. \n",
    "    Abstract base classes are a powerful feature in Python since they help you define a \n",
    "    blueprint for other classes that may have something in common.\n",
    "Why it is used?\n",
    "-->This module(abc) provides the infrastructure for defining abstract base classes (ABCs) in Python\n",
    "--> It offers the necessary tools for crafting an abstract base class.\n",
    "-->'abc' works by marking methods of the base class as abstract. \n",
    "-->This is done by @absttractmethod decorator. A concrete class which is a sub class of such abstract \n",
    "-->base class then implements the abstract base by overriding its abstract methods."
   ]
  },
  {
   "cell_type": "code",
   "execution_count": null,
   "id": "68157794-02ad-46a3-837a-cc552756bc2e",
   "metadata": {},
   "outputs": [],
   "source": [
    "Q4. How can we achieve data abstraction?"
   ]
  },
  {
   "cell_type": "code",
   "execution_count": null,
   "id": "ef5450b0-0ae6-4c12-b2fe-948127c852c8",
   "metadata": {},
   "outputs": [],
   "source": [
    "-->Data abstraction is a method where essential elements are displayed to the user and trivial\n",
    "   elements are kept hidden."
   ]
  },
  {
   "cell_type": "code",
   "execution_count": null,
   "id": "7712c773-9e66-4b3d-b343-722fab0d88fa",
   "metadata": {},
   "outputs": [],
   "source": [
    "-->How data abstraction work in Python\n",
    "By default, Python does not provide abstract classes. Python comes with a module that \n",
    "provides the base for defining Abstract Base classes(ABC) and that module name is ABC. \n",
    "ABC works by decorating methods of the base class as abstract and then registering concrete \n",
    "classes as implementations of the abstract base. A method becomes abstract when decorated with \n",
    "the keyword @abstractmethod."
   ]
  },
  {
   "cell_type": "code",
   "execution_count": 23,
   "id": "548cdbab-366f-4b01-83c9-1405b8215051",
   "metadata": {},
   "outputs": [],
   "source": [
    "import abc\n",
    " \n",
    "class parent: \n",
    "    @abc.abstractmethod\n",
    "    def test(self):\n",
    "        pass\n",
    "\n",
    "class child(parent):\n",
    "    def test(self):\n",
    "        print(\"child class\")"
   ]
  },
  {
   "cell_type": "code",
   "execution_count": 24,
   "id": "0282adb3-5046-412e-8356-d1c6399358bf",
   "metadata": {},
   "outputs": [
    {
     "name": "stdout",
     "output_type": "stream",
     "text": [
      "child class\n"
     ]
    }
   ],
   "source": [
    "child=child()\n",
    "child.test()"
   ]
  },
  {
   "cell_type": "code",
   "execution_count": null,
   "id": "fd1a77a6-b5a7-4aea-b32f-c3d37016ae9f",
   "metadata": {},
   "outputs": [],
   "source": [
    "Q5. Can we create an instance of an abstract class? Explain your answer."
   ]
  },
  {
   "cell_type": "code",
   "execution_count": null,
   "id": "64a535f9-e6bc-411b-8298-fb4bc7a8b21f",
   "metadata": {},
   "outputs": [],
   "source": [
    "-->It is not possible to create an instance of an abstract class. An abstract class is a \n",
    "class that cannot be instantiated, but it can be subclassed. The purpose of an abstract \n",
    "class is to provide a common interface for classes that share similar characteristics.You can \n",
    "create an instance of a subclass of an abstract class, if the subclass is not also abstract. The \n",
    "subclass must provide implementations for all of the abstract methods specified in the abstract class.\n"
   ]
  }
 ],
 "metadata": {
  "kernelspec": {
   "display_name": "Python 3 (ipykernel)",
   "language": "python",
   "name": "python3"
  },
  "language_info": {
   "codemirror_mode": {
    "name": "ipython",
    "version": 3
   },
   "file_extension": ".py",
   "mimetype": "text/x-python",
   "name": "python",
   "nbconvert_exporter": "python",
   "pygments_lexer": "ipython3",
   "version": "3.10.8"
  }
 },
 "nbformat": 4,
 "nbformat_minor": 5
}
