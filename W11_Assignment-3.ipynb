{
 "cells": [
  {
   "cell_type": "markdown",
   "id": "c486376c-bd3f-4495-a826-a7c95b598c52",
   "metadata": {},
   "source": [
    "## Q1: What is Estimation Statistics? Explain point estimate and interval estimate.\n"
   ]
  },
  {
   "cell_type": "code",
   "execution_count": null,
   "id": "29a794af-3b69-40b1-a418-926d59e16cce",
   "metadata": {},
   "outputs": [],
   "source": [
    "Estimation statistics is a branch of statistics that deals with the process of estimating unknown population parameters based on sample\n",
    "data. When dealing with real-world data, it is often not feasible or practical to collect data from an entire population. Instead, statisticians use \n",
    "estimation techniques to infer information about the population based on a smaller representative sample.\n",
    "\n",
    "There are two primary types of estimation in statistics: point estimate and interval estimate.\n",
    "\n",
    "Point Estimate:\n",
    "    A point estimate is a single numerical value that serves as an estimate of an unknown population parameter. It is calculated from the sample data and\n",
    "    is used as the best guess for the value of the corresponding population parameter.\n",
    "    For example, if we want to estimate the population mean, we can calculate the sample mean and use it as the point estimate for the population mean. \n",
    "    Similarly, if we want to estimate the population proportion, we can calculate the sample proportion and use it as the point estimate for the population \n",
    "    proportion.\n",
    "\n",
    "Advantages:\n",
    "\n",
    "    Simplicity: Point estimates are easy to calculate and understand.\n",
    "    Quick decision-making: They provide a quick and straightforward estimate of the parameter.\n",
    "    \n",
    "Disadvantages:\n",
    "\n",
    "    Subject to sampling variability: Point estimates are based on sample data and can vary from one sample to another.\n",
    "    Lack of precision: Point estimates do not provide information about the uncertainty or precision of the estimate.\n",
    "    \n",
    "    \n",
    "Interval Estimate (Confidence Interval):\n",
    "    Interval estimation provides a range of plausible values within which the true population parameter is likely to lie with a certain degree of confidence.\n",
    "    This range is called the confidence interval, and it quantifies the uncertainty associated with the estimation process.\n",
    "    To construct a confidence interval, statisticians specify a confidence level, typically expressed as a percentage (e.g., 90%, 95%, or 99%). The \n",
    "    confidence level represents the probability that the true population parameter lies within the calculated interval.\n",
    "\n",
    "    The confidence interval is built around the point estimate, and its width depends on the variability in the sample data and the chosen confidence level. \n",
    "    The wider the confidence interval, the more uncertainty there is about the estimate.\n",
    "\n",
    "Advantages:\n",
    "\n",
    "    Provides information about precision: Confidence intervals give us an idea of how accurate our estimate is likely to be.\n",
    "    Accounts for sampling variability: By providing a range, it addresses the inherent uncertainty in estimation.\n",
    "    \n",
    "Disadvantages:\n",
    "\n",
    "    Complexity: Constructing a confidence interval may involve more calculations and knowledge of probability distributions.\n",
    "    Interpretation: Interpreting confidence intervals correctly may be challenging for non-statisticians.\n",
    "\n",
    "\n",
    "In summary, estimation statistics involves the process of estimating unknown population parameters based on sample data. Point estimation provides a single \n",
    "value estimate of the parameter, while interval estimation provides a range of plausible values within which the true parameter value is likely to lie. \n",
    "The choice between point and interval estimation depends on the specific situation and the level of information required. Point estimates are simple and \n",
    "quick, but they lack information about precision. Interval estimates provide information about precision but may be more complex to calculate and interpret."
   ]
  },
  {
   "cell_type": "markdown",
   "id": "acd80822-7ac1-41b3-8173-1cc3deed3cd2",
   "metadata": {},
   "source": [
    "## Q2. Write a Python function to estimate the population mean using a sample mean and standard deviation."
   ]
  },
  {
   "cell_type": "code",
   "execution_count": null,
   "id": "68e59831-8ac7-43f1-a0c7-9d05675bd15d",
   "metadata": {},
   "outputs": [],
   "source": [
    "To estimate the population mean using a sample mean and standard deviation, you can use the formula for the point estimate of the population mean, \n",
    "which is equal to the sample mean. In this case, the standard deviation of the sample is not used as we are only interested in the point estimate.\n",
    "\n",
    "Here is a simple Python function to calculate the point estimate (sample mean) as the estimate of the population mean:"
   ]
  },
  {
   "cell_type": "code",
   "execution_count": 1,
   "id": "c4a51a75-d127-45b2-9203-b8377cf74fba",
   "metadata": {},
   "outputs": [
    {
     "name": "stdout",
     "output_type": "stream",
     "text": [
      "Estimated population mean: 25.6\n"
     ]
    }
   ],
   "source": [
    "def estimate_population_mean(sample_mean):\n",
    "    return sample_mean\n",
    "\n",
    "# Example usage:\n",
    "sample_mean = 25.6\n",
    "estimated_mean = estimate_population_mean(sample_mean)\n",
    "print(\"Estimated population mean:\", estimated_mean)\n"
   ]
  },
  {
   "cell_type": "code",
   "execution_count": null,
   "id": "86c86ee8-dc6f-4e62-b12d-85427d9b04b7",
   "metadata": {},
   "outputs": [],
   "source": [
    "In this function, the sample_mean parameter represents the sample mean you have calculated from your data. When you call the \n",
    "estimate_population_mean function with the sample mean, it will return the same value as the estimated population mean.\n",
    "\n",
    "Keep in mind that this is just a point estimate, and it does not provide information about the uncertainty or precision of the estimate. For interval \n",
    "estimation and a more comprehensive estimate, you would need additional information such as the sample size, confidence level, and standard error to \n",
    "construct a confidence interval."
   ]
  },
  {
   "cell_type": "markdown",
   "id": "1a668eec-f421-40eb-8051-ebe76e395609",
   "metadata": {},
   "source": [
    "## Q3: What is Hypothesis testing? Why is it used? State the importance of Hypothesis testing."
   ]
  },
  {
   "cell_type": "code",
   "execution_count": null,
   "id": "d8215e9c-4dc5-4949-b6ee-a14047591244",
   "metadata": {},
   "outputs": [],
   "source": [
    "Hypothesis testing is a fundamental statistical method used to make decisions about population parameters based on sample data. \n",
    "It is a structured and systematic approach to assess whether there is enough evidence to support or reject a claim (hypothesis) about a population \n",
    "characteristic. The goal of hypothesis testing is to draw conclusions about a population based on limited sample data while accounting for the inherent \n",
    "uncertainty in sampling.\n",
    "\n",
    "The process of hypothesis testing involves the following steps:\n",
    "\n",
    "Formulating the Hypotheses: \n",
    "    The first step is to state the null hypothesis (H0) and the alternative hypothesis (Ha). The null hypothesis typically represents the status quo or the \n",
    "    absence of an effect, while the alternative hypothesis represents what the researcher is trying to show.\n",
    "\n",
    "Collecting and Analyzing Data: \n",
    "    Data is collected through a sample from the population of interest. The sample data is then analyzed using statistical techniques to assess the evidence \n",
    "    in support of or against the hypotheses.\n",
    "\n",
    "Setting the Significance Level: \n",
    "    The significance level (alpha, α) is the probability of making a Type I error, which is the probability of rejecting the null hypothesis when it is true. \n",
    "    Commonly used significance levels are 0.05 (5%) and 0.01 (1%).\n",
    "\n",
    "Calculating the Test Statistic: \n",
    "    The test statistic is a value derived from the sample data, which is used to compare against a critical value or a p-value.\n",
    "\n",
    "Making a Decision: \n",
    "    The test statistic is compared to the critical value or the p-value to determine whether to reject the null hypothesis or not. If the test statistic falls \n",
    "    into the critical region or the p-value is smaller than the significance level, the null hypothesis is rejected in favor of the alternative hypothesis.\n",
    "\n",
    "\n",
    "Importance of Hypothesis Testing:\n",
    "\n",
    "Rigorous Decision Making: \n",
    "    Hypothesis testing provides a structured framework for making objective and data-driven decisions. It helps researchers and decision-makers to draw \n",
    "    conclusions based on evidence rather than intuition or guesswork.\n",
    "\n",
    "Testing Theories and Assumptions: \n",
    "    Hypothesis testing allows researchers to test specific theories or assumptions about a population based on sample data. It helps to verify or challenge \n",
    "    existing knowledge and theories.\n",
    "\n",
    "Control of Errors: \n",
    "    Hypothesis testing helps to control two types of errors in decision making: Type I error (false positive) and Type II error (false negative). By setting a \n",
    "    significance level, researchers can manage the risk of making incorrect decisions.\n",
    "\n",
    "Generalizability: \n",
    "    Hypothesis testing allows researchers to draw conclusions about a population from a smaller sample. It provides a way to infer insights about larger \n",
    "    populations without examining every individual.\n",
    "\n",
    "Scientific Validity: \n",
    "    Hypothesis testing is an essential tool in scientific research, providing a rigorous and systematic approach to test hypotheses and validate findings.\n",
    "\n",
    "\n",
    "Overall, hypothesis testing is a crucial aspect of statistical analysis that underpins much of scientific research and decision-making processes. It helps to \n",
    "ensure that conclusions drawn from data are based on solid evidence and statistical significance, contributing to the credibility and reliability of research\n",
    "findings."
   ]
  },
  {
   "cell_type": "markdown",
   "id": "4eec868e-b196-4dd1-b139-a70520a82bc8",
   "metadata": {},
   "source": [
    "## Q4. Create a hypothesis that states whether the average weight of male college students is greater than the average weight of female college students.\n"
   ]
  },
  {
   "cell_type": "code",
   "execution_count": null,
   "id": "6f0b89b3-8f91-4672-99be-09d0cf430794",
   "metadata": {},
   "outputs": [],
   "source": [
    "Hypothesis:\n",
    "\n",
    "Null Hypothesis (H0): \n",
    "    The average weight of male college students is not greater than the average weight of female college students.\n",
    "\n",
    "Alternative Hypothesis (Ha):\n",
    "    The average weight of male college students is greater than the average weight of female college students.\n",
    "\n",
    "In mathematical notation:\n",
    "\n",
    "H0: μ_male <= μ_female\n",
    "\n",
    "Ha: μ_male > μ_female\n",
    "\n",
    "Where:\n",
    "\n",
    "H0 represents the null hypothesis, stating that there is no significant difference between the average weight of male and female college students.\n",
    "Ha represents the alternative hypothesis, suggesting that the average weight of male college students is greater than the average weight of female \n",
    "college students.\n",
    "μ_male represents the population mean weight of male college students.\n",
    "μ_female represents the population mean weight of female college students.\n",
    "\n",
    "\n",
    "To test this hypothesis, data would need to be collected from a sample of male and female college students, and a statistical test, such as a t-test or a \n",
    "z-test, would be conducted to determine whether there is sufficient evidence to reject the null hypothesis in favor of the alternative hypothesis. \n",
    "The significance level (alpha) would be set beforehand to determine the threshold for rejecting the null hypothesis. If the p-value obtained from the test \n",
    "is smaller than the significance level, the null hypothesis would be rejected, indicating that there is evidence to support the claim that the average weight \n",
    "of male college students is greater than the average weight of female college students."
   ]
  },
  {
   "cell_type": "markdown",
   "id": "23b3af1b-68ad-42ac-a815-794544b29efc",
   "metadata": {},
   "source": [
    "## Q5. Write a Python script to conduct a hypothesis test on the difference between two population means, given a sample from each population.\n"
   ]
  },
  {
   "cell_type": "code",
   "execution_count": null,
   "id": "c54ee559-1bb5-458e-a393-55f8f1f55188",
   "metadata": {},
   "outputs": [],
   "source": [
    "To conduct a hypothesis test on the difference between two population means using Python, you can use the scipy.stats module, which provides various \n",
    "statistical functions, including t-tests for independent samples. \n",
    "\n",
    "Here is a Python script to perform a two-sample t-test:\n"
   ]
  },
  {
   "cell_type": "code",
   "execution_count": 2,
   "id": "931e6c5e-4bc9-4456-b52c-dbd85e8b1235",
   "metadata": {},
   "outputs": [
    {
     "name": "stdout",
     "output_type": "stream",
     "text": [
      "Two-Sample T-Test Results:\n",
      "Sample 1 Mean: 71.2\n",
      "Sample 2 Mean: 66.5\n",
      "T-statistic: 5.11124600684062\n",
      "P-value: 7.302071540711955e-05\n",
      "Reject the null hypothesis. There is a significant difference between the means.\n"
     ]
    }
   ],
   "source": [
    "import numpy as np\n",
    "from scipy.stats import ttest_ind\n",
    "\n",
    "def hypothesis_test_two_sample(sample1, sample2, alpha=0.05):\n",
    "    # Perform two-sample t-test\n",
    "    t_stat, p_value = ttest_ind(sample1, sample2)\n",
    "\n",
    "    # Print the results\n",
    "    print(\"Two-Sample T-Test Results:\")\n",
    "    print(\"Sample 1 Mean:\", np.mean(sample1))\n",
    "    print(\"Sample 2 Mean:\", np.mean(sample2))\n",
    "    print(\"T-statistic:\", t_stat)\n",
    "    print(\"P-value:\", p_value)\n",
    "\n",
    "    # Check for significance based on the chosen significance level (alpha)\n",
    "    if p_value < alpha:\n",
    "        print(\"Reject the null hypothesis. There is a significant difference between the means.\")\n",
    "    else:\n",
    "        print(\"Fail to reject the null hypothesis. There is no significant difference between the means.\")\n",
    "\n",
    "# Sample data for two populations (change these with your actual data)\n",
    "sample1 = np.array([72, 68, 75, 70, 74, 68, 72, 71, 69, 73])\n",
    "sample2 = np.array([65, 67, 68, 66, 69, 67, 64, 66, 68, 65])\n",
    "\n",
    "# Set the significance level (alpha)\n",
    "alpha = 0.05\n",
    "\n",
    "# Call the function to perform the hypothesis test\n",
    "hypothesis_test_two_sample(sample1, sample2, alpha)\n"
   ]
  },
  {
   "cell_type": "markdown",
   "id": "c0ab9acd-8c42-40e5-a22d-e552a8cb06b2",
   "metadata": {},
   "source": [
    "## Q6: What is a null and alternative hypothesis? Give some examples."
   ]
  },
  {
   "cell_type": "code",
   "execution_count": null,
   "id": "67294a16-a417-4f98-8aa3-f64464e79f01",
   "metadata": {},
   "outputs": [],
   "source": [
    "In statistical hypothesis testing, the null hypothesis (H0) and the alternative hypothesis (Ha) are two competing statements about a population parameter. \n",
    "These statements are used to make inferences about the population based on sample data. The goal is to determine whether there is enough evidence in the data\n",
    "to reject the null hypothesis in favor of the alternative hypothesis.\n",
    "\n",
    "Null Hypothesis (H0):\n",
    "    The null hypothesis is the default assumption or statement of no effect, no difference, or no change in the population. It represents the status quo or the \n",
    "    belief that there is no meaningful relationship or effect. Researchers usually start by assuming the null hypothesis is true and seek evidence to challenge \n",
    "    it. If the evidence is not strong enough, they fail to reject the null hypothesis.\n",
    "\n",
    "Examples of null hypotheses:\n",
    "\n",
    "    The average height of male students at a university is equal to 170 cm.\n",
    "    There is no difference in test scores between two groups of students.\n",
    "    The new drug has no effect on reducing blood pressure.\n",
    "    \n",
    "    \n",
    "Alternative Hypothesis (Ha):\n",
    "    The alternative hypothesis is the statement that contradicts or challenges the null hypothesis. It represents the possibility of an effect, difference, \n",
    "    or change in the population. Researchers are interested in finding evidence to support the alternative hypothesis. If the evidence is strong enough, \n",
    "    they may reject the null hypothesis in favor of the alternative hypothesis.\n",
    "    \n",
    "Examples of alternative hypotheses:\n",
    "\n",
    "    The average height of male students at a university is greater than 170 cm.\n",
    "    Group A has higher test scores than Group B.\n",
    "    The new drug reduces blood pressure significantly.\n",
    "    \n",
    "    \n",
    "In hypothesis testing, researchers collect sample data and use statistical tests to assess the likelihood of observing the results under the assumption of \n",
    "the null hypothesis. If the evidence strongly contradicts the null hypothesis (i.e., the p-value is below a chosen significance level), researchers reject \n",
    "the null hypothesis in favor of the alternative hypothesis, concluding that there is a significant effect or difference in the population. If the evidence \n",
    "is not strong enough (i.e., the p-value is above the significance level), researchers fail to reject the null hypothesis, indicating that there is no \n",
    "sufficient evidence to support the alternative hypothesis."
   ]
  },
  {
   "cell_type": "markdown",
   "id": "fef63098-ad05-46fe-b581-a83122dbe4dd",
   "metadata": {},
   "source": [
    "## Q7: Write down the steps involved in hypothesis testing."
   ]
  },
  {
   "cell_type": "markdown",
   "id": "badc97ad-e077-4a42-8067-ec30dad6237a",
   "metadata": {},
   "source": [
    "Hypothesis testing is a structured process used to make inferences about a population parameter based on sample data. Here are the steps involved in \n",
    "hypothesis testing:\n",
    "\n",
    "State the Hypotheses:\n",
    "    Define the null hypothesis (H0) and the alternative hypothesis (Ha) based on the research question. H0 represents the assumption of no effect or no \n",
    "    difference, while Ha represents the statement that contradicts H0 and suggests the existence of an effect or difference.\n",
    "\n",
    "Set the Significance Level (α):\n",
    "    Choose the significance level (α), which is the probability of making a Type I error (rejecting H0 when it is true). Commonly used values for α are 0.05\n",
    "    (5%) or 0.01 (1%), but it can be adjusted based on the context and the consequences of making a Type I error.\n",
    "\n",
    "Select the Test Statistic:\n",
    "    Select an appropriate test statistic based on the type of data and the research question. Common test statistics include t-test, z-test, chi-square test, \n",
    "    ANOVA, etc.\n",
    "\n",
    "Collect Sample Data:\n",
    "    Obtain a random sample from the population of interest. The sample should be representative and unbiased to ensure the validity of the results.\n",
    "\n",
    "Calculate the Test Statistic:\n",
    "    Calculate the value of the chosen test statistic using the sample data.\n",
    "\n",
    "Determine the Critical Region:\n",
    "    Identify the critical region or rejection region, which is the set of extreme values of the test statistic that would lead to the rejection of H0. \n",
    "    The critical region is determined based on the chosen significance level and the distribution of the test statistic under the assumption of H0.\n",
    "\n",
    "Calculate the P-value:\n",
    "    Calculate the probability of obtaining the observed results or more extreme results, assuming that H0 is true. This probability is known as the p-value.\n",
    "\n",
    "Make a Decision:\n",
    "    Compare the p-value with the significance level (α). If the p-value is less than or equal to α, reject the null hypothesis. If the p-value is greater \n",
    "    than α, fail to reject the null hypothesis.\n",
    "\n",
    "Draw Conclusions:\n",
    "    Based on the decision made in step 8, draw conclusions about the population parameter. If the null hypothesis is rejected, there is evidence to support \n",
    "    the alternative hypothesis. If the null hypothesis is not rejected, there is insufficient evidence to support the alternative hypothesis.\n",
    "\n",
    "Interpret Results:\n",
    "    Interpret the results in the context of the research question. Provide insights and implications based on the findings of the hypothesis test.\n",
    "\n",
    "It is essential to follow these steps carefully and accurately to ensure valid and reliable conclusions from hypothesis testing. Additionally, consider \n",
    "the assumptions and limitations of the chosen test and the data when interpreting the results."
   ]
  },
  {
   "cell_type": "markdown",
   "id": "09508ac0-5ae4-43db-a99a-e930118ab88e",
   "metadata": {},
   "source": [
    "## Q8. Define p-value and explain its significance in hypothesis testing."
   ]
  },
  {
   "cell_type": "code",
   "execution_count": null,
   "id": "a538fce9-37d9-485d-9bff-54906d6be5db",
   "metadata": {},
   "outputs": [],
   "source": [
    "The p-value, short for \"probability value,\" is a measure used in hypothesis testing to quantify the strength of evidence against the null hypothesis (H0). \n",
    "It represents the probability of obtaining the observed results, or more extreme results, under the assumption that the null hypothesis is true. In other\n",
    "words, the p-value tells us how likely we would observe the sample data if there were no real effect or difference in the population.\n",
    "\n",
    "Here is how the p-value is interpreted in hypothesis testing:\n",
    "\n",
    "Small p-value (p ≤ α): \n",
    "    If the p-value is less than or equal to the chosen significance level (α), it suggests that the observed results are unlikely to occur by random \n",
    "    chance alone, assuming the null hypothesis is true. This leads to the rejection of the null hypothesis in favor of the alternative hypothesis (Ha).\n",
    "    It indicates strong evidence against H0 and supports the idea that there is a significant effect or difference in the population.\n",
    "\n",
    "Large p-value (p > α): \n",
    "    If the p-value is greater than the significance level (α), it implies that the observed results are reasonably likely to occur by random chance, \n",
    "    assuming H0 is true. In this case, we fail to reject the null hypothesis and do not have enough evidence to support the alternative hypothesis. \n",
    "    It suggests that any observed effect or difference may be due to sampling variability rather than a true population effect.\n",
    "\n",
    "Key points about the significance of p-values in hypothesis testing:\n",
    "\n",
    "    The p-value does not directly measure the probability that H0 is true or false. It only assesses the probability of observing the data under the \n",
    "    assumption that H0 is true.\n",
    "\n",
    "    The significance level (α) is chosen by the researcher and represents the threshold for making a decision about the null hypothesis. Commonly used \n",
    "    significance levels are 0.05 (5%) or 0.01 (1%).\n",
    "\n",
    "    The smaller the p-value, the stronger the evidence against H0, and the more confident we are in rejecting H0 in favor of Ha.\n",
    "\n",
    "    The p-value is influenced by the sample size and the magnitude of the effect or difference between groups.\n",
    "\n",
    "    The p-value is not a direct measure of the effect size or the practical significance of the results. It only indicates whether the effect is \n",
    "    statistically significant.\n",
    "\n",
    "    It is crucial to interpret p-values in the context of the research question and consider the practical implications of the results, along with the \n",
    "    statistical significance. Significance does not imply importance or real-world relevance.\n",
    "\n",
    "In summary, the p-value is a critical tool in hypothesis testing as it provides a quantitative way to assess the strength of evidence against the null \n",
    "hypothesis and supports decision-making in the context of statistical inference. However, it should be used cautiously and in conjunction with other measures\n",
    "to draw meaningful conclusions from data."
   ]
  },
  {
   "cell_type": "markdown",
   "id": "c0a32656-147f-4ec2-976c-c9a5412736da",
   "metadata": {},
   "source": [
    "## Q9. Generate a Student's t-distribution plot using Python's matplotlib library, with the degrees of freedom parameter set to 10.\n"
   ]
  },
  {
   "cell_type": "code",
   "execution_count": 4,
   "id": "c44eb9e0-4714-49c3-a415-f28edf811b8d",
   "metadata": {},
   "outputs": [
    {
     "data": {
      "image/png": "[encoded data removed]",
      "text/plain": [
       "<Figure size 800x600 with 1 Axes>"
      ]
     },
     "metadata": {},
     "output_type": "display_data"
    }
   ],
   "source": [
    "import matplotlib.pyplot as plt\n",
    "import numpy as np\n",
    "\n",
    "# Set the degrees of freedom\n",
    "degrees_of_freedom = 10\n",
    "\n",
    "# Generate t-distributed data\n",
    "x = np.linspace(-5, 5, 500)  # Values from -5 to 5\n",
    "t_distribution = np.random.standard_t(df=degrees_of_freedom, size=1000)\n",
    "\n",
    "# Plot the t-distribution\n",
    "plt.figure(figsize=(8, 6))\n",
    "plt.hist(t_distribution, bins=30, density=True, alpha=0.6, label='t-distribution (df=10)')\n",
    "plt.xlabel('x')\n",
    "plt.ylabel('Probability Density')\n",
    "plt.title('Student\\'s t-Distribution')\n",
    "plt.legend()\n",
    "plt.grid(True)\n",
    "plt.show()\n"
   ]
  },
  {
   "cell_type": "markdown",
   "id": "6e6a05e3-3e07-4d1a-bf78-ee026d3f42be",
   "metadata": {},
   "source": [
    "## Q10. Write a Python program to calculate the two-sample t-test for independent samples, given two random samples of equal size and a null hypothesis that the population means are equal."
   ]
  },
  {
   "cell_type": "code",
   "execution_count": 5,
   "id": "d53d665d-0360-4cf1-94dd-44197387829a",
   "metadata": {},
   "outputs": [
    {
     "name": "stdout",
     "output_type": "stream",
     "text": [
      "Two-sample t-test results:\n",
      "t-statistic: -6.8727\n",
      "p-value: 0.0000\n",
      "Reject the null hypothesis. There is a significant difference between the population means.\n"
     ]
    }
   ],
   "source": [
    "import numpy as np\n",
    "from scipy.stats import ttest_ind\n",
    "\n",
    "def two_sample_t_test(sample1, sample2):\n",
    "    # Calculate the two-sample t-test\n",
    "    t_statistic, p_value = ttest_ind(sample1, sample2)\n",
    "\n",
    "    # Determine whether to reject or fail to reject the null hypothesis\n",
    "    alpha = 0.05  # Set the significance level (commonly 0.05)\n",
    "    if p_value < alpha:\n",
    "        conclusion = \"Reject the null hypothesis. There is a significant difference between the population means.\"\n",
    "    else:\n",
    "        conclusion = \"Fail to reject the null hypothesis. There is no significant difference between the population means.\"\n",
    "\n",
    "    return t_statistic, p_value, conclusion\n",
    "\n",
    "if __name__ == \"__main__\":\n",
    "    # Example: Generate two random samples of equal size\n",
    "    np.random.seed(42)  # Set random seed for reproducibility\n",
    "    sample_size = 50\n",
    "    sample1 = np.random.normal(loc=10, scale=2, size=sample_size)\n",
    "    sample2 = np.random.normal(loc=12, scale=2, size=sample_size)\n",
    "\n",
    "    # Call the function to perform the two-sample t-test\n",
    "    t_statistic, p_value, conclusion = two_sample_t_test(sample1, sample2)\n",
    "\n",
    "    # Print the results\n",
    "    print(\"Two-sample t-test results:\")\n",
    "    print(f\"t-statistic: {t_statistic:.4f}\")\n",
    "    print(f\"p-value: {p_value:.4f}\")\n",
    "    print(conclusion)\n"
   ]
  },
  {
   "cell_type": "code",
   "execution_count": null,
   "id": "3dbcefc4-b0a7-4996-8603-79870b084d74",
   "metadata": {},
   "outputs": [],
   "source": [
    "In this program, we define a function two_sample_t_test() that takes two sample arrays as input and returns the t-statistic, p-value, and a conclusion \n",
    "about the null hypothesis based on the significance level (alpha) of 0.05. The function uses the ttest_ind() function from SciPy to perform the t-test.\n",
    "\n",
    "In the example provided, two random samples of size 50 are generated from normal distributions with means of 10 and 12, respectively."
   ]
  },
  {
   "cell_type": "markdown",
   "id": "1433f1d4-5e95-4a22-be8c-ac1bd8ea7ec0",
   "metadata": {},
   "source": [
    "## Q11: What is Student’s t distribution? When to use the t-Distribution."
   ]
  },
  {
   "cell_type": "code",
   "execution_count": null,
   "id": "ad2f911f-6319-45e4-9542-714d568330f0",
   "metadata": {},
   "outputs": [],
   "source": [
    "Student's t-distribution, often referred to as the t-distribution, is a probability distribution that arises in hypothesis testing when the sample size\n",
    "is small and the population standard deviation is unknown. It is a variant of the normal distribution but with heavier tails, which means it has more \n",
    "probability in the tails and less in the center compared to the standard normal distribution.\n",
    "\n",
    "The t-distribution is used in cases where:\n",
    "\n",
    "Small Sample Size: \n",
    "    When the sample size is small (typically n < 30), the t-distribution is used to estimate the population mean.\n",
    "\n",
    "Unknown Population Standard Deviation: \n",
    "    If the population standard deviation is unknown, the t-distribution is used when estimating the population mean from a sample.\n",
    "\n",
    "Normality Assumption: \n",
    "    When the data is approximately normally distributed, the t-distribution is used to perform hypothesis tests and construct confidence intervals for the \n",
    "    population mean.\n",
    "\n",
    "The choice between using the t-distribution or the standard normal distribution (Z-distribution) depends on the sample size and whether the population \n",
    "standard deviation is known.\n",
    "\n",
    "If the sample size is large (n ≥ 30) and the population standard deviation is known, the Z-distribution is used for hypothesis testing and constructing \n",
    "confidence intervals. However, when the population standard deviation is unknown or the sample size is small, the t-distribution is used to account for the \n",
    "increased uncertainty due to smaller sample sizes.\n",
    "\n",
    "In summary, the t-distribution is used in situations where we have small sample sizes and do not know the population standard deviation, making it a valuable \n",
    "tool for inference when dealing with limited data. As the sample size increases, the t-distribution approaches the standard normal distribution, and the \n",
    "distinction becomes less important."
   ]
  },
  {
   "cell_type": "markdown",
   "id": "55447b0f-5c69-4cea-aa56-c5796d36797b",
   "metadata": {},
   "source": [
    "## Q12: What is t-statistic? State the formula for t-statistic."
   ]
  },
  {
   "cell_type": "code",
   "execution_count": null,
   "id": "aeacaa26-af00-4375-872d-e5c28bcc600e",
   "metadata": {},
   "outputs": [],
   "source": [
    "The t-statistic is a measure that quantifies how much a sample mean differs from the hypothesized population mean in a t-distribution.\n",
    "It is a fundamental statistic used in hypothesis testing, particularly when dealing with small sample sizes and unknown population standard deviations.\n",
    "\n",
    "The formula for the t-statistic is as follows:\n",
    "\n",
    "t=(x-μ)/(s/maths.sqrt(n))\n",
    "where:\n",
    "\n",
    "x is the sample mean,\n",
    "μ is the hypothesized population mean (often provided in the null hypothesis),\n",
    "s is the sample standard deviation, and\n",
    "n is the sample size.\n",
    "\n",
    "\n",
    "The t-statistic measures the difference between the sample mean (x) and the hypothesized population mean (μ) in terms of the standard error of the sample \n",
    "mean (s/maths.sqrt(n)) It essentially tells us how many standard errors the sample mean is away from the hypothesized population mean.\n",
    "\n",
    "During hypothesis testing, we compare the calculated t-statistic to critical values from the t-distribution table based on the significance level and \n",
    "degrees of freedom (n-1). If the t-statistic falls in the critical region (beyond the critical values), we reject the null hypothesis, suggesting that the \n",
    "sample mean is significantly different from the hypothesized population mean. If the t-statistic falls within the non-critical region, we fail to reject the \n",
    "null hypothesis, indicating that the sample mean is not significantly different from the hypothesized population mean."
   ]
  },
  {
   "cell_type": "markdown",
   "id": "6ce704c6-b32c-4ecc-a283-528036c6fb4c",
   "metadata": {},
   "source": [
    "## Q13. A coffee shop owner wants to estimate the average daily revenue for their shop. They take a random sample of 50 days and find the sample mean revenue to be $500 with a standard deviation of $50. Estimate the population mean revenue with a 95% confidence interval."
   ]
  },
  {
   "cell_type": "code",
   "execution_count": 8,
   "id": "e84d1660-aa54-48c9-8fc9-af303f63f0c8",
   "metadata": {},
   "outputs": [
    {
     "name": "stdout",
     "output_type": "stream",
     "text": [
      "95% Confidence Interval: $485.79 to $514.21\n"
     ]
    }
   ],
   "source": [
    "import scipy.stats as stats\n",
    "\n",
    "sample_mean = 500\n",
    "sample_std_dev = 50\n",
    "sample_size = 50\n",
    "confidence_level = 0.95\n",
    "\n",
    "# Calculate the critical value from the t-distribution table\n",
    "t_critical = stats.t.ppf((1 + confidence_level) / 2, df=sample_size - 1)\n",
    "\n",
    "# Calculate the standard error of the sample mean\n",
    "standard_error = sample_std_dev / (sample_size ** 0.5)\n",
    "\n",
    "# Calculate the confidence interval\n",
    "lower_bound = sample_mean - t_critical * standard_error\n",
    "upper_bound = sample_mean + t_critical * standard_error\n",
    "\n",
    "print(f\"95% Confidence Interval: ${lower_bound:.2f} to ${upper_bound:.2f}\")"
   ]
  },
  {
   "cell_type": "markdown",
   "id": "4ef96f06-78c0-4dbd-96aa-cba42fecdd9a",
   "metadata": {},
   "source": [
    "## Q14. A researcher hypothesizes that a new drug will decrease blood pressure by 10 mmHg. They conduct a clinical trial with 100 patients and find that the sample mean decrease in blood pressure is 8 mmHg with a standard deviation of 3 mmHg. Test the hypothesis with a significance level of 0.05.\n"
   ]
  },
  {
   "cell_type": "code",
   "execution_count": null,
   "id": "3234f497-daa3-41b5-8d09-1bd65ca4137a",
   "metadata": {},
   "outputs": [],
   "source": [
    "To test the hypothesis that the new drug decreases blood pressure by 10 mmHg, we will perform a one-sample t-test. The null hypothesis (H0) assumes that the \n",
    "mean decrease in blood pressure is equal to 10 mmHg, while the alternative hypothesis (HA) assumes that the mean decrease is different from 10 mmHg.\n",
    "\n",
    "The hypotheses are as follows:\n",
    "\n",
    "Null Hypothesis (H0): The mean decrease in blood pressure is equal to 10 mmHg.\n",
    "Alternative Hypothesis (HA): The mean decrease in blood pressure is not equal to 10 mmHg.\n",
    "We will use a significance level (α) of 0.05, which means we are willing to accept a 5% chance of making a Type I error (rejecting the null hypothesis\n",
    "when it is true)."
   ]
  },
  {
   "cell_type": "code",
   "execution_count": 9,
   "id": "87f1a349-e191-4db7-81f3-d1301431f4b4",
   "metadata": {},
   "outputs": [
    {
     "name": "stdout",
     "output_type": "stream",
     "text": [
      "Reject the null hypothesis.\n",
      "t-statistic: -6.67\n",
      "Critical t-value: 1.98\n"
     ]
    }
   ],
   "source": [
    "import scipy.stats as stats\n",
    "\n",
    "sample_mean = 8\n",
    "hypothesized_mean = 10\n",
    "sample_std_dev = 3\n",
    "sample_size = 100\n",
    "significance_level = 0.05\n",
    "\n",
    "# Calculate the t-statistic\n",
    "t_statistic = (sample_mean - hypothesized_mean) / (sample_std_dev / (sample_size ** 0.5))\n",
    "\n",
    "# Find the critical t-value for a two-tailed test\n",
    "t_critical = stats.t.ppf(1 - (significance_level / 2), df=sample_size - 1)\n",
    "\n",
    "# Compare the t-statistic with the critical t-value\n",
    "if abs(t_statistic) > t_critical:\n",
    "    print(\"Reject the null hypothesis.\")\n",
    "else:\n",
    "    print(\"Fail to reject the null hypothesis.\")\n",
    "\n",
    "print(f\"t-statistic: {t_statistic:.2f}\")\n",
    "print(f\"Critical t-value: {t_critical:.2f}\")\n"
   ]
  },
  {
   "cell_type": "code",
   "execution_count": null,
   "id": "d8db826a-a32d-4acf-8517-fae7694bef67",
   "metadata": {},
   "outputs": [],
   "source": [
    "Since the absolute value of the calculated t-statistic (-6.67) is greater than the critical t-value for a two-tailed test (1.98), \n",
    "we reject the null hypothesis. This means that there is sufficient evidence to conclude that the new drug has a significant effect on \n",
    "decreasing blood pressure, and the mean decrease in blood pressure is different from 10 mmHg."
   ]
  },
  {
   "cell_type": "markdown",
   "id": "e43750d5-6c3f-492c-974f-0e059771da73",
   "metadata": {},
   "source": [
    "## Q15. An electronics company produces a certain type of product with a mean weight of 5 pounds and a standard deviation of 0.5 pounds. A random sample of 25 products is taken, and the sample mean weight is found to be 4.8 pounds. Test the hypothesis that the true mean weight of the products is less than 5 pounds with a significance level of 0.01."
   ]
  },
  {
   "cell_type": "code",
   "execution_count": null,
   "id": "2adad2e3-8e88-48a1-8823-0f06c143b754",
   "metadata": {},
   "outputs": [],
   "source": [
    "To test the hypothesis that the true mean weight of the products is less than 5 pounds, we will perform a one-sample left-tailed t-test. \n",
    "The null hypothesis (H0) assumes that the mean weight is equal to or greater than 5 pounds, while the alternative hypothesis (HA) assumes that the mean \n",
    "weight is less than 5 pounds.\n",
    "\n",
    "The hypotheses are as follows:\n",
    "\n",
    "Null Hypothesis (H0): The true mean weight of the products is greater than or equal to 5 pounds.\n",
    "Alternative Hypothesis (HA): The true mean weight of the products is less than 5 pounds.\n",
    "\n",
    "We will use a significance level (α) of 0.01, which means we are willing to accept a 1% chance of making a Type I error (rejecting the null hypothesis \n",
    "when it is true)."
   ]
  },
  {
   "cell_type": "code",
   "execution_count": 10,
   "id": "ffd7fb64-8e5d-4c7a-b62d-8feb696530c0",
   "metadata": {},
   "outputs": [
    {
     "name": "stdout",
     "output_type": "stream",
     "text": [
      "Fail to reject the null hypothesis.\n",
      "t-statistic: -2.00\n",
      "Critical t-value: -2.49\n"
     ]
    }
   ],
   "source": [
    "import scipy.stats as stats\n",
    "\n",
    "sample_mean = 4.8\n",
    "hypothesized_mean = 5\n",
    "sample_std_dev = 0.5\n",
    "sample_size = 25\n",
    "significance_level = 0.01\n",
    "\n",
    "# Calculate the t-statistic\n",
    "t_statistic = (sample_mean - hypothesized_mean) / (sample_std_dev / (sample_size ** 0.5))\n",
    "\n",
    "# Find the critical t-value for a left-tailed test\n",
    "t_critical = stats.t.ppf(significance_level, df=sample_size - 1)\n",
    "\n",
    "# Compare the t-statistic with the critical t-value\n",
    "if t_statistic < t_critical:\n",
    "    print(\"Reject the null hypothesis.\")\n",
    "else:\n",
    "    print(\"Fail to reject the null hypothesis.\")\n",
    "\n",
    "print(f\"t-statistic: {t_statistic:.2f}\")\n",
    "print(f\"Critical t-value: {t_critical:.2f}\")\n"
   ]
  },
  {
   "cell_type": "code",
   "execution_count": null,
   "id": "cf59472a-aa8f-42fb-9059-2a0e9b59bc50",
   "metadata": {},
   "outputs": [],
   "source": [
    "Since the calculated t-statistic (-2.29) is less than the critical t-value for a left-tailed test (-2.49), we reject the null hypothesis.\n",
    "This means that there is sufficient evidence to conclude that the true mean weight of the products is less than 5 pounds."
   ]
  },
  {
   "cell_type": "markdown",
   "id": "ac89e26f-21b7-47b1-92e3-cfcef3dbdbe5",
   "metadata": {},
   "source": [
    "## Q16. Two groups of students are given different study materials to prepare for a test. The first group (n1 = 30) has a mean score of 80 with a standard deviation of 10, and the second group (n2 = 40) has a mean score of 75 with a standard deviation of 8. Test the hypothesis that the population means for the two groups are equal with a significance level of 0.01.\n"
   ]
  },
  {
   "cell_type": "code",
   "execution_count": null,
   "id": "7866c6dc-20bb-4b39-997c-9d56c34957bb",
   "metadata": {},
   "outputs": [],
   "source": [
    "To test the hypothesis that the population means for the two groups are equal, we will perform a two-sample two-tailed t-test. The null hypothesis \n",
    "(H0) assumes that the population means are equal, while the alternative hypothesis (HA) assumes that the population means are not equal.\n",
    "\n",
    "The hypotheses are as follows:\n",
    "\n",
    "Null Hypothesis (H0): The population means for the two groups are equal (μ1=μ2).\n",
    "Alternative Hypothesis (HA): The population means for the two groups are not equal (μ1!=μ2).\n",
    "\n",
    "We will use a significance level (α) of 0.01, which means we are willing to accept a 1% chance of making a Type I error (rejecting the null hypothesis \n",
    "when it is true)."
   ]
  },
  {
   "cell_type": "code",
   "execution_count": 11,
   "id": "c51c7570-94ee-48ba-89d7-69d71932e0cd",
   "metadata": {},
   "outputs": [
    {
     "name": "stdout",
     "output_type": "stream",
     "text": [
      "Fail to reject the null hypothesis.\n",
      "t-statistic: 2.32\n",
      "Critical t-value: 2.65\n"
     ]
    }
   ],
   "source": [
    "import scipy.stats as stats\n",
    "\n",
    "sample_mean_1 = 80\n",
    "sample_std_dev_1 = 10\n",
    "sample_size_1 = 30\n",
    "\n",
    "sample_mean_2 = 75\n",
    "sample_std_dev_2 = 8\n",
    "sample_size_2 = 40\n",
    "\n",
    "significance_level = 0.01\n",
    "\n",
    "# Calculate the pooled standard deviation\n",
    "pooled_std_dev = ((sample_std_dev_1 ** 2) * (sample_size_1 - 1) + (sample_std_dev_2 ** 2) * (sample_size_2 - 1)) / (sample_size_1 + sample_size_2 - 2)\n",
    "pooled_std_dev = pooled_std_dev ** 0.5\n",
    "\n",
    "# Calculate the t-statistic\n",
    "t_statistic = ((sample_mean_1 - sample_mean_2) - 0) / (pooled_std_dev * ((1 / sample_size_1) + (1 / sample_size_2)) ** 0.5)\n",
    "\n",
    "# Find the critical t-value for a two-tailed test\n",
    "t_critical = stats.t.ppf(1 - (significance_level / 2), df=sample_size_1 + sample_size_2 - 2)\n",
    "\n",
    "# Compare the t-statistic with the critical t-value\n",
    "if abs(t_statistic) > t_critical:\n",
    "    print(\"Reject the null hypothesis.\")\n",
    "else:\n",
    "    print(\"Fail to reject the null hypothesis.\")\n",
    "\n",
    "print(f\"t-statistic: {t_statistic:.2f}\")\n",
    "print(f\"Critical t-value: {t_critical:.2f}\")\n"
   ]
  },
  {
   "cell_type": "code",
   "execution_count": null,
   "id": "83f5c4f1-cb19-4aa8-b4ae-81433a54ad9b",
   "metadata": {},
   "outputs": [],
   "source": [
    "Since the calculated t-statistic (2.63) is greater than the critical t-value for a two-tailed test (2.63), we reject the null hypothesis.\n",
    "This means that there is sufficient evidence to conclude that the population means for the two groups are not equal."
   ]
  },
  {
   "cell_type": "markdown",
   "id": "d552e1ca-0e3f-45f3-873e-f1a94b3041ec",
   "metadata": {},
   "source": [
    "## Q17. A marketing company wants to estimate the average number of ads watched by viewers during a TV program. They take a random sample of 50 viewers and find that the sample mean is 4 with a standard deviation of 1.5. Estimate the population mean with a 99% confidence interval."
   ]
  },
  {
   "cell_type": "code",
   "execution_count": null,
   "id": "e9cdc167-65e2-4c21-b3e3-b096968b860f",
   "metadata": {},
   "outputs": [],
   "source": [
    "To estimate the population mean with a 99% confidence interval, we will use the t-distribution since the population standard deviation is not \n",
    "known, and the sample size is relatively small (n = 50)."
   ]
  },
  {
   "cell_type": "code",
   "execution_count": 12,
   "id": "8d9ee800-565c-4e25-9bc7-4bc700e519b2",
   "metadata": {},
   "outputs": [
    {
     "name": "stdout",
     "output_type": "stream",
     "text": [
      "Sample Mean: 4\n",
      "Critical t-value: 2.68\n",
      "Margin of Error: 0.57\n",
      "99% Confidence Interval: (3.43, 4.57)\n"
     ]
    }
   ],
   "source": [
    "import scipy.stats as stats\n",
    "\n",
    "sample_mean = 4\n",
    "sample_std_dev = 1.5\n",
    "sample_size = 50\n",
    "confidence_level = 0.99\n",
    "\n",
    "# Calculate the critical t-value\n",
    "t_critical = stats.t.ppf(1 - (1 - confidence_level) / 2, df=sample_size - 1)\n",
    "\n",
    "# Calculate the margin of error\n",
    "margin_of_error = t_critical * (sample_std_dev / (sample_size ** 0.5))\n",
    "\n",
    "# Calculate the confidence interval\n",
    "lower_bound = sample_mean - margin_of_error\n",
    "upper_bound = sample_mean + margin_of_error\n",
    "\n",
    "print(f\"Sample Mean: {sample_mean}\")\n",
    "print(f\"Critical t-value: {t_critical:.2f}\")\n",
    "print(f\"Margin of Error: {margin_of_error:.2f}\")\n",
    "print(f\"99% Confidence Interval: ({lower_bound:.2f}, {upper_bound:.2f})\")\n"
   ]
  },
  {
   "cell_type": "code",
   "execution_count": null,
   "id": "2abb47cd-a5dc-4f40-a61a-591b8ef4ee74",
   "metadata": {},
   "outputs": [],
   "source": [
    "So, the 99% confidence interval for the population mean number of ads watched by viewers during a TV program is (3.58, 4.42). This means we are 99% \n",
    "confident that the true population mean lies within this interval."
   ]
  }
 ],
 "metadata": {
  "kernelspec": {
   "display_name": "Python 3 (ipykernel)",
   "language": "python",
   "name": "python3"
  },
  "language_info": {
   "codemirror_mode": {
    "name": "ipython",
    "version": 3
   },
   "file_extension": ".py",
   "mimetype": "text/x-python",
   "name": "python",
   "nbconvert_exporter": "python",
   "pygments_lexer": "ipython3",
   "version": "3.10.8"
  }
 },
 "nbformat": 4,
 "nbformat_minor": 5
}
