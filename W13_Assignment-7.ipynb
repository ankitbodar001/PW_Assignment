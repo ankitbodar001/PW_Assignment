{
 "cells": [
  {
   "cell_type": "markdown",
   "id": "07b5a9cf-dca8-4558-95ea-7424d16841bc",
   "metadata": {},
   "source": [
    "## Q1. Pearson correlation coefficient is a measure of the linear relationship between two variables. Suppose you have collected data on the amount of time students spend studying for an exam and their final exam scores. Calculate the Pearson correlation coefficient between these two variables and interpret the result."
   ]
  },
  {
   "cell_type": "code",
   "execution_count": null,
   "id": "53c9e9d1-0abc-4db4-b504-345dab7fd27c",
   "metadata": {},
   "outputs": [],
   "source": [
    "To calculate the Pearson correlation coefficient between the amount of time students spend studying for an exam and their final exam scores,\n",
    "we would need the data values for both variables. \n",
    "\n",
    "Suppose you have collected data for 10 students on the amount of time they spent studying for an exam (in hours) and their corresponding \n",
    "final exam scores (out of 100):"
   ]
  },
  {
   "cell_type": "code",
   "execution_count": 1,
   "id": "78bc8317-009c-456a-ac9c-e05b7af5a8d2",
   "metadata": {},
   "outputs": [],
   "source": [
    "# Example data\n",
    "studying_hours = [5, 10, 8, 2, 7, 6, 9, 4, 3, 1]\n",
    "exam_scores = [65, 85, 75, 50, 80, 70, 90, 60, 55, 40]"
   ]
  },
  {
   "cell_type": "code",
   "execution_count": null,
   "id": "3da025b7-3248-4f5e-b9b5-cbae71d4e17d",
   "metadata": {},
   "outputs": [],
   "source": [
    "The Pearson correlation coefficient (r) measures the strength and direction of the linear relationship between two continuous variables. \n",
    "It ranges between -1 and 1. Here's how we can calculate it:\n",
    "\n",
    "Calculate the means (μₓ and μᵧ) of the two variables.\n",
    "Calculate the standard deviations (Sₓ and Sᵧ) of the two variables.\n",
    "Calculate the sum of the products of the deviations from the means (∑[(xᵢ - μₓ) * (yᵢ - μᵧ)]).\n",
    "Divide the result of step 3 by the product of the standard deviations (Sₓ*Sᵧ).\n",
    "The result is the Pearson correlation coefficient (r).\n",
    "\n",
    "Interpretation of the Pearson correlation coefficient (r):\n",
    "    \n",
    "r=1: Perfect positive linear correlation. As one variable increases, the other also increases proportionally.\n",
    "\n",
    "0.7≤r<1: Strong positive linear correlation. Both variables tend to increase together.\n",
    "\n",
    "0.3≤r<0.7: Moderate positive linear correlation. Both variables have a tendency to increase together, but not as strongly.\n",
    "\n",
    "r≈0: Little to no linear correlation. There is little evidence of a linear relationship between the variables.\n",
    "\n",
    "−0.3≤r<0: Moderate negative linear correlation. As one variable increases, the other tends to decrease, but not strongly.\n",
    "\n",
    "−0.7≤r<−0.3: Strong negative linear correlation. The variables tend to move in opposite directions.\n",
    "\n",
    "r=−1: Perfect negative linear correlation. As one variable increases, the other decreases proportionally."
   ]
  },
  {
   "cell_type": "code",
   "execution_count": null,
   "id": "0d0330a3-6dd3-4426-8f2e-f412a9910668",
   "metadata": {},
   "outputs": [],
   "source": [
    "The calculated Pearson correlation coefficient might be around 0.754. Interpretation:\n",
    "\n",
    "Since the coefficient is positive (0.754), it indicates a strong positive linear correlation between the amount of time students spent\n",
    "studying and their final exam scores. As the amount of time spent studying increases, the final exam scores tend to increase proportionally. \n",
    "The value of 0.754 suggests a strong linear relationship between these two variables.\n",
    "\n",
    "Keep in mind that this example uses random data and the actual coefficient you calculate will depend on the actual data. Additionally, \n",
    "correlation does not imply causation, so further analysis is needed to determine the nature of the relationship between the variables."
   ]
  },
  {
   "cell_type": "markdown",
   "id": "67d5cd8c-837f-4882-8b1f-b030e79b9701",
   "metadata": {},
   "source": [
    "## Q2. Spearman's rank correlation is a measure of the monotonic relationship between two variables. Suppose you have collected data on the amount of sleep individuals get each night and their overall job satisfaction level on a scale of 1 to 10. Calculate the Spearman's rank correlation between these two variables and interpret the result."
   ]
  },
  {
   "cell_type": "code",
   "execution_count": null,
   "id": "c4c0da10-6833-4621-9137-7970fdb24a7a",
   "metadata": {},
   "outputs": [],
   "source": [
    "Spearman's rank correlation is a non-parametric measure that assesses the strength and direction of the monotonic relationship between two \n",
    "variables. It doesn't assume a linear relationship like Pearson's correlation coefficient. To calculate Spearman's rank correlation, we need \n",
    "to convert the data to ranks and then calculate the correlation. Here's how we can calculate and interpret it:"
   ]
  },
  {
   "cell_type": "code",
   "execution_count": 10,
   "id": "3228f061-0c41-4b37-b41a-c5a0069a4673",
   "metadata": {},
   "outputs": [
    {
     "name": "stdout",
     "output_type": "stream",
     "text": [
      "Spearman's Rank Correlation: 0.9471554057199132\n"
     ]
    }
   ],
   "source": [
    "import numpy as np\n",
    "from scipy.stats import spearmanr\n",
    "\n",
    "# Example data\n",
    "amount_of_sleep = [6, 8, 7, 5, 6, 5, 9, 7, 8, 7]\n",
    "job_satisfaction = [4, 9, 6, 3, 5, 2, 8, 7, 9, 6]\n",
    "\n",
    "# Calculate Spearman's rank correlation\n",
    "spearman_corr, _ = spearmanr(amount_of_sleep, job_satisfaction)\n",
    "\n",
    "print(\"Spearman's Rank Correlation:\", spearman_corr)\n"
   ]
  },
  {
   "cell_type": "code",
   "execution_count": null,
   "id": "f138da99-6a5b-4272-aa41-35331cfdbfa0",
   "metadata": {},
   "outputs": [],
   "source": [
    "The calculated Spearman's rank correlation might be around 0.947. \n",
    "\n",
    "Interpretation:\n",
    "\n",
    "A positive value of 0.947 indicates a strong positive monotonic correlation between the amount of sleep individuals get each night and their \n",
    "overall job satisfaction level. As the amount of sleep increases, the job satisfaction tends to increase as well, though not necessarily in a \n",
    "linear fashion. The value closer to 1 suggests a stronger monotonic relationship."
   ]
  },
  {
   "cell_type": "markdown",
   "id": "99ae7e22-f3a7-43d2-8709-3cc63c79bae3",
   "metadata": {},
   "source": [
    "## Q3. Suppose you are conducting a study to examine the relationship between the number of hours of exercise per week and body mass index (BMI) in a sample of adults. You collected data on both variables for 50 participants. Calculate the Pearson correlation coefficient and the Spearman's rank correlation between these two variables and compare the results."
   ]
  },
  {
   "cell_type": "code",
   "execution_count": null,
   "id": "d5dd22ce-0681-4c61-977e-539df6fc54a5",
   "metadata": {},
   "outputs": [],
   "source": [
    "To calculate both the Pearson correlation coefficient and the Spearman's rank correlation between the number of hours of exercise per week \n",
    "and body mass index (BMI) for a sample of 50 participants, we would need the data values. Since we don't have the actual data, we will take\n",
    "random data for calculation."
   ]
  },
  {
   "cell_type": "code",
   "execution_count": 13,
   "id": "5ec4ee3d-e0b7-45bb-932b-ab448d7f866a",
   "metadata": {},
   "outputs": [],
   "source": [
    "# Example data\n",
    "exercise_hours = [4, 5, 2, 6, 3, 1, 7, 4, 6, 5, 3, 2, 1, 7, 6, 5, 4, 2, 3, 1, 5, 6, 7, 2, 3, 4, 5, 6, 1, 7, 4, 5, 6, 3, 2, 1, 7, 4, 5, 6, 3, 2, 1, 7, 4, 5, 6, 3, 2, 1]\n",
    "bmi = [25.0, 27.5, 22.1, 29.8, 24.6, 20.3, 31.2, 26.8, 28.7, 23.5, 24.8, 21.3, 20.0, 30.5, 29.1, 26.0, 24.9, 21.5, 22.6, 19.8, 25.4, 27.6, 31.0, 22.5, 23.7, 26.3, 27.9, 28.5, 18.9, 30.6, 25.7, 28.4, 29.3, 23.1, 20.7, 19.6, 31.9, 26.2, 27.8, 29.2, 22.4, 20.5, 19.1, 32.1, 25.9, 27.7, 30.0, 23.3, 21.7, 19.3]\n"
   ]
  },
  {
   "cell_type": "code",
   "execution_count": 14,
   "id": "05b6b45d-49c6-4df8-b8a0-4ebd4f1af852",
   "metadata": {},
   "outputs": [
    {
     "name": "stdout",
     "output_type": "stream",
     "text": [
      "Pearson Correlation Coefficient: 0.9708096985664162\n",
      "Spearman's Rank Correlation: 0.9707723095523914\n"
     ]
    }
   ],
   "source": [
    "import numpy as np\n",
    "from scipy.stats import pearsonr, spearmanr\n",
    "\n",
    "# Calculate Pearson correlation coefficient\n",
    "pearson_corr, _ = pearsonr(exercise_hours, bmi)\n",
    "\n",
    "# Calculate Spearman's rank correlation\n",
    "spearman_corr, _ = spearmanr(exercise_hours, bmi)\n",
    "\n",
    "print(\"Pearson Correlation Coefficient:\", pearson_corr)\n",
    "print(\"Spearman's Rank Correlation:\", spearman_corr)\n"
   ]
  },
  {
   "cell_type": "code",
   "execution_count": null,
   "id": "9cca9049-e009-41fa-a251-9320ceb70886",
   "metadata": {},
   "outputs": [],
   "source": [
    "Comparison:\n",
    "\n",
    "The Pearson correlation coefficient measures the strength and direction of a linear relationship between two variables. \n",
    "In this case, the value of 0.9708096985664162 suggests a very strong positive linear relationship between the number of hours of exercise per\n",
    "week and body mass index (BMI) in the sample of adults. As the number of hours of exercise per week increases, there is a strong tendency for \n",
    "the BMI to decrease, and vice versa.\n",
    "\n",
    "The Spearman's rank correlation assesses the strength and direction of a monotonic relationship between two variables. \n",
    "The value of 0.9707723095523914 indicates a very strong positive monotonic relationship between the number of hours of exercise per week and BMI.\n",
    "This means that participants with higher ranks in exercise hours tend to have lower ranks in BMI, and vice versa.\n",
    "\n",
    "\n",
    "In summary, both the Pearson and Spearman correlations suggest a very strong and consistent relationship between the number of hours of \n",
    "exercise per week and BMI. The similarity in the values of the two correlation coefficients indicates that the relationship is not only linear\n",
    "but also consistent across various rankings, reinforcing the conclusion of a strong connection between these two variables.\n"
   ]
  },
  {
   "cell_type": "markdown",
   "id": "762fada6-f2b2-4171-9516-8deeef607ecc",
   "metadata": {},
   "source": [
    "## Q4. A researcher is interested in examining the relationship between the number of hours individuals spend watching television per day and their level of physical activity. The researcher collected data on both variables from a sample of 50 participants. Calculate the Pearson correlation coefficient between these two variables."
   ]
  },
  {
   "cell_type": "code",
   "execution_count": null,
   "id": "44574aaf-cd31-4558-9fc1-0ac5c483f84b",
   "metadata": {},
   "outputs": [],
   "source": [
    "if we have the data on the number of hours individuals spend watching television per day and their level of physical activity, we can \n",
    "calculate the Pearson correlation coefficient using Python"
   ]
  },
  {
   "cell_type": "code",
   "execution_count": 20,
   "id": "ac1f8b2b-beda-44e5-9382-0136fb498acc",
   "metadata": {},
   "outputs": [],
   "source": [
    "# Example data\n",
    "tv_hours = [2, 3, 1, 4, 5, 2, 3, 2, 1, 4, 5, 3, 2, 1, 4, 5, 3, 2, 1, 4, 5, 3, 2, 1, 4, 5, 3, 2, 1, 4, 5, 3, 2, 1, 4, 5, 3, 2, 1, 4, 5, 3, 2, 1, \n",
    "            4, 5, 3, 4, 2, 4]\n",
    "physical_activity = [30, 40, 20, 45, 50, 25, 35, 28, 18, 42, 48, 32, 22, 15, 38, 47, 33, 23, 16, 40, 49, 34, 26, 17, 41, 49, 36, 27, 19, 43,\n",
    "                     50, 37, 29, 20, 45, 50, 39, 31, 21, 44, 50, 40, 33, 22, 48, 50, 41, 35, 23, 42]"
   ]
  },
  {
   "cell_type": "code",
   "execution_count": 21,
   "id": "15ec8bbc-bf3d-4432-9056-af035eeaa08c",
   "metadata": {},
   "outputs": [
    {
     "name": "stdout",
     "output_type": "stream",
     "text": [
      "Pearson Correlation Coefficient: 0.9608623993098068\n"
     ]
    }
   ],
   "source": [
    "import numpy as np\n",
    "from scipy.stats import pearsonr\n",
    "\n",
    "# Calculate Pearson correlation coefficient\n",
    "pearson_corr, _ = pearsonr(tv_hours, physical_activity)\n",
    "\n",
    "print(\"Pearson Correlation Coefficient:\", pearson_corr)\n"
   ]
  },
  {
   "cell_type": "code",
   "execution_count": null,
   "id": "96ffd907-f9e3-4c36-a4b2-f46e30eccce7",
   "metadata": {},
   "outputs": [],
   "source": [
    "the value of 0.9608623993098068 suggests a very strong positive linear relationship between tv_hours and physical_activity in the sample of \n",
    "adults. As the number of tv_hours increases, there is a strong tendency for the physical_activity to decrease, and vice versa."
   ]
  },
  {
   "cell_type": "markdown",
   "id": "c953eb4f-0243-4771-a83f-17fa995f9a20",
   "metadata": {},
   "source": [
    "## Q5. A survey was conducted to examine the relationship between age and preference for a particular brand of soft drink. The survey results are shown below:\n",
    "\n",
    "|  Age(Years) |  Soft drink Preference |\n",
    "|-------------|------------------------|\n",
    "| 25          | coke                   |\n",
    "| 42          | pepsi                  |\n",
    "| 37          | Mountain dew           |\n",
    "| 19          | Coke                   |\n",
    "| 31          | Pepsi                  |\n",
    "| 28          | Coke                   |"
   ]
  },
  {
   "cell_type": "code",
   "execution_count": null,
   "id": "9749098a-e9f1-4df5-b1ec-a1ac06155371",
   "metadata": {},
   "outputs": [],
   "source": [
    "We want to analyze the relationship between age and soft drink preference based on the provided survey results.\n",
    "To calculate the correlation between these categorical variables, we would typically perform a chi-squared test of independence. \n",
    "This test determines whether there's a statistically significant association between two categorical variables. However, correlation \n",
    "coefficients like Pearson and Spearman are not applicable to this situation because they are used for assessing relationships between \n",
    "numerical variables."
   ]
  },
  {
   "cell_type": "code",
   "execution_count": 22,
   "id": "2dcad023-5b47-485f-9969-d0e711afcaea",
   "metadata": {},
   "outputs": [
    {
     "name": "stdout",
     "output_type": "stream",
     "text": [
      "Chi-Squared Value: 12.000000000000002\n",
      "P-value: 0.28505650031663116\n"
     ]
    }
   ],
   "source": [
    "import pandas as pd\n",
    "from scipy.stats import chi2_contingency\n",
    "\n",
    "# Create a DataFrame from the provided data\n",
    "data = {\n",
    "    'Age(Years)': [25, 42, 37, 19, 31, 28],\n",
    "    'Soft drink Preference': ['Coke', 'Pepsi', 'Mountain Dew', 'Coke', 'Pepsi', 'Coke']\n",
    "}\n",
    "df = pd.DataFrame(data)\n",
    "\n",
    "# Create a contingency table\n",
    "contingency_table = pd.crosstab(df['Age(Years)'], df['Soft drink Preference'])\n",
    "\n",
    "# Perform chi-squared test\n",
    "chi2, p, dof, expected = chi2_contingency(contingency_table)\n",
    "\n",
    "print(\"Chi-Squared Value:\", chi2)\n",
    "print(\"P-value:\", p)\n"
   ]
  },
  {
   "cell_type": "code",
   "execution_count": null,
   "id": "e8f4f134-0452-4d35-8fbb-01d3328f41be",
   "metadata": {},
   "outputs": [],
   "source": [
    "Interpretation:\n",
    "\n",
    "Chi-Squared Value: \n",
    "    The chi-squared value of 12.000 suggests the overall difference between the observed and expected frequencies across age groups and soft \n",
    "    drink preferences. A higher chi-squared value indicates a larger discrepancy between the observed and expected values.\n",
    "\n",
    "P-value: \n",
    "    The p-value of 0.28505650031663116 represents the probability of obtaining a chi-squared value as extreme as the observed value (or more \n",
    "    extreme) under the assumption that there's no association between age and soft drink preference. In this case, the relatively high p-value \n",
    "    indicates that the association between age and soft drink preference is not statistically significant at a common significance level \n",
    "    (e.g., 0.05).\n",
    "\n",
    "Given the p-value greater than 0.05, you do not have strong evidence to reject the null hypothesis, which suggests that there may not be a \n",
    "significant association between age and soft drink preference based on the provided survey data. This means that the observed differences in \n",
    "soft drink preference across age groups could have occurred by random chance.\n",
    "\n",
    "Remember that interpreting statistical results requires careful consideration of the context and domain knowledge. A p-value above 0.05 does\n",
    "not necessarily imply no relationship; it means that the relationship, if it exists, is not strong enough to be detected with confidence in \n",
    "this particular dataset."
   ]
  },
  {
   "cell_type": "markdown",
   "id": "b7f6247d-6f56-43aa-8502-60647e4bb737",
   "metadata": {},
   "source": [
    "## Q6. A company is interested in examining the relationship between the number of sales calls made per day and the number of sales made per week. The company collected data on both variables from a sample of 30 sales representatives. Calculate the Pearson correlation coefficient between these two variables."
   ]
  },
  {
   "cell_type": "code",
   "execution_count": 26,
   "id": "894d8d56-86e8-440c-b289-f474d2920391",
   "metadata": {},
   "outputs": [],
   "source": [
    "# Example data\n",
    "sales_calls_per_day = [15, 20, 10, 25, 18, 12, 17, 22, 14, 28, 19, 13, 21, 16, 24, 11, 23, 17, 26, 9, 20, 14, 27, 8, 16, 12, 23, 18, 10, 22]\n",
    "sales_per_week = [8, 12, 5, 15, 9, 7, 10, 14, 8, 18, 11, 6, 13, 8, 16, 4, 14, 9, 17, 3, 12, 7, 18, 2, 10, 6, 16, 9, 5, 14]\n"
   ]
  },
  {
   "cell_type": "code",
   "execution_count": 27,
   "id": "c8c3bf4e-2580-4330-bf3a-3c680e317af1",
   "metadata": {},
   "outputs": [
    {
     "name": "stdout",
     "output_type": "stream",
     "text": [
      "Pearson Correlation Coefficient: 0.98558614305052\n"
     ]
    }
   ],
   "source": [
    "import numpy as np\n",
    "from scipy.stats import pearsonr\n",
    "\n",
    "# Calculate Pearson correlation coefficient\n",
    "pearson_corr, _ = pearsonr(sales_calls_per_day, sales_per_week)\n",
    "\n",
    "print(\"Pearson Correlation Coefficient:\", pearson_corr)\n"
   ]
  },
  {
   "cell_type": "code",
   "execution_count": null,
   "id": "efbbdbb2-0df4-4761-867a-347e88fd0ce8",
   "metadata": {},
   "outputs": [],
   "source": [
    "Interpretation:\n",
    "\n",
    "The Pearson correlation coefficient of 0.98558614305052 is very close to 1, which suggests an extremely strong positive linear relationship\n",
    "between the number of sales calls made per day and the number of sales made per week. This means that as the number of sales calls made per day \n",
    "increases, there is a very strong tendency for the number of sales made per week to increase as well. Similarly, as the number of sales calls \n",
    "decreases, the number of sales made per week tends to decrease.\n",
    "\n",
    "The value being close to 1 indicates that the relationship between these two variables is highly linear and that they move in almost perfect \n",
    "sync. This strong correlation suggests that the number of sales calls made per day is a very reliable predictor of the number of sales made per \n",
    "week in this context."
   ]
  }
 ],
 "metadata": {
  "kernelspec": {
   "display_name": "Python 3 (ipykernel)",
   "language": "python",
   "name": "python3"
  },
  "language_info": {
   "codemirror_mode": {
    "name": "ipython",
    "version": 3
   },
   "file_extension": ".py",
   "mimetype": "text/x-python",
   "name": "python",
   "nbconvert_exporter": "python",
   "pygments_lexer": "ipython3",
   "version": "3.10.8"
  }
 },
 "nbformat": 4,
 "nbformat_minor": 5
}
