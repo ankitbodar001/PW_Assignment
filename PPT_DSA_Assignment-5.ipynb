{
 "cells": [
  {
   "cell_type": "code",
   "execution_count": null,
   "id": "69247de2-f704-4ee9-82f6-465b95ead645",
   "metadata": {},
   "outputs": [],
   "source": [
    "Convert 1D Array Into 2D Array\n",
    "\n",
    "You are given a **0-indexed** 1-dimensional (1D) integer array original, and two integers, m and n. You are tasked with creating a \n",
    "2-dimensional (2D) array with  m rows and n columns using **all** the elements from original.\n",
    "\n",
    "The elements from indices 0 to n - 1 (**inclusive**) of original should form the first row of the constructed 2D array, the elements from \n",
    "indices n to 2 * n - 1 (**inclusive**) should form the second row of the constructed 2D array, and so on.\n",
    "\n",
    "Return *an* m x n *2D array constructed according to the above procedure, or an empty 2D array if it is impossible*."
   ]
  },
  {
   "cell_type": "code",
   "execution_count": 8,
   "id": "e14f28fe-dbe6-47b6-a8f4-e2790b876d55",
   "metadata": {},
   "outputs": [],
   "source": [
    "def mat(nums,m,n):\n",
    "    ans=[]\n",
    "    if len(nums)!=m*n:\n",
    "        return ans\n",
    "    for i in range(0,len(nums),n):\n",
    "        ans.append(nums[i:i+n])\n",
    "    return ans\n",
    "        "
   ]
  },
  {
   "cell_type": "code",
   "execution_count": 9,
   "id": "142cc4c2-7c9b-4d90-a6a8-13e37788dc49",
   "metadata": {},
   "outputs": [
    {
     "name": "stdout",
     "output_type": "stream",
     "text": [
      "[[1, 2, 3], [4, 5, 6], [7, 8, 9]]\n"
     ]
    }
   ],
   "source": [
    "print(mat([1,2,3,4,5,6,7,8,9],3,3))"
   ]
  },
  {
   "cell_type": "code",
   "execution_count": null,
   "id": "b2626413-92ad-4ddd-9b16-09fd8bd5882e",
   "metadata": {},
   "outputs": [],
   "source": [
    "You have n coins and you want to build a staircase with these coins. The staircase consists of k rows where the ith \n",
    "row has exactly i coins. The last row of the staircase **may be** incomplete.\n",
    "\n",
    "Given the integer n, return *the number of **complete rows** of the staircase you will build*."
   ]
  },
  {
   "cell_type": "code",
   "execution_count": 10,
   "id": "18aac51b-240c-498e-b349-a2dc1d3d269a",
   "metadata": {},
   "outputs": [
    {
     "name": "stdout",
     "output_type": "stream",
     "text": [
      "2\n"
     ]
    }
   ],
   "source": [
    "def numstair(num):\n",
    "    left, right = 1, num\n",
    "    while left <= right:\n",
    "        mid = left + (right - left) // 2\n",
    "        coins = (mid * (mid + 1)) // 2\n",
    "\n",
    "        if coins <= num:\n",
    "            left = mid + 1\n",
    "\n",
    "        else:\n",
    "            right = mid - 1\n",
    "\n",
    "    return right\n",
    "        \n",
    "print(numstair(5))"
   ]
  },
  {
   "cell_type": "code",
   "execution_count": null,
   "id": "befd2a20-f479-4809-8afd-a5f78830fdbf",
   "metadata": {},
   "outputs": [],
   "source": [
    "Given an integer array nums sorted in non-decreasing order, return an array of the squares of each number \n",
    "sorted in non-decreasing order."
   ]
  },
  {
   "cell_type": "code",
   "execution_count": 11,
   "id": "2e2c8c7b-d465-4b52-985c-134153fb04ff",
   "metadata": {},
   "outputs": [
    {
     "name": "stdout",
     "output_type": "stream",
     "text": [
      "[0, 9, 9, 16, 100]\n"
     ]
    }
   ],
   "source": [
    "def sqrarr(nums):\n",
    "    ans =  list(map(lambda x: x * x, nums))\n",
    "    ans.sort()\n",
    "    return(ans)\n",
    "\n",
    "print(sqrarr([-4,-3,0,3,10]))"
   ]
  },
  {
   "cell_type": "code",
   "execution_count": null,
   "id": "e6f61b60-c39f-4e32-86b2-eeb5dec424fa",
   "metadata": {},
   "outputs": [],
   "source": [
    "Given two **0-indexed** integer arrays nums1 and nums2, return *a list* answer *of size* 2 *where:*\n",
    "\n",
    "- answer[0] *is a list of all **distinct** integers in* nums1 *which are **not** present in* nums2*.*\n",
    "- answer[1] *is a list of all **distinct** integers in* nums2 *which are **not** present in* nums1.\n",
    "\n",
    "**Note** that the integers in the lists may be returned in **any** order."
   ]
  },
  {
   "cell_type": "code",
   "execution_count": 12,
   "id": "5bd220da-8acd-4891-981a-d4dcc6f921ea",
   "metadata": {},
   "outputs": [
    {
     "name": "stdout",
     "output_type": "stream",
     "text": [
      "[[1, 3], [4, 6]]\n"
     ]
    }
   ],
   "source": [
    "def finddis(arr1,arr2):\n",
    "    s1 = set(arr1)\n",
    "    s2 = set(arr2)\n",
    "    return [list(s1-s2), list(s2-s1)]\n",
    "\n",
    "print(finddis([1,2,3],[2,4,6]))"
   ]
  },
  {
   "cell_type": "code",
   "execution_count": null,
   "id": "79b3a929-6084-4c47-a651-78c737f178be",
   "metadata": {},
   "outputs": [],
   "source": [
    "Given two integer arrays arr1 and arr2, and the integer d, *return the distance value between the two arrays*.\n",
    "\n",
    "The distance value is defined as the number of elements arr1[i] such that there is not any element arr2[j] where |arr1[i]-arr2[j]| <= d.\n",
    "\n",
    "**Example 1:**\n",
    "\n",
    "**Input:** arr1 = [4,5,8], arr2 = [10,9,1,8], d = 2\n",
    "\n",
    "**Output:** 2\n",
    "\n",
    "**Explanation:**\n",
    "\n",
    "For arr1[0]=4 we have:\n",
    "\n",
    "|4-10|=6 > d=2\n",
    "\n",
    "|4-9|=5 > d=2\n",
    "\n",
    "|4-1|=3 > d=2\n",
    "\n",
    "|4-8|=4 > d=2\n",
    "\n",
    "For arr1[1]=5 we have:\n",
    "\n",
    "|5-10|=5 > d=2\n",
    "\n",
    "|5-9|=4 > d=2\n",
    "\n",
    "|5-1|=4 > d=2\n",
    "\n",
    "|5-8|=3 > d=2\n",
    "\n",
    "For arr1[2]=8 we have:\n",
    "\n",
    "**|8-10|=2 <= d=2**\n",
    "\n",
    "**|8-9|=1 <= d=2**\n",
    "\n",
    "|8-1|=7 > d=2\n",
    "\n",
    "**|8-8|=0 <= d=2**"
   ]
  },
  {
   "cell_type": "code",
   "execution_count": 15,
   "id": "51a0e215-e129-45dc-bb8c-c0c41578ba73",
   "metadata": {},
   "outputs": [
    {
     "name": "stdout",
     "output_type": "stream",
     "text": [
      "2\n"
     ]
    }
   ],
   "source": [
    "def distval(arr1,arr2,d):\n",
    "    arr1.sort()\n",
    "    arr2.sort()\n",
    "\n",
    "    a1, a2 = 0,0\n",
    "    ans = len(arr1)\n",
    "    while a1 < len(arr1) and a2 < len(arr2):\n",
    "        if abs(arr1[a1] - arr2[a2])<=d:\n",
    "            ans-=1\n",
    "            a1+=1\n",
    "        elif (arr1[a1] - arr2[a2]) > d:\n",
    "            a2+=1\n",
    "        else:\n",
    "            a1+=1\n",
    "    return ans\n",
    "    \n",
    "print(distval([4,5,8],[10,9,1,8],2))"
   ]
  },
  {
   "cell_type": "code",
   "execution_count": null,
   "id": "3bb2cb7e-be5b-43e8-864b-4f6a11ed6184",
   "metadata": {},
   "outputs": [],
   "source": [
    "<aside>\n",
    "💡 **Question 6**\n",
    "\n",
    "Given an integer array nums of length n where all the integers of nums are in the range [1, n] and each integer appears \n",
    "**once** or **twice**, return *an array of all the integers that appears **twice***.\n",
    "\n",
    "You must write an algorithm that runs in O(n) time and uses only constant extra space.\n",
    "\n",
    "**Example 1:**\n",
    "\n",
    "**Input:** nums = [4,3,2,7,8,2,3,1]\n",
    "\n",
    "**Output:**\n",
    "\n",
    "[2,3]\n",
    "\n",
    "</aside>"
   ]
  },
  {
   "cell_type": "code",
   "execution_count": 61,
   "id": "b8f2a09c-024a-4c6a-b064-e14ada7f189c",
   "metadata": {},
   "outputs": [],
   "source": [
    "def duble(nums):\n",
    "    dic={}\n",
    "    for i in nums:\n",
    "        if i in dic:\n",
    "            dic[i]+=1\n",
    "        else:\n",
    "            dic[i]=1\n",
    "    ans=[key for key,values in dic.items() if values==2]\n",
    "    return ans"
   ]
  },
  {
   "cell_type": "code",
   "execution_count": 62,
   "id": "67a3d322-0410-45b0-8642-60c8255bf208",
   "metadata": {},
   "outputs": [
    {
     "name": "stdout",
     "output_type": "stream",
     "text": [
      "[3, 2]\n"
     ]
    }
   ],
   "source": [
    "nums=[4,3,2,7,8,2,3,1]\n",
    "print(duble(nums))"
   ]
  },
  {
   "cell_type": "code",
   "execution_count": null,
   "id": "a75b83a4-6dbc-44ac-a639-20275f5946fd",
   "metadata": {},
   "outputs": [],
   "source": [
    "<aside>\n",
    "💡 **Question 7**\n",
    "\n",
    "Suppose an array of length n sorted in ascending order is **rotated** between 1 and n times. For example, the array \n",
    "nums = [0,1,2,4,5,6,7] might become:\n",
    "\n",
    "- [4,5,6,7,0,1,2] if it was rotated 4 times.\n",
    "- [0,1,2,4,5,6,7] if it was rotated 7 times.\n",
    "\n",
    "Notice that **rotating** an array [a[0], a[1], a[2], ..., a[n-1]] 1 time results in the array [a[n-1], a[0], a[1], a[2], ..., a[n-2]].\n",
    "\n",
    "Given the sorted rotated array nums of **unique** elements, return *the minimum element of this array*.\n",
    "\n",
    "You must write an algorithm that runs in O(log n) time.\n",
    "\n",
    "**Example 1:**\n",
    "\n",
    "**Input:** nums = [3,4,5,1,2]\n",
    "\n",
    "**Output:** 1\n",
    "\n",
    "**Explanation:**\n",
    "\n",
    "The original array was [1,2,3,4,5] rotated 3 times.\n",
    "\n",
    "</aside>"
   ]
  },
  {
   "cell_type": "code",
   "execution_count": 5,
   "id": "e4d0e2a1-6cc0-4547-b0c8-9d7b78154ff3",
   "metadata": {},
   "outputs": [],
   "source": [
    "def findMin(nums):\n",
    "    if nums[0] < nums[-1]:\n",
    "        return nums[0]\n",
    "    left, right = 0, len(nums)-1\n",
    "    while left < right:\n",
    "        mid = (left+right)//2\n",
    "        if nums[mid] <= nums[-1]:\n",
    "            right = mid\n",
    "        else:\n",
    "            left = mid+1\n",
    "    return nums[left]"
   ]
  },
  {
   "cell_type": "code",
   "execution_count": 7,
   "id": "66e684bd-edc1-47b5-b72a-929b7c59e48c",
   "metadata": {},
   "outputs": [
    {
     "name": "stdout",
     "output_type": "stream",
     "text": [
      "1\n"
     ]
    }
   ],
   "source": [
    "print(findMin([3,4,5,1,2]))"
   ]
  },
  {
   "cell_type": "code",
   "execution_count": null,
   "id": "525a6d3f-5f84-4364-b309-91316d678131",
   "metadata": {},
   "outputs": [],
   "source": [
    "<aside>\n",
    "💡 **Question 8**\n",
    "\n",
    "An integer array original is transformed into a **doubled** array changed by appending **twice the value** of every element in original, \n",
    "and then randomly **shuffling** the resulting array.\n",
    "\n",
    "Given an array changed, return original *if* changed *is a **doubled** array. If* changed *is not a **doubled** array, return an empty array. \n",
    "The elements in* original *may be returned in **any** order*.\n",
    "\n",
    "**Example 1:**\n",
    "\n",
    "**Input:** changed = [1,3,4,2,6,8]\n",
    "\n",
    "**Output:** [1,3,4]\n",
    "\n",
    "**Explanation:** One possible original array could be [1,3,4]:\n",
    "\n",
    "- Twice the value of 1 is 1 * 2 = 2.\n",
    "- Twice the value of 3 is 3 * 2 = 6.\n",
    "- Twice the value of 4 is 4 * 2 = 8.\n",
    "\n",
    "Other original arrays could be [4,3,1] or [3,1,4].\n",
    "\n",
    "</aside>"
   ]
  },
  {
   "cell_type": "code",
   "execution_count": 9,
   "id": "a2b0e26c-79c7-44e6-ad89-563a6850cff6",
   "metadata": {},
   "outputs": [],
   "source": [
    "def findori(changed):\n",
    "    if len(changed) % 2 != 0:\n",
    "        return []\n",
    "\n",
    "    changed = sorted(changed)\n",
    "\n",
    "    result = []\n",
    "    d = {}\n",
    "\n",
    "    for i in changed:\n",
    "        if i not in d:\n",
    "            d[i] = 1\n",
    "        else:\n",
    "            d[i] = d[i] + 1\n",
    "\n",
    "    for num in changed:\n",
    "        double  = num * 2\n",
    "\n",
    "        if num in d and double in d:\n",
    "\n",
    "            if num == 0 and d[num] >= 2:\n",
    "                d[num] = d[num] - 2\n",
    "                result.append(num)\n",
    "\n",
    "            elif num > 0 and d[num] and d[double]:\n",
    "                d[num] = d[num] - 1\n",
    "                d[double] = d[double] - 1\n",
    "\n",
    "                result.append(num)\n",
    "\n",
    "    if len(changed) // 2 == len(result):\n",
    "        return result\n",
    "    else:\n",
    "        return []"
   ]
  },
  {
   "cell_type": "code",
   "execution_count": 10,
   "id": "41cd972d-a600-49a4-9c6d-f2a49c2ed12c",
   "metadata": {},
   "outputs": [
    {
     "name": "stdout",
     "output_type": "stream",
     "text": [
      "[1, 3, 4]\n"
     ]
    }
   ],
   "source": [
    "print(findori([1,3,4,2,6,8]))"
   ]
  }
 ],
 "metadata": {
  "kernelspec": {
   "display_name": "Python 3 (ipykernel)",
   "language": "python",
   "name": "python3"
  },
  "language_info": {
   "codemirror_mode": {
    "name": "ipython",
    "version": 3
   },
   "file_extension": ".py",
   "mimetype": "text/x-python",
   "name": "python",
   "nbconvert_exporter": "python",
   "pygments_lexer": "ipython3",
   "version": "3.10.8"
  }
 },
 "nbformat": 4,
 "nbformat_minor": 5
}
