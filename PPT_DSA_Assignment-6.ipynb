{
 "cells": [
  {
   "cell_type": "code",
   "execution_count": null,
   "id": "a248f05f-2e2c-439f-952b-38f1bc9789b8",
   "metadata": {},
   "outputs": [],
   "source": [
    "<aside>\n",
    "💡 **Question 1**\n",
    "\n",
    "A permutation perm of n + 1 integers of all the integers in the range [0, n] can be represented as a string s of length n where:\n",
    "\n",
    "- s[i] == 'I' if perm[i] < perm[i + 1], and\n",
    "- s[i] == 'D' if perm[i] > perm[i + 1].\n",
    "\n",
    "Given a string s, reconstruct the permutation perm and return it. If there are multiple valid permutations perm, return **any of them**.\n",
    "\n",
    "**Example 1:**\n",
    "\n",
    "**Input:** s = \"IDID\"\n",
    "\n",
    "**Output:**\n",
    "\n",
    "[0,4,1,3,2]\n",
    "\n",
    "</aside>"
   ]
  },
  {
   "cell_type": "code",
   "execution_count": 7,
   "id": "1f30dbce-eb23-467d-bd64-6038b4ff59cc",
   "metadata": {},
   "outputs": [],
   "source": [
    "def IDMatch(s):\n",
    "    lenn = len(s)\n",
    "    i = 0\n",
    "    j = lenn\n",
    "    final = []\n",
    "\n",
    "    for k in range(lenn):\n",
    "        if s[k] == \"D\":\n",
    "            final.append(j)\n",
    "            j -= 1\n",
    "        else:\n",
    "            final.append(i)\n",
    "            i += 1\n",
    "    if s[lenn-1] == \"I\":\n",
    "        final.append(i)\n",
    "    else:\n",
    "        final.append(j)\n",
    "\n",
    "    return final"
   ]
  },
  {
   "cell_type": "code",
   "execution_count": 9,
   "id": "91fd0158-768b-482c-b311-62ccf900149d",
   "metadata": {},
   "outputs": [
    {
     "name": "stdout",
     "output_type": "stream",
     "text": [
      "[0, 4, 1, 3, 2]\n"
     ]
    }
   ],
   "source": [
    "print(IDMatch(\"IDID\"))\n"
   ]
  },
  {
   "cell_type": "code",
   "execution_count": null,
   "id": "400ff37d-adca-40fd-9741-3a078120ef97",
   "metadata": {},
   "outputs": [],
   "source": [
    "<aside>\n",
    "💡 **Question 2**\n",
    "\n",
    "You are given an m x n integer matrix matrix with the following two properties:\n",
    "\n",
    "- Each row is sorted in non-decreasing order.\n",
    "- The first integer of each row is greater than the last integer of the previous row.\n",
    "\n",
    "Given an integer target, return true *if* target *is in* matrix *or* false *otherwise*.\n",
    "\n",
    "You must write a solution in O(log(m * n)) time complexity.\n",
    "\n",
    "</aside>"
   ]
  },
  {
   "cell_type": "code",
   "execution_count": null,
   "id": "76edf11b-52f1-478f-88c4-9d542d7e0c8a",
   "metadata": {},
   "outputs": [],
   "source": [
    "def findval(matrix,target):\n",
    "    row = len(matrix)\n",
    "    col = len(matrix[0])\n",
    "    l,u = 0,(row*col-1)\n",
    "    while True:\n",
    "        m = (l+u)//2\n",
    "        mr = m//col\n",
    "        mc = m%col\n",
    "        if matrix[mr][mc] == target:\n",
    "            return True\n",
    "        elif matrix[mr][mc] > target:\n",
    "            u = m-1\n",
    "        else:\n",
    "            l = m+1\n",
    "        if l > u:\n",
    "            return False"
   ]
  },
  {
   "cell_type": "code",
   "execution_count": null,
   "id": "91185fc1-2edb-4611-84b8-e18571e167fc",
   "metadata": {},
   "outputs": [],
   "source": [
    "matrix=[[1,3,5,7],[10,11,16,20],[23,30,34,60]]\n",
    "t=3\n",
    "print(findval(matrix,t))"
   ]
  },
  {
   "cell_type": "code",
   "execution_count": null,
   "id": "f50c0b92-3ad4-4fcb-b945-216ec11156eb",
   "metadata": {},
   "outputs": [],
   "source": [
    "<aside>\n",
    "💡 **Question 3**\n",
    "\n",
    "Given an array of integers arr, return *true if and only if it is a valid mountain array*.\n",
    "\n",
    "Recall that arr is a mountain array if and only if:\n",
    "\n",
    "- arr.length >= 3\n",
    "- There exists some i with 0 < i < arr.length - 1 such that:\n",
    "    - arr[0] < arr[1] < ... < arr[i - 1] < arr[i]\n",
    "    - arr[i] > arr[i + 1] > ... > arr[arr.length - 1]\n",
    "</aside>"
   ]
  },
  {
   "cell_type": "code",
   "execution_count": 5,
   "id": "c6cd5f05-46f0-48f6-b0a3-d0f9965fc968",
   "metadata": {},
   "outputs": [],
   "source": [
    "def mountain(arr):\n",
    "    place = arr.index(max(arr))\n",
    "    if place == 0 or place == len(arr) - 1:\n",
    "        return False\n",
    "    else:\n",
    "        value = True\n",
    "        i = 0\n",
    "        while i < place:\n",
    "            if arr[i] >= arr[i + 1]:\n",
    "                value = False\n",
    "                break\n",
    "            else:\n",
    "                i += 1\n",
    "        i = place + 1\n",
    "        if value:\n",
    "            while i < len(arr):\n",
    "                if arr[i - 1] <= arr[i]:\n",
    "                    print(i)\n",
    "                    return False\n",
    "                else:\n",
    "                    i += 1\n",
    "        else:\n",
    "            return False\n",
    "        return True"
   ]
  },
  {
   "cell_type": "code",
   "execution_count": 6,
   "id": "cb6a4b37-f40e-48de-a338-404515e7fd27",
   "metadata": {},
   "outputs": [
    {
     "name": "stdout",
     "output_type": "stream",
     "text": [
      "True\n"
     ]
    }
   ],
   "source": [
    "print(mountain([0,2,3,4,5,2,1,0]))"
   ]
  },
  {
   "cell_type": "code",
   "execution_count": null,
   "id": "88cd46d7-5004-4a82-adf9-722c27d1682b",
   "metadata": {},
   "outputs": [],
   "source": [
    "<aside>\n",
    "💡 **Question 4**\n",
    "\n",
    "Given a binary array nums, return *the maximum length of a contiguous subarray with an equal number of* 0 *and* 1.\n",
    "\n",
    "**Example 1:**\n",
    "\n",
    "**Input:** nums = [0,1]\n",
    "\n",
    "**Output:** 2\n",
    "\n",
    "</aside>"
   ]
  },
  {
   "cell_type": "code",
   "execution_count": 15,
   "id": "83fb3639-f76d-4661-b7d5-31ba85314e44",
   "metadata": {},
   "outputs": [],
   "source": [
    "def maxlen(nums):\n",
    "    dic = {0:-1}                 \n",
    "    count = 0 \n",
    "    res = 0\n",
    "    for i in range(len(nums)):  \n",
    "        if nums[i] == 0:\n",
    "            count -= 1\n",
    "        if nums[i] == 1:\n",
    "            count += 1\n",
    "\n",
    "        if count in dic:\n",
    "            res = max(res, i - dic[count])\n",
    "        else:\n",
    "            dic[count] = i\n",
    "\n",
    "    return res"
   ]
  },
  {
   "cell_type": "code",
   "execution_count": 18,
   "id": "a6b05046-26ac-470e-815e-4c9620324d70",
   "metadata": {},
   "outputs": [
    {
     "name": "stdout",
     "output_type": "stream",
     "text": [
      "2\n"
     ]
    }
   ],
   "source": [
    "print(maxlen([0,1,0]))"
   ]
  },
  {
   "cell_type": "code",
   "execution_count": null,
   "id": "2793be1e-79b1-4c76-af66-255973b95c87",
   "metadata": {},
   "outputs": [],
   "source": [
    "The **product sum** of two equal-length arrays a and b is equal to the sum of a[i] * b[i] \n",
    "for all 0 <= i < a.length (**0-indexed**).\n",
    "\n",
    "- For example, if a = [1,2,3,4] and b = [5,2,3,1], the **product sum** would be 1*5 + 2*2 + 3*3 + 4*1 = 22.\n",
    "\n",
    "Given two arrays nums1 and nums2 of length n, return *the **minimum product sum** if you are allowed to **rearrange** \n",
    "the **order** of the elements in* nums1.\n",
    "\n",
    "**Example 1:**\n",
    "\n",
    "**Input:** nums1 = [5,3,4,2], nums2 = [4,2,2,5]\n",
    "\n",
    "**Output:** 40"
   ]
  },
  {
   "cell_type": "code",
   "execution_count": 1,
   "id": "b8bf37f4-ca89-4278-828e-e13ac96956ad",
   "metadata": {},
   "outputs": [],
   "source": [
    "def minsumarry(arr1,arr2):\n",
    "    arr1.sort()\n",
    "    arr2.sort()\n",
    "    ans=0\n",
    "    n=len(arr1)\n",
    "    for i in range(n):\n",
    "        ans+=arr1[i]*arr2[n-i-1]\n",
    "    return ans\n"
   ]
  },
  {
   "cell_type": "code",
   "execution_count": 2,
   "id": "3d479f51-fbff-475f-a6c7-0d573e945aba",
   "metadata": {},
   "outputs": [
    {
     "name": "stdout",
     "output_type": "stream",
     "text": [
      "40\n"
     ]
    }
   ],
   "source": [
    "print(minsumarry([5,3,4,2],[4,2,2,5]))"
   ]
  },
  {
   "cell_type": "code",
   "execution_count": null,
   "id": "ae3b425c-f8c1-444a-acc0-17b078c6d972",
   "metadata": {},
   "outputs": [],
   "source": [
    "<aside>\n",
    "💡 **Question 6**\n",
    "\n",
    "An integer array original is transformed into a **doubled** array changed by appending **twice the value** of every element in \n",
    "original, and then randomly **shuffling** the resulting array.\n",
    "\n",
    "Given an array changed, return original *if* changed *is a **doubled** array. If* changed *is not a **doubled** array, return an \n",
    "\\empty array. The elements in* original *may be returned in **any** order*.\n",
    "\n",
    "</aside>"
   ]
  },
  {
   "cell_type": "code",
   "execution_count": 3,
   "id": "8ded241c-5c71-45e9-a3ca-37e4f1109e78",
   "metadata": {},
   "outputs": [],
   "source": [
    "def findori(changed):\n",
    "    if len(changed) % 2 != 0:\n",
    "        return []\n",
    "\n",
    "    changed = sorted(changed)\n",
    "\n",
    "    result = []\n",
    "    d = {}\n",
    "\n",
    "    for i in changed:\n",
    "        if i not in d:\n",
    "            d[i] = 1\n",
    "        else:\n",
    "            d[i] = d[i] + 1\n",
    "\n",
    "    for num in changed:\n",
    "        double  = num * 2\n",
    "\n",
    "        if num in d and double in d:\n",
    "\n",
    "            if num == 0 and d[num] >= 2:\n",
    "                d[num] = d[num] - 2\n",
    "                result.append(num)\n",
    "\n",
    "            elif num > 0 and d[num] and d[double]:\n",
    "                d[num] = d[num] - 1\n",
    "                d[double] = d[double] - 1\n",
    "\n",
    "                result.append(num)\n",
    "\n",
    "    if len(changed) // 2 == len(result):\n",
    "        return result\n",
    "    else:\n",
    "        return []"
   ]
  },
  {
   "cell_type": "code",
   "execution_count": 4,
   "id": "214b6452-93c8-4f54-a875-b216ca820dd4",
   "metadata": {},
   "outputs": [
    {
     "name": "stdout",
     "output_type": "stream",
     "text": [
      "[1, 3, 4]\n"
     ]
    }
   ],
   "source": [
    "print(findori([1,3,4,2,6,8]))"
   ]
  },
  {
   "cell_type": "code",
   "execution_count": null,
   "id": "3393d830-0e0b-4111-9bb6-97a67622a1d2",
   "metadata": {},
   "outputs": [],
   "source": [
    "Given a positive integer n, generate an n x n matrix filled with elements from 1 to n2 in spiral order."
   ]
  },
  {
   "cell_type": "code",
   "execution_count": 6,
   "id": "e51286d3-6647-445f-9b42-5c6c4cb2b700",
   "metadata": {},
   "outputs": [],
   "source": [
    "def genMatrix(n):\n",
    "        if not n:\n",
    "            return []\n",
    "        matrix = [[0 for _ in range(n)] for _ in range(n)]\n",
    "        left, right, top, bottom, num = 0, n-1, 0, n-1, 1\n",
    "        while left <= right and top <= bottom:\n",
    "            for i in range(left, right+1):\n",
    "                matrix[top][i] = num \n",
    "                num += 1\n",
    "            top += 1\n",
    "            for i in range(top, bottom+1):\n",
    "                matrix[i][right] = num\n",
    "                num += 1\n",
    "            right -= 1\n",
    "            if top <= bottom:\n",
    "                for i in range(right, left-1, -1):\n",
    "                    matrix[bottom][i] = num\n",
    "                    num += 1\n",
    "                bottom -= 1\n",
    "            if left <= right:\n",
    "                for i in range(bottom, top-1, -1):\n",
    "                    matrix[i][left] = num\n",
    "                    num += 1\n",
    "                left += 1\n",
    "        return matrix"
   ]
  },
  {
   "cell_type": "code",
   "execution_count": 11,
   "id": "2dad8f89-7390-4ad0-bfa5-4055830a215d",
   "metadata": {},
   "outputs": [
    {
     "name": "stdout",
     "output_type": "stream",
     "text": [
      "[[1, 2, 3, 4], [12, 13, 14, 5], [11, 16, 15, 6], [10, 9, 8, 7]]\n"
     ]
    }
   ],
   "source": [
    "print(genMatrix(4))"
   ]
  },
  {
   "cell_type": "code",
   "execution_count": null,
   "id": "51db9598-ca75-4d36-b7c0-29f49d6c94fe",
   "metadata": {},
   "outputs": [],
   "source": [
    "<aside>\n",
    "💡 **Question 8**\n",
    "\n",
    "Given two sparse matrices mat1 of size m x k and mat2 of size k x n, return \n",
    "the result of mat1 x mat2. You may assume that multiplication is always possible.\n",
    "\n",
    "</aside>"
   ]
  },
  {
   "cell_type": "code",
   "execution_count": 4,
   "id": "3210f4c6-5de9-4790-ac21-a5620f1a432f",
   "metadata": {},
   "outputs": [],
   "source": [
    "def multiply(mat1, mat2):\n",
    "    m, k, n = len(mat1), len(mat1[0]), len(mat2[0])\n",
    "    result = [[0] * n for _ in range(m)]\n",
    "\n",
    "    for i in range(m):\n",
    "        for j in range(k):\n",
    "            if mat1[i][j] == 0:\n",
    "                continue\n",
    "            for l in range(n):\n",
    "                result[i][l] += mat1[i][j] * mat2[j][l]\n",
    "\n",
    "    return result\n"
   ]
  },
  {
   "cell_type": "code",
   "execution_count": 6,
   "id": "123a67f2-7c42-473d-9138-527f6951152c",
   "metadata": {},
   "outputs": [
    {
     "name": "stdout",
     "output_type": "stream",
     "text": [
      "[[7, 0, 0], [-7, 0, 3]]\n"
     ]
    }
   ],
   "source": [
    "print(multiply([[1,0,0],[-1,0,3]],[[7,0,0],[0,0,0],[0,0,1]]))"
   ]
  },
  {
   "cell_type": "code",
   "execution_count": null,
   "id": "7558308a-aaf1-4bc8-9051-daeafc8ffb8e",
   "metadata": {},
   "outputs": [],
   "source": []
  }
 ],
 "metadata": {
  "kernelspec": {
   "display_name": "Python 3 (ipykernel)",
   "language": "python",
   "name": "python3"
  },
  "language_info": {
   "codemirror_mode": {
    "name": "ipython",
    "version": 3
   },
   "file_extension": ".py",
   "mimetype": "text/x-python",
   "name": "python",
   "nbconvert_exporter": "python",
   "pygments_lexer": "ipython3",
   "version": "3.10.8"
  }
 },
 "nbformat": 4,
 "nbformat_minor": 5
}
