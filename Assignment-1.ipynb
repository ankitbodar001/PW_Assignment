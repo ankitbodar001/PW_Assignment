{
 "cells": [
  {
   "cell_type": "code",
   "execution_count": null,
   "id": "6992822a-6ca0-4a2b-bfad-5512441ba25e",
   "metadata": {},
   "outputs": [],
   "source": [
    "**Q1.** Given an array of integers nums and an integer target, return indices of the two numbers such that they add up to target.\n",
    "\n",
    "You may assume that each input would have exactly one solution, and you may not use the same element twice.\n",
    "\n",
    "You can return the answer in any order.\n",
    "\n",
    "**Example:**\n",
    "Input: nums = [2,7,11,15], target = 9\n",
    "Output0 [0,1]\n",
    "\n",
    "**Explanation:** Because nums[0] + nums[1] == 9, we return [0, 1]\n"
   ]
  },
  {
   "cell_type": "code",
   "execution_count": 17,
   "id": "34b77b03-2835-4372-8e5a-2ee8c1a7cd54",
   "metadata": {},
   "outputs": [
    {
     "name": "stdout",
     "output_type": "stream",
     "text": [
      "[0, 1]\n"
     ]
    }
   ],
   "source": [
    "def sumtrg(lst,n):\n",
    "    if len(lst)==0:\n",
    "        return 0\n",
    "    l={}\n",
    "    for i in range (len(lst)):\n",
    "        if n-lst[i] in l:\n",
    "            return [l[n-lst[i]],i]\n",
    "        l[lst[i]]=i\n",
    "    \n",
    "\n",
    "res=sumtrg([2,7,11,15],9)\n",
    "print(res)"
   ]
  },
  {
   "cell_type": "code",
   "execution_count": null,
   "id": "b68c8047-6ff7-492e-b772-bc6f0f0da069",
   "metadata": {},
   "outputs": [],
   "source": [
    "<aside>\n",
    "💡 **Q2.** Given an integer array nums and an integer val, remove all occurrences of val in nums in-place. The order of the elements may be \n",
    "changed. Then return the number of elements in nums which are not equal to val.\n",
    "\n",
    "Consider the number of elements in nums which are not equal to val be k, to get accepted, you need to do the following things:\n",
    "\n",
    "- Change the array nums such that the first k elements of nums contain the elements which are not equal to val. The remaining elements \n",
    "of nums are not important as well as the size of nums.\n",
    "- Return k.\n",
    "\n",
    "**Example :**\n",
    "Input: nums = [3,2,2,3], val = 3\n",
    "Output: 2, nums = [2,2,_*,_*]\n",
    "\n",
    "**Explanation:** Your function should return k = 2, with the first two elements of nums being 2. It does not matter what you leave beyond the returned k (hence they are underscores)\n",
    "\n",
    "</aside>"
   ]
  },
  {
   "cell_type": "code",
   "execution_count": null,
   "id": "0ca3d7b0-e55e-4ae7-8f25-790bf6a45441",
   "metadata": {},
   "outputs": [],
   "source": []
  },
  {
   "cell_type": "code",
   "execution_count": null,
   "id": "0e9055ab-cc95-4bb5-922a-c44bc2cb040d",
   "metadata": {},
   "outputs": [],
   "source": [
    "<aside>\n",
    "💡 **Q3.** Given a sorted array of distinct integers and a target value, return the index if the target is found. If not, \n",
    "return the index where it would be if it were inserted in order.\n",
    "\n",
    "You must write an algorithm with O(log n) runtime complexity.\n",
    "\n",
    "**Example 1:**\n",
    "Input: nums = [1,3,5,6], target = 5\n",
    "\n",
    "Output: 2\n",
    "\n",
    "</aside>"
   ]
  },
  {
   "cell_type": "code",
   "execution_count": 7,
   "id": "01243f31-4b9d-449c-b31b-a020675f4777",
   "metadata": {},
   "outputs": [
    {
     "name": "stdout",
     "output_type": "stream",
     "text": [
      "2\n"
     ]
    }
   ],
   "source": [
    "def findele(ls,m):\n",
    "    l=0\n",
    "    k=len(ls)-1\n",
    "    if(m>ls[k]):\n",
    "        return len(ls)\n",
    "    if(m<ls[0]):\n",
    "        return 0\n",
    "    while(l<=k):\n",
    "        g=(l+k)//2\n",
    "        if(ls[g]==m):\n",
    "           return g\n",
    "        if(ls[g]<m):\n",
    "            if(ls[g+1]>m):\n",
    "                return g+1\n",
    "            l=g\n",
    "        if(ls[g]>m):\n",
    "            k=g\n",
    "\n",
    "r=findele([1,3,5,6],5)\n",
    "print(r)"
   ]
  },
  {
   "cell_type": "code",
   "execution_count": 23,
   "id": "932ce637-a1cc-4062-9bdb-e31cd04ee58d",
   "metadata": {},
   "outputs": [
    {
     "ename": "SyntaxError",
     "evalue": "invalid character '💡' (U+1F4A1) (2186469672.py, line 2)",
     "output_type": "error",
     "traceback": [
      "\u001b[0;36m  Cell \u001b[0;32mIn[23], line 2\u001b[0;36m\u001b[0m\n\u001b[0;31m    💡 **Q4.** You are given a large integer represented as an integer array digits, where each digits[i] is the ith digit of the integer. The digits are ordered from most significant to least significant in left-to-right order. The large integer does not contain any leading 0's.\u001b[0m\n\u001b[0m    ^\u001b[0m\n\u001b[0;31mSyntaxError\u001b[0m\u001b[0;31m:\u001b[0m invalid character '💡' (U+1F4A1)\n"
     ]
    }
   ],
   "source": [
    "<aside>\n",
    "💡 **Q4.** You are given a large integer represented as an integer array digits, where each digits[i] is the ith digit of the integer. \n",
    "The digits are ordered from most significant to least significant in left-to-right order. The large integer does not contain any leading 0's.\n",
    "\n",
    "Increment the large integer by one and return the resulting array of digits.\n",
    "\n",
    "**Example 1:**\n",
    "Input: digits = [1,2,3]\n",
    "Output: [1,2,4]\n",
    "\n",
    "**Explanation:** The array represents the integer 123.\n",
    "\n",
    "Incrementing by one gives 123 + 1 = 124.\n",
    "Thus, the result should be [1,2,4].\n",
    "\n",
    "</aside>"
   ]
  },
  {
   "cell_type": "code",
   "execution_count": 7,
   "id": "f47f8dbf-b068-4871-8d9e-e5b3a7118749",
   "metadata": {},
   "outputs": [
    {
     "name": "stdout",
     "output_type": "stream",
     "text": [
      "['1', '2', '4']\n"
     ]
    }
   ],
   "source": [
    "def nextnum(dig):\n",
    "    n=len(dig)\n",
    "    i=0\n",
    "    num=0\n",
    "    while(n>0):\n",
    "        num=num+dig[i]*(10**(n-1))\n",
    "        i+=1\n",
    "        n-=1\n",
    "    num=num+1\n",
    "    return list(str(num))\n",
    "print(nextnum([1,2,3]))"
   ]
  },
  {
   "cell_type": "code",
   "execution_count": null,
   "id": "ff1e8ec0-f249-47fd-9696-49902897fb16",
   "metadata": {},
   "outputs": [],
   "source": [
    "<aside>\n",
    "💡 **Q5.** You are given two integer arrays nums1 and nums2, sorted in non-decreasing order, and two integers m and n, representing the number \n",
    "of elements in nums1 and nums2 respectively.\n",
    "\n",
    "Merge nums1 and nums2 into a single array sorted in non-decreasing order.\n",
    "\n",
    "The final sorted array should not be returned by the function, but instead be stored inside the array nums1. To accommodate this, nums1 has \n",
    "a length of m + n, where the first m elements denote the elements that should be merged, and the last n elements are set to 0 and should be \n",
    "ignored. nums2 has a length of n.\n",
    "\n",
    "**Example 1:**\n",
    "Input: nums1 = [1,2,3,0,0,0], m = 3, nums2 = [2,5,6], n = 3\n",
    "Output: [1,2,2,3,5,6]\n",
    "\n",
    "**Explanation:** The arrays we are merging are [1,2,3] and [2,5,6].\n",
    "The result of the merge is [1,2,2,3,5,6] with the underlined elements coming from nums1.\n",
    "\n",
    "</aside>"
   ]
  },
  {
   "cell_type": "code",
   "execution_count": 34,
   "id": "8730fdf1-488f-44fd-9beb-e2665e8fff1b",
   "metadata": {},
   "outputs": [
    {
     "data": {
      "text/plain": [
       "[1, 2, 2, 3, 5, 6]"
      ]
     },
     "execution_count": 34,
     "metadata": {},
     "output_type": "execute_result"
    }
   ],
   "source": [
    "def MergTwo(num1,m,num2,n):\n",
    "    a=m-1\n",
    "    b=n-1\n",
    "    c=m+n-1\n",
    "    \n",
    "    while(b>=0):\n",
    "        if(a>=0 and num1[a]>num2[b]):\n",
    "            num1[c]=num1[a]\n",
    "            a-=1\n",
    "        else:\n",
    "            num1[c]=num2[b]\n",
    "            b-=1\n",
    "        c-=1\n",
    "nums1 = [1,2,3,0,0,0]\n",
    "m = 3\n",
    "nums2 = [2,5,6]\n",
    "n = 3\n",
    "MergTwo(nums1,m,nums2,n)\n",
    "nums1"
   ]
  },
  {
   "cell_type": "code",
   "execution_count": null,
   "id": "2f65d144-7537-428e-8adb-90659ec038be",
   "metadata": {},
   "outputs": [],
   "source": [
    "<aside>\n",
    "💡 **Q6.** Given an integer array nums, return true if any value appears at least twice in the array, and return \n",
    "false if every element is distinct.\n",
    "\n",
    "**Example 1:**\n",
    "Input: nums = [1,2,3,1]\n",
    "\n",
    "Output: true\n",
    "\n",
    "</aside>\n",
    "\n",
    "<aside>\n"
   ]
  },
  {
   "cell_type": "code",
   "execution_count": 11,
   "id": "c9a64800-56d1-4cd6-a83e-334d04af4600",
   "metadata": {},
   "outputs": [
    {
     "data": {
      "text/plain": [
       "True"
      ]
     },
     "execution_count": 11,
     "metadata": {},
     "output_type": "execute_result"
    }
   ],
   "source": [
    "def distcheck(lst1):\n",
    "    count=0\n",
    "    dic={}\n",
    "    ele=lst1[0]\n",
    "    for i in range(len(lst1)):\n",
    "        if lst1[i] in dic:\n",
    "            return True\n",
    "        dic[i]=1\n",
    "    return False\n",
    "\n",
    "nums = [1,2,3,1]\n",
    "distcheck(nums)\n",
    "            "
   ]
  },
  {
   "cell_type": "code",
   "execution_count": null,
   "id": "595a0a91-dad3-4c36-9495-b41d8c4b9f74",
   "metadata": {},
   "outputs": [],
   "source": [
    "💡 **Q7.** Given an integer array nums, move all 0's to the end of it while maintaining the relative order of \n",
    "the nonzero elements.\n",
    "\n",
    "Note that you must do this in-place without making a copy of the array.\n",
    "\n",
    "**Example 1:**\n",
    "Input: nums = [0,1,0,3,12]\n",
    "Output: [1,3,12,0,0]\n",
    "\n",
    "</aside>"
   ]
  },
  {
   "cell_type": "code",
   "execution_count": 17,
   "id": "61ad2383-9740-4ac2-ba87-ac2776dc7a72",
   "metadata": {},
   "outputs": [
    {
     "name": "stdout",
     "output_type": "stream",
     "text": [
      "[1, 3, 12, 0, 0]\n"
     ]
    }
   ],
   "source": [
    "def remzero(nums):\n",
    "    for i in range(len(nums)):\n",
    "        if nums[i]==0:\n",
    "            nums.remove(nums[i])\n",
    "            nums.append(0)\n",
    "    return nums\n",
    "\n",
    "print(remzero([0,1,0,3,12]))"
   ]
  },
  {
   "cell_type": "code",
   "execution_count": 11,
   "id": "e2b0d46e-da5c-476f-ab98-72b1160fb57b",
   "metadata": {},
   "outputs": [
    {
     "ename": "SyntaxError",
     "evalue": "invalid character '💡' (U+1F4A1) (2973669159.py, line 2)",
     "output_type": "error",
     "traceback": [
      "\u001b[0;36m  Cell \u001b[0;32mIn[11], line 2\u001b[0;36m\u001b[0m\n\u001b[0;31m    💡 **Q8.** You have a set of integers s, which originally contains all the numbers from 1 to n. Unfortunately, due to some error,\u001b[0m\n\u001b[0m    ^\u001b[0m\n\u001b[0;31mSyntaxError\u001b[0m\u001b[0;31m:\u001b[0m invalid character '💡' (U+1F4A1)\n"
     ]
    }
   ],
   "source": [
    "<aside>\n",
    "💡 **Q8.** You have a set of integers s, which originally contains all the numbers from 1 to n. Unfortunately, due to some error, \n",
    "one of the numbers in s got duplicated to another number in the set, which results in repetition of one number and loss of another number.\n",
    "\n",
    "You are given an integer array nums representing the data status of this set after the error.\n",
    "\n",
    "Find the number that occurs twice and the number that is missing and return them in the form of an array.\n",
    "\n",
    "**Example 1:**\n",
    "Input: nums = [1,2,2,4]\n",
    "Output: [2,3]\n",
    "\n",
    "</aside>"
   ]
  },
  {
   "cell_type": "code",
   "execution_count": 29,
   "id": "7ad4b5e4-bb5c-4a27-a749-ca288b749230",
   "metadata": {},
   "outputs": [
    {
     "name": "stdout",
     "output_type": "stream",
     "text": [
      "[2, 3]\n"
     ]
    }
   ],
   "source": [
    "from collections import Counter\n",
    "def misset(list2):\n",
    "    dict1=Counter(list2)\n",
    "    ans=[]\n",
    "    j=len(list2)+1\n",
    "    for i in list2:\n",
    "        if dict1[i]==2:\n",
    "            ans.append(i)\n",
    "            break\n",
    "    for i in range(1,j):\n",
    "        if i not in dict1:\n",
    "            ans.append(i)\n",
    "            return ans\n",
    "\n",
    "res=misset([1,2,2,4])\n",
    "print(res)"
   ]
  }
 ],
 "metadata": {
  "kernelspec": {
   "display_name": "Python 3 (ipykernel)",
   "language": "python",
   "name": "python3"
  },
  "language_info": {
   "codemirror_mode": {
    "name": "ipython",
    "version": 3
   },
   "file_extension": ".py",
   "mimetype": "text/x-python",
   "name": "python",
   "nbconvert_exporter": "python",
   "pygments_lexer": "ipython3",
   "version": "3.10.8"
  }
 },
 "nbformat": 4,
 "nbformat_minor": 5
}
