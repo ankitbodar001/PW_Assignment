{
 "cells": [
  {
   "cell_type": "code",
   "execution_count": null,
   "id": "31050dcb-eebb-47d0-96ee-0b750003f364",
   "metadata": {},
   "outputs": [],
   "source": [
    "Q1. Create one variable containing following type of data:"
   ]
  },
  {
   "cell_type": "code",
   "execution_count": 26,
   "id": "7efcabaf-1e09-4405-9ec2-d415133602c3",
   "metadata": {},
   "outputs": [],
   "source": [
    "#String\n",
    "str1='Welcome to Python'"
   ]
  },
  {
   "cell_type": "code",
   "execution_count": 3,
   "id": "869d85ed-0885-4676-96c4-87eeeb80e123",
   "metadata": {},
   "outputs": [],
   "source": [
    "#list\n",
    "lst=[1,2,'Hello',4.6,[5,7]]"
   ]
  },
  {
   "cell_type": "code",
   "execution_count": 4,
   "id": "09eb5963-75db-48ea-bb3b-1dc8cc0eef8c",
   "metadata": {},
   "outputs": [],
   "source": [
    "#Float\n",
    "flt=2.345"
   ]
  },
  {
   "cell_type": "code",
   "execution_count": 5,
   "id": "d5370bac-7a10-4288-8d62-a5fd39e895f3",
   "metadata": {},
   "outputs": [],
   "source": [
    "#tuple\n",
    "tp=(5,2,\"Apple\",\"Car\")"
   ]
  },
  {
   "cell_type": "code",
   "execution_count": null,
   "id": "95ee96c5-09ba-45ab-9543-dd9e1d1a787d",
   "metadata": {},
   "outputs": [],
   "source": [
    "Q2. Given are some following variables containing data:"
   ]
  },
  {
   "cell_type": "code",
   "execution_count": null,
   "id": "d678566d-330d-4611-9be4-cad9ffac5b38",
   "metadata": {},
   "outputs": [],
   "source": [
    "(i) var1 = ‘ ‘ --->string\n",
    "(ii) var2 = ‘[ DS , ML , Python]’-->string\n",
    "(iii) var3 = [ ‘DS’ , ’ML’ , ‘Python’ ]-->List\n",
    "(iv) var4 = 1--> Integer"
   ]
  },
  {
   "cell_type": "code",
   "execution_count": null,
   "id": "f2cbdaeb-b666-4df4-9cd0-a01776e7c1b3",
   "metadata": {},
   "outputs": [],
   "source": [
    "Q3. Explain the use of the following operators using an example:"
   ]
  },
  {
   "cell_type": "code",
   "execution_count": null,
   "id": "0f5f0e13-3c79-4eed-bf87-d9ab2e1de159",
   "metadata": {},
   "outputs": [],
   "source": [
    "(i) /--> This is division Operator, it will provide answer in floating point."
   ]
  },
  {
   "cell_type": "code",
   "execution_count": 6,
   "id": "a050ac2d-c81a-42d2-b725-85eebb32f90e",
   "metadata": {},
   "outputs": [
    {
     "name": "stdout",
     "output_type": "stream",
     "text": [
      "5.666666666666667\n"
     ]
    }
   ],
   "source": [
    "a=17/3\n",
    "print(a)"
   ]
  },
  {
   "cell_type": "code",
   "execution_count": null,
   "id": "7a7bf7cd-3671-4ccc-971e-4b7bfdd0fcdb",
   "metadata": {},
   "outputs": [],
   "source": [
    "(ii) %--> This is modulus operator and it wil provide reminder after division."
   ]
  },
  {
   "cell_type": "code",
   "execution_count": 7,
   "id": "13c390d5-74a3-4cbe-abbd-a88db212b9ff",
   "metadata": {},
   "outputs": [
    {
     "name": "stdout",
     "output_type": "stream",
     "text": [
      "1\n"
     ]
    }
   ],
   "source": [
    "b=5%2\n",
    "print(b)"
   ]
  },
  {
   "cell_type": "code",
   "execution_count": null,
   "id": "07681e8c-0ebc-4ea8-9376-9e13f68b4b1a",
   "metadata": {},
   "outputs": [],
   "source": [
    "(iii) //--> This is floor division operator an it will provide integer answer for division."
   ]
  },
  {
   "cell_type": "code",
   "execution_count": 9,
   "id": "d86d8a37-1008-499d-8a10-4ead664a4a6f",
   "metadata": {},
   "outputs": [
    {
     "name": "stdout",
     "output_type": "stream",
     "text": [
      "5\n"
     ]
    }
   ],
   "source": [
    "c=17//3\n",
    "print(c)"
   ]
  },
  {
   "cell_type": "code",
   "execution_count": null,
   "id": "70bdeaad-056d-4669-ab42-62326200f823",
   "metadata": {},
   "outputs": [],
   "source": [
    "(iv) **--> This is exponentiation operator, it works as power function."
   ]
  },
  {
   "cell_type": "code",
   "execution_count": 10,
   "id": "3a35f04f-800c-4e02-a9a5-a48360e6070f",
   "metadata": {},
   "outputs": [
    {
     "name": "stdout",
     "output_type": "stream",
     "text": [
      "8\n"
     ]
    }
   ],
   "source": [
    "d=2**3\n",
    "print(d)"
   ]
  },
  {
   "cell_type": "code",
   "execution_count": 12,
   "id": "77c321d0-e58d-4c7e-925c-e70f19213650",
   "metadata": {},
   "outputs": [],
   "source": [
    "Q4. Create a list of length 10 of your choice containing multiple types of data. Using for loop print the\n",
    "element and its data type."
   ]
  },
  {
   "cell_type": "code",
   "execution_count": 13,
   "id": "ffff40b0-a885-449e-a4b9-39f8ff32593f",
   "metadata": {},
   "outputs": [],
   "source": [
    "lst=[1,2.3,3+5j,['Hi','Bye'],'Apple',(4,0),8,3,8.34,'Python']"
   ]
  },
  {
   "cell_type": "code",
   "execution_count": 16,
   "id": "9504b85c-47fd-45e7-9905-9ee204ee2483",
   "metadata": {},
   "outputs": [
    {
     "name": "stdout",
     "output_type": "stream",
     "text": [
      "1\n",
      "<class 'int'>\n",
      "2.3\n",
      "<class 'float'>\n",
      "(3+5j)\n",
      "<class 'complex'>\n",
      "['Hi', 'Bye']\n",
      "<class 'list'>\n",
      "Apple\n",
      "<class 'str'>\n",
      "(4, 0)\n",
      "<class 'tuple'>\n",
      "8\n",
      "<class 'int'>\n",
      "3\n",
      "<class 'int'>\n",
      "8.34\n",
      "<class 'float'>\n",
      "Python\n",
      "<class 'str'>\n"
     ]
    }
   ],
   "source": [
    "for i in range(0,len(lst)):\n",
    "               print(lst[i])\n",
    "               print(type(lst[i]))"
   ]
  },
  {
   "cell_type": "code",
   "execution_count": 17,
   "id": "9447ab8f-88cc-4f42-8cdc-9297af21e8d9",
   "metadata": {},
   "outputs": [],
   "source": [
    "Q5. Using a while loop, verify if the number A is purely divisible by number B and if so then how many\n",
    "times it can be divisible."
   ]
  },
  {
   "cell_type": "code",
   "execution_count": 21,
   "id": "75034430-55bf-4f33-8d55-6832ae6770cf",
   "metadata": {},
   "outputs": [
    {
     "name": "stdout",
     "output_type": "stream",
     "text": [
      "4\n"
     ]
    }
   ],
   "source": [
    "A=400\n",
    "B=2\n",
    "count=0\n",
    "while(A%B==0):\n",
    "    count+=1\n",
    "    A//=B\n",
    "print(count)"
   ]
  },
  {
   "cell_type": "code",
   "execution_count": 22,
   "id": "a9e333b5-e504-4a3f-be1a-107d8526e5af",
   "metadata": {},
   "outputs": [],
   "source": [
    "Q6. Create a list containing 25 int type data. Using for loop and if-else condition print if the element is\n",
    "divisible by 3 or not."
   ]
  },
  {
   "cell_type": "code",
   "execution_count": 1,
   "id": "f8d08429-5a7f-48dd-85b4-3a732469aa32",
   "metadata": {},
   "outputs": [
    {
     "name": "stdout",
     "output_type": "stream",
     "text": [
      "1 is not divisible by 3.\n",
      "2 is not divisible by 3.\n",
      "3 is divisible by 3.\n",
      "4 is not divisible by 3.\n",
      "5 is not divisible by 3.\n",
      "6 is divisible by 3.\n",
      "7 is not divisible by 3.\n",
      "8 is not divisible by 3.\n",
      "9 is divisible by 3.\n",
      "10 is not divisible by 3.\n",
      "11 is not divisible by 3.\n",
      "12 is divisible by 3.\n",
      "13 is not divisible by 3.\n",
      "14 is not divisible by 3.\n",
      "15 is divisible by 3.\n",
      "16 is not divisible by 3.\n",
      "17 is not divisible by 3.\n",
      "18 is divisible by 3.\n",
      "19 is not divisible by 3.\n",
      "20 is not divisible by 3.\n",
      "21 is divisible by 3.\n",
      "22 is not divisible by 3.\n",
      "23 is not divisible by 3.\n",
      "24 is divisible by 3.\n",
      "25 is not divisible by 3.\n"
     ]
    }
   ],
   "source": [
    "lst1=[1,2,3,4,5,6,7,8,9,10,11,12,13,14,15,16,17,18,19,20,21,22,23,24,25]\n",
    "for i in range(0,len(lst1)):\n",
    "    if lst1[i]%3==0:\n",
    "        print(str(lst1[i])+' is divisible by 3.')\n",
    "    else:\n",
    "        print(str(lst1[i])+' is not divisible by 3.')"
   ]
  },
  {
   "cell_type": "code",
   "execution_count": null,
   "id": "02d7ca70-cd9d-4249-a081-3c5d496c7190",
   "metadata": {},
   "outputs": [],
   "source": [
    "Q7. What do you understand about mutable and immutable data types? Give examples for both showing\n",
    "this property."
   ]
  },
  {
   "cell_type": "code",
   "execution_count": null,
   "id": "dd68f6b6-b1cc-4927-8276-4f7027f393d1",
   "metadata": {},
   "outputs": [],
   "source": [
    "Mutable--> An python object that has capacity to modify its value is know as mutable. For example List, Dictionaries, Sets."
   ]
  },
  {
   "cell_type": "code",
   "execution_count": 7,
   "id": "f88fc3eb-b846-4a1a-8f13-0807e13679ca",
   "metadata": {},
   "outputs": [],
   "source": [
    "lst2=['Apple','Banana','Mango']"
   ]
  },
  {
   "cell_type": "code",
   "execution_count": 8,
   "id": "d330b499-baca-420d-b72d-38d7f93bbea4",
   "metadata": {},
   "outputs": [
    {
     "name": "stdout",
     "output_type": "stream",
     "text": [
      "['Car', 'Banana', 'Mango']\n"
     ]
    }
   ],
   "source": [
    "#As have define lst2 as list and now we will try to modify the list by replacing the its first element with car\n",
    "lst2[0]='Car'\n",
    "print(lst2)"
   ]
  },
  {
   "cell_type": "code",
   "execution_count": null,
   "id": "24b1300e-031d-406e-8532-06ca6b2ac32e",
   "metadata": {},
   "outputs": [],
   "source": [
    "Immutable--> An python object that cannot modify its value is know as imutable. The value of these python object is \n",
    "fixed once they are made. For example Tuples,String."
   ]
  },
  {
   "cell_type": "code",
   "execution_count": 9,
   "id": "9fefefc8-5a57-41b8-9775-1bd4ff3e8fa6",
   "metadata": {},
   "outputs": [],
   "source": [
    "str2='Hello, We come to python programming class.'"
   ]
  },
  {
   "cell_type": "code",
   "execution_count": 11,
   "id": "d6bd688c-f94a-4f48-a3e5-9265fccd1819",
   "metadata": {},
   "outputs": [
    {
     "ename": "TypeError",
     "evalue": "'str' object does not support item assignment",
     "output_type": "error",
     "traceback": [
      "\u001b[0;31m---------------------------------------------------------------------------\u001b[0m",
      "\u001b[0;31mTypeError\u001b[0m                                 Traceback (most recent call last)",
      "Cell \u001b[0;32mIn[11], line 2\u001b[0m\n\u001b[1;32m      1\u001b[0m \u001b[38;5;66;03m#As have define str2 as string and now we will try to modify the string element.\u001b[39;00m\n\u001b[0;32m----> 2\u001b[0m \u001b[43mstr2\u001b[49m\u001b[43m[\u001b[49m\u001b[38;5;241;43m18\u001b[39;49m\u001b[43m]\u001b[49m\u001b[38;5;241m=\u001b[39m\u001b[38;5;124m'\u001b[39m\u001b[38;5;124mP\u001b[39m\u001b[38;5;124m'\u001b[39m\n\u001b[1;32m      3\u001b[0m \u001b[38;5;28mprint\u001b[39m(str2)\n",
      "\u001b[0;31mTypeError\u001b[0m: 'str' object does not support item assignment"
     ]
    }
   ],
   "source": [
    "#As have define str2 as string and now we will try to modify the string element.\n",
    "str2[18]='P'\n",
    "print(str2)"
   ]
  },
  {
   "cell_type": "code",
   "execution_count": null,
   "id": "d291110f-d917-48dd-a7d9-ee404056b2b5",
   "metadata": {},
   "outputs": [],
   "source": [
    "#As we can see in the above error string object does not support the modification."
   ]
  }
 ],
 "metadata": {
  "kernelspec": {
   "display_name": "Python 3 (ipykernel)",
   "language": "python",
   "name": "python3"
  },
  "language_info": {
   "codemirror_mode": {
    "name": "ipython",
    "version": 3
   },
   "file_extension": ".py",
   "mimetype": "text/x-python",
   "name": "python",
   "nbconvert_exporter": "python",
   "pygments_lexer": "ipython3",
   "version": "3.10.8"
  }
 },
 "nbformat": 4,
 "nbformat_minor": 5
}
