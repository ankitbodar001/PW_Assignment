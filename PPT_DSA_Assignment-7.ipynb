{
 "cells": [
  {
   "cell_type": "code",
   "execution_count": null,
   "id": "18294902-c68e-4d57-9a75-0842275d334c",
   "metadata": {},
   "outputs": [],
   "source": [
    "<aside>\n",
    "💡 **Question 1**\n",
    "\n",
    "Given two strings s and t, *determine if they are isomorphic*.\n",
    "\n",
    "Two strings s and t are isomorphic if the characters in s can be replaced to get t.\n",
    "\n",
    "All occurrences of a character must be replaced with another character while preserving the order of characters. No two characters \n",
    "may map to the same character, but a character may map to itself.\n",
    "\n",
    "**Example 1:**\n",
    "\n",
    "**Input:** s = \"egg\", t = \"add\"\n",
    "\n",
    "**Output:** true\n",
    "\n",
    "</aside>"
   ]
  },
  {
   "cell_type": "code",
   "execution_count": 3,
   "id": "271c780f-41c8-4fd4-b4b9-ede669727248",
   "metadata": {},
   "outputs": [],
   "source": [
    "def isIsomorphic(s,t):\n",
    "\n",
    "        d1, d2 = {}, {}\n",
    "\n",
    "        for c1, c2 in zip(s, t):\n",
    "            if(c1 not in d1 and c2 not in d2):\n",
    "                d1[c1] = c2\n",
    "                d2[c2] = c1\n",
    "            elif(c1 in d1 and c2 in d2):\n",
    "                if(d1[c1] != c2 or d2[c2] != c1):\n",
    "                    return False\n",
    "            else:\n",
    "                return False\n",
    "\n",
    "        return True"
   ]
  },
  {
   "cell_type": "code",
   "execution_count": 4,
   "id": "4419f8db-9733-4bc1-9c8c-53d1d0117ddd",
   "metadata": {},
   "outputs": [
    {
     "name": "stdout",
     "output_type": "stream",
     "text": [
      "True\n"
     ]
    }
   ],
   "source": [
    "print(isIsomorphic('add','egg'))"
   ]
  },
  {
   "cell_type": "code",
   "execution_count": null,
   "id": "00837cc0-a0db-410a-b91b-8d4395a477e2",
   "metadata": {},
   "outputs": [],
   "source": [
    "Given a string num which represents an integer, return true *if* num *is a **strobogrammatic number***.\n",
    "\n",
    "A **strobogrammatic number** is a number that looks the same when rotated 180 degrees (looked at upside down).\n",
    "\n",
    "**Example 1:**\n",
    "\n",
    "**Input:** num = \"69\"\n",
    "\n",
    "**Output:**\n",
    "\n",
    "true"
   ]
  },
  {
   "cell_type": "code",
   "execution_count": 5,
   "id": "6b854f9b-bac6-4d44-9f06-eda785ef1bb5",
   "metadata": {},
   "outputs": [],
   "source": [
    "def isStrobogrammatic(num):\n",
    "    strobogrammatic_pairs = {\n",
    "        '0': '0',\n",
    "        '1': '1',\n",
    "        '6': '9',\n",
    "        '8': '8',\n",
    "        '9': '6'\n",
    "    }\n",
    "\n",
    "    left, right = 0, len(num) - 1\n",
    "\n",
    "    while left <= right:\n",
    "        if num[left] not in strobogrammatic_pairs or num[right] != strobogrammatic_pairs[num[left]]:\n",
    "            return False\n",
    "        left += 1\n",
    "        right -= 1\n",
    "\n",
    "    if len(num) % 2 == 1 and num[left] not in ['0', '1', '8']:\n",
    "        return False\n",
    "\n",
    "    return True"
   ]
  },
  {
   "cell_type": "code",
   "execution_count": 9,
   "id": "b65b864b-2d40-4fb5-b33f-11494a786b0a",
   "metadata": {},
   "outputs": [
    {
     "name": "stdout",
     "output_type": "stream",
     "text": [
      "True\n"
     ]
    }
   ],
   "source": [
    "print(isStrobogrammatic(\"69\"))"
   ]
  },
  {
   "cell_type": "code",
   "execution_count": null,
   "id": "31f1375a-cbea-41f6-84c7-662b0a41002f",
   "metadata": {},
   "outputs": [],
   "source": [
    "<aside>\n",
    "💡 **Question 3**\n",
    "\n",
    "Given two non-negative integers, num1 and num2 represented as string, return *the sum of* num1 *and* num2 *as a string*.\n",
    "\n",
    "You must solve the problem without using any built-in library for handling large integers (such as BigInteger). You must also not \n",
    "convert the inputs to integers directly.\n",
    "\n",
    "**Example 1:**\n",
    "\n",
    "**Input:** num1 = \"11\", num2 = \"123\"\n",
    "\n",
    "**Output:**\n",
    "\n",
    "\"134\"\n",
    "\n",
    "</aside>"
   ]
  },
  {
   "cell_type": "code",
   "execution_count": 11,
   "id": "77af0a9c-2fad-4d95-8a68-bccf07b44581",
   "metadata": {},
   "outputs": [],
   "source": [
    "def addstr(num1,num2):\n",
    "    # Reverse the input strings to start adding from the least significant digits\n",
    "    num1 = num1[::-1]\n",
    "    num2 = num2[::-1]\n",
    "    # Pad the shorter input string with zeros\n",
    "    if len(num1) < len(num2):\n",
    "        num1 += '0' * (len(num2) - len(num1))\n",
    "    else:\n",
    "        num2 += '0' * (len(num1) - len(num2))\n",
    "\n",
    "    result = ''\n",
    "    carry = 0\n",
    "\n",
    "    for i in range(len(num1)):\n",
    "        digit_sum = int(num1[i]) + int(num2[i]) + carry\n",
    "        carry = digit_sum // 10\n",
    "        result += str(digit_sum % 10)\n",
    "    if carry > 0:\n",
    "        result += str(carry)\n",
    "    return result[::-1]"
   ]
  },
  {
   "cell_type": "code",
   "execution_count": 13,
   "id": "995caf4e-7683-47be-8ddb-274e239edbaa",
   "metadata": {},
   "outputs": [
    {
     "name": "stdout",
     "output_type": "stream",
     "text": [
      "134\n"
     ]
    }
   ],
   "source": [
    "print(addstr('123','11'))"
   ]
  },
  {
   "cell_type": "code",
   "execution_count": null,
   "id": "b9d88c9a-e322-4dad-910d-65be6c6e5f23",
   "metadata": {},
   "outputs": [],
   "source": [
    "<aside>\n",
    "💡 **Question 4**\n",
    "\n",
    "Given a string s, reverse the order of characters in each word within a sentence while still preserving whitespace and initial word order.\n",
    "\n",
    "**Example 1:**\n",
    "\n",
    "**Input:** s = \"Let's take LeetCode contest\"\n",
    "\n",
    "**Output:** \"s'teL ekat edoCteeL tsetnoc\"\n",
    "\n",
    "</aside>"
   ]
  },
  {
   "cell_type": "code",
   "execution_count": 19,
   "id": "e9e9f264-66f3-491d-807d-45cfd1ee0c05",
   "metadata": {},
   "outputs": [],
   "source": [
    "def reversword(str1):\n",
    "    str1=str1.split()\n",
    "    for i in range(len(str1)):\n",
    "        str1[i]=str1[i][::-1]\n",
    "    str1=' '.join(str1)\n",
    "    return str1\n",
    "        "
   ]
  },
  {
   "cell_type": "code",
   "execution_count": 23,
   "id": "db0dc701-953f-4c85-9f42-c6fc537c88eb",
   "metadata": {},
   "outputs": [
    {
     "name": "stdout",
     "output_type": "stream",
     "text": [
      "s'teL ekat edoCteeL tsetnoc\n"
     ]
    }
   ],
   "source": [
    "print(reversword(\"Let's take LeetCode contest\"))"
   ]
  },
  {
   "cell_type": "code",
   "execution_count": null,
   "id": "0fda1e6c-8148-400b-92f7-83400e5900f3",
   "metadata": {},
   "outputs": [],
   "source": [
    "<aside>\n",
    "💡 **Question 5**\n",
    "\n",
    "Given a string s and an integer k, reverse the first k characters for every 2k characters counting from the start of the string.\n",
    "\n",
    "If there are fewer than k characters left, reverse all of them. If there are less than 2k but greater than or equal to k \n",
    "characters, then reverse the first k characters and leave the other as original.\n",
    "\n",
    "**Example 1:**\n",
    "\n",
    "**Input:** s = \"abcdefg\", k = 2\n",
    "\n",
    "**Output:**\n",
    "\n",
    "\"bacdfeg\"\n",
    "\n",
    "</aside>"
   ]
  },
  {
   "cell_type": "code",
   "execution_count": 37,
   "id": "91c1c0ab-03a8-469b-9868-1bc1c041a55c",
   "metadata": {},
   "outputs": [],
   "source": [
    "def reversk(s,k):\n",
    "    res = \"\"\n",
    "    for i in range(0, len(s), 2*k):\n",
    "        res += s[i:i+(2*k)][:k][::-1] + s[i:i+(2*k)][k:]\n",
    "    return res\n",
    "\n",
    "        \n",
    "        "
   ]
  },
  {
   "cell_type": "code",
   "execution_count": 38,
   "id": "0d87888b-1621-4254-a071-64fdccdb039b",
   "metadata": {},
   "outputs": [
    {
     "name": "stdout",
     "output_type": "stream",
     "text": [
      "bacdfeg\n"
     ]
    }
   ],
   "source": [
    "print(reversk(\"abcdefg\",2))"
   ]
  },
  {
   "cell_type": "code",
   "execution_count": null,
   "id": "0779b150-d953-4bb9-8993-f0eb184fcb86",
   "metadata": {},
   "outputs": [],
   "source": [
    "<aside>\n",
    "💡 **Question 6**\n",
    "\n",
    "Given two strings s and goal, return true *if and only if* s *can become* goal *after some number of **shifts** on* s.\n",
    "\n",
    "A **shift** on s consists of moving the leftmost character of s to the rightmost position.\n",
    "\n",
    "- For example, if s = \"abcde\", then it will be \"bcdea\" after one shift.\n",
    "\n",
    "**Example 1:**\n",
    "\n",
    "**Input:** s = \"abcde\", goal = \"cdeab\"\n",
    "\n",
    "**Output:**\n",
    "\n",
    "true\n",
    "\n",
    "</aside>"
   ]
  },
  {
   "cell_type": "code",
   "execution_count": 40,
   "id": "a98a5dc7-b2d4-420c-a76d-a132755c2d4c",
   "metadata": {},
   "outputs": [],
   "source": [
    "def goal(s,g):\n",
    "    n=len(s)\n",
    "    m=len(g)\n",
    "    if n!=m:\n",
    "        return False\n",
    "    while n>0:\n",
    "        s=s[1::]+s[0]\n",
    "        if s==g:\n",
    "            return True\n",
    "        n-=1\n",
    "    return False\n",
    "        "
   ]
  },
  {
   "cell_type": "code",
   "execution_count": 44,
   "id": "1ff3f2e7-0a2b-4485-9640-0599b9540313",
   "metadata": {},
   "outputs": [
    {
     "name": "stdout",
     "output_type": "stream",
     "text": [
      "True\n"
     ]
    }
   ],
   "source": [
    "print(goal('abcdef','cdefab'))"
   ]
  },
  {
   "cell_type": "code",
   "execution_count": null,
   "id": "7da853c2-1540-4758-a9e8-666b8457378d",
   "metadata": {},
   "outputs": [],
   "source": [
    "<aside>\n",
    "💡 **Question 7**\n",
    "\n",
    "Given two strings s and t, return true *if they are equal when both are typed into empty text editors*. '#' means a backspace character.\n",
    "\n",
    "Note that after backspacing an empty text, the text will continue empty.\n",
    "\n",
    "**Example 1:**\n",
    "\n",
    "**Input:** s = \"ab#c\", t = \"ad#c\"\n",
    "\n",
    "**Output:** true\n",
    "\n",
    "**Explanation:**\n",
    "\n",
    "Both s and t become \"ac\".\n",
    "\n",
    "</aside>"
   ]
  },
  {
   "cell_type": "code",
   "execution_count": 48,
   "id": "6c8b9701-787d-414c-a241-bb5806441061",
   "metadata": {},
   "outputs": [],
   "source": [
    "def matchstr(s,t):\n",
    "    def space(a):\n",
    "        res=[]\n",
    "        for c in a:\n",
    "            if c!='#':\n",
    "                res.append(c)\n",
    "            elif res:\n",
    "                res.pop()\n",
    "        return res\n",
    "    return space(s)==space(t)\n",
    "            \n",
    "    "
   ]
  },
  {
   "cell_type": "code",
   "execution_count": 50,
   "id": "bbc93d70-e0d7-4ce0-a02e-58e88244fecb",
   "metadata": {},
   "outputs": [
    {
     "name": "stdout",
     "output_type": "stream",
     "text": [
      "True\n"
     ]
    }
   ],
   "source": [
    "print(matchstr('ab#c','ad#c'))"
   ]
  },
  {
   "cell_type": "code",
   "execution_count": null,
   "id": "732df039-34d1-4ae2-91d8-8d1c6ee00fc2",
   "metadata": {},
   "outputs": [],
   "source": [
    "<aside>\n",
    "💡 **Question 8**\n",
    "\n",
    "You are given an array coordinates, coordinates[i] = [x, y], where [x, y] represents the coordinate of a point. Check if these\n",
    "points make a straight line in the XY plane.\n",
    "\n",
    "</aside>"
   ]
  },
  {
   "cell_type": "code",
   "execution_count": 51,
   "id": "6edf7af6-2b29-40c2-9547-f6b3cf00198b",
   "metadata": {},
   "outputs": [],
   "source": [
    "def straighline(c):\n",
    "    x0,y0=c[0][0],c[0][1]\n",
    "    x1,y1=c[1][0],c[1][1]\n",
    "    for i in range(2, len(c)):\n",
    "        x,y=c[i][0],c[i][1]\n",
    "        if(x-x0)*(y1-y0)!=(y-y0)*(x1-x0):return False\n",
    "    return True"
   ]
  },
  {
   "cell_type": "code",
   "execution_count": 52,
   "id": "f867f245-e9eb-4fc4-abc8-2527050a63a4",
   "metadata": {},
   "outputs": [
    {
     "name": "stdout",
     "output_type": "stream",
     "text": [
      "True\n"
     ]
    }
   ],
   "source": [
    "print(straighline([[1,2],[2,3],[3,4],[4,5],[5,6],[6,7]]))"
   ]
  },
  {
   "cell_type": "code",
   "execution_count": null,
   "id": "bb3d6f28-5cb3-441b-b633-18ef2b529ca2",
   "metadata": {},
   "outputs": [],
   "source": []
  }
 ],
 "metadata": {
  "kernelspec": {
   "display_name": "Python 3 (ipykernel)",
   "language": "python",
   "name": "python3"
  },
  "language_info": {
   "codemirror_mode": {
    "name": "ipython",
    "version": 3
   },
   "file_extension": ".py",
   "mimetype": "text/x-python",
   "name": "python",
   "nbconvert_exporter": "python",
   "pygments_lexer": "ipython3",
   "version": "3.10.8"
  }
 },
 "nbformat": 4,
 "nbformat_minor": 5
}
